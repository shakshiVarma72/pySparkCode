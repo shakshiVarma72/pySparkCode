{
 "cells": [
  {
   "cell_type": "code",
   "execution_count": 1,
   "metadata": {},
   "outputs": [
    {
     "name": "stderr",
     "output_type": "stream",
     "text": [
      "ERROR: unknown command \"intsall\" - maybe you meant \"install\"\n",
      "\n"
     ]
    }
   ],
   "source": [
    "! pip intsall Pyspark"
   ]
  },
  {
   "cell_type": "code",
   "execution_count": 2,
   "metadata": {},
   "outputs": [],
   "source": [
    "import pyspark"
   ]
  },
  {
   "cell_type": "code",
   "execution_count": 3,
   "metadata": {},
   "outputs": [],
   "source": [
    "from pyspark.sql import SparkSession"
   ]
  },
  {
   "cell_type": "code",
   "execution_count": 4,
   "metadata": {},
   "outputs": [],
   "source": [
    "Spark= SparkSession.builder.appName('Dataframe').getOrCreate()"
   ]
  },
  {
   "cell_type": "code",
   "execution_count": 5,
   "metadata": {},
   "outputs": [
    {
     "data": {
      "text/html": [
       "\n",
       "            <div>\n",
       "                <p><b>SparkSession - in-memory</b></p>\n",
       "                \n",
       "        <div>\n",
       "            <p><b>SparkContext</b></p>\n",
       "\n",
       "            <p><a href=\"http://11315-Shakshi.teamcomputers.com:4040\">Spark UI</a></p>\n",
       "\n",
       "            <dl>\n",
       "              <dt>Version</dt>\n",
       "                <dd><code>v3.3.1</code></dd>\n",
       "              <dt>Master</dt>\n",
       "                <dd><code>local[*]</code></dd>\n",
       "              <dt>AppName</dt>\n",
       "                <dd><code>Dataframe</code></dd>\n",
       "            </dl>\n",
       "        </div>\n",
       "        \n",
       "            </div>\n",
       "        "
      ],
      "text/plain": [
       "<pyspark.sql.session.SparkSession at 0x22757e9aed0>"
      ]
     },
     "execution_count": 5,
     "metadata": {},
     "output_type": "execute_result"
    }
   ],
   "source": [
    "Spark"
   ]
  },
  {
   "cell_type": "code",
   "execution_count": 7,
   "metadata": {},
   "outputs": [],
   "source": [
    "df=Spark.read.option('header','True').csv(r\"C:\\Users\\11315\\Downloads\\invoice.csv\",inferSchema=\"True\")"
   ]
  },
  {
   "cell_type": "code",
   "execution_count": 8,
   "metadata": {},
   "outputs": [
    {
     "name": "stdout",
     "output_type": "stream",
     "text": [
      "+---+--------------+-------------------+--------------------+---------+--------------+--------------------+----------+----------+----------+\n",
      "|_c0|   Invoice No.|       Invoice Date|         Client Name|  Sectors|         State|         Billing YTD|Unnamed: 6|Unnamed: 7|Unnamed: 8|\n",
      "+---+--------------+-------------------+--------------------+---------+--------------+--------------------+----------+----------+----------+\n",
      "|  0| GT-0910-01565|2014-09-28 00:00:00|Kaqvi Nprvynn (Xw...|Insurance|       Chennai|-1.39804052799999...|      null|      null|      null|\n",
      "|  1|WCC-0910-02476|2014-10-27 00:00:00|         KYW TEXSBSX|   Health|         Delhi|          -3500000.0|      null|      null|      null|\n",
      "|  2| GT-1011-00898|2015-04-23 00:00:00|Uyuig Mxyidlpyswf...|Insurance|       Haryana|          -3032400.0|      null|      null|      null|\n",
      "|  3|GTA-1011-00261|2015-07-31 00:00:00|      Fmmfarl Qhoush|Insurance|Andhra Pradesh|          -3000000.0|      null|      null|      null|\n",
      "|  4| GT-1011-00781|2015-04-03 00:00:00|Uyuig Mxyidlpyswf...|Insurance|       Haryana|          -2500000.0|      null|      null|      null|\n",
      "|  5| GT-1011-01423|2015-07-17 00:00:00|   Lsvgdqo Csozk Moz|     Auto|Andhra Pradesh|          -2086335.0|      null|      null|      null|\n",
      "|  6| GT-1011-01716|2015-09-13 00:00:00|      Cxetby Cvmgbnn|  Telecom|   Maharashtra|          -1881100.0|      null|      null|      null|\n",
      "|  7|       5-81326|2013-07-21 00:00:00|Cnnpb Maw Bleuh P...|   Pharma|   Maharashtra|          -1540000.0|      null|      null|      null|\n",
      "|  8|WCC-0910-01308|2014-05-12 00:00:00|XRHPW Wfyzuvrcmch...|     Auto|Andhra Pradesh|          -1536055.0|      null|      null|      null|\n",
      "|  9|WCC-0910-00434|2014-02-23 00:00:00|  Apnap Wggfurrh KBW|   Health|     Karnataka|          -1287500.0|      null|      null|      null|\n",
      "| 10| GT-0910-01576|2014-09-28 00:00:00|Kaqvi Nprvynn (Xw...|Insurance|       Chennai|         -1255226.44|      null|      null|      null|\n",
      "| 11|       5-81876|2013-11-01 00:00:00|Cnnpb Maw Bleuh P...|   Pharma|   Maharashtra|          -1155000.0|      null|      null|      null|\n",
      "| 12| GT-1011-01605|2015-08-24 00:00:00|ZIS Vvmcnilfm Ju ...|Insurance|Andhra Pradesh|          -1034910.0|      null|      null|      null|\n",
      "| 13|WCC-0910-01460|2014-05-29 00:00:00|Jszn Nugybsjgxk P...|     Auto|   Maharashtra|          -1028159.0|      null|      null|      null|\n",
      "| 14|WCC-1011-00002|2014-11-08 00:00:00|Umgfk Stznjhom Pu...|     Auto|       Haryana|          -1019427.5|      null|      null|      null|\n",
      "| 15|WCC-1011-00649|2015-03-05 00:00:00|Cagqxz Vhcexhxaff...|     Auto|         Delhi|          -1002782.0|      null|      null|      null|\n",
      "| 16|WCA-0910-00027|2014-06-19 00:00:00|      Ueubr Khbxkatl|Education|         Delhi|           -997000.0|      null|      null|      null|\n",
      "| 17| GT-0910-01671|2014-10-17 00:00:00|Cnnpb Maw Bleuh P...|   Pharma|       Haryana|           -965711.0|      null|      null|      null|\n",
      "| 18| GT-0910-00425|2014-01-31 00:00:00|      Dmggrdeb Hqmqk|     Auto|         Delhi|           -902782.0|      null|      null|      null|\n",
      "| 19| GT-0910-00888|2014-05-03 00:00:00|PUF Kmrfawsgepuzx...|Insurance|     Karnataka|           -900000.0|      null|      null|      null|\n",
      "+---+--------------+-------------------+--------------------+---------+--------------+--------------------+----------+----------+----------+\n",
      "only showing top 20 rows\n",
      "\n"
     ]
    }
   ],
   "source": [
    "df.show()"
   ]
  },
  {
   "cell_type": "code",
   "execution_count": 9,
   "metadata": {},
   "outputs": [],
   "source": [
    "df2= Spark.read.option('header','True').csv(r\"C:\\Users\\11315\\Downloads\\collection.csv\", inferSchema=\"True\")"
   ]
  },
  {
   "cell_type": "code",
   "execution_count": 10,
   "metadata": {},
   "outputs": [
    {
     "name": "stdout",
     "output_type": "stream",
     "text": [
      "+---+-------------------+---------------+-------------------+-------------------+--------------------+---------+--------------+--------------+----------+\n",
      "|_c0|Against Invoice No.|    Receipt No.|       Invoice Date|    Collection Date|         Client Name|  Sectors|         State|Collection YTD|Unnamed: 8|\n",
      "+---+-------------------+---------------+-------------------+-------------------+--------------------+---------+--------------+--------------+----------+\n",
      "|  0|        1-60363(P1)|RE0910000003618|2011-05-26 00:00:00|2014-10-09 00:00:00|Bgqduvdb Oodesrs ...|Insurance|         Delhi|         200.0|      null|\n",
      "|  1|            1-60505|RE0910000003619|2011-06-30 00:00:00|2014-10-09 00:00:00|Eivrivt Cktysdh T...|Insurance|         Delhi|        2726.0|      null|\n",
      "|  2|        1-60705(P1)|RE0910000003618|2011-09-01 00:00:00|2014-10-09 00:00:00|Bgqduvdb Oodesrs ...|Insurance|         Delhi|          88.0|      null|\n",
      "|  3|            1-60734|RE0910000004030|2013-11-02 00:00:00|2013-11-02 00:00:00|V-Ijlz Vtidxyjqs ...|   Health|         Delhi|      390818.0|      null|\n",
      "|  4|            1-70107|RE0910000000004|2012-01-13 00:00:00|2014-05-25 00:00:00|         KYW TEXSBSX|     Auto|         Delhi|        5000.0|      null|\n",
      "|  5|        1-70177(P1)|RE0910000003620|2012-02-26 00:00:00|2014-10-09 00:00:00|         KYW TEXSBSX|     Auto|         Delhi|        1650.0|      null|\n",
      "|  6|        1-70246(P1)|RE0910000003620|2012-03-19 00:00:00|2014-10-09 00:00:00|         KYW TEXSBSX|     Auto|         Delhi|        2750.0|      null|\n",
      "|  7|            1-70324|RE0910000000005|2012-04-07 00:00:00|2014-03-29 00:00:00|          Druxgv Knf|  Telecom|   Maharashtra|        6500.0|      null|\n",
      "|  8|            1-70336|RE1011000002186|2012-04-15 00:00:00|2015-05-31 00:00:00|Iqagmxdvgtvxs Cpn...|   Health|         Delhi|       75000.0|      null|\n",
      "|  9|            1-70343|RE1011000000569|2012-04-20 00:00:00|2014-12-29 00:00:00|         KYW TEXSBSX|     Auto|         Delhi|       25000.0|      null|\n",
      "| 10|            1-71105|RE1011000002178|2012-09-16 00:00:00|2015-05-30 00:00:00|        YZNU UMNMYTT|     Auto|         Delhi|        5000.0|      null|\n",
      "| 11|            1-71228|RE0910000003719|2012-11-01 00:00:00|2014-10-16 00:00:00|CEI Iuvwf Cbcitjf...|     Auto|       Chennai|       10000.0|      null|\n",
      "| 12|            1-80115|RE0910000000006|2013-01-19 00:00:00|2014-04-10 00:00:00|Hczlzbk Vytsxrcef...|     Auto|         Delhi|       35237.0|      null|\n",
      "| 13|            1-80195|RE0910000002200|2013-02-01 00:00:00|2014-06-22 00:00:00|Rjejl Qyblfxzo Lz...|Education|   Maharashtra|       33766.0|      null|\n",
      "| 14|            1-80232|RE0910000004029|2013-11-02 00:00:00|2013-11-02 00:00:00|         KYW TEXSBSX|   Health|         Delhi|       50001.0|      null|\n",
      "| 15|            1-80255|RE0910000003590|2013-02-24 00:00:00|2014-04-27 00:00:00|QURKG NLYKIBSLTYT...|   Health|     Karnataka|       35000.0|      null|\n",
      "| 16|            1-80462|RE0910000004029|2013-11-02 00:00:00|2013-11-02 00:00:00|         KYW TEXSBSX|   Health|         Delhi|       50001.0|      null|\n",
      "| 17|            1-80485|RE0910000000007|2013-04-13 00:00:00|2014-05-26 00:00:00|Gkvtu Jntwtmwj GZ...|   Health|         Delhi|      188776.0|      null|\n",
      "| 18|        1-80608(P6)|RE0910000000078|2013-05-04 00:00:00|2014-05-16 00:00:00|Lisxfzfnd Jebmmmh...|Insurance|Andhra Pradesh|      185096.0|      null|\n",
      "| 19|            1-80648|RE0910000000008|2013-05-10 00:00:00|2014-06-08 00:00:00|Igh Vatrveghwi Xk...|   Health|     Karnataka|       51000.0|      null|\n",
      "+---+-------------------+---------------+-------------------+-------------------+--------------------+---------+--------------+--------------+----------+\n",
      "only showing top 20 rows\n",
      "\n"
     ]
    }
   ],
   "source": [
    "df2.show()"
   ]
  },
  {
   "cell_type": "code",
   "execution_count": 11,
   "metadata": {},
   "outputs": [],
   "source": [
    "from pyspark.sql.functions  import col"
   ]
  },
  {
   "cell_type": "code",
   "execution_count": 20,
   "metadata": {},
   "outputs": [],
   "source": [
    "df3=df.drop(\"Unnamed: 6\", \"Unnamed: 7\", \"Unnamed: 8\")\\\n",
    "    .withColumnRenamed(\"Billing YTD\", \"Amount\")"
   ]
  },
  {
   "cell_type": "code",
   "execution_count": 21,
   "metadata": {},
   "outputs": [
    {
     "name": "stdout",
     "output_type": "stream",
     "text": [
      "+---+--------------+-------------------+--------------------+---------+--------------+--------------------+\n",
      "|_c0|   Invoice No.|       Invoice Date|         Client Name|  Sectors|         State|              Amount|\n",
      "+---+--------------+-------------------+--------------------+---------+--------------+--------------------+\n",
      "|  0| GT-0910-01565|2014-09-28 00:00:00|Kaqvi Nprvynn (Xw...|Insurance|       Chennai|-1.39804052799999...|\n",
      "|  1|WCC-0910-02476|2014-10-27 00:00:00|         KYW TEXSBSX|   Health|         Delhi|          -3500000.0|\n",
      "|  2| GT-1011-00898|2015-04-23 00:00:00|Uyuig Mxyidlpyswf...|Insurance|       Haryana|          -3032400.0|\n",
      "|  3|GTA-1011-00261|2015-07-31 00:00:00|      Fmmfarl Qhoush|Insurance|Andhra Pradesh|          -3000000.0|\n",
      "|  4| GT-1011-00781|2015-04-03 00:00:00|Uyuig Mxyidlpyswf...|Insurance|       Haryana|          -2500000.0|\n",
      "|  5| GT-1011-01423|2015-07-17 00:00:00|   Lsvgdqo Csozk Moz|     Auto|Andhra Pradesh|          -2086335.0|\n",
      "|  6| GT-1011-01716|2015-09-13 00:00:00|      Cxetby Cvmgbnn|  Telecom|   Maharashtra|          -1881100.0|\n",
      "|  7|       5-81326|2013-07-21 00:00:00|Cnnpb Maw Bleuh P...|   Pharma|   Maharashtra|          -1540000.0|\n",
      "|  8|WCC-0910-01308|2014-05-12 00:00:00|XRHPW Wfyzuvrcmch...|     Auto|Andhra Pradesh|          -1536055.0|\n",
      "|  9|WCC-0910-00434|2014-02-23 00:00:00|  Apnap Wggfurrh KBW|   Health|     Karnataka|          -1287500.0|\n",
      "| 10| GT-0910-01576|2014-09-28 00:00:00|Kaqvi Nprvynn (Xw...|Insurance|       Chennai|         -1255226.44|\n",
      "| 11|       5-81876|2013-11-01 00:00:00|Cnnpb Maw Bleuh P...|   Pharma|   Maharashtra|          -1155000.0|\n",
      "| 12| GT-1011-01605|2015-08-24 00:00:00|ZIS Vvmcnilfm Ju ...|Insurance|Andhra Pradesh|          -1034910.0|\n",
      "| 13|WCC-0910-01460|2014-05-29 00:00:00|Jszn Nugybsjgxk P...|     Auto|   Maharashtra|          -1028159.0|\n",
      "| 14|WCC-1011-00002|2014-11-08 00:00:00|Umgfk Stznjhom Pu...|     Auto|       Haryana|          -1019427.5|\n",
      "| 15|WCC-1011-00649|2015-03-05 00:00:00|Cagqxz Vhcexhxaff...|     Auto|         Delhi|          -1002782.0|\n",
      "| 16|WCA-0910-00027|2014-06-19 00:00:00|      Ueubr Khbxkatl|Education|         Delhi|           -997000.0|\n",
      "| 17| GT-0910-01671|2014-10-17 00:00:00|Cnnpb Maw Bleuh P...|   Pharma|       Haryana|           -965711.0|\n",
      "| 18| GT-0910-00425|2014-01-31 00:00:00|      Dmggrdeb Hqmqk|     Auto|         Delhi|           -902782.0|\n",
      "| 19| GT-0910-00888|2014-05-03 00:00:00|PUF Kmrfawsgepuzx...|Insurance|     Karnataka|           -900000.0|\n",
      "+---+--------------+-------------------+--------------------+---------+--------------+--------------------+\n",
      "only showing top 20 rows\n",
      "\n"
     ]
    }
   ],
   "source": [
    "df3.show()"
   ]
  },
  {
   "cell_type": "code",
   "execution_count": 22,
   "metadata": {},
   "outputs": [
    {
     "name": "stdout",
     "output_type": "stream",
     "text": [
      "root\n",
      " |-- _c0: string (nullable = true)\n",
      " |-- Invoice No.: string (nullable = true)\n",
      " |-- Invoice Date: timestamp (nullable = true)\n",
      " |-- Client Name: string (nullable = true)\n",
      " |-- Sectors: string (nullable = true)\n",
      " |-- State: string (nullable = true)\n",
      " |-- Amount: double (nullable = true)\n",
      "\n"
     ]
    }
   ],
   "source": [
    "df3.printSchema()"
   ]
  },
  {
   "cell_type": "code",
   "execution_count": 24,
   "metadata": {},
   "outputs": [],
   "source": [
    "df4= df2.drop(\"Unnamed: 8\")\\\n",
    "    .withColumnRenamed()"
   ]
  },
  {
   "cell_type": "code",
   "execution_count": 25,
   "metadata": {},
   "outputs": [
    {
     "name": "stdout",
     "output_type": "stream",
     "text": [
      "+---+-------------------+---------------+-------------------+-------------------+--------------------+---------+--------------+--------------+\n",
      "|_c0|Against Invoice No.|    Receipt No.|       Invoice Date|    Collection Date|         Client Name|  Sectors|         State|Collection YTD|\n",
      "+---+-------------------+---------------+-------------------+-------------------+--------------------+---------+--------------+--------------+\n",
      "|  0|        1-60363(P1)|RE0910000003618|2011-05-26 00:00:00|2014-10-09 00:00:00|Bgqduvdb Oodesrs ...|Insurance|         Delhi|         200.0|\n",
      "|  1|            1-60505|RE0910000003619|2011-06-30 00:00:00|2014-10-09 00:00:00|Eivrivt Cktysdh T...|Insurance|         Delhi|        2726.0|\n",
      "|  2|        1-60705(P1)|RE0910000003618|2011-09-01 00:00:00|2014-10-09 00:00:00|Bgqduvdb Oodesrs ...|Insurance|         Delhi|          88.0|\n",
      "|  3|            1-60734|RE0910000004030|2013-11-02 00:00:00|2013-11-02 00:00:00|V-Ijlz Vtidxyjqs ...|   Health|         Delhi|      390818.0|\n",
      "|  4|            1-70107|RE0910000000004|2012-01-13 00:00:00|2014-05-25 00:00:00|         KYW TEXSBSX|     Auto|         Delhi|        5000.0|\n",
      "|  5|        1-70177(P1)|RE0910000003620|2012-02-26 00:00:00|2014-10-09 00:00:00|         KYW TEXSBSX|     Auto|         Delhi|        1650.0|\n",
      "|  6|        1-70246(P1)|RE0910000003620|2012-03-19 00:00:00|2014-10-09 00:00:00|         KYW TEXSBSX|     Auto|         Delhi|        2750.0|\n",
      "|  7|            1-70324|RE0910000000005|2012-04-07 00:00:00|2014-03-29 00:00:00|          Druxgv Knf|  Telecom|   Maharashtra|        6500.0|\n",
      "|  8|            1-70336|RE1011000002186|2012-04-15 00:00:00|2015-05-31 00:00:00|Iqagmxdvgtvxs Cpn...|   Health|         Delhi|       75000.0|\n",
      "|  9|            1-70343|RE1011000000569|2012-04-20 00:00:00|2014-12-29 00:00:00|         KYW TEXSBSX|     Auto|         Delhi|       25000.0|\n",
      "| 10|            1-71105|RE1011000002178|2012-09-16 00:00:00|2015-05-30 00:00:00|        YZNU UMNMYTT|     Auto|         Delhi|        5000.0|\n",
      "| 11|            1-71228|RE0910000003719|2012-11-01 00:00:00|2014-10-16 00:00:00|CEI Iuvwf Cbcitjf...|     Auto|       Chennai|       10000.0|\n",
      "| 12|            1-80115|RE0910000000006|2013-01-19 00:00:00|2014-04-10 00:00:00|Hczlzbk Vytsxrcef...|     Auto|         Delhi|       35237.0|\n",
      "| 13|            1-80195|RE0910000002200|2013-02-01 00:00:00|2014-06-22 00:00:00|Rjejl Qyblfxzo Lz...|Education|   Maharashtra|       33766.0|\n",
      "| 14|            1-80232|RE0910000004029|2013-11-02 00:00:00|2013-11-02 00:00:00|         KYW TEXSBSX|   Health|         Delhi|       50001.0|\n",
      "| 15|            1-80255|RE0910000003590|2013-02-24 00:00:00|2014-04-27 00:00:00|QURKG NLYKIBSLTYT...|   Health|     Karnataka|       35000.0|\n",
      "| 16|            1-80462|RE0910000004029|2013-11-02 00:00:00|2013-11-02 00:00:00|         KYW TEXSBSX|   Health|         Delhi|       50001.0|\n",
      "| 17|            1-80485|RE0910000000007|2013-04-13 00:00:00|2014-05-26 00:00:00|Gkvtu Jntwtmwj GZ...|   Health|         Delhi|      188776.0|\n",
      "| 18|        1-80608(P6)|RE0910000000078|2013-05-04 00:00:00|2014-05-16 00:00:00|Lisxfzfnd Jebmmmh...|Insurance|Andhra Pradesh|      185096.0|\n",
      "| 19|            1-80648|RE0910000000008|2013-05-10 00:00:00|2014-06-08 00:00:00|Igh Vatrveghwi Xk...|   Health|     Karnataka|       51000.0|\n",
      "+---+-------------------+---------------+-------------------+-------------------+--------------------+---------+--------------+--------------+\n",
      "only showing top 20 rows\n",
      "\n"
     ]
    }
   ],
   "source": [
    "df4.show()"
   ]
  },
  {
   "cell_type": "code",
   "execution_count": null,
   "metadata": {},
   "outputs": [],
   "source": []
  }
 ],
 "metadata": {
  "kernelspec": {
   "display_name": "Python 3",
   "language": "python",
   "name": "python3"
  },
  "language_info": {
   "codemirror_mode": {
    "name": "ipython",
    "version": 3
   },
   "file_extension": ".py",
   "mimetype": "text/x-python",
   "name": "python",
   "nbconvert_exporter": "python",
   "pygments_lexer": "ipython3",
   "version": "3.11.0"
  },
  "orig_nbformat": 4
 },
 "nbformat": 4,
 "nbformat_minor": 2
}
