{
 "cells": [
  {
   "cell_type": "code",
   "execution_count": 3,
   "metadata": {},
   "outputs": [
    {
     "name": "stdout",
     "output_type": "stream",
     "text": [
      "Requirement already satisfied: pyspark in c:\\python3.11\\lib\\site-packages (3.3.1)\n",
      "Requirement already satisfied: py4j==0.10.9.5 in c:\\python3.11\\lib\\site-packages (from pyspark) (0.10.9.5)\n"
     ]
    },
    {
     "name": "stderr",
     "output_type": "stream",
     "text": [
      "\n",
      "[notice] A new release of pip available: 22.3.1 -> 23.1.2\n",
      "[notice] To update, run: python.exe -m pip install --upgrade pip\n"
     ]
    }
   ],
   "source": [
    "! pip install pyspark"
   ]
  },
  {
   "cell_type": "code",
   "execution_count": 4,
   "metadata": {},
   "outputs": [],
   "source": [
    "import pyspark"
   ]
  },
  {
   "cell_type": "code",
   "execution_count": 5,
   "metadata": {},
   "outputs": [],
   "source": [
    "from pyspark.sql import SparkSession"
   ]
  },
  {
   "cell_type": "code",
   "execution_count": 7,
   "metadata": {},
   "outputs": [],
   "source": [
    "spark=SparkSession.builder.appName('Dataframe').getOrCreate()"
   ]
  },
  {
   "cell_type": "code",
   "execution_count": 9,
   "metadata": {},
   "outputs": [],
   "source": [
    "df=spark.read.csv(r\"C:\\Users\\11315\\Downloads\\Parking_Violations_Issued_-_Fiscal_Year_2017.csv\")"
   ]
  },
  {
   "cell_type": "code",
   "execution_count": 10,
   "metadata": {},
   "outputs": [
    {
     "data": {
      "text/html": [
       "\n",
       "            <div>\n",
       "                <p><b>SparkSession - in-memory</b></p>\n",
       "                \n",
       "        <div>\n",
       "            <p><b>SparkContext</b></p>\n",
       "\n",
       "            <p><a href=\"http://11315-Shakshi.teamcomputers.com:4040\">Spark UI</a></p>\n",
       "\n",
       "            <dl>\n",
       "              <dt>Version</dt>\n",
       "                <dd><code>v3.3.1</code></dd>\n",
       "              <dt>Master</dt>\n",
       "                <dd><code>local[*]</code></dd>\n",
       "              <dt>AppName</dt>\n",
       "                <dd><code>Dataframe</code></dd>\n",
       "            </dl>\n",
       "        </div>\n",
       "        \n",
       "            </div>\n",
       "        "
      ],
      "text/plain": [
       "<pyspark.sql.session.SparkSession at 0x1caa0092690>"
      ]
     },
     "execution_count": 10,
     "metadata": {},
     "output_type": "execute_result"
    }
   ],
   "source": [
    "spark"
   ]
  },
  {
   "cell_type": "code",
   "execution_count": 11,
   "metadata": {},
   "outputs": [
    {
     "name": "stdout",
     "output_type": "stream",
     "text": [
      "+--------------+--------+------------------+----------+----------+--------------+-----------------+------------+--------------+------------+------------+------------+--------------------+------------------+------------------+---------------+-----------+--------------+------------+--------------+-------------------+----------------+--------------------+------------+--------------------+-------------------+-------------------+-----------+------------+--------------------+--------------------+--------------------+------------------+-------------+--------------------+------------+------------+--------------+-------------------+--------------------+--------------------+-----------------+--------------------+\n",
      "|           _c0|     _c1|               _c2|       _c3|       _c4|           _c5|              _c6|         _c7|           _c8|         _c9|        _c10|        _c11|                _c12|              _c13|              _c14|           _c15|       _c16|          _c17|        _c18|          _c19|               _c20|            _c21|                _c22|        _c23|                _c24|               _c25|               _c26|       _c27|        _c28|                _c29|                _c30|                _c31|              _c32|         _c33|                _c34|        _c35|        _c36|          _c37|               _c38|                _c39|                _c40|             _c41|                _c42|\n",
      "+--------------+--------+------------------+----------+----------+--------------+-----------------+------------+--------------+------------+------------+------------+--------------------+------------------+------------------+---------------+-----------+--------------+------------+--------------+-------------------+----------------+--------------------+------------+--------------------+-------------------+-------------------+-----------+------------+--------------------+--------------------+--------------------+------------------+-------------+--------------------+------------+------------+--------------+-------------------+--------------------+--------------------+-----------------+--------------------+\n",
      "|Summons Number|Plate ID|Registration State|Plate Type|Issue Date|Violation Code|Vehicle Body Type|Vehicle Make|Issuing Agency|Street Code1|Street Code2|Street Code3|Vehicle Expiratio...|Violation Location|Violation Precinct|Issuer Precinct|Issuer Code|Issuer Command|Issuer Squad|Violation Time|Time First Observed|Violation County|Violation In Fron...|House Number|         Street Name|Intersecting Street|Date First Observed|Law Section|Sub Division|Violation Legal Code|Days Parking In E...|From Hours In Effect|To Hours In Effect|Vehicle Color|Unregistered Vehi...|Vehicle Year|Meter Number|Feet From Curb|Violation Post Code|Violation Descrip...|No Standing or St...|Hydrant Violation|Double Parking Vi...|\n",
      "|    5092469481| GZH7067|                NY|       PAS|07/10/2016|             7|             SUBN|       TOYOT|             V|           0|           0|           0|                   0|              null|                 0|              0|          0|          null|        null|         0143A|               null|              BX|                null|        null|ALLERTON AVE (W/B) @|         BARNES AVE|                  0|       1111|           D|                   T|                null|                null|              null|           GY|                null|        2001|        null|             0|               null|FAILURE TO STOP A...|                null|             null|                null|\n",
      "|    5092451658| GZH7067|                NY|       PAS|07/08/2016|             7|             SUBN|       TOYOT|             V|           0|           0|           0|                   0|              null|                 0|              0|          0|          null|        null|         0400P|               null|              BX|                null|        null|ALLERTON AVE (W/B) @|         BARNES AVE|                  0|       1111|           D|                   T|                null|                null|              null|           GY|                null|        2001|        null|             0|               null|FAILURE TO STOP A...|                null|             null|                null|\n",
      "|    4006265037| FZX9232|                NY|       PAS|08/23/2016|             5|             SUBN|        FORD|             V|           0|           0|           0|                   0|              null|                 0|              0|          0|          null|        null|         0233P|               null|              BX|                null|        null|SB WEBSTER AVE @ E 1|            94TH ST|                  0|       1111|           C|                   T|                null|                null|              null|           BK|                null|        2004|        null|             0|               null|  BUS LANE VIOLATION|                null|             null|                null|\n",
      "|    8478629828| 66623ME|                NY|       COM|06/14/2017|            47|             REFG|       MITSU|             T|       10610|       34330|       34350|            20180630|              0014|                14|             14|     359594|          T102|           J|         1120A|               null|              NY|                   O|         330|             7th Ave|               null|                  0|        408|          l2|                null|                   Y|               0700A|             0700P|           WH|                null|        2007|        null|             0|                 04|47-Double PKG-Mid...|                null|             null|                null|\n",
      "|    7868300310| 37033JV|                NY|       COM|11/21/2016|            69|             DELV|       INTER|             T|       10510|       34310|       34330|            20170228|              0013|                13|             13|     364832|          T102|           M|         0555P|               null|              NY|                   F|         799|             6th Ave|               null|                  0|        408|          h1|                null|                   Y|               0700A|             0700P|        WHITE|                null|        2007|        null|             0|               31 6|69-Failure to Dis...|                null|             null|                null|\n",
      "|    5096917368| FZD8593|                NY|       PAS|06/13/2017|             7|             SUBN|       ME/BE|             V|           0|           0|           0|                   0|              null|                 0|              0|          0|          null|        null|         0852P|               null|              QN|                null|        null| NORTHERN BLVD (E/B)|    @ MARATHON PKWY|                  0|       1111|           D|                   T|                null|                null|              null|           WH|                null|        2012|        null|             0|               null|FAILURE TO STOP A...|                null|             null|                null|\n",
      "|    1413609545|  X20DCM|                NJ|       PAS|08/03/2016|            40|              SDN|       TOYOT|             P|       54070|       39430|       54930|                   0|              0071|                71|             71|     960290|          0071|        0000|         0215A|               null|               K|                   F|         439|            KINGSTON|               null|                  0|        408|          C3|                null|             BBBBBBB|                 ALL|               ALL|        WHITE|                   0|           0|           -|             1|               null|                null|                null|             null|                null|\n",
      "|    4628525523|  326SF9|                MA|       PAS|12/21/2016|            36|               UT|         BMW|             V|           0|           0|           0|                   0|              null|                 0|              0|          0|          null|        null|         0758A|               null|              BX|                null|        null|EB E GUN HILL RD @ B|          ARNES AVE|                  0|       1180|           B|                   T|                null|                null|              null|         null|                null|        2001|        null|             0|               null|PHTO SCHOOL ZN SP...|                null|             null|                null|\n",
      "|    4627113330| HCA5464|                NY|       OMS|11/21/2016|            36|             SUBN|       DODGE|             V|           0|           0|           0|                   0|              null|                 0|              0|          0|          null|        null|         1005A|               null|              QN|                null|        null|NB BAISLEY BLVD @ 15|             5TH ST|                  0|       1180|           B|                   T|                null|                null|              null|           BK|                null|        2016|        null|             0|               null|PHTO SCHOOL ZN SP...|                null|             null|                null|\n",
      "|    4006478550| VAD7274|                VA|       PAS|10/05/2016|             5|               4D|         BMW|             V|           0|           0|           0|                   0|              null|                 0|              0|          0|          null|        null|         0845A|               null|              BX|                null|        null|SB WEBSTER AVE @ E 2|            04TH ST|                  0|       1111|           C|                   T|                null|                null|              null|          BLK|                null|        2008|        null|             0|               null|  BUS LANE VIOLATION|                null|             null|                null|\n",
      "|    1407740258| 2513JMG|                NY|       COM|01/11/2017|            78|             DELV|       FRUEH|             P|           0|       40404|       40404|            20161130|               106|               106|            106|     960979|          0106|        0000|         0015A|               null|               Q|                null|         126|          ST 115 AVE|               null|                  0|        408|          E2|                null|             BBBBBBB|                 ALL|               ALL|        WHITE|                   0|        2015|           -|             0|               null|                null|                null|             null|                null|\n",
      "|    8009901763| 13657MD|                NY|       COM|09/27/2016|            19|             DELV|       KENWO|             T|       10510|       34870|       34890|            20170331|              0018|                18|             18|     357355|          T400|           A|         0707A|               null|              NY|                   O|        1365|             6th Ave|               null|                  0|        408|          c3|                null|             YYYYYYY|                null|              null|           RD|                null|        2013|        null|             0|               01 9|19-No Stand (bus ...|                null|             null|                null|\n",
      "|    4625926610|N102911C|                NY|       OMT|10/27/2016|            36|              VAN|        FORD|             V|           0|           0|           0|                   0|              null|                 0|              0|          0|          null|        null|         1022A|               null|              QN|                null|        null|EB HORACE HARDING EX|PRESSWAY @ PECK AVE|                  0|       1180|           B|                   T|                null|                null|              null|           WH|                null|        2008|        null|             0|               null|PHTO SCHOOL ZN SP...|                null|             null|                null|\n",
      "|    1416492320| FGR5997|                NY|       PAS|09/30/2016|            21|              SDN|       NISSA|             P|       53620|       74250|       74260|            20170303|              0044|                44|             44|     905733|          0044|        0000|         1150A|               null|              BX|                   F|        1224|          NELSON AVE|               null|                  0|        408|          F1|                null|             BYBBYBB|               1130A|             0100P|          TAN|                   0|           0|           -|             0|               null|                null|                null|             null|                null|\n",
      "|    1413656420|T672371C|                NY|       PAS|02/04/2017|            40|             TAXI|       TOYOT|             P|       59630|       73470|       82230|            20170531|              0073|                73|             73|     960758|          0073|        0000|         0525A|               null|               K|                   F|         279|         MCDOUGAL ST|               null|                  0|        408|          F1|                null|             BBBBBBB|                 ALL|               ALL|          BLK|                   0|        2015|           -|             0|               null|                null|                null|             null|                null|\n",
      "|    7959486440| GYF2052|                NY|       PAS|07/07/2016|            71|             4DSD|       VOLKS|             T|       70407|       17390|       48890|            20170527|               120|               120|            120|     356557|          T303|           E|         0645P|               null|               R|                   F|         143|     N St Austins Pl|               null|                  0|        408|          j6|                null|                null|                null|              null|           GY|                null|        2012|        null|             0|               C-PM|71-Insp. Sticker ...|                null|             null|                null|\n",
      "|    5093620865| AD80228|                AZ|       PAS|09/24/2016|             7|               TK|        FORD|             V|           0|           0|           0|                   0|              null|                 0|              0|          0|          null|        null|         1122A|               null|              QN|                null|        null|SO CONDUIT AVE (E/B)|          @ 89TH ST|                  0|       1111|           D|                   T|                null|                null|              null|         null|                null|        2009|        null|             0|               null|FAILURE TO STOP A...|                null|             null|                null|\n",
      "|    8480309064| 51771JW|                NY|       COM|01/26/2017|            64|              VAN|       INTER|             T|       17850|       10210|       10110|            88888888|              0017|                17|             17|     363557|          T102|           L|         0256P|               null|              NY|                   F|         204|           E 43rd St|               null|                  0|        408|          C8|                null|             YYYYYYY|                null|              null|        BROWN|                null|        2007|        null|             0|                 06|64-No STD Ex Con/...|                null|             null|                null|\n",
      "|    1416638830|  GLP367|                NY|       PAS|04/30/2017|            20|             SUBN|       DODGE|             P|       17650|       10110|       10010|            20180304|              0017|                17|             17|     940179|          0017|        0000|         1232A|               null|              NY|                   O|         330|             E 33 ST|               null|                  0|        408|          E2|                null|             YYYYYYY|               1200A|             1159P|          BLK|                   0|        2009|           -|             0|               null|                null|                null|             null|                null|\n",
      "+--------------+--------+------------------+----------+----------+--------------+-----------------+------------+--------------+------------+------------+------------+--------------------+------------------+------------------+---------------+-----------+--------------+------------+--------------+-------------------+----------------+--------------------+------------+--------------------+-------------------+-------------------+-----------+------------+--------------------+--------------------+--------------------+------------------+-------------+--------------------+------------+------------+--------------+-------------------+--------------------+--------------------+-----------------+--------------------+\n",
      "only showing top 20 rows\n",
      "\n"
     ]
    }
   ],
   "source": [
    "df.show()"
   ]
  },
  {
   "cell_type": "code",
   "execution_count": 12,
   "metadata": {},
   "outputs": [],
   "source": [
    "df= spark.read.option('header','true').csv(r\"C:\\Users\\11315\\Downloads\\Parking_Violations_Issued_-_Fiscal_Year_2017.csv\",inferSchema=\"True\")"
   ]
  },
  {
   "cell_type": "code",
   "execution_count": 13,
   "metadata": {},
   "outputs": [
    {
     "name": "stdout",
     "output_type": "stream",
     "text": [
      "+--------------+--------+------------------+----------+----------+--------------+-----------------+------------+--------------+------------+------------+------------+-----------------------+------------------+------------------+---------------+-----------+--------------+------------+--------------+-------------------+----------------+---------------------------------+------------+--------------------+-------------------+-------------------+-----------+------------+--------------------+--------------------------+--------------------+------------------+-------------+---------------------+------------+------------+--------------+-------------------+---------------------+---------------------------------+-----------------+------------------------+\n",
      "|Summons Number|Plate ID|Registration State|Plate Type|Issue Date|Violation Code|Vehicle Body Type|Vehicle Make|Issuing Agency|Street Code1|Street Code2|Street Code3|Vehicle Expiration Date|Violation Location|Violation Precinct|Issuer Precinct|Issuer Code|Issuer Command|Issuer Squad|Violation Time|Time First Observed|Violation County|Violation In Front Of Or Opposite|House Number|         Street Name|Intersecting Street|Date First Observed|Law Section|Sub Division|Violation Legal Code|Days Parking In Effect    |From Hours In Effect|To Hours In Effect|Vehicle Color|Unregistered Vehicle?|Vehicle Year|Meter Number|Feet From Curb|Violation Post Code|Violation Description|No Standing or Stopping Violation|Hydrant Violation|Double Parking Violation|\n",
      "+--------------+--------+------------------+----------+----------+--------------+-----------------+------------+--------------+------------+------------+------------+-----------------------+------------------+------------------+---------------+-----------+--------------+------------+--------------+-------------------+----------------+---------------------------------+------------+--------------------+-------------------+-------------------+-----------+------------+--------------------+--------------------------+--------------------+------------------+-------------+---------------------+------------+------------+--------------+-------------------+---------------------+---------------------------------+-----------------+------------------------+\n",
      "|    5092469481| GZH7067|                NY|       PAS|07/10/2016|             7|             SUBN|       TOYOT|             V|           0|           0|           0|                      0|              null|                 0|              0|          0|          null|        null|         0143A|               null|              BX|                             null|        null|ALLERTON AVE (W/B) @|         BARNES AVE|                  0|       1111|           D|                   T|                      null|                null|              null|           GY|                 null|        2001|        null|             0|               null| FAILURE TO STOP A...|                             null|             null|                    null|\n",
      "|    5092451658| GZH7067|                NY|       PAS|07/08/2016|             7|             SUBN|       TOYOT|             V|           0|           0|           0|                      0|              null|                 0|              0|          0|          null|        null|         0400P|               null|              BX|                             null|        null|ALLERTON AVE (W/B) @|         BARNES AVE|                  0|       1111|           D|                   T|                      null|                null|              null|           GY|                 null|        2001|        null|             0|               null| FAILURE TO STOP A...|                             null|             null|                    null|\n",
      "|    4006265037| FZX9232|                NY|       PAS|08/23/2016|             5|             SUBN|        FORD|             V|           0|           0|           0|                      0|              null|                 0|              0|          0|          null|        null|         0233P|               null|              BX|                             null|        null|SB WEBSTER AVE @ E 1|            94TH ST|                  0|       1111|           C|                   T|                      null|                null|              null|           BK|                 null|        2004|        null|             0|               null|   BUS LANE VIOLATION|                             null|             null|                    null|\n",
      "|    8478629828| 66623ME|                NY|       COM|06/14/2017|            47|             REFG|       MITSU|             T|       10610|       34330|       34350|               20180630|                14|                14|             14|     359594|          T102|           J|         1120A|               null|              NY|                                O|         330|             7th Ave|               null|                  0|        408|          l2|                null|                         Y|               0700A|             0700P|           WH|                 null|        2007|        null|             0|                 04| 47-Double PKG-Mid...|                             null|             null|                    null|\n",
      "|    7868300310| 37033JV|                NY|       COM|11/21/2016|            69|             DELV|       INTER|             T|       10510|       34310|       34330|               20170228|                13|                13|             13|     364832|          T102|           M|         0555P|               null|              NY|                                F|         799|             6th Ave|               null|                  0|        408|          h1|                null|                         Y|               0700A|             0700P|        WHITE|                 null|        2007|        null|             0|               31 6| 69-Failure to Dis...|                             null|             null|                    null|\n",
      "|    5096917368| FZD8593|                NY|       PAS|06/13/2017|             7|             SUBN|       ME/BE|             V|           0|           0|           0|                      0|              null|                 0|              0|          0|          null|        null|         0852P|               null|              QN|                             null|        null| NORTHERN BLVD (E/B)|    @ MARATHON PKWY|                  0|       1111|           D|                   T|                      null|                null|              null|           WH|                 null|        2012|        null|             0|               null| FAILURE TO STOP A...|                             null|             null|                    null|\n",
      "|    1413609545|  X20DCM|                NJ|       PAS|08/03/2016|            40|              SDN|       TOYOT|             P|       54070|       39430|       54930|                      0|                71|                71|             71|     960290|          0071|        0000|         0215A|               null|               K|                                F|         439|            KINGSTON|               null|                  0|        408|          C3|                null|                   BBBBBBB|                 ALL|               ALL|        WHITE|                    0|           0|           -|             1|               null|                 null|                             null|             null|                    null|\n",
      "|    4628525523|  326SF9|                MA|       PAS|12/21/2016|            36|               UT|         BMW|             V|           0|           0|           0|                      0|              null|                 0|              0|          0|          null|        null|         0758A|               null|              BX|                             null|        null|EB E GUN HILL RD @ B|          ARNES AVE|                  0|       1180|           B|                   T|                      null|                null|              null|         null|                 null|        2001|        null|             0|               null| PHTO SCHOOL ZN SP...|                             null|             null|                    null|\n",
      "|    4627113330| HCA5464|                NY|       OMS|11/21/2016|            36|             SUBN|       DODGE|             V|           0|           0|           0|                      0|              null|                 0|              0|          0|          null|        null|         1005A|               null|              QN|                             null|        null|NB BAISLEY BLVD @ 15|             5TH ST|                  0|       1180|           B|                   T|                      null|                null|              null|           BK|                 null|        2016|        null|             0|               null| PHTO SCHOOL ZN SP...|                             null|             null|                    null|\n",
      "|    4006478550| VAD7274|                VA|       PAS|10/05/2016|             5|               4D|         BMW|             V|           0|           0|           0|                      0|              null|                 0|              0|          0|          null|        null|         0845A|               null|              BX|                             null|        null|SB WEBSTER AVE @ E 2|            04TH ST|                  0|       1111|           C|                   T|                      null|                null|              null|          BLK|                 null|        2008|        null|             0|               null|   BUS LANE VIOLATION|                             null|             null|                    null|\n",
      "|    1407740258| 2513JMG|                NY|       COM|01/11/2017|            78|             DELV|       FRUEH|             P|           0|       40404|       40404|               20161130|               106|               106|            106|     960979|          0106|        0000|         0015A|               null|               Q|                             null|         126|          ST 115 AVE|               null|                  0|        408|          E2|                null|                   BBBBBBB|                 ALL|               ALL|        WHITE|                    0|        2015|           -|             0|               null|                 null|                             null|             null|                    null|\n",
      "|    8009901763| 13657MD|                NY|       COM|09/27/2016|            19|             DELV|       KENWO|             T|       10510|       34870|       34890|               20170331|                18|                18|             18|     357355|          T400|           A|         0707A|               null|              NY|                                O|        1365|             6th Ave|               null|                  0|        408|          c3|                null|                   YYYYYYY|                null|              null|           RD|                 null|        2013|        null|             0|               01 9| 19-No Stand (bus ...|                             null|             null|                    null|\n",
      "|    4625926610|N102911C|                NY|       OMT|10/27/2016|            36|              VAN|        FORD|             V|           0|           0|           0|                      0|              null|                 0|              0|          0|          null|        null|         1022A|               null|              QN|                             null|        null|EB HORACE HARDING EX|PRESSWAY @ PECK AVE|                  0|       1180|           B|                   T|                      null|                null|              null|           WH|                 null|        2008|        null|             0|               null| PHTO SCHOOL ZN SP...|                             null|             null|                    null|\n",
      "|    1416492320| FGR5997|                NY|       PAS|09/30/2016|            21|              SDN|       NISSA|             P|       53620|       74250|       74260|               20170303|                44|                44|             44|     905733|          0044|        0000|         1150A|               null|              BX|                                F|        1224|          NELSON AVE|               null|                  0|        408|          F1|                null|                   BYBBYBB|               1130A|             0100P|          TAN|                    0|           0|           -|             0|               null|                 null|                             null|             null|                    null|\n",
      "|    1413656420|T672371C|                NY|       PAS|02/04/2017|            40|             TAXI|       TOYOT|             P|       59630|       73470|       82230|               20170531|                73|                73|             73|     960758|          0073|        0000|         0525A|               null|               K|                                F|         279|         MCDOUGAL ST|               null|                  0|        408|          F1|                null|                   BBBBBBB|                 ALL|               ALL|          BLK|                    0|        2015|           -|             0|               null|                 null|                             null|             null|                    null|\n",
      "|    7959486440| GYF2052|                NY|       PAS|07/07/2016|            71|             4DSD|       VOLKS|             T|       70407|       17390|       48890|               20170527|               120|               120|            120|     356557|          T303|           E|         0645P|               null|               R|                                F|         143|     N St Austins Pl|               null|                  0|        408|          j6|                null|                      null|                null|              null|           GY|                 null|        2012|        null|             0|               C-PM| 71-Insp. Sticker ...|                             null|             null|                    null|\n",
      "|    5093620865| AD80228|                AZ|       PAS|09/24/2016|             7|               TK|        FORD|             V|           0|           0|           0|                      0|              null|                 0|              0|          0|          null|        null|         1122A|               null|              QN|                             null|        null|SO CONDUIT AVE (E/B)|          @ 89TH ST|                  0|       1111|           D|                   T|                      null|                null|              null|         null|                 null|        2009|        null|             0|               null| FAILURE TO STOP A...|                             null|             null|                    null|\n",
      "|    8480309064| 51771JW|                NY|       COM|01/26/2017|            64|              VAN|       INTER|             T|       17850|       10210|       10110|               88888888|                17|                17|             17|     363557|          T102|           L|         0256P|               null|              NY|                                F|         204|           E 43rd St|               null|                  0|        408|          C8|                null|                   YYYYYYY|                null|              null|        BROWN|                 null|        2007|        null|             0|                 06| 64-No STD Ex Con/...|                             null|             null|                    null|\n",
      "|    1416638830|  GLP367|                NY|       PAS|04/30/2017|            20|             SUBN|       DODGE|             P|       17650|       10110|       10010|               20180304|                17|                17|             17|     940179|          0017|        0000|         1232A|               null|              NY|                                O|         330|             E 33 ST|               null|                  0|        408|          E2|                null|                   YYYYYYY|               1200A|             1159P|          BLK|                    0|        2009|           -|             0|               null|                 null|                             null|             null|                    null|\n",
      "|    4630524241|  HJBP29|                FL|       PAS|02/03/2017|            36|               4D|         BMW|             V|           0|           0|           0|                      0|              null|                 0|              0|          0|          null|        null|         1034A|               null|              BK|                             null|        null|WB LINDEN BLVD @ SCH|           ENCK AVE|                  0|       1180|           B|                   T|                      null|                null|              null|          SIL|                 null|        2009|        null|             0|               null| PHTO SCHOOL ZN SP...|                             null|             null|                    null|\n",
      "+--------------+--------+------------------+----------+----------+--------------+-----------------+------------+--------------+------------+------------+------------+-----------------------+------------------+------------------+---------------+-----------+--------------+------------+--------------+-------------------+----------------+---------------------------------+------------+--------------------+-------------------+-------------------+-----------+------------+--------------------+--------------------------+--------------------+------------------+-------------+---------------------+------------+------------+--------------+-------------------+---------------------+---------------------------------+-----------------+------------------------+\n",
      "only showing top 20 rows\n",
      "\n"
     ]
    }
   ],
   "source": [
    "df.show()"
   ]
  },
  {
   "cell_type": "code",
   "execution_count": 14,
   "metadata": {},
   "outputs": [
    {
     "data": {
      "text/plain": [
       "[('Summons Number', 'bigint'),\n",
       " ('Plate ID', 'string'),\n",
       " ('Registration State', 'string'),\n",
       " ('Plate Type', 'string'),\n",
       " ('Issue Date', 'string'),\n",
       " ('Violation Code', 'int'),\n",
       " ('Vehicle Body Type', 'string'),\n",
       " ('Vehicle Make', 'string'),\n",
       " ('Issuing Agency', 'string'),\n",
       " ('Street Code1', 'int'),\n",
       " ('Street Code2', 'int'),\n",
       " ('Street Code3', 'int'),\n",
       " ('Vehicle Expiration Date', 'int'),\n",
       " ('Violation Location', 'int'),\n",
       " ('Violation Precinct', 'int'),\n",
       " ('Issuer Precinct', 'int'),\n",
       " ('Issuer Code', 'int'),\n",
       " ('Issuer Command', 'string'),\n",
       " ('Issuer Squad', 'string'),\n",
       " ('Violation Time', 'string'),\n",
       " ('Time First Observed', 'string'),\n",
       " ('Violation County', 'string'),\n",
       " ('Violation In Front Of Or Opposite', 'string'),\n",
       " ('House Number', 'string'),\n",
       " ('Street Name', 'string'),\n",
       " ('Intersecting Street', 'string'),\n",
       " ('Date First Observed', 'int'),\n",
       " ('Law Section', 'int'),\n",
       " ('Sub Division', 'string'),\n",
       " ('Violation Legal Code', 'string'),\n",
       " ('Days Parking In Effect    ', 'string'),\n",
       " ('From Hours In Effect', 'string'),\n",
       " ('To Hours In Effect', 'string'),\n",
       " ('Vehicle Color', 'string'),\n",
       " ('Unregistered Vehicle?', 'int'),\n",
       " ('Vehicle Year', 'int'),\n",
       " ('Meter Number', 'string'),\n",
       " ('Feet From Curb', 'int'),\n",
       " ('Violation Post Code', 'string'),\n",
       " ('Violation Description', 'string'),\n",
       " ('No Standing or Stopping Violation', 'string'),\n",
       " ('Hydrant Violation', 'string'),\n",
       " ('Double Parking Violation', 'string')]"
      ]
     },
     "execution_count": 14,
     "metadata": {},
     "output_type": "execute_result"
    }
   ],
   "source": [
    "df.dtypes"
   ]
  },
  {
   "cell_type": "code",
   "execution_count": 15,
   "metadata": {},
   "outputs": [
    {
     "name": "stdout",
     "output_type": "stream",
     "text": [
      "root\n",
      " |-- Summons Number: long (nullable = true)\n",
      " |-- Plate ID: string (nullable = true)\n",
      " |-- Registration State: string (nullable = true)\n",
      " |-- Plate Type: string (nullable = true)\n",
      " |-- Issue Date: string (nullable = true)\n",
      " |-- Violation Code: integer (nullable = true)\n",
      " |-- Vehicle Body Type: string (nullable = true)\n",
      " |-- Vehicle Make: string (nullable = true)\n",
      " |-- Issuing Agency: string (nullable = true)\n",
      " |-- Street Code1: integer (nullable = true)\n",
      " |-- Street Code2: integer (nullable = true)\n",
      " |-- Street Code3: integer (nullable = true)\n",
      " |-- Vehicle Expiration Date: integer (nullable = true)\n",
      " |-- Violation Location: integer (nullable = true)\n",
      " |-- Violation Precinct: integer (nullable = true)\n",
      " |-- Issuer Precinct: integer (nullable = true)\n",
      " |-- Issuer Code: integer (nullable = true)\n",
      " |-- Issuer Command: string (nullable = true)\n",
      " |-- Issuer Squad: string (nullable = true)\n",
      " |-- Violation Time: string (nullable = true)\n",
      " |-- Time First Observed: string (nullable = true)\n",
      " |-- Violation County: string (nullable = true)\n",
      " |-- Violation In Front Of Or Opposite: string (nullable = true)\n",
      " |-- House Number: string (nullable = true)\n",
      " |-- Street Name: string (nullable = true)\n",
      " |-- Intersecting Street: string (nullable = true)\n",
      " |-- Date First Observed: integer (nullable = true)\n",
      " |-- Law Section: integer (nullable = true)\n",
      " |-- Sub Division: string (nullable = true)\n",
      " |-- Violation Legal Code: string (nullable = true)\n",
      " |-- Days Parking In Effect    : string (nullable = true)\n",
      " |-- From Hours In Effect: string (nullable = true)\n",
      " |-- To Hours In Effect: string (nullable = true)\n",
      " |-- Vehicle Color: string (nullable = true)\n",
      " |-- Unregistered Vehicle?: integer (nullable = true)\n",
      " |-- Vehicle Year: integer (nullable = true)\n",
      " |-- Meter Number: string (nullable = true)\n",
      " |-- Feet From Curb: integer (nullable = true)\n",
      " |-- Violation Post Code: string (nullable = true)\n",
      " |-- Violation Description: string (nullable = true)\n",
      " |-- No Standing or Stopping Violation: string (nullable = true)\n",
      " |-- Hydrant Violation: string (nullable = true)\n",
      " |-- Double Parking Violation: string (nullable = true)\n",
      "\n"
     ]
    }
   ],
   "source": [
    "df.printSchema()"
   ]
  },
  {
   "cell_type": "code",
   "execution_count": 17,
   "metadata": {},
   "outputs": [],
   "source": [
    "from pyspark.sql.functions import col"
   ]
  },
  {
   "cell_type": "code",
   "execution_count": 19,
   "metadata": {},
   "outputs": [],
   "source": [
    "from pyspark.sql.functions import when"
   ]
  },
  {
   "cell_type": "code",
   "execution_count": 20,
   "metadata": {},
   "outputs": [
    {
     "name": "stdout",
     "output_type": "stream",
     "text": [
      "+--------------+--------+------------------+----------+----------+--------------+-----------------+------------+--------------+------------+------------+------------+-----------------------+------------------+------------------+---------------+-----------+--------------+------------+--------------+-------------------+----------------+---------------------------------+------------+--------------------+-------------------+-------------------+-----------+------------+--------------------+--------------------------+--------------------+------------------+-------------+---------------------+------------+------------+--------------+-------------------+---------------------+---------------------------------+-----------------+------------------------+\n",
      "|Summons Number|Plate ID|Registration State|Plate Type|Issue Date|Violation Code|Vehicle Body Type|Vehicle Make|Issuing Agency|Street Code1|Street Code2|Street Code3|Vehicle Expiration Date|Violation Location|Violation Precinct|Issuer Precinct|Issuer Code|Issuer Command|Issuer Squad|Violation Time|Time First Observed|Violation County|Violation In Front Of Or Opposite|House Number|         Street Name|Intersecting Street|Date First Observed|Law Section|Sub Division|Violation Legal Code|Days Parking In Effect    |From Hours In Effect|To Hours In Effect|Vehicle Color|Unregistered Vehicle?|Vehicle Year|Meter Number|Feet From Curb|Violation Post Code|Violation Description|No Standing or Stopping Violation|Hydrant Violation|Double Parking Violation|\n",
      "+--------------+--------+------------------+----------+----------+--------------+-----------------+------------+--------------+------------+------------+------------+-----------------------+------------------+------------------+---------------+-----------+--------------+------------+--------------+-------------------+----------------+---------------------------------+------------+--------------------+-------------------+-------------------+-----------+------------+--------------------+--------------------------+--------------------+------------------+-------------+---------------------+------------+------------+--------------+-------------------+---------------------+---------------------------------+-----------------+------------------------+\n",
      "|    5092469481| GZH7067|                NY|       PAS|07/10/2016|             7|             SUBN|       TOYOT|             V|           0|           0|           0|                      0|                 0|                 0|              0|          0|          null|        null|         0143A|               null|              BX|                             null|        null|ALLERTON AVE (W/B) @|         BARNES AVE|                  0|       1111|           D|                   T|                      null|                null|              null|           GY|                    0|        2001|        null|             0|               null| FAILURE TO STOP A...|                             null|             null|                    null|\n",
      "|    5092451658| GZH7067|                NY|       PAS|07/08/2016|             7|             SUBN|       TOYOT|             V|           0|           0|           0|                      0|                 0|                 0|              0|          0|          null|        null|         0400P|               null|              BX|                             null|        null|ALLERTON AVE (W/B) @|         BARNES AVE|                  0|       1111|           D|                   T|                      null|                null|              null|           GY|                    0|        2001|        null|             0|               null| FAILURE TO STOP A...|                             null|             null|                    null|\n",
      "|    4006265037| FZX9232|                NY|       PAS|08/23/2016|             5|             SUBN|        FORD|             V|           0|           0|           0|                      0|                 0|                 0|              0|          0|          null|        null|         0233P|               null|              BX|                             null|        null|SB WEBSTER AVE @ E 1|            94TH ST|                  0|       1111|           C|                   T|                      null|                null|              null|           BK|                    0|        2004|        null|             0|               null|   BUS LANE VIOLATION|                             null|             null|                    null|\n",
      "|    8478629828| 66623ME|                NY|       COM|06/14/2017|            47|             REFG|       MITSU|             T|       10610|       34330|       34350|               20180630|                14|                14|             14|     359594|          T102|           J|         1120A|               null|              NY|                                O|         330|             7th Ave|               null|                  0|        408|          l2|                null|                         Y|               0700A|             0700P|           WH|                    0|        2007|        null|             0|                 04| 47-Double PKG-Mid...|                             null|             null|                    null|\n",
      "|    7868300310| 37033JV|                NY|       COM|11/21/2016|            69|             DELV|       INTER|             T|       10510|       34310|       34330|               20170228|                13|                13|             13|     364832|          T102|           M|         0555P|               null|              NY|                                F|         799|             6th Ave|               null|                  0|        408|          h1|                null|                         Y|               0700A|             0700P|        WHITE|                    0|        2007|        null|             0|               31 6| 69-Failure to Dis...|                             null|             null|                    null|\n",
      "|    5096917368| FZD8593|                NY|       PAS|06/13/2017|             7|             SUBN|       ME/BE|             V|           0|           0|           0|                      0|                 0|                 0|              0|          0|          null|        null|         0852P|               null|              QN|                             null|        null| NORTHERN BLVD (E/B)|    @ MARATHON PKWY|                  0|       1111|           D|                   T|                      null|                null|              null|           WH|                    0|        2012|        null|             0|               null| FAILURE TO STOP A...|                             null|             null|                    null|\n",
      "|    1413609545|  X20DCM|                NJ|       PAS|08/03/2016|            40|              SDN|       TOYOT|             P|       54070|       39430|       54930|                      0|                71|                71|             71|     960290|          0071|        0000|         0215A|               null|               K|                                F|         439|            KINGSTON|               null|                  0|        408|          C3|                null|                   BBBBBBB|                 ALL|               ALL|        WHITE|                    0|           0|           -|             1|               null|                 null|                             null|             null|                    null|\n",
      "|    4628525523|  326SF9|                MA|       PAS|12/21/2016|            36|               UT|         BMW|             V|           0|           0|           0|                      0|                 0|                 0|              0|          0|          null|        null|         0758A|               null|              BX|                             null|        null|EB E GUN HILL RD @ B|          ARNES AVE|                  0|       1180|           B|                   T|                      null|                null|              null|         null|                    0|        2001|        null|             0|               null| PHTO SCHOOL ZN SP...|                             null|             null|                    null|\n",
      "|    4627113330| HCA5464|                NY|       OMS|11/21/2016|            36|             SUBN|       DODGE|             V|           0|           0|           0|                      0|                 0|                 0|              0|          0|          null|        null|         1005A|               null|              QN|                             null|        null|NB BAISLEY BLVD @ 15|             5TH ST|                  0|       1180|           B|                   T|                      null|                null|              null|           BK|                    0|        2016|        null|             0|               null| PHTO SCHOOL ZN SP...|                             null|             null|                    null|\n",
      "|    4006478550| VAD7274|                VA|       PAS|10/05/2016|             5|               4D|         BMW|             V|           0|           0|           0|                      0|                 0|                 0|              0|          0|          null|        null|         0845A|               null|              BX|                             null|        null|SB WEBSTER AVE @ E 2|            04TH ST|                  0|       1111|           C|                   T|                      null|                null|              null|          BLK|                    0|        2008|        null|             0|               null|   BUS LANE VIOLATION|                             null|             null|                    null|\n",
      "|    1407740258| 2513JMG|                NY|       COM|01/11/2017|            78|             DELV|       FRUEH|             P|           0|       40404|       40404|               20161130|               106|               106|            106|     960979|          0106|        0000|         0015A|               null|               Q|                             null|         126|          ST 115 AVE|               null|                  0|        408|          E2|                null|                   BBBBBBB|                 ALL|               ALL|        WHITE|                    0|        2015|           -|             0|               null|                 null|                             null|             null|                    null|\n",
      "|    8009901763| 13657MD|                NY|       COM|09/27/2016|            19|             DELV|       KENWO|             T|       10510|       34870|       34890|               20170331|                18|                18|             18|     357355|          T400|           A|         0707A|               null|              NY|                                O|        1365|             6th Ave|               null|                  0|        408|          c3|                null|                   YYYYYYY|                null|              null|           RD|                    0|        2013|        null|             0|               01 9| 19-No Stand (bus ...|                             null|             null|                    null|\n",
      "|    4625926610|N102911C|                NY|       OMT|10/27/2016|            36|              VAN|        FORD|             V|           0|           0|           0|                      0|                 0|                 0|              0|          0|          null|        null|         1022A|               null|              QN|                             null|        null|EB HORACE HARDING EX|PRESSWAY @ PECK AVE|                  0|       1180|           B|                   T|                      null|                null|              null|           WH|                    0|        2008|        null|             0|               null| PHTO SCHOOL ZN SP...|                             null|             null|                    null|\n",
      "|    1416492320| FGR5997|                NY|       PAS|09/30/2016|            21|              SDN|       NISSA|             P|       53620|       74250|       74260|               20170303|                44|                44|             44|     905733|          0044|        0000|         1150A|               null|              BX|                                F|        1224|          NELSON AVE|               null|                  0|        408|          F1|                null|                   BYBBYBB|               1130A|             0100P|          TAN|                    0|           0|           -|             0|               null|                 null|                             null|             null|                    null|\n",
      "|    1413656420|T672371C|                NY|       PAS|02/04/2017|            40|             TAXI|       TOYOT|             P|       59630|       73470|       82230|               20170531|                73|                73|             73|     960758|          0073|        0000|         0525A|               null|               K|                                F|         279|         MCDOUGAL ST|               null|                  0|        408|          F1|                null|                   BBBBBBB|                 ALL|               ALL|          BLK|                    0|        2015|           -|             0|               null|                 null|                             null|             null|                    null|\n",
      "|    7959486440| GYF2052|                NY|       PAS|07/07/2016|            71|             4DSD|       VOLKS|             T|       70407|       17390|       48890|               20170527|               120|               120|            120|     356557|          T303|           E|         0645P|               null|               R|                                F|         143|     N St Austins Pl|               null|                  0|        408|          j6|                null|                      null|                null|              null|           GY|                    0|        2012|        null|             0|               C-PM| 71-Insp. Sticker ...|                             null|             null|                    null|\n",
      "|    5093620865| AD80228|                AZ|       PAS|09/24/2016|             7|               TK|        FORD|             V|           0|           0|           0|                      0|                 0|                 0|              0|          0|          null|        null|         1122A|               null|              QN|                             null|        null|SO CONDUIT AVE (E/B)|          @ 89TH ST|                  0|       1111|           D|                   T|                      null|                null|              null|         null|                    0|        2009|        null|             0|               null| FAILURE TO STOP A...|                             null|             null|                    null|\n",
      "|    8480309064| 51771JW|                NY|       COM|01/26/2017|            64|              VAN|       INTER|             T|       17850|       10210|       10110|               88888888|                17|                17|             17|     363557|          T102|           L|         0256P|               null|              NY|                                F|         204|           E 43rd St|               null|                  0|        408|          C8|                null|                   YYYYYYY|                null|              null|        BROWN|                    0|        2007|        null|             0|                 06| 64-No STD Ex Con/...|                             null|             null|                    null|\n",
      "|    1416638830|  GLP367|                NY|       PAS|04/30/2017|            20|             SUBN|       DODGE|             P|       17650|       10110|       10010|               20180304|                17|                17|             17|     940179|          0017|        0000|         1232A|               null|              NY|                                O|         330|             E 33 ST|               null|                  0|        408|          E2|                null|                   YYYYYYY|               1200A|             1159P|          BLK|                    0|        2009|           -|             0|               null|                 null|                             null|             null|                    null|\n",
      "|    4630524241|  HJBP29|                FL|       PAS|02/03/2017|            36|               4D|         BMW|             V|           0|           0|           0|                      0|                 0|                 0|              0|          0|          null|        null|         1034A|               null|              BK|                             null|        null|WB LINDEN BLVD @ SCH|           ENCK AVE|                  0|       1180|           B|                   T|                      null|                null|              null|          SIL|                    0|        2009|        null|             0|               null| PHTO SCHOOL ZN SP...|                             null|             null|                    null|\n",
      "+--------------+--------+------------------+----------+----------+--------------+-----------------+------------+--------------+------------+------------+------------+-----------------------+------------------+------------------+---------------+-----------+--------------+------------+--------------+-------------------+----------------+---------------------------------+------------+--------------------+-------------------+-------------------+-----------+------------+--------------------+--------------------------+--------------------+------------------+-------------+---------------------+------------+------------+--------------+-------------------+---------------------+---------------------------------+-----------------+------------------------+\n",
      "only showing top 20 rows\n",
      "\n"
     ]
    }
   ],
   "source": [
    "df.na.fill(value=0).show()"
   ]
  },
  {
   "cell_type": "code",
   "execution_count": 21,
   "metadata": {},
   "outputs": [
    {
     "data": {
      "text/plain": [
       "10803028"
      ]
     },
     "execution_count": 21,
     "metadata": {},
     "output_type": "execute_result"
    }
   ],
   "source": [
    "df.count()"
   ]
  },
  {
   "cell_type": "code",
   "execution_count": 22,
   "metadata": {},
   "outputs": [],
   "source": [
    "\n",
    "df.createOrReplaceTempView(\"data_2017\")"
   ]
  },
  {
   "cell_type": "code",
   "execution_count": 23,
   "metadata": {},
   "outputs": [
    {
     "name": "stdout",
     "output_type": "stream",
     "text": [
      "+-----+\n",
      "|count|\n",
      "+-----+\n",
      "|   67|\n",
      "+-----+\n",
      "\n"
     ]
    }
   ],
   "source": [
    "spark.sql(\"SELECT count(distinct `Registration State`) as count FROM data_2017\").show()"
   ]
  },
  {
   "cell_type": "code",
   "execution_count": 24,
   "metadata": {},
   "outputs": [
    {
     "name": "stdout",
     "output_type": "stream",
     "text": [
      "+------------------+-------+\n",
      "|Registration State|  count|\n",
      "+------------------+-------+\n",
      "|                NY|8481061|\n",
      "|                NJ| 925965|\n",
      "|                PA| 285419|\n",
      "|                FL| 144556|\n",
      "|                CT| 141088|\n",
      "|                MA|  85547|\n",
      "|                IN|  80749|\n",
      "|                VA|  72626|\n",
      "|                MD|  61800|\n",
      "|                NC|  55806|\n",
      "|                IL|  37329|\n",
      "|                GA|  36852|\n",
      "|                99|  36625|\n",
      "|                TX|  36516|\n",
      "|                AZ|  26426|\n",
      "|                OH|  25302|\n",
      "|                CA|  24260|\n",
      "|                SC|  21836|\n",
      "|                ME|  21574|\n",
      "|                MN|  18227|\n",
      "+------------------+-------+\n",
      "only showing top 20 rows\n",
      "\n"
     ]
    }
   ],
   "source": [
    "spark.sql(\"SELECT `Registration State`, count(*) as count \\\n",
    "        FROM data_2017 group by `Registration State` order by `count` desc\").show()"
   ]
  }
 ],
 "metadata": {
  "kernelspec": {
   "display_name": "Python 3",
   "language": "python",
   "name": "python3"
  },
  "language_info": {
   "codemirror_mode": {
    "name": "ipython",
    "version": 3
   },
   "file_extension": ".py",
   "mimetype": "text/x-python",
   "name": "python",
   "nbconvert_exporter": "python",
   "pygments_lexer": "ipython3",
   "version": "3.11.0"
  },
  "orig_nbformat": 4
 },
 "nbformat": 4,
 "nbformat_minor": 2
}
