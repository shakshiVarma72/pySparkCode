{
 "cells": [
  {
   "cell_type": "code",
   "execution_count": 3,
   "metadata": {},
   "outputs": [
    {
     "name": "stdout",
     "output_type": "stream",
     "text": [
      "Requirement already satisfied: pyspark in c:\\python3.11\\lib\\site-packages (3.3.1)\n",
      "Requirement already satisfied: py4j==0.10.9.5 in c:\\python3.11\\lib\\site-packages (from pyspark) (0.10.9.5)\n"
     ]
    },
    {
     "name": "stderr",
     "output_type": "stream",
     "text": [
      "\n",
      "[notice] A new release of pip available: 22.3.1 -> 23.1.2\n",
      "[notice] To update, run: python.exe -m pip install --upgrade pip\n"
     ]
    }
   ],
   "source": [
    "! pip install pyspark"
   ]
  },
  {
   "cell_type": "code",
   "execution_count": 4,
   "metadata": {},
   "outputs": [],
   "source": [
    "import pyspark"
   ]
  },
  {
   "cell_type": "code",
   "execution_count": 5,
   "metadata": {},
   "outputs": [],
   "source": [
    "from pyspark.sql import SparkSession"
   ]
  },
  {
   "cell_type": "code",
   "execution_count": 6,
   "metadata": {},
   "outputs": [],
   "source": [
    "spark=SparkSession.builder.appName('Dataframe').getOrCreate()"
   ]
  },
  {
   "cell_type": "code",
   "execution_count": 7,
   "metadata": {},
   "outputs": [],
   "source": [
    "df=spark.read.csv(r\"C:\\Users\\11315\\Downloads\\Parking_Violations_Issued_-_Fiscal_Year_2017.csv\")"
   ]
  },
  {
   "cell_type": "code",
   "execution_count": 8,
   "metadata": {},
   "outputs": [
    {
     "data": {
      "text/html": [
       "\n",
       "            <div>\n",
       "                <p><b>SparkSession - in-memory</b></p>\n",
       "                \n",
       "        <div>\n",
       "            <p><b>SparkContext</b></p>\n",
       "\n",
       "            <p><a href=\"http://11315-Shakshi.teamcomputers.com:4040\">Spark UI</a></p>\n",
       "\n",
       "            <dl>\n",
       "              <dt>Version</dt>\n",
       "                <dd><code>v3.3.1</code></dd>\n",
       "              <dt>Master</dt>\n",
       "                <dd><code>local[*]</code></dd>\n",
       "              <dt>AppName</dt>\n",
       "                <dd><code>Dataframe</code></dd>\n",
       "            </dl>\n",
       "        </div>\n",
       "        \n",
       "            </div>\n",
       "        "
      ],
      "text/plain": [
       "<pyspark.sql.session.SparkSession at 0x2811cbc9010>"
      ]
     },
     "execution_count": 8,
     "metadata": {},
     "output_type": "execute_result"
    }
   ],
   "source": [
    "spark"
   ]
  },
  {
   "cell_type": "code",
   "execution_count": 9,
   "metadata": {},
   "outputs": [
    {
     "name": "stdout",
     "output_type": "stream",
     "text": [
      "+--------------+--------+------------------+----------+----------+--------------+-----------------+------------+--------------+------------+------------+------------+--------------------+------------------+------------------+---------------+-----------+--------------+------------+--------------+-------------------+----------------+--------------------+------------+--------------------+-------------------+-------------------+-----------+------------+--------------------+--------------------+--------------------+------------------+-------------+--------------------+------------+------------+--------------+-------------------+--------------------+--------------------+-----------------+--------------------+\n",
      "|           _c0|     _c1|               _c2|       _c3|       _c4|           _c5|              _c6|         _c7|           _c8|         _c9|        _c10|        _c11|                _c12|              _c13|              _c14|           _c15|       _c16|          _c17|        _c18|          _c19|               _c20|            _c21|                _c22|        _c23|                _c24|               _c25|               _c26|       _c27|        _c28|                _c29|                _c30|                _c31|              _c32|         _c33|                _c34|        _c35|        _c36|          _c37|               _c38|                _c39|                _c40|             _c41|                _c42|\n",
      "+--------------+--------+------------------+----------+----------+--------------+-----------------+------------+--------------+------------+------------+------------+--------------------+------------------+------------------+---------------+-----------+--------------+------------+--------------+-------------------+----------------+--------------------+------------+--------------------+-------------------+-------------------+-----------+------------+--------------------+--------------------+--------------------+------------------+-------------+--------------------+------------+------------+--------------+-------------------+--------------------+--------------------+-----------------+--------------------+\n",
      "|Summons Number|Plate ID|Registration State|Plate Type|Issue Date|Violation Code|Vehicle Body Type|Vehicle Make|Issuing Agency|Street Code1|Street Code2|Street Code3|Vehicle Expiratio...|Violation Location|Violation Precinct|Issuer Precinct|Issuer Code|Issuer Command|Issuer Squad|Violation Time|Time First Observed|Violation County|Violation In Fron...|House Number|         Street Name|Intersecting Street|Date First Observed|Law Section|Sub Division|Violation Legal Code|Days Parking In E...|From Hours In Effect|To Hours In Effect|Vehicle Color|Unregistered Vehi...|Vehicle Year|Meter Number|Feet From Curb|Violation Post Code|Violation Descrip...|No Standing or St...|Hydrant Violation|Double Parking Vi...|\n",
      "|    5092469481| GZH7067|                NY|       PAS|07/10/2016|             7|             SUBN|       TOYOT|             V|           0|           0|           0|                   0|              null|                 0|              0|          0|          null|        null|         0143A|               null|              BX|                null|        null|ALLERTON AVE (W/B) @|         BARNES AVE|                  0|       1111|           D|                   T|                null|                null|              null|           GY|                null|        2001|        null|             0|               null|FAILURE TO STOP A...|                null|             null|                null|\n",
      "|    5092451658| GZH7067|                NY|       PAS|07/08/2016|             7|             SUBN|       TOYOT|             V|           0|           0|           0|                   0|              null|                 0|              0|          0|          null|        null|         0400P|               null|              BX|                null|        null|ALLERTON AVE (W/B) @|         BARNES AVE|                  0|       1111|           D|                   T|                null|                null|              null|           GY|                null|        2001|        null|             0|               null|FAILURE TO STOP A...|                null|             null|                null|\n",
      "|    4006265037| FZX9232|                NY|       PAS|08/23/2016|             5|             SUBN|        FORD|             V|           0|           0|           0|                   0|              null|                 0|              0|          0|          null|        null|         0233P|               null|              BX|                null|        null|SB WEBSTER AVE @ E 1|            94TH ST|                  0|       1111|           C|                   T|                null|                null|              null|           BK|                null|        2004|        null|             0|               null|  BUS LANE VIOLATION|                null|             null|                null|\n",
      "|    8478629828| 66623ME|                NY|       COM|06/14/2017|            47|             REFG|       MITSU|             T|       10610|       34330|       34350|            20180630|              0014|                14|             14|     359594|          T102|           J|         1120A|               null|              NY|                   O|         330|             7th Ave|               null|                  0|        408|          l2|                null|                   Y|               0700A|             0700P|           WH|                null|        2007|        null|             0|                 04|47-Double PKG-Mid...|                null|             null|                null|\n",
      "|    7868300310| 37033JV|                NY|       COM|11/21/2016|            69|             DELV|       INTER|             T|       10510|       34310|       34330|            20170228|              0013|                13|             13|     364832|          T102|           M|         0555P|               null|              NY|                   F|         799|             6th Ave|               null|                  0|        408|          h1|                null|                   Y|               0700A|             0700P|        WHITE|                null|        2007|        null|             0|               31 6|69-Failure to Dis...|                null|             null|                null|\n",
      "|    5096917368| FZD8593|                NY|       PAS|06/13/2017|             7|             SUBN|       ME/BE|             V|           0|           0|           0|                   0|              null|                 0|              0|          0|          null|        null|         0852P|               null|              QN|                null|        null| NORTHERN BLVD (E/B)|    @ MARATHON PKWY|                  0|       1111|           D|                   T|                null|                null|              null|           WH|                null|        2012|        null|             0|               null|FAILURE TO STOP A...|                null|             null|                null|\n",
      "|    1413609545|  X20DCM|                NJ|       PAS|08/03/2016|            40|              SDN|       TOYOT|             P|       54070|       39430|       54930|                   0|              0071|                71|             71|     960290|          0071|        0000|         0215A|               null|               K|                   F|         439|            KINGSTON|               null|                  0|        408|          C3|                null|             BBBBBBB|                 ALL|               ALL|        WHITE|                   0|           0|           -|             1|               null|                null|                null|             null|                null|\n",
      "|    4628525523|  326SF9|                MA|       PAS|12/21/2016|            36|               UT|         BMW|             V|           0|           0|           0|                   0|              null|                 0|              0|          0|          null|        null|         0758A|               null|              BX|                null|        null|EB E GUN HILL RD @ B|          ARNES AVE|                  0|       1180|           B|                   T|                null|                null|              null|         null|                null|        2001|        null|             0|               null|PHTO SCHOOL ZN SP...|                null|             null|                null|\n",
      "|    4627113330| HCA5464|                NY|       OMS|11/21/2016|            36|             SUBN|       DODGE|             V|           0|           0|           0|                   0|              null|                 0|              0|          0|          null|        null|         1005A|               null|              QN|                null|        null|NB BAISLEY BLVD @ 15|             5TH ST|                  0|       1180|           B|                   T|                null|                null|              null|           BK|                null|        2016|        null|             0|               null|PHTO SCHOOL ZN SP...|                null|             null|                null|\n",
      "|    4006478550| VAD7274|                VA|       PAS|10/05/2016|             5|               4D|         BMW|             V|           0|           0|           0|                   0|              null|                 0|              0|          0|          null|        null|         0845A|               null|              BX|                null|        null|SB WEBSTER AVE @ E 2|            04TH ST|                  0|       1111|           C|                   T|                null|                null|              null|          BLK|                null|        2008|        null|             0|               null|  BUS LANE VIOLATION|                null|             null|                null|\n",
      "|    1407740258| 2513JMG|                NY|       COM|01/11/2017|            78|             DELV|       FRUEH|             P|           0|       40404|       40404|            20161130|               106|               106|            106|     960979|          0106|        0000|         0015A|               null|               Q|                null|         126|          ST 115 AVE|               null|                  0|        408|          E2|                null|             BBBBBBB|                 ALL|               ALL|        WHITE|                   0|        2015|           -|             0|               null|                null|                null|             null|                null|\n",
      "|    8009901763| 13657MD|                NY|       COM|09/27/2016|            19|             DELV|       KENWO|             T|       10510|       34870|       34890|            20170331|              0018|                18|             18|     357355|          T400|           A|         0707A|               null|              NY|                   O|        1365|             6th Ave|               null|                  0|        408|          c3|                null|             YYYYYYY|                null|              null|           RD|                null|        2013|        null|             0|               01 9|19-No Stand (bus ...|                null|             null|                null|\n",
      "|    4625926610|N102911C|                NY|       OMT|10/27/2016|            36|              VAN|        FORD|             V|           0|           0|           0|                   0|              null|                 0|              0|          0|          null|        null|         1022A|               null|              QN|                null|        null|EB HORACE HARDING EX|PRESSWAY @ PECK AVE|                  0|       1180|           B|                   T|                null|                null|              null|           WH|                null|        2008|        null|             0|               null|PHTO SCHOOL ZN SP...|                null|             null|                null|\n",
      "|    1416492320| FGR5997|                NY|       PAS|09/30/2016|            21|              SDN|       NISSA|             P|       53620|       74250|       74260|            20170303|              0044|                44|             44|     905733|          0044|        0000|         1150A|               null|              BX|                   F|        1224|          NELSON AVE|               null|                  0|        408|          F1|                null|             BYBBYBB|               1130A|             0100P|          TAN|                   0|           0|           -|             0|               null|                null|                null|             null|                null|\n",
      "|    1413656420|T672371C|                NY|       PAS|02/04/2017|            40|             TAXI|       TOYOT|             P|       59630|       73470|       82230|            20170531|              0073|                73|             73|     960758|          0073|        0000|         0525A|               null|               K|                   F|         279|         MCDOUGAL ST|               null|                  0|        408|          F1|                null|             BBBBBBB|                 ALL|               ALL|          BLK|                   0|        2015|           -|             0|               null|                null|                null|             null|                null|\n",
      "|    7959486440| GYF2052|                NY|       PAS|07/07/2016|            71|             4DSD|       VOLKS|             T|       70407|       17390|       48890|            20170527|               120|               120|            120|     356557|          T303|           E|         0645P|               null|               R|                   F|         143|     N St Austins Pl|               null|                  0|        408|          j6|                null|                null|                null|              null|           GY|                null|        2012|        null|             0|               C-PM|71-Insp. Sticker ...|                null|             null|                null|\n",
      "|    5093620865| AD80228|                AZ|       PAS|09/24/2016|             7|               TK|        FORD|             V|           0|           0|           0|                   0|              null|                 0|              0|          0|          null|        null|         1122A|               null|              QN|                null|        null|SO CONDUIT AVE (E/B)|          @ 89TH ST|                  0|       1111|           D|                   T|                null|                null|              null|         null|                null|        2009|        null|             0|               null|FAILURE TO STOP A...|                null|             null|                null|\n",
      "|    8480309064| 51771JW|                NY|       COM|01/26/2017|            64|              VAN|       INTER|             T|       17850|       10210|       10110|            88888888|              0017|                17|             17|     363557|          T102|           L|         0256P|               null|              NY|                   F|         204|           E 43rd St|               null|                  0|        408|          C8|                null|             YYYYYYY|                null|              null|        BROWN|                null|        2007|        null|             0|                 06|64-No STD Ex Con/...|                null|             null|                null|\n",
      "|    1416638830|  GLP367|                NY|       PAS|04/30/2017|            20|             SUBN|       DODGE|             P|       17650|       10110|       10010|            20180304|              0017|                17|             17|     940179|          0017|        0000|         1232A|               null|              NY|                   O|         330|             E 33 ST|               null|                  0|        408|          E2|                null|             YYYYYYY|               1200A|             1159P|          BLK|                   0|        2009|           -|             0|               null|                null|                null|             null|                null|\n",
      "+--------------+--------+------------------+----------+----------+--------------+-----------------+------------+--------------+------------+------------+------------+--------------------+------------------+------------------+---------------+-----------+--------------+------------+--------------+-------------------+----------------+--------------------+------------+--------------------+-------------------+-------------------+-----------+------------+--------------------+--------------------+--------------------+------------------+-------------+--------------------+------------+------------+--------------+-------------------+--------------------+--------------------+-----------------+--------------------+\n",
      "only showing top 20 rows\n",
      "\n"
     ]
    }
   ],
   "source": [
    "df.show()"
   ]
  },
  {
   "cell_type": "code",
   "execution_count": 10,
   "metadata": {},
   "outputs": [],
   "source": [
    "df= spark.read.option('header','true').csv(r\"C:\\Users\\11315\\Downloads\\Parking_Violations_Issued_-_Fiscal_Year_2017.csv\",inferSchema=\"True\")"
   ]
  },
  {
   "cell_type": "code",
   "execution_count": 11,
   "metadata": {},
   "outputs": [
    {
     "name": "stdout",
     "output_type": "stream",
     "text": [
      "+--------------+--------+------------------+----------+----------+--------------+-----------------+------------+--------------+------------+------------+------------+-----------------------+------------------+------------------+---------------+-----------+--------------+------------+--------------+-------------------+----------------+---------------------------------+------------+--------------------+-------------------+-------------------+-----------+------------+--------------------+--------------------------+--------------------+------------------+-------------+---------------------+------------+------------+--------------+-------------------+---------------------+---------------------------------+-----------------+------------------------+\n",
      "|Summons Number|Plate ID|Registration State|Plate Type|Issue Date|Violation Code|Vehicle Body Type|Vehicle Make|Issuing Agency|Street Code1|Street Code2|Street Code3|Vehicle Expiration Date|Violation Location|Violation Precinct|Issuer Precinct|Issuer Code|Issuer Command|Issuer Squad|Violation Time|Time First Observed|Violation County|Violation In Front Of Or Opposite|House Number|         Street Name|Intersecting Street|Date First Observed|Law Section|Sub Division|Violation Legal Code|Days Parking In Effect    |From Hours In Effect|To Hours In Effect|Vehicle Color|Unregistered Vehicle?|Vehicle Year|Meter Number|Feet From Curb|Violation Post Code|Violation Description|No Standing or Stopping Violation|Hydrant Violation|Double Parking Violation|\n",
      "+--------------+--------+------------------+----------+----------+--------------+-----------------+------------+--------------+------------+------------+------------+-----------------------+------------------+------------------+---------------+-----------+--------------+------------+--------------+-------------------+----------------+---------------------------------+------------+--------------------+-------------------+-------------------+-----------+------------+--------------------+--------------------------+--------------------+------------------+-------------+---------------------+------------+------------+--------------+-------------------+---------------------+---------------------------------+-----------------+------------------------+\n",
      "|    5092469481| GZH7067|                NY|       PAS|07/10/2016|             7|             SUBN|       TOYOT|             V|           0|           0|           0|                      0|              null|                 0|              0|          0|          null|        null|         0143A|               null|              BX|                             null|        null|ALLERTON AVE (W/B) @|         BARNES AVE|                  0|       1111|           D|                   T|                      null|                null|              null|           GY|                 null|        2001|        null|             0|               null| FAILURE TO STOP A...|                             null|             null|                    null|\n",
      "|    5092451658| GZH7067|                NY|       PAS|07/08/2016|             7|             SUBN|       TOYOT|             V|           0|           0|           0|                      0|              null|                 0|              0|          0|          null|        null|         0400P|               null|              BX|                             null|        null|ALLERTON AVE (W/B) @|         BARNES AVE|                  0|       1111|           D|                   T|                      null|                null|              null|           GY|                 null|        2001|        null|             0|               null| FAILURE TO STOP A...|                             null|             null|                    null|\n",
      "|    4006265037| FZX9232|                NY|       PAS|08/23/2016|             5|             SUBN|        FORD|             V|           0|           0|           0|                      0|              null|                 0|              0|          0|          null|        null|         0233P|               null|              BX|                             null|        null|SB WEBSTER AVE @ E 1|            94TH ST|                  0|       1111|           C|                   T|                      null|                null|              null|           BK|                 null|        2004|        null|             0|               null|   BUS LANE VIOLATION|                             null|             null|                    null|\n",
      "|    8478629828| 66623ME|                NY|       COM|06/14/2017|            47|             REFG|       MITSU|             T|       10610|       34330|       34350|               20180630|                14|                14|             14|     359594|          T102|           J|         1120A|               null|              NY|                                O|         330|             7th Ave|               null|                  0|        408|          l2|                null|                         Y|               0700A|             0700P|           WH|                 null|        2007|        null|             0|                 04| 47-Double PKG-Mid...|                             null|             null|                    null|\n",
      "|    7868300310| 37033JV|                NY|       COM|11/21/2016|            69|             DELV|       INTER|             T|       10510|       34310|       34330|               20170228|                13|                13|             13|     364832|          T102|           M|         0555P|               null|              NY|                                F|         799|             6th Ave|               null|                  0|        408|          h1|                null|                         Y|               0700A|             0700P|        WHITE|                 null|        2007|        null|             0|               31 6| 69-Failure to Dis...|                             null|             null|                    null|\n",
      "|    5096917368| FZD8593|                NY|       PAS|06/13/2017|             7|             SUBN|       ME/BE|             V|           0|           0|           0|                      0|              null|                 0|              0|          0|          null|        null|         0852P|               null|              QN|                             null|        null| NORTHERN BLVD (E/B)|    @ MARATHON PKWY|                  0|       1111|           D|                   T|                      null|                null|              null|           WH|                 null|        2012|        null|             0|               null| FAILURE TO STOP A...|                             null|             null|                    null|\n",
      "|    1413609545|  X20DCM|                NJ|       PAS|08/03/2016|            40|              SDN|       TOYOT|             P|       54070|       39430|       54930|                      0|                71|                71|             71|     960290|          0071|        0000|         0215A|               null|               K|                                F|         439|            KINGSTON|               null|                  0|        408|          C3|                null|                   BBBBBBB|                 ALL|               ALL|        WHITE|                    0|           0|           -|             1|               null|                 null|                             null|             null|                    null|\n",
      "|    4628525523|  326SF9|                MA|       PAS|12/21/2016|            36|               UT|         BMW|             V|           0|           0|           0|                      0|              null|                 0|              0|          0|          null|        null|         0758A|               null|              BX|                             null|        null|EB E GUN HILL RD @ B|          ARNES AVE|                  0|       1180|           B|                   T|                      null|                null|              null|         null|                 null|        2001|        null|             0|               null| PHTO SCHOOL ZN SP...|                             null|             null|                    null|\n",
      "|    4627113330| HCA5464|                NY|       OMS|11/21/2016|            36|             SUBN|       DODGE|             V|           0|           0|           0|                      0|              null|                 0|              0|          0|          null|        null|         1005A|               null|              QN|                             null|        null|NB BAISLEY BLVD @ 15|             5TH ST|                  0|       1180|           B|                   T|                      null|                null|              null|           BK|                 null|        2016|        null|             0|               null| PHTO SCHOOL ZN SP...|                             null|             null|                    null|\n",
      "|    4006478550| VAD7274|                VA|       PAS|10/05/2016|             5|               4D|         BMW|             V|           0|           0|           0|                      0|              null|                 0|              0|          0|          null|        null|         0845A|               null|              BX|                             null|        null|SB WEBSTER AVE @ E 2|            04TH ST|                  0|       1111|           C|                   T|                      null|                null|              null|          BLK|                 null|        2008|        null|             0|               null|   BUS LANE VIOLATION|                             null|             null|                    null|\n",
      "|    1407740258| 2513JMG|                NY|       COM|01/11/2017|            78|             DELV|       FRUEH|             P|           0|       40404|       40404|               20161130|               106|               106|            106|     960979|          0106|        0000|         0015A|               null|               Q|                             null|         126|          ST 115 AVE|               null|                  0|        408|          E2|                null|                   BBBBBBB|                 ALL|               ALL|        WHITE|                    0|        2015|           -|             0|               null|                 null|                             null|             null|                    null|\n",
      "|    8009901763| 13657MD|                NY|       COM|09/27/2016|            19|             DELV|       KENWO|             T|       10510|       34870|       34890|               20170331|                18|                18|             18|     357355|          T400|           A|         0707A|               null|              NY|                                O|        1365|             6th Ave|               null|                  0|        408|          c3|                null|                   YYYYYYY|                null|              null|           RD|                 null|        2013|        null|             0|               01 9| 19-No Stand (bus ...|                             null|             null|                    null|\n",
      "|    4625926610|N102911C|                NY|       OMT|10/27/2016|            36|              VAN|        FORD|             V|           0|           0|           0|                      0|              null|                 0|              0|          0|          null|        null|         1022A|               null|              QN|                             null|        null|EB HORACE HARDING EX|PRESSWAY @ PECK AVE|                  0|       1180|           B|                   T|                      null|                null|              null|           WH|                 null|        2008|        null|             0|               null| PHTO SCHOOL ZN SP...|                             null|             null|                    null|\n",
      "|    1416492320| FGR5997|                NY|       PAS|09/30/2016|            21|              SDN|       NISSA|             P|       53620|       74250|       74260|               20170303|                44|                44|             44|     905733|          0044|        0000|         1150A|               null|              BX|                                F|        1224|          NELSON AVE|               null|                  0|        408|          F1|                null|                   BYBBYBB|               1130A|             0100P|          TAN|                    0|           0|           -|             0|               null|                 null|                             null|             null|                    null|\n",
      "|    1413656420|T672371C|                NY|       PAS|02/04/2017|            40|             TAXI|       TOYOT|             P|       59630|       73470|       82230|               20170531|                73|                73|             73|     960758|          0073|        0000|         0525A|               null|               K|                                F|         279|         MCDOUGAL ST|               null|                  0|        408|          F1|                null|                   BBBBBBB|                 ALL|               ALL|          BLK|                    0|        2015|           -|             0|               null|                 null|                             null|             null|                    null|\n",
      "|    7959486440| GYF2052|                NY|       PAS|07/07/2016|            71|             4DSD|       VOLKS|             T|       70407|       17390|       48890|               20170527|               120|               120|            120|     356557|          T303|           E|         0645P|               null|               R|                                F|         143|     N St Austins Pl|               null|                  0|        408|          j6|                null|                      null|                null|              null|           GY|                 null|        2012|        null|             0|               C-PM| 71-Insp. Sticker ...|                             null|             null|                    null|\n",
      "|    5093620865| AD80228|                AZ|       PAS|09/24/2016|             7|               TK|        FORD|             V|           0|           0|           0|                      0|              null|                 0|              0|          0|          null|        null|         1122A|               null|              QN|                             null|        null|SO CONDUIT AVE (E/B)|          @ 89TH ST|                  0|       1111|           D|                   T|                      null|                null|              null|         null|                 null|        2009|        null|             0|               null| FAILURE TO STOP A...|                             null|             null|                    null|\n",
      "|    8480309064| 51771JW|                NY|       COM|01/26/2017|            64|              VAN|       INTER|             T|       17850|       10210|       10110|               88888888|                17|                17|             17|     363557|          T102|           L|         0256P|               null|              NY|                                F|         204|           E 43rd St|               null|                  0|        408|          C8|                null|                   YYYYYYY|                null|              null|        BROWN|                 null|        2007|        null|             0|                 06| 64-No STD Ex Con/...|                             null|             null|                    null|\n",
      "|    1416638830|  GLP367|                NY|       PAS|04/30/2017|            20|             SUBN|       DODGE|             P|       17650|       10110|       10010|               20180304|                17|                17|             17|     940179|          0017|        0000|         1232A|               null|              NY|                                O|         330|             E 33 ST|               null|                  0|        408|          E2|                null|                   YYYYYYY|               1200A|             1159P|          BLK|                    0|        2009|           -|             0|               null|                 null|                             null|             null|                    null|\n",
      "|    4630524241|  HJBP29|                FL|       PAS|02/03/2017|            36|               4D|         BMW|             V|           0|           0|           0|                      0|              null|                 0|              0|          0|          null|        null|         1034A|               null|              BK|                             null|        null|WB LINDEN BLVD @ SCH|           ENCK AVE|                  0|       1180|           B|                   T|                      null|                null|              null|          SIL|                 null|        2009|        null|             0|               null| PHTO SCHOOL ZN SP...|                             null|             null|                    null|\n",
      "+--------------+--------+------------------+----------+----------+--------------+-----------------+------------+--------------+------------+------------+------------+-----------------------+------------------+------------------+---------------+-----------+--------------+------------+--------------+-------------------+----------------+---------------------------------+------------+--------------------+-------------------+-------------------+-----------+------------+--------------------+--------------------------+--------------------+------------------+-------------+---------------------+------------+------------+--------------+-------------------+---------------------+---------------------------------+-----------------+------------------------+\n",
      "only showing top 20 rows\n",
      "\n"
     ]
    }
   ],
   "source": [
    "df.show()"
   ]
  },
  {
   "cell_type": "code",
   "execution_count": 12,
   "metadata": {},
   "outputs": [
    {
     "data": {
      "text/plain": [
       "[('Summons Number', 'bigint'),\n",
       " ('Plate ID', 'string'),\n",
       " ('Registration State', 'string'),\n",
       " ('Plate Type', 'string'),\n",
       " ('Issue Date', 'string'),\n",
       " ('Violation Code', 'int'),\n",
       " ('Vehicle Body Type', 'string'),\n",
       " ('Vehicle Make', 'string'),\n",
       " ('Issuing Agency', 'string'),\n",
       " ('Street Code1', 'int'),\n",
       " ('Street Code2', 'int'),\n",
       " ('Street Code3', 'int'),\n",
       " ('Vehicle Expiration Date', 'int'),\n",
       " ('Violation Location', 'int'),\n",
       " ('Violation Precinct', 'int'),\n",
       " ('Issuer Precinct', 'int'),\n",
       " ('Issuer Code', 'int'),\n",
       " ('Issuer Command', 'string'),\n",
       " ('Issuer Squad', 'string'),\n",
       " ('Violation Time', 'string'),\n",
       " ('Time First Observed', 'string'),\n",
       " ('Violation County', 'string'),\n",
       " ('Violation In Front Of Or Opposite', 'string'),\n",
       " ('House Number', 'string'),\n",
       " ('Street Name', 'string'),\n",
       " ('Intersecting Street', 'string'),\n",
       " ('Date First Observed', 'int'),\n",
       " ('Law Section', 'int'),\n",
       " ('Sub Division', 'string'),\n",
       " ('Violation Legal Code', 'string'),\n",
       " ('Days Parking In Effect    ', 'string'),\n",
       " ('From Hours In Effect', 'string'),\n",
       " ('To Hours In Effect', 'string'),\n",
       " ('Vehicle Color', 'string'),\n",
       " ('Unregistered Vehicle?', 'int'),\n",
       " ('Vehicle Year', 'int'),\n",
       " ('Meter Number', 'string'),\n",
       " ('Feet From Curb', 'int'),\n",
       " ('Violation Post Code', 'string'),\n",
       " ('Violation Description', 'string'),\n",
       " ('No Standing or Stopping Violation', 'string'),\n",
       " ('Hydrant Violation', 'string'),\n",
       " ('Double Parking Violation', 'string')]"
      ]
     },
     "execution_count": 12,
     "metadata": {},
     "output_type": "execute_result"
    }
   ],
   "source": [
    "df.dtypes"
   ]
  },
  {
   "cell_type": "code",
   "execution_count": 13,
   "metadata": {},
   "outputs": [
    {
     "name": "stdout",
     "output_type": "stream",
     "text": [
      "root\n",
      " |-- Summons Number: long (nullable = true)\n",
      " |-- Plate ID: string (nullable = true)\n",
      " |-- Registration State: string (nullable = true)\n",
      " |-- Plate Type: string (nullable = true)\n",
      " |-- Issue Date: string (nullable = true)\n",
      " |-- Violation Code: integer (nullable = true)\n",
      " |-- Vehicle Body Type: string (nullable = true)\n",
      " |-- Vehicle Make: string (nullable = true)\n",
      " |-- Issuing Agency: string (nullable = true)\n",
      " |-- Street Code1: integer (nullable = true)\n",
      " |-- Street Code2: integer (nullable = true)\n",
      " |-- Street Code3: integer (nullable = true)\n",
      " |-- Vehicle Expiration Date: integer (nullable = true)\n",
      " |-- Violation Location: integer (nullable = true)\n",
      " |-- Violation Precinct: integer (nullable = true)\n",
      " |-- Issuer Precinct: integer (nullable = true)\n",
      " |-- Issuer Code: integer (nullable = true)\n",
      " |-- Issuer Command: string (nullable = true)\n",
      " |-- Issuer Squad: string (nullable = true)\n",
      " |-- Violation Time: string (nullable = true)\n",
      " |-- Time First Observed: string (nullable = true)\n",
      " |-- Violation County: string (nullable = true)\n",
      " |-- Violation In Front Of Or Opposite: string (nullable = true)\n",
      " |-- House Number: string (nullable = true)\n",
      " |-- Street Name: string (nullable = true)\n",
      " |-- Intersecting Street: string (nullable = true)\n",
      " |-- Date First Observed: integer (nullable = true)\n",
      " |-- Law Section: integer (nullable = true)\n",
      " |-- Sub Division: string (nullable = true)\n",
      " |-- Violation Legal Code: string (nullable = true)\n",
      " |-- Days Parking In Effect    : string (nullable = true)\n",
      " |-- From Hours In Effect: string (nullable = true)\n",
      " |-- To Hours In Effect: string (nullable = true)\n",
      " |-- Vehicle Color: string (nullable = true)\n",
      " |-- Unregistered Vehicle?: integer (nullable = true)\n",
      " |-- Vehicle Year: integer (nullable = true)\n",
      " |-- Meter Number: string (nullable = true)\n",
      " |-- Feet From Curb: integer (nullable = true)\n",
      " |-- Violation Post Code: string (nullable = true)\n",
      " |-- Violation Description: string (nullable = true)\n",
      " |-- No Standing or Stopping Violation: string (nullable = true)\n",
      " |-- Hydrant Violation: string (nullable = true)\n",
      " |-- Double Parking Violation: string (nullable = true)\n",
      "\n"
     ]
    }
   ],
   "source": [
    "df.printSchema()"
   ]
  },
  {
   "cell_type": "code",
   "execution_count": 14,
   "metadata": {},
   "outputs": [],
   "source": [
    "from pyspark.sql.functions import col"
   ]
  },
  {
   "cell_type": "code",
   "execution_count": 15,
   "metadata": {},
   "outputs": [],
   "source": [
    "from pyspark.sql.functions import when"
   ]
  },
  {
   "cell_type": "code",
   "execution_count": 16,
   "metadata": {},
   "outputs": [
    {
     "name": "stdout",
     "output_type": "stream",
     "text": [
      "+--------------+--------+------------------+----------+----------+--------------+-----------------+------------+--------------+------------+------------+------------+-----------------------+------------------+------------------+---------------+-----------+--------------+------------+--------------+-------------------+----------------+---------------------------------+------------+--------------------+-------------------+-------------------+-----------+------------+--------------------+--------------------------+--------------------+------------------+-------------+---------------------+------------+------------+--------------+-------------------+---------------------+---------------------------------+-----------------+------------------------+\n",
      "|Summons Number|Plate ID|Registration State|Plate Type|Issue Date|Violation Code|Vehicle Body Type|Vehicle Make|Issuing Agency|Street Code1|Street Code2|Street Code3|Vehicle Expiration Date|Violation Location|Violation Precinct|Issuer Precinct|Issuer Code|Issuer Command|Issuer Squad|Violation Time|Time First Observed|Violation County|Violation In Front Of Or Opposite|House Number|         Street Name|Intersecting Street|Date First Observed|Law Section|Sub Division|Violation Legal Code|Days Parking In Effect    |From Hours In Effect|To Hours In Effect|Vehicle Color|Unregistered Vehicle?|Vehicle Year|Meter Number|Feet From Curb|Violation Post Code|Violation Description|No Standing or Stopping Violation|Hydrant Violation|Double Parking Violation|\n",
      "+--------------+--------+------------------+----------+----------+--------------+-----------------+------------+--------------+------------+------------+------------+-----------------------+------------------+------------------+---------------+-----------+--------------+------------+--------------+-------------------+----------------+---------------------------------+------------+--------------------+-------------------+-------------------+-----------+------------+--------------------+--------------------------+--------------------+------------------+-------------+---------------------+------------+------------+--------------+-------------------+---------------------+---------------------------------+-----------------+------------------------+\n",
      "|    5092469481| GZH7067|                NY|       PAS|07/10/2016|             7|             SUBN|       TOYOT|             V|           0|           0|           0|                      0|                 0|                 0|              0|          0|          null|        null|         0143A|               null|              BX|                             null|        null|ALLERTON AVE (W/B) @|         BARNES AVE|                  0|       1111|           D|                   T|                      null|                null|              null|           GY|                    0|        2001|        null|             0|               null| FAILURE TO STOP A...|                             null|             null|                    null|\n",
      "|    5092451658| GZH7067|                NY|       PAS|07/08/2016|             7|             SUBN|       TOYOT|             V|           0|           0|           0|                      0|                 0|                 0|              0|          0|          null|        null|         0400P|               null|              BX|                             null|        null|ALLERTON AVE (W/B) @|         BARNES AVE|                  0|       1111|           D|                   T|                      null|                null|              null|           GY|                    0|        2001|        null|             0|               null| FAILURE TO STOP A...|                             null|             null|                    null|\n",
      "|    4006265037| FZX9232|                NY|       PAS|08/23/2016|             5|             SUBN|        FORD|             V|           0|           0|           0|                      0|                 0|                 0|              0|          0|          null|        null|         0233P|               null|              BX|                             null|        null|SB WEBSTER AVE @ E 1|            94TH ST|                  0|       1111|           C|                   T|                      null|                null|              null|           BK|                    0|        2004|        null|             0|               null|   BUS LANE VIOLATION|                             null|             null|                    null|\n",
      "|    8478629828| 66623ME|                NY|       COM|06/14/2017|            47|             REFG|       MITSU|             T|       10610|       34330|       34350|               20180630|                14|                14|             14|     359594|          T102|           J|         1120A|               null|              NY|                                O|         330|             7th Ave|               null|                  0|        408|          l2|                null|                         Y|               0700A|             0700P|           WH|                    0|        2007|        null|             0|                 04| 47-Double PKG-Mid...|                             null|             null|                    null|\n",
      "|    7868300310| 37033JV|                NY|       COM|11/21/2016|            69|             DELV|       INTER|             T|       10510|       34310|       34330|               20170228|                13|                13|             13|     364832|          T102|           M|         0555P|               null|              NY|                                F|         799|             6th Ave|               null|                  0|        408|          h1|                null|                         Y|               0700A|             0700P|        WHITE|                    0|        2007|        null|             0|               31 6| 69-Failure to Dis...|                             null|             null|                    null|\n",
      "|    5096917368| FZD8593|                NY|       PAS|06/13/2017|             7|             SUBN|       ME/BE|             V|           0|           0|           0|                      0|                 0|                 0|              0|          0|          null|        null|         0852P|               null|              QN|                             null|        null| NORTHERN BLVD (E/B)|    @ MARATHON PKWY|                  0|       1111|           D|                   T|                      null|                null|              null|           WH|                    0|        2012|        null|             0|               null| FAILURE TO STOP A...|                             null|             null|                    null|\n",
      "|    1413609545|  X20DCM|                NJ|       PAS|08/03/2016|            40|              SDN|       TOYOT|             P|       54070|       39430|       54930|                      0|                71|                71|             71|     960290|          0071|        0000|         0215A|               null|               K|                                F|         439|            KINGSTON|               null|                  0|        408|          C3|                null|                   BBBBBBB|                 ALL|               ALL|        WHITE|                    0|           0|           -|             1|               null|                 null|                             null|             null|                    null|\n",
      "|    4628525523|  326SF9|                MA|       PAS|12/21/2016|            36|               UT|         BMW|             V|           0|           0|           0|                      0|                 0|                 0|              0|          0|          null|        null|         0758A|               null|              BX|                             null|        null|EB E GUN HILL RD @ B|          ARNES AVE|                  0|       1180|           B|                   T|                      null|                null|              null|         null|                    0|        2001|        null|             0|               null| PHTO SCHOOL ZN SP...|                             null|             null|                    null|\n",
      "|    4627113330| HCA5464|                NY|       OMS|11/21/2016|            36|             SUBN|       DODGE|             V|           0|           0|           0|                      0|                 0|                 0|              0|          0|          null|        null|         1005A|               null|              QN|                             null|        null|NB BAISLEY BLVD @ 15|             5TH ST|                  0|       1180|           B|                   T|                      null|                null|              null|           BK|                    0|        2016|        null|             0|               null| PHTO SCHOOL ZN SP...|                             null|             null|                    null|\n",
      "|    4006478550| VAD7274|                VA|       PAS|10/05/2016|             5|               4D|         BMW|             V|           0|           0|           0|                      0|                 0|                 0|              0|          0|          null|        null|         0845A|               null|              BX|                             null|        null|SB WEBSTER AVE @ E 2|            04TH ST|                  0|       1111|           C|                   T|                      null|                null|              null|          BLK|                    0|        2008|        null|             0|               null|   BUS LANE VIOLATION|                             null|             null|                    null|\n",
      "|    1407740258| 2513JMG|                NY|       COM|01/11/2017|            78|             DELV|       FRUEH|             P|           0|       40404|       40404|               20161130|               106|               106|            106|     960979|          0106|        0000|         0015A|               null|               Q|                             null|         126|          ST 115 AVE|               null|                  0|        408|          E2|                null|                   BBBBBBB|                 ALL|               ALL|        WHITE|                    0|        2015|           -|             0|               null|                 null|                             null|             null|                    null|\n",
      "|    8009901763| 13657MD|                NY|       COM|09/27/2016|            19|             DELV|       KENWO|             T|       10510|       34870|       34890|               20170331|                18|                18|             18|     357355|          T400|           A|         0707A|               null|              NY|                                O|        1365|             6th Ave|               null|                  0|        408|          c3|                null|                   YYYYYYY|                null|              null|           RD|                    0|        2013|        null|             0|               01 9| 19-No Stand (bus ...|                             null|             null|                    null|\n",
      "|    4625926610|N102911C|                NY|       OMT|10/27/2016|            36|              VAN|        FORD|             V|           0|           0|           0|                      0|                 0|                 0|              0|          0|          null|        null|         1022A|               null|              QN|                             null|        null|EB HORACE HARDING EX|PRESSWAY @ PECK AVE|                  0|       1180|           B|                   T|                      null|                null|              null|           WH|                    0|        2008|        null|             0|               null| PHTO SCHOOL ZN SP...|                             null|             null|                    null|\n",
      "|    1416492320| FGR5997|                NY|       PAS|09/30/2016|            21|              SDN|       NISSA|             P|       53620|       74250|       74260|               20170303|                44|                44|             44|     905733|          0044|        0000|         1150A|               null|              BX|                                F|        1224|          NELSON AVE|               null|                  0|        408|          F1|                null|                   BYBBYBB|               1130A|             0100P|          TAN|                    0|           0|           -|             0|               null|                 null|                             null|             null|                    null|\n",
      "|    1413656420|T672371C|                NY|       PAS|02/04/2017|            40|             TAXI|       TOYOT|             P|       59630|       73470|       82230|               20170531|                73|                73|             73|     960758|          0073|        0000|         0525A|               null|               K|                                F|         279|         MCDOUGAL ST|               null|                  0|        408|          F1|                null|                   BBBBBBB|                 ALL|               ALL|          BLK|                    0|        2015|           -|             0|               null|                 null|                             null|             null|                    null|\n",
      "|    7959486440| GYF2052|                NY|       PAS|07/07/2016|            71|             4DSD|       VOLKS|             T|       70407|       17390|       48890|               20170527|               120|               120|            120|     356557|          T303|           E|         0645P|               null|               R|                                F|         143|     N St Austins Pl|               null|                  0|        408|          j6|                null|                      null|                null|              null|           GY|                    0|        2012|        null|             0|               C-PM| 71-Insp. Sticker ...|                             null|             null|                    null|\n",
      "|    5093620865| AD80228|                AZ|       PAS|09/24/2016|             7|               TK|        FORD|             V|           0|           0|           0|                      0|                 0|                 0|              0|          0|          null|        null|         1122A|               null|              QN|                             null|        null|SO CONDUIT AVE (E/B)|          @ 89TH ST|                  0|       1111|           D|                   T|                      null|                null|              null|         null|                    0|        2009|        null|             0|               null| FAILURE TO STOP A...|                             null|             null|                    null|\n",
      "|    8480309064| 51771JW|                NY|       COM|01/26/2017|            64|              VAN|       INTER|             T|       17850|       10210|       10110|               88888888|                17|                17|             17|     363557|          T102|           L|         0256P|               null|              NY|                                F|         204|           E 43rd St|               null|                  0|        408|          C8|                null|                   YYYYYYY|                null|              null|        BROWN|                    0|        2007|        null|             0|                 06| 64-No STD Ex Con/...|                             null|             null|                    null|\n",
      "|    1416638830|  GLP367|                NY|       PAS|04/30/2017|            20|             SUBN|       DODGE|             P|       17650|       10110|       10010|               20180304|                17|                17|             17|     940179|          0017|        0000|         1232A|               null|              NY|                                O|         330|             E 33 ST|               null|                  0|        408|          E2|                null|                   YYYYYYY|               1200A|             1159P|          BLK|                    0|        2009|           -|             0|               null|                 null|                             null|             null|                    null|\n",
      "|    4630524241|  HJBP29|                FL|       PAS|02/03/2017|            36|               4D|         BMW|             V|           0|           0|           0|                      0|                 0|                 0|              0|          0|          null|        null|         1034A|               null|              BK|                             null|        null|WB LINDEN BLVD @ SCH|           ENCK AVE|                  0|       1180|           B|                   T|                      null|                null|              null|          SIL|                    0|        2009|        null|             0|               null| PHTO SCHOOL ZN SP...|                             null|             null|                    null|\n",
      "+--------------+--------+------------------+----------+----------+--------------+-----------------+------------+--------------+------------+------------+------------+-----------------------+------------------+------------------+---------------+-----------+--------------+------------+--------------+-------------------+----------------+---------------------------------+------------+--------------------+-------------------+-------------------+-----------+------------+--------------------+--------------------------+--------------------+------------------+-------------+---------------------+------------+------------+--------------+-------------------+---------------------+---------------------------------+-----------------+------------------------+\n",
      "only showing top 20 rows\n",
      "\n"
     ]
    }
   ],
   "source": [
    "df.na.fill(value=0).show()"
   ]
  },
  {
   "cell_type": "code",
   "execution_count": 17,
   "metadata": {},
   "outputs": [
    {
     "data": {
      "text/plain": [
       "10803028"
      ]
     },
     "execution_count": 17,
     "metadata": {},
     "output_type": "execute_result"
    }
   ],
   "source": [
    "df.count()"
   ]
  },
  {
   "cell_type": "code",
   "execution_count": 18,
   "metadata": {},
   "outputs": [],
   "source": [
    "\n",
    "df.createOrReplaceTempView(\"data_2017\")"
   ]
  },
  {
   "cell_type": "code",
   "execution_count": 19,
   "metadata": {},
   "outputs": [
    {
     "name": "stdout",
     "output_type": "stream",
     "text": [
      "+-----+\n",
      "|count|\n",
      "+-----+\n",
      "|   67|\n",
      "+-----+\n",
      "\n"
     ]
    }
   ],
   "source": [
    "spark.sql(\"SELECT count(distinct `Registration State`) as count FROM data_2017\").show()"
   ]
  },
  {
   "cell_type": "code",
   "execution_count": 20,
   "metadata": {},
   "outputs": [],
   "source": [
    "from pyspark.sql.functions import countDistinct"
   ]
  },
  {
   "cell_type": "code",
   "execution_count": 49,
   "metadata": {},
   "outputs": [
    {
     "name": "stdout",
     "output_type": "stream",
     "text": [
      "+--------------+--------+------------------+----------+----------+--------------+-----------------+------------+--------------+------------+------------+------------+-----------------------+------------------+------------------+---------------+-----------+--------------+------------+--------------+-------------------+----------------+---------------------------------+------------+--------------------+-------------------+-------------------+-----------+------------+--------------------+--------------------------+--------------------+------------------+-------------+---------------------+------------+------------+--------------+-------------------+---------------------+---------------------------------+-----------------+------------------------+\n",
      "|Summons_Number|Plate_ID|Registration_State|Plate_Type|Issue_Date|Violation_Code|Vehicle_Body_Type|Vehicle_Make|Issuing_Agency|Street Code1|Street Code2|Street Code3|Vehicle_Expiration_Date|Violation Location|Violation Precinct|Issuer Precinct|Issuer Code|Issuer Command|Issuer Squad|Violation Time|Time First Observed|Violation County|Violation In Front Of Or Opposite|House Number|         Street_Name|Intersecting Street|Date First Observed|Law Section|Sub Division|Violation Legal Code|Days Parking In Effect    |From Hours In Effect|To Hours In Effect|Vehicle Color|Unregistered Vehicle?|Vehicle Year|Meter Number|Feet From Curb|Violation Post Code|Violation Description|No Standing or Stopping Violation|Hydrant Violation|Double Parking Violation|\n",
      "+--------------+--------+------------------+----------+----------+--------------+-----------------+------------+--------------+------------+------------+------------+-----------------------+------------------+------------------+---------------+-----------+--------------+------------+--------------+-------------------+----------------+---------------------------------+------------+--------------------+-------------------+-------------------+-----------+------------+--------------------+--------------------------+--------------------+------------------+-------------+---------------------+------------+------------+--------------+-------------------+---------------------+---------------------------------+-----------------+------------------------+\n",
      "|    5092469481| GZH7067|                NY|       PAS|07/10/2016|             7|             SUBN|       TOYOT|             V|           0|           0|           0|                      0|              null|                 0|              0|          0|          null|        null|         0143A|               null|              BX|                             null|        null|ALLERTON AVE (W/B) @|         BARNES AVE|                  0|       1111|           D|                   T|                      null|                null|              null|           GY|                 null|        2001|        null|             0|               null| FAILURE TO STOP A...|                             null|             null|                    null|\n",
      "|    5092451658| GZH7067|                NY|       PAS|07/08/2016|             7|             SUBN|       TOYOT|             V|           0|           0|           0|                      0|              null|                 0|              0|          0|          null|        null|         0400P|               null|              BX|                             null|        null|ALLERTON AVE (W/B) @|         BARNES AVE|                  0|       1111|           D|                   T|                      null|                null|              null|           GY|                 null|        2001|        null|             0|               null| FAILURE TO STOP A...|                             null|             null|                    null|\n",
      "|    4006265037| FZX9232|                NY|       PAS|08/23/2016|             5|             SUBN|        FORD|             V|           0|           0|           0|                      0|              null|                 0|              0|          0|          null|        null|         0233P|               null|              BX|                             null|        null|SB WEBSTER AVE @ E 1|            94TH ST|                  0|       1111|           C|                   T|                      null|                null|              null|           BK|                 null|        2004|        null|             0|               null|   BUS LANE VIOLATION|                             null|             null|                    null|\n",
      "|    8478629828| 66623ME|                NY|       COM|06/14/2017|            47|             REFG|       MITSU|             T|       10610|       34330|       34350|               20180630|                14|                14|             14|     359594|          T102|           J|         1120A|               null|              NY|                                O|         330|             7th Ave|               null|                  0|        408|          l2|                null|                         Y|               0700A|             0700P|           WH|                 null|        2007|        null|             0|                 04| 47-Double PKG-Mid...|                             null|             null|                    null|\n",
      "|    7868300310| 37033JV|                NY|       COM|11/21/2016|            69|             DELV|       INTER|             T|       10510|       34310|       34330|               20170228|                13|                13|             13|     364832|          T102|           M|         0555P|               null|              NY|                                F|         799|             6th Ave|               null|                  0|        408|          h1|                null|                         Y|               0700A|             0700P|        WHITE|                 null|        2007|        null|             0|               31 6| 69-Failure to Dis...|                             null|             null|                    null|\n",
      "|    5096917368| FZD8593|                NY|       PAS|06/13/2017|             7|             SUBN|       ME/BE|             V|           0|           0|           0|                      0|              null|                 0|              0|          0|          null|        null|         0852P|               null|              QN|                             null|        null| NORTHERN BLVD (E/B)|    @ MARATHON PKWY|                  0|       1111|           D|                   T|                      null|                null|              null|           WH|                 null|        2012|        null|             0|               null| FAILURE TO STOP A...|                             null|             null|                    null|\n",
      "|    1413609545|  X20DCM|                NJ|       PAS|08/03/2016|            40|              SDN|       TOYOT|             P|       54070|       39430|       54930|                      0|                71|                71|             71|     960290|          0071|        0000|         0215A|               null|               K|                                F|         439|            KINGSTON|               null|                  0|        408|          C3|                null|                   BBBBBBB|                 ALL|               ALL|        WHITE|                    0|           0|           -|             1|               null|                 null|                             null|             null|                    null|\n",
      "|    4628525523|  326SF9|                MA|       PAS|12/21/2016|            36|               UT|         BMW|             V|           0|           0|           0|                      0|              null|                 0|              0|          0|          null|        null|         0758A|               null|              BX|                             null|        null|EB E GUN HILL RD @ B|          ARNES AVE|                  0|       1180|           B|                   T|                      null|                null|              null|         null|                 null|        2001|        null|             0|               null| PHTO SCHOOL ZN SP...|                             null|             null|                    null|\n",
      "|    4627113330| HCA5464|                NY|       OMS|11/21/2016|            36|             SUBN|       DODGE|             V|           0|           0|           0|                      0|              null|                 0|              0|          0|          null|        null|         1005A|               null|              QN|                             null|        null|NB BAISLEY BLVD @ 15|             5TH ST|                  0|       1180|           B|                   T|                      null|                null|              null|           BK|                 null|        2016|        null|             0|               null| PHTO SCHOOL ZN SP...|                             null|             null|                    null|\n",
      "|    4006478550| VAD7274|                VA|       PAS|10/05/2016|             5|               4D|         BMW|             V|           0|           0|           0|                      0|              null|                 0|              0|          0|          null|        null|         0845A|               null|              BX|                             null|        null|SB WEBSTER AVE @ E 2|            04TH ST|                  0|       1111|           C|                   T|                      null|                null|              null|          BLK|                 null|        2008|        null|             0|               null|   BUS LANE VIOLATION|                             null|             null|                    null|\n",
      "|    1407740258| 2513JMG|                NY|       COM|01/11/2017|            78|             DELV|       FRUEH|             P|           0|       40404|       40404|               20161130|               106|               106|            106|     960979|          0106|        0000|         0015A|               null|               Q|                             null|         126|          ST 115 AVE|               null|                  0|        408|          E2|                null|                   BBBBBBB|                 ALL|               ALL|        WHITE|                    0|        2015|           -|             0|               null|                 null|                             null|             null|                    null|\n",
      "|    8009901763| 13657MD|                NY|       COM|09/27/2016|            19|             DELV|       KENWO|             T|       10510|       34870|       34890|               20170331|                18|                18|             18|     357355|          T400|           A|         0707A|               null|              NY|                                O|        1365|             6th Ave|               null|                  0|        408|          c3|                null|                   YYYYYYY|                null|              null|           RD|                 null|        2013|        null|             0|               01 9| 19-No Stand (bus ...|                             null|             null|                    null|\n",
      "|    4625926610|N102911C|                NY|       OMT|10/27/2016|            36|              VAN|        FORD|             V|           0|           0|           0|                      0|              null|                 0|              0|          0|          null|        null|         1022A|               null|              QN|                             null|        null|EB HORACE HARDING EX|PRESSWAY @ PECK AVE|                  0|       1180|           B|                   T|                      null|                null|              null|           WH|                 null|        2008|        null|             0|               null| PHTO SCHOOL ZN SP...|                             null|             null|                    null|\n",
      "|    1416492320| FGR5997|                NY|       PAS|09/30/2016|            21|              SDN|       NISSA|             P|       53620|       74250|       74260|               20170303|                44|                44|             44|     905733|          0044|        0000|         1150A|               null|              BX|                                F|        1224|          NELSON AVE|               null|                  0|        408|          F1|                null|                   BYBBYBB|               1130A|             0100P|          TAN|                    0|           0|           -|             0|               null|                 null|                             null|             null|                    null|\n",
      "|    1413656420|T672371C|                NY|       PAS|02/04/2017|            40|             TAXI|       TOYOT|             P|       59630|       73470|       82230|               20170531|                73|                73|             73|     960758|          0073|        0000|         0525A|               null|               K|                                F|         279|         MCDOUGAL ST|               null|                  0|        408|          F1|                null|                   BBBBBBB|                 ALL|               ALL|          BLK|                    0|        2015|           -|             0|               null|                 null|                             null|             null|                    null|\n",
      "|    7959486440| GYF2052|                NY|       PAS|07/07/2016|            71|             4DSD|       VOLKS|             T|       70407|       17390|       48890|               20170527|               120|               120|            120|     356557|          T303|           E|         0645P|               null|               R|                                F|         143|     N St Austins Pl|               null|                  0|        408|          j6|                null|                      null|                null|              null|           GY|                 null|        2012|        null|             0|               C-PM| 71-Insp. Sticker ...|                             null|             null|                    null|\n",
      "|    5093620865| AD80228|                AZ|       PAS|09/24/2016|             7|               TK|        FORD|             V|           0|           0|           0|                      0|              null|                 0|              0|          0|          null|        null|         1122A|               null|              QN|                             null|        null|SO CONDUIT AVE (E/B)|          @ 89TH ST|                  0|       1111|           D|                   T|                      null|                null|              null|         null|                 null|        2009|        null|             0|               null| FAILURE TO STOP A...|                             null|             null|                    null|\n",
      "|    8480309064| 51771JW|                NY|       COM|01/26/2017|            64|              VAN|       INTER|             T|       17850|       10210|       10110|               88888888|                17|                17|             17|     363557|          T102|           L|         0256P|               null|              NY|                                F|         204|           E 43rd St|               null|                  0|        408|          C8|                null|                   YYYYYYY|                null|              null|        BROWN|                 null|        2007|        null|             0|                 06| 64-No STD Ex Con/...|                             null|             null|                    null|\n",
      "|    1416638830|  GLP367|                NY|       PAS|04/30/2017|            20|             SUBN|       DODGE|             P|       17650|       10110|       10010|               20180304|                17|                17|             17|     940179|          0017|        0000|         1232A|               null|              NY|                                O|         330|             E 33 ST|               null|                  0|        408|          E2|                null|                   YYYYYYY|               1200A|             1159P|          BLK|                    0|        2009|           -|             0|               null|                 null|                             null|             null|                    null|\n",
      "|    4630524241|  HJBP29|                FL|       PAS|02/03/2017|            36|               4D|         BMW|             V|           0|           0|           0|                      0|              null|                 0|              0|          0|          null|        null|         1034A|               null|              BK|                             null|        null|WB LINDEN BLVD @ SCH|           ENCK AVE|                  0|       1180|           B|                   T|                      null|                null|              null|          SIL|                 null|        2009|        null|             0|               null| PHTO SCHOOL ZN SP...|                             null|             null|                    null|\n",
      "+--------------+--------+------------------+----------+----------+--------------+-----------------+------------+--------------+------------+------------+------------+-----------------------+------------------+------------------+---------------+-----------+--------------+------------+--------------+-------------------+----------------+---------------------------------+------------+--------------------+-------------------+-------------------+-----------+------------+--------------------+--------------------------+--------------------+------------------+-------------+---------------------+------------+------------+--------------+-------------------+---------------------+---------------------------------+-----------------+------------------------+\n",
      "only showing top 20 rows\n",
      "\n"
     ]
    }
   ],
   "source": [
    "df3= df.withColumnRenamed('Summons Number', 'Summons_Number')\\\n",
    "    .withColumnRenamed('Plate ID','Plate_ID')\\\n",
    "    .withColumnRenamed('Registration State','Registration_State')\\\n",
    "    .withColumnRenamed('Plate Type','Plate_Type')\\\n",
    "    .withColumnRenamed('Plate Type','Plate_Type')\\\n",
    "    .withColumnRenamed('Issue Date', 'Issue_Date')\\\n",
    "    .withColumnRenamed('Violation Code','Violation_Code')\\\n",
    "    .withColumnRenamed('Vehicle Body Type', 'Vehicle_Body_Type')\\\n",
    "    .withColumnRenamed('Vehicle Make','Vehicle_Make')\\\n",
    "    .withColumnRenamed('Issuing Agency','Issuing_Agency')\\\n",
    "    .withColumnRenamed('Street Name','Street_Name')\\\n",
    "    .withColumnRenamed('Vehicle Expiration Date','Vehicle_Expiration_Date')\n",
    "df3.show()\n",
    "    "
   ]
  },
  {
   "cell_type": "code",
   "execution_count": 22,
   "metadata": {},
   "outputs": [
    {
     "name": "stdout",
     "output_type": "stream",
     "text": [
      "+--------------+--------+------------------+----------+----------+--------------+-----------------+------------+--------------+------------+------------+------------+-----------------------+------------------+------------------+---------------+-----------+--------------+------------+--------------+-------------------+----------------+---------------------------------+------------+--------------------+-------------------+-------------------+-----------+------------+--------------------+--------------------------+--------------------+------------------+-------------+---------------------+------------+------------+--------------+-------------------+---------------------+---------------------------------+-----------------+------------------------+\n",
      "|Summons_Number|Plate_ID|Registration_State|Plate_Type|Issue_Date|Violation_Code|Vehicle_Body_Type|Vehicle_Make|Issuing_Agency|Street Code1|Street Code2|Street Code3|Vehicle Expiration Date|Violation Location|Violation Precinct|Issuer Precinct|Issuer Code|Issuer Command|Issuer Squad|Violation Time|Time First Observed|Violation County|Violation In Front Of Or Opposite|House Number|         Street_Name|Intersecting Street|Date First Observed|Law Section|Sub Division|Violation Legal Code|Days Parking In Effect    |From Hours In Effect|To Hours In Effect|Vehicle Color|Unregistered Vehicle?|Vehicle Year|Meter Number|Feet From Curb|Violation Post Code|Violation Description|No Standing or Stopping Violation|Hydrant Violation|Double Parking Violation|\n",
      "+--------------+--------+------------------+----------+----------+--------------+-----------------+------------+--------------+------------+------------+------------+-----------------------+------------------+------------------+---------------+-----------+--------------+------------+--------------+-------------------+----------------+---------------------------------+------------+--------------------+-------------------+-------------------+-----------+------------+--------------------+--------------------------+--------------------+------------------+-------------+---------------------+------------+------------+--------------+-------------------+---------------------+---------------------------------+-----------------+------------------------+\n",
      "|    5092469481| GZH7067|                NY|       PAS|07/10/2016|             7|             SUBN|       TOYOT|             V|           0|           0|           0|                      0|                 0|                 0|              0|          0|          null|        null|         0143A|               null|              BX|                             null|        null|ALLERTON AVE (W/B) @|         BARNES AVE|                  0|       1111|           D|                   T|                      null|                null|              null|           GY|                 null|        2001|        null|             0|               null| FAILURE TO STOP A...|                             null|             null|                    null|\n",
      "|    5092451658| GZH7067|                NY|       PAS|07/08/2016|             7|             SUBN|       TOYOT|             V|           0|           0|           0|                      0|                 0|                 0|              0|          0|          null|        null|         0400P|               null|              BX|                             null|        null|ALLERTON AVE (W/B) @|         BARNES AVE|                  0|       1111|           D|                   T|                      null|                null|              null|           GY|                 null|        2001|        null|             0|               null| FAILURE TO STOP A...|                             null|             null|                    null|\n",
      "|    4006265037| FZX9232|                NY|       PAS|08/23/2016|             5|             SUBN|        FORD|             V|           0|           0|           0|                      0|                 0|                 0|              0|          0|          null|        null|         0233P|               null|              BX|                             null|        null|SB WEBSTER AVE @ E 1|            94TH ST|                  0|       1111|           C|                   T|                      null|                null|              null|           BK|                 null|        2004|        null|             0|               null|   BUS LANE VIOLATION|                             null|             null|                    null|\n",
      "|    8478629828| 66623ME|                NY|       COM|06/14/2017|            47|             REFG|       MITSU|             T|       10610|       34330|       34350|               20180630|                14|                14|             14|     359594|          T102|           J|         1120A|               null|              NY|                                O|         330|             7th Ave|               null|                  0|        408|          l2|                null|                         Y|               0700A|             0700P|           WH|                 null|        2007|        null|             0|                 04| 47-Double PKG-Mid...|                             null|             null|                    null|\n",
      "|    7868300310| 37033JV|                NY|       COM|11/21/2016|            69|             DELV|       INTER|             T|       10510|       34310|       34330|               20170228|                13|                13|             13|     364832|          T102|           M|         0555P|               null|              NY|                                F|         799|             6th Ave|               null|                  0|        408|          h1|                null|                         Y|               0700A|             0700P|        WHITE|                 null|        2007|        null|             0|               31 6| 69-Failure to Dis...|                             null|             null|                    null|\n",
      "|    5096917368| FZD8593|                NY|       PAS|06/13/2017|             7|             SUBN|       ME/BE|             V|           0|           0|           0|                      0|                 0|                 0|              0|          0|          null|        null|         0852P|               null|              QN|                             null|        null| NORTHERN BLVD (E/B)|    @ MARATHON PKWY|                  0|       1111|           D|                   T|                      null|                null|              null|           WH|                 null|        2012|        null|             0|               null| FAILURE TO STOP A...|                             null|             null|                    null|\n",
      "|    1413609545|  X20DCM|                NJ|       PAS|08/03/2016|            40|              SDN|       TOYOT|             P|       54070|       39430|       54930|                      0|                71|                71|             71|     960290|          0071|        0000|         0215A|               null|               K|                                F|         439|            KINGSTON|               null|                  0|        408|          C3|                null|                   BBBBBBB|                 ALL|               ALL|        WHITE|                    0|           0|           -|             1|               null|                 null|                             null|             null|                    null|\n",
      "|    4628525523|  326SF9|                MA|       PAS|12/21/2016|            36|               UT|         BMW|             V|           0|           0|           0|                      0|                 0|                 0|              0|          0|          null|        null|         0758A|               null|              BX|                             null|        null|EB E GUN HILL RD @ B|          ARNES AVE|                  0|       1180|           B|                   T|                      null|                null|              null|         null|                 null|        2001|        null|             0|               null| PHTO SCHOOL ZN SP...|                             null|             null|                    null|\n",
      "|    4627113330| HCA5464|                NY|       OMS|11/21/2016|            36|             SUBN|       DODGE|             V|           0|           0|           0|                      0|                 0|                 0|              0|          0|          null|        null|         1005A|               null|              QN|                             null|        null|NB BAISLEY BLVD @ 15|             5TH ST|                  0|       1180|           B|                   T|                      null|                null|              null|           BK|                 null|        2016|        null|             0|               null| PHTO SCHOOL ZN SP...|                             null|             null|                    null|\n",
      "|    4006478550| VAD7274|                VA|       PAS|10/05/2016|             5|               4D|         BMW|             V|           0|           0|           0|                      0|                 0|                 0|              0|          0|          null|        null|         0845A|               null|              BX|                             null|        null|SB WEBSTER AVE @ E 2|            04TH ST|                  0|       1111|           C|                   T|                      null|                null|              null|          BLK|                 null|        2008|        null|             0|               null|   BUS LANE VIOLATION|                             null|             null|                    null|\n",
      "|    1407740258| 2513JMG|                NY|       COM|01/11/2017|            78|             DELV|       FRUEH|             P|           0|       40404|       40404|               20161130|               106|               106|            106|     960979|          0106|        0000|         0015A|               null|               Q|                             null|         126|          ST 115 AVE|               null|                  0|        408|          E2|                null|                   BBBBBBB|                 ALL|               ALL|        WHITE|                    0|        2015|           -|             0|               null|                 null|                             null|             null|                    null|\n",
      "|    8009901763| 13657MD|                NY|       COM|09/27/2016|            19|             DELV|       KENWO|             T|       10510|       34870|       34890|               20170331|                18|                18|             18|     357355|          T400|           A|         0707A|               null|              NY|                                O|        1365|             6th Ave|               null|                  0|        408|          c3|                null|                   YYYYYYY|                null|              null|           RD|                 null|        2013|        null|             0|               01 9| 19-No Stand (bus ...|                             null|             null|                    null|\n",
      "|    4625926610|N102911C|                NY|       OMT|10/27/2016|            36|              VAN|        FORD|             V|           0|           0|           0|                      0|                 0|                 0|              0|          0|          null|        null|         1022A|               null|              QN|                             null|        null|EB HORACE HARDING EX|PRESSWAY @ PECK AVE|                  0|       1180|           B|                   T|                      null|                null|              null|           WH|                 null|        2008|        null|             0|               null| PHTO SCHOOL ZN SP...|                             null|             null|                    null|\n",
      "|    1416492320| FGR5997|                NY|       PAS|09/30/2016|            21|              SDN|       NISSA|             P|       53620|       74250|       74260|               20170303|                44|                44|             44|     905733|          0044|        0000|         1150A|               null|              BX|                                F|        1224|          NELSON AVE|               null|                  0|        408|          F1|                null|                   BYBBYBB|               1130A|             0100P|          TAN|                    0|           0|           -|             0|               null|                 null|                             null|             null|                    null|\n",
      "|    1413656420|T672371C|                NY|       PAS|02/04/2017|            40|             TAXI|       TOYOT|             P|       59630|       73470|       82230|               20170531|                73|                73|             73|     960758|          0073|        0000|         0525A|               null|               K|                                F|         279|         MCDOUGAL ST|               null|                  0|        408|          F1|                null|                   BBBBBBB|                 ALL|               ALL|          BLK|                    0|        2015|           -|             0|               null|                 null|                             null|             null|                    null|\n",
      "|    7959486440| GYF2052|                NY|       PAS|07/07/2016|            71|             4DSD|       VOLKS|             T|       70407|       17390|       48890|               20170527|               120|               120|            120|     356557|          T303|           E|         0645P|               null|               R|                                F|         143|     N St Austins Pl|               null|                  0|        408|          j6|                null|                      null|                null|              null|           GY|                 null|        2012|        null|             0|               C-PM| 71-Insp. Sticker ...|                             null|             null|                    null|\n",
      "|    5093620865| AD80228|                AZ|       PAS|09/24/2016|             7|               TK|        FORD|             V|           0|           0|           0|                      0|                 0|                 0|              0|          0|          null|        null|         1122A|               null|              QN|                             null|        null|SO CONDUIT AVE (E/B)|          @ 89TH ST|                  0|       1111|           D|                   T|                      null|                null|              null|         null|                 null|        2009|        null|             0|               null| FAILURE TO STOP A...|                             null|             null|                    null|\n",
      "|    8480309064| 51771JW|                NY|       COM|01/26/2017|            64|              VAN|       INTER|             T|       17850|       10210|       10110|               88888888|                17|                17|             17|     363557|          T102|           L|         0256P|               null|              NY|                                F|         204|           E 43rd St|               null|                  0|        408|          C8|                null|                   YYYYYYY|                null|              null|        BROWN|                 null|        2007|        null|             0|                 06| 64-No STD Ex Con/...|                             null|             null|                    null|\n",
      "|    1416638830|  GLP367|                NY|       PAS|04/30/2017|            20|             SUBN|       DODGE|             P|       17650|       10110|       10010|               20180304|                17|                17|             17|     940179|          0017|        0000|         1232A|               null|              NY|                                O|         330|             E 33 ST|               null|                  0|        408|          E2|                null|                   YYYYYYY|               1200A|             1159P|          BLK|                    0|        2009|           -|             0|               null|                 null|                             null|             null|                    null|\n",
      "|    4630524241|  HJBP29|                FL|       PAS|02/03/2017|            36|               4D|         BMW|             V|           0|           0|           0|                      0|                 0|                 0|              0|          0|          null|        null|         1034A|               null|              BK|                             null|        null|WB LINDEN BLVD @ SCH|           ENCK AVE|                  0|       1180|           B|                   T|                      null|                null|              null|          SIL|                 null|        2009|        null|             0|               null| PHTO SCHOOL ZN SP...|                             null|             null|                    null|\n",
      "+--------------+--------+------------------+----------+----------+--------------+-----------------+------------+--------------+------------+------------+------------+-----------------------+------------------+------------------+---------------+-----------+--------------+------------+--------------+-------------------+----------------+---------------------------------+------------+--------------------+-------------------+-------------------+-----------+------------+--------------------+--------------------------+--------------------+------------------+-------------+---------------------+------------+------------+--------------+-------------------+---------------------+---------------------------------+-----------------+------------------------+\n",
      "only showing top 20 rows\n",
      "\n"
     ]
    }
   ],
   "source": [
    "df3.na.fill(value=0,subset=[\"Violation Location\"]).show()\n"
   ]
  },
  {
   "cell_type": "code",
   "execution_count": 50,
   "metadata": {},
   "outputs": [
    {
     "name": "stdout",
     "output_type": "stream",
     "text": [
      "+--------------+--------+------------------+----------+----------+--------------+-----------------+------------+--------------+------------+------------+------------+-----------------------+------------------+------------------+---------------+-----------+--------------+------------+--------------+-------------------+----------------+---------------------------------+------------+--------------------+-------------------+-------------------+-----------+------------+--------------------+--------------------------+--------------------+------------------+-------------+---------------------+------------+------------+--------------+-------------------+---------------------+---------------------------------+-----------------+------------------------+\n",
      "|Summons_Number|Plate_ID|Registration_State|Plate_Type|Issue_Date|Violation_Code|Vehicle_Body_Type|Vehicle_Make|Issuing_Agency|Street Code1|Street Code2|Street Code3|Vehicle_Expiration_Date|Violation Location|Violation Precinct|Issuer Precinct|Issuer Code|Issuer Command|Issuer Squad|Violation Time|Time First Observed|Violation County|Violation In Front Of Or Opposite|House Number|         Street_Name|Intersecting Street|Date First Observed|Law Section|Sub Division|Violation Legal Code|Days Parking In Effect    |From Hours In Effect|To Hours In Effect|Vehicle Color|Unregistered Vehicle?|Vehicle Year|Meter Number|Feet From Curb|Violation Post Code|Violation Description|No Standing or Stopping Violation|Hydrant Violation|Double Parking Violation|\n",
      "+--------------+--------+------------------+----------+----------+--------------+-----------------+------------+--------------+------------+------------+------------+-----------------------+------------------+------------------+---------------+-----------+--------------+------------+--------------+-------------------+----------------+---------------------------------+------------+--------------------+-------------------+-------------------+-----------+------------+--------------------+--------------------------+--------------------+------------------+-------------+---------------------+------------+------------+--------------+-------------------+---------------------+---------------------------------+-----------------+------------------------+\n",
      "|    5092469481| GZH7067|                NY|       PAS|07/10/2016|             7|             SUBN|       TOYOT|             V|           0|           0|           0|                      0|              null|                 0|              0|          0|          None|        None|         0143A|               None|              BX|                             None|        None|ALLERTON AVE (W/B) @|         BARNES AVE|                  0|       1111|           D|                   T|                      None|                None|              None|           GY|                 null|        2001|        None|             0|               None| FAILURE TO STOP A...|                             None|             None|                    None|\n",
      "|    5092451658| GZH7067|                NY|       PAS|07/08/2016|             7|             SUBN|       TOYOT|             V|           0|           0|           0|                      0|              null|                 0|              0|          0|          None|        None|         0400P|               None|              BX|                             None|        None|ALLERTON AVE (W/B) @|         BARNES AVE|                  0|       1111|           D|                   T|                      None|                None|              None|           GY|                 null|        2001|        None|             0|               None| FAILURE TO STOP A...|                             None|             None|                    None|\n",
      "|    4006265037| FZX9232|                NY|       PAS|08/23/2016|             5|             SUBN|        FORD|             V|           0|           0|           0|                      0|              null|                 0|              0|          0|          None|        None|         0233P|               None|              BX|                             None|        None|SB WEBSTER AVE @ E 1|            94TH ST|                  0|       1111|           C|                   T|                      None|                None|              None|           BK|                 null|        2004|        None|             0|               None|   BUS LANE VIOLATION|                             None|             None|                    None|\n",
      "|    8478629828| 66623ME|                NY|       COM|06/14/2017|            47|             REFG|       MITSU|             T|       10610|       34330|       34350|               20180630|                14|                14|             14|     359594|          T102|           J|         1120A|               None|              NY|                                O|         330|             7th Ave|               None|                  0|        408|          l2|                None|                         Y|               0700A|             0700P|           WH|                 null|        2007|        None|             0|                 04| 47-Double PKG-Mid...|                             None|             None|                    None|\n",
      "|    7868300310| 37033JV|                NY|       COM|11/21/2016|            69|             DELV|       INTER|             T|       10510|       34310|       34330|               20170228|                13|                13|             13|     364832|          T102|           M|         0555P|               None|              NY|                                F|         799|             6th Ave|               None|                  0|        408|          h1|                None|                         Y|               0700A|             0700P|        WHITE|                 null|        2007|        None|             0|               31 6| 69-Failure to Dis...|                             None|             None|                    None|\n",
      "|    5096917368| FZD8593|                NY|       PAS|06/13/2017|             7|             SUBN|       ME/BE|             V|           0|           0|           0|                      0|              null|                 0|              0|          0|          None|        None|         0852P|               None|              QN|                             None|        None| NORTHERN BLVD (E/B)|    @ MARATHON PKWY|                  0|       1111|           D|                   T|                      None|                None|              None|           WH|                 null|        2012|        None|             0|               None| FAILURE TO STOP A...|                             None|             None|                    None|\n",
      "|    1413609545|  X20DCM|                NJ|       PAS|08/03/2016|            40|              SDN|       TOYOT|             P|       54070|       39430|       54930|                      0|                71|                71|             71|     960290|          0071|        0000|         0215A|               None|               K|                                F|         439|            KINGSTON|               None|                  0|        408|          C3|                None|                   BBBBBBB|                 ALL|               ALL|        WHITE|                    0|           0|           -|             1|               None|                 None|                             None|             None|                    None|\n",
      "|    4628525523|  326SF9|                MA|       PAS|12/21/2016|            36|               UT|         BMW|             V|           0|           0|           0|                      0|              null|                 0|              0|          0|          None|        None|         0758A|               None|              BX|                             None|        None|EB E GUN HILL RD @ B|          ARNES AVE|                  0|       1180|           B|                   T|                      None|                None|              None|         None|                 null|        2001|        None|             0|               None| PHTO SCHOOL ZN SP...|                             None|             None|                    None|\n",
      "|    4627113330| HCA5464|                NY|       OMS|11/21/2016|            36|             SUBN|       DODGE|             V|           0|           0|           0|                      0|              null|                 0|              0|          0|          None|        None|         1005A|               None|              QN|                             None|        None|NB BAISLEY BLVD @ 15|             5TH ST|                  0|       1180|           B|                   T|                      None|                None|              None|           BK|                 null|        2016|        None|             0|               None| PHTO SCHOOL ZN SP...|                             None|             None|                    None|\n",
      "|    4006478550| VAD7274|                VA|       PAS|10/05/2016|             5|               4D|         BMW|             V|           0|           0|           0|                      0|              null|                 0|              0|          0|          None|        None|         0845A|               None|              BX|                             None|        None|SB WEBSTER AVE @ E 2|            04TH ST|                  0|       1111|           C|                   T|                      None|                None|              None|          BLK|                 null|        2008|        None|             0|               None|   BUS LANE VIOLATION|                             None|             None|                    None|\n",
      "|    1407740258| 2513JMG|                NY|       COM|01/11/2017|            78|             DELV|       FRUEH|             P|           0|       40404|       40404|               20161130|               106|               106|            106|     960979|          0106|        0000|         0015A|               None|               Q|                             None|         126|          ST 115 AVE|               None|                  0|        408|          E2|                None|                   BBBBBBB|                 ALL|               ALL|        WHITE|                    0|        2015|           -|             0|               None|                 None|                             None|             None|                    None|\n",
      "|    8009901763| 13657MD|                NY|       COM|09/27/2016|            19|             DELV|       KENWO|             T|       10510|       34870|       34890|               20170331|                18|                18|             18|     357355|          T400|           A|         0707A|               None|              NY|                                O|        1365|             6th Ave|               None|                  0|        408|          c3|                None|                   YYYYYYY|                None|              None|           RD|                 null|        2013|        None|             0|               01 9| 19-No Stand (bus ...|                             None|             None|                    None|\n",
      "|    4625926610|N102911C|                NY|       OMT|10/27/2016|            36|              VAN|        FORD|             V|           0|           0|           0|                      0|              null|                 0|              0|          0|          None|        None|         1022A|               None|              QN|                             None|        None|EB HORACE HARDING EX|PRESSWAY @ PECK AVE|                  0|       1180|           B|                   T|                      None|                None|              None|           WH|                 null|        2008|        None|             0|               None| PHTO SCHOOL ZN SP...|                             None|             None|                    None|\n",
      "|    1416492320| FGR5997|                NY|       PAS|09/30/2016|            21|              SDN|       NISSA|             P|       53620|       74250|       74260|               20170303|                44|                44|             44|     905733|          0044|        0000|         1150A|               None|              BX|                                F|        1224|          NELSON AVE|               None|                  0|        408|          F1|                None|                   BYBBYBB|               1130A|             0100P|          TAN|                    0|           0|           -|             0|               None|                 None|                             None|             None|                    None|\n",
      "|    1413656420|T672371C|                NY|       PAS|02/04/2017|            40|             TAXI|       TOYOT|             P|       59630|       73470|       82230|               20170531|                73|                73|             73|     960758|          0073|        0000|         0525A|               None|               K|                                F|         279|         MCDOUGAL ST|               None|                  0|        408|          F1|                None|                   BBBBBBB|                 ALL|               ALL|          BLK|                    0|        2015|           -|             0|               None|                 None|                             None|             None|                    None|\n",
      "|    7959486440| GYF2052|                NY|       PAS|07/07/2016|            71|             4DSD|       VOLKS|             T|       70407|       17390|       48890|               20170527|               120|               120|            120|     356557|          T303|           E|         0645P|               None|               R|                                F|         143|     N St Austins Pl|               None|                  0|        408|          j6|                None|                      None|                None|              None|           GY|                 null|        2012|        None|             0|               C-PM| 71-Insp. Sticker ...|                             None|             None|                    None|\n",
      "|    5093620865| AD80228|                AZ|       PAS|09/24/2016|             7|               TK|        FORD|             V|           0|           0|           0|                      0|              null|                 0|              0|          0|          None|        None|         1122A|               None|              QN|                             None|        None|SO CONDUIT AVE (E/B)|          @ 89TH ST|                  0|       1111|           D|                   T|                      None|                None|              None|         None|                 null|        2009|        None|             0|               None| FAILURE TO STOP A...|                             None|             None|                    None|\n",
      "|    8480309064| 51771JW|                NY|       COM|01/26/2017|            64|              VAN|       INTER|             T|       17850|       10210|       10110|               88888888|                17|                17|             17|     363557|          T102|           L|         0256P|               None|              NY|                                F|         204|           E 43rd St|               None|                  0|        408|          C8|                None|                   YYYYYYY|                None|              None|        BROWN|                 null|        2007|        None|             0|                 06| 64-No STD Ex Con/...|                             None|             None|                    None|\n",
      "|    1416638830|  GLP367|                NY|       PAS|04/30/2017|            20|             SUBN|       DODGE|             P|       17650|       10110|       10010|               20180304|                17|                17|             17|     940179|          0017|        0000|         1232A|               None|              NY|                                O|         330|             E 33 ST|               None|                  0|        408|          E2|                None|                   YYYYYYY|               1200A|             1159P|          BLK|                    0|        2009|           -|             0|               None|                 None|                             None|             None|                    None|\n",
      "|    4630524241|  HJBP29|                FL|       PAS|02/03/2017|            36|               4D|         BMW|             V|           0|           0|           0|                      0|              null|                 0|              0|          0|          None|        None|         1034A|               None|              BK|                             None|        None|WB LINDEN BLVD @ SCH|           ENCK AVE|                  0|       1180|           B|                   T|                      None|                None|              None|          SIL|                 null|        2009|        None|             0|               None| PHTO SCHOOL ZN SP...|                             None|             None|                    None|\n",
      "+--------------+--------+------------------+----------+----------+--------------+-----------------+------------+--------------+------------+------------+------------+-----------------------+------------------+------------------+---------------+-----------+--------------+------------+--------------+-------------------+----------------+---------------------------------+------------+--------------------+-------------------+-------------------+-----------+------------+--------------------+--------------------------+--------------------+------------------+-------------+---------------------+------------+------------+--------------+-------------------+---------------------+---------------------------------+-----------------+------------------------+\n",
      "only showing top 20 rows\n",
      "\n"
     ]
    }
   ],
   "source": [
    "df3.replace('Null','null').na.fill('None').show()"
   ]
  },
  {
   "attachments": {},
   "cell_type": "markdown",
   "metadata": {},
   "source": [
    "from pyspark.sql.functions import concat_ws,col\n",
    "df3=df.select(concat_ws('_',df.firstname,df.middlename,df.lastname)\n",
    "              .alias(\"FullName\"),\"dob\",\"gender\",\"salary\")\n",
    "df3.show(truncate=False)"
   ]
  },
  {
   "cell_type": "code",
   "execution_count": 24,
   "metadata": {},
   "outputs": [],
   "source": [
    "from pyspark.sql.functions import concat,col"
   ]
  },
  {
   "cell_type": "code",
   "execution_count": 25,
   "metadata": {},
   "outputs": [
    {
     "name": "stdout",
     "output_type": "stream",
     "text": [
      "+--------------+--------+------------------+----------+----------+--------------+-----------------+------------+--------------+------------+------------+------------+-----------------------+------------------+------------------+---------------+-----------+--------------+------------+--------------+-------------------+----------------+---------------------------------+------------+--------------------+-------------------+-------------------+-----------+------------+--------------------+--------------------------+--------------------+------------------+-------------+---------------------+------------+------------+--------------+-------------------+---------------------+---------------------------------+-----------------+------------------------+---------------+\n",
      "|Summons_Number|Plate_ID|Registration_State|Plate_Type|Issue_Date|Violation_Code|Vehicle_Body_Type|Vehicle_Make|Issuing_Agency|Street Code1|Street Code2|Street Code3|Vehicle Expiration Date|Violation Location|Violation Precinct|Issuer Precinct|Issuer Code|Issuer Command|Issuer Squad|Violation Time|Time First Observed|Violation County|Violation In Front Of Or Opposite|House Number|         Street_Name|Intersecting Street|Date First Observed|Law Section|Sub Division|Violation Legal Code|Days Parking In Effect    |From Hours In Effect|To Hours In Effect|Vehicle Color|Unregistered Vehicle?|Vehicle Year|Meter Number|Feet From Curb|Violation Post Code|Violation Description|No Standing or Stopping Violation|Hydrant Violation|Double Parking Violation|state_name_code|\n",
      "+--------------+--------+------------------+----------+----------+--------------+-----------------+------------+--------------+------------+------------+------------+-----------------------+------------------+------------------+---------------+-----------+--------------+------------+--------------+-------------------+----------------+---------------------------------+------------+--------------------+-------------------+-------------------+-----------+------------+--------------------+--------------------------+--------------------+------------------+-------------+---------------------+------------+------------+--------------+-------------------+---------------------+---------------------------------+-----------------+------------------------+---------------+\n",
      "|    5092469481| GZH7067|                NY|       PAS|07/10/2016|             7|             SUBN|       TOYOT|             V|           0|           0|           0|                      0|              null|                 0|              0|          0|          null|        null|         0143A|               null|              BX|                             null|        null|ALLERTON AVE (W/B) @|         BARNES AVE|                  0|       1111|           D|                   T|                      null|                null|              null|           GY|                 null|        2001|        null|             0|               null| FAILURE TO STOP A...|                             null|             null|                    null|     GZH7067|NY|\n",
      "|    5092451658| GZH7067|                NY|       PAS|07/08/2016|             7|             SUBN|       TOYOT|             V|           0|           0|           0|                      0|              null|                 0|              0|          0|          null|        null|         0400P|               null|              BX|                             null|        null|ALLERTON AVE (W/B) @|         BARNES AVE|                  0|       1111|           D|                   T|                      null|                null|              null|           GY|                 null|        2001|        null|             0|               null| FAILURE TO STOP A...|                             null|             null|                    null|     GZH7067|NY|\n",
      "|    4006265037| FZX9232|                NY|       PAS|08/23/2016|             5|             SUBN|        FORD|             V|           0|           0|           0|                      0|              null|                 0|              0|          0|          null|        null|         0233P|               null|              BX|                             null|        null|SB WEBSTER AVE @ E 1|            94TH ST|                  0|       1111|           C|                   T|                      null|                null|              null|           BK|                 null|        2004|        null|             0|               null|   BUS LANE VIOLATION|                             null|             null|                    null|     FZX9232|NY|\n",
      "|    8478629828| 66623ME|                NY|       COM|06/14/2017|            47|             REFG|       MITSU|             T|       10610|       34330|       34350|               20180630|                14|                14|             14|     359594|          T102|           J|         1120A|               null|              NY|                                O|         330|             7th Ave|               null|                  0|        408|          l2|                null|                         Y|               0700A|             0700P|           WH|                 null|        2007|        null|             0|                 04| 47-Double PKG-Mid...|                             null|             null|                    null|     66623ME|NY|\n",
      "|    7868300310| 37033JV|                NY|       COM|11/21/2016|            69|             DELV|       INTER|             T|       10510|       34310|       34330|               20170228|                13|                13|             13|     364832|          T102|           M|         0555P|               null|              NY|                                F|         799|             6th Ave|               null|                  0|        408|          h1|                null|                         Y|               0700A|             0700P|        WHITE|                 null|        2007|        null|             0|               31 6| 69-Failure to Dis...|                             null|             null|                    null|     37033JV|NY|\n",
      "|    5096917368| FZD8593|                NY|       PAS|06/13/2017|             7|             SUBN|       ME/BE|             V|           0|           0|           0|                      0|              null|                 0|              0|          0|          null|        null|         0852P|               null|              QN|                             null|        null| NORTHERN BLVD (E/B)|    @ MARATHON PKWY|                  0|       1111|           D|                   T|                      null|                null|              null|           WH|                 null|        2012|        null|             0|               null| FAILURE TO STOP A...|                             null|             null|                    null|     FZD8593|NY|\n",
      "|    1413609545|  X20DCM|                NJ|       PAS|08/03/2016|            40|              SDN|       TOYOT|             P|       54070|       39430|       54930|                      0|                71|                71|             71|     960290|          0071|        0000|         0215A|               null|               K|                                F|         439|            KINGSTON|               null|                  0|        408|          C3|                null|                   BBBBBBB|                 ALL|               ALL|        WHITE|                    0|           0|           -|             1|               null|                 null|                             null|             null|                    null|      X20DCM|NJ|\n",
      "|    4628525523|  326SF9|                MA|       PAS|12/21/2016|            36|               UT|         BMW|             V|           0|           0|           0|                      0|              null|                 0|              0|          0|          null|        null|         0758A|               null|              BX|                             null|        null|EB E GUN HILL RD @ B|          ARNES AVE|                  0|       1180|           B|                   T|                      null|                null|              null|         null|                 null|        2001|        null|             0|               null| PHTO SCHOOL ZN SP...|                             null|             null|                    null|      326SF9|MA|\n",
      "|    4627113330| HCA5464|                NY|       OMS|11/21/2016|            36|             SUBN|       DODGE|             V|           0|           0|           0|                      0|              null|                 0|              0|          0|          null|        null|         1005A|               null|              QN|                             null|        null|NB BAISLEY BLVD @ 15|             5TH ST|                  0|       1180|           B|                   T|                      null|                null|              null|           BK|                 null|        2016|        null|             0|               null| PHTO SCHOOL ZN SP...|                             null|             null|                    null|     HCA5464|NY|\n",
      "|    4006478550| VAD7274|                VA|       PAS|10/05/2016|             5|               4D|         BMW|             V|           0|           0|           0|                      0|              null|                 0|              0|          0|          null|        null|         0845A|               null|              BX|                             null|        null|SB WEBSTER AVE @ E 2|            04TH ST|                  0|       1111|           C|                   T|                      null|                null|              null|          BLK|                 null|        2008|        null|             0|               null|   BUS LANE VIOLATION|                             null|             null|                    null|     VAD7274|VA|\n",
      "|    1407740258| 2513JMG|                NY|       COM|01/11/2017|            78|             DELV|       FRUEH|             P|           0|       40404|       40404|               20161130|               106|               106|            106|     960979|          0106|        0000|         0015A|               null|               Q|                             null|         126|          ST 115 AVE|               null|                  0|        408|          E2|                null|                   BBBBBBB|                 ALL|               ALL|        WHITE|                    0|        2015|           -|             0|               null|                 null|                             null|             null|                    null|     2513JMG|NY|\n",
      "|    8009901763| 13657MD|                NY|       COM|09/27/2016|            19|             DELV|       KENWO|             T|       10510|       34870|       34890|               20170331|                18|                18|             18|     357355|          T400|           A|         0707A|               null|              NY|                                O|        1365|             6th Ave|               null|                  0|        408|          c3|                null|                   YYYYYYY|                null|              null|           RD|                 null|        2013|        null|             0|               01 9| 19-No Stand (bus ...|                             null|             null|                    null|     13657MD|NY|\n",
      "|    4625926610|N102911C|                NY|       OMT|10/27/2016|            36|              VAN|        FORD|             V|           0|           0|           0|                      0|              null|                 0|              0|          0|          null|        null|         1022A|               null|              QN|                             null|        null|EB HORACE HARDING EX|PRESSWAY @ PECK AVE|                  0|       1180|           B|                   T|                      null|                null|              null|           WH|                 null|        2008|        null|             0|               null| PHTO SCHOOL ZN SP...|                             null|             null|                    null|    N102911C|NY|\n",
      "|    1416492320| FGR5997|                NY|       PAS|09/30/2016|            21|              SDN|       NISSA|             P|       53620|       74250|       74260|               20170303|                44|                44|             44|     905733|          0044|        0000|         1150A|               null|              BX|                                F|        1224|          NELSON AVE|               null|                  0|        408|          F1|                null|                   BYBBYBB|               1130A|             0100P|          TAN|                    0|           0|           -|             0|               null|                 null|                             null|             null|                    null|     FGR5997|NY|\n",
      "|    1413656420|T672371C|                NY|       PAS|02/04/2017|            40|             TAXI|       TOYOT|             P|       59630|       73470|       82230|               20170531|                73|                73|             73|     960758|          0073|        0000|         0525A|               null|               K|                                F|         279|         MCDOUGAL ST|               null|                  0|        408|          F1|                null|                   BBBBBBB|                 ALL|               ALL|          BLK|                    0|        2015|           -|             0|               null|                 null|                             null|             null|                    null|    T672371C|NY|\n",
      "|    7959486440| GYF2052|                NY|       PAS|07/07/2016|            71|             4DSD|       VOLKS|             T|       70407|       17390|       48890|               20170527|               120|               120|            120|     356557|          T303|           E|         0645P|               null|               R|                                F|         143|     N St Austins Pl|               null|                  0|        408|          j6|                null|                      null|                null|              null|           GY|                 null|        2012|        null|             0|               C-PM| 71-Insp. Sticker ...|                             null|             null|                    null|     GYF2052|NY|\n",
      "|    5093620865| AD80228|                AZ|       PAS|09/24/2016|             7|               TK|        FORD|             V|           0|           0|           0|                      0|              null|                 0|              0|          0|          null|        null|         1122A|               null|              QN|                             null|        null|SO CONDUIT AVE (E/B)|          @ 89TH ST|                  0|       1111|           D|                   T|                      null|                null|              null|         null|                 null|        2009|        null|             0|               null| FAILURE TO STOP A...|                             null|             null|                    null|     AD80228|AZ|\n",
      "|    8480309064| 51771JW|                NY|       COM|01/26/2017|            64|              VAN|       INTER|             T|       17850|       10210|       10110|               88888888|                17|                17|             17|     363557|          T102|           L|         0256P|               null|              NY|                                F|         204|           E 43rd St|               null|                  0|        408|          C8|                null|                   YYYYYYY|                null|              null|        BROWN|                 null|        2007|        null|             0|                 06| 64-No STD Ex Con/...|                             null|             null|                    null|     51771JW|NY|\n",
      "|    1416638830|  GLP367|                NY|       PAS|04/30/2017|            20|             SUBN|       DODGE|             P|       17650|       10110|       10010|               20180304|                17|                17|             17|     940179|          0017|        0000|         1232A|               null|              NY|                                O|         330|             E 33 ST|               null|                  0|        408|          E2|                null|                   YYYYYYY|               1200A|             1159P|          BLK|                    0|        2009|           -|             0|               null|                 null|                             null|             null|                    null|      GLP367|NY|\n",
      "|    4630524241|  HJBP29|                FL|       PAS|02/03/2017|            36|               4D|         BMW|             V|           0|           0|           0|                      0|              null|                 0|              0|          0|          null|        null|         1034A|               null|              BK|                             null|        null|WB LINDEN BLVD @ SCH|           ENCK AVE|                  0|       1180|           B|                   T|                      null|                null|              null|          SIL|                 null|        2009|        null|             0|               null| PHTO SCHOOL ZN SP...|                             null|             null|                    null|      HJBP29|FL|\n",
      "+--------------+--------+------------------+----------+----------+--------------+-----------------+------------+--------------+------------+------------+------------+-----------------------+------------------+------------------+---------------+-----------+--------------+------------+--------------+-------------------+----------------+---------------------------------+------------+--------------------+-------------------+-------------------+-----------+------------+--------------------+--------------------------+--------------------+------------------+-------------+---------------------+------------+------------+--------------+-------------------+---------------------+---------------------------------+-----------------+------------------------+---------------+\n",
      "only showing top 20 rows\n",
      "\n"
     ]
    }
   ],
   "source": [
    "\n",
    "\n",
    "\n",
    "from pyspark.sql.functions import concat, lit, col\n",
    " \n",
    "df1=df3.select('*' ,concat(col(\"Plate_ID\"),lit(\"|\"),col(\"Registration_State\")).alias(\"state_name_code\"))\n",
    "df1.show()"
   ]
  },
  {
   "cell_type": "code",
   "execution_count": 26,
   "metadata": {},
   "outputs": [
    {
     "name": "stdout",
     "output_type": "stream",
     "text": [
      "+--------------+--------+------------------+----------+----------+--------------+-----------------+------------+--------------+------------+------------+------------+-----------------------+------------------+------------------+---------------+-----------+--------------+------------+--------------+-------------------+----------------+---------------------------------+------------+--------------------+-------------------+-------------------+-----------+------------+--------------------+--------------------------+--------------------+------------------+-------------+---------------------+------------+------------+--------------+-------------------+---------------------+---------------------------------+-----------------+------------------------+-------------+\n",
      "|Summons Number|Plate ID|Registration State|Plate Type|Issue Date|Violation Code|Vehicle Body Type|Vehicle Make|Issuing Agency|Street Code1|Street Code2|Street Code3|Vehicle Expiration Date|Violation Location|Violation Precinct|Issuer Precinct|Issuer Code|Issuer Command|Issuer Squad|Violation Time|Time First Observed|Violation County|Violation In Front Of Or Opposite|House Number|         Street Name|Intersecting Street|Date First Observed|Law Section|Sub Division|Violation Legal Code|Days Parking In Effect    |From Hours In Effect|To Hours In Effect|Vehicle Color|Unregistered Vehicle?|Vehicle Year|Meter Number|Feet From Curb|Violation Post Code|Violation Description|No Standing or Stopping Violation|Hydrant Violation|Double Parking Violation|joined_column|\n",
      "+--------------+--------+------------------+----------+----------+--------------+-----------------+------------+--------------+------------+------------+------------+-----------------------+------------------+------------------+---------------+-----------+--------------+------------+--------------+-------------------+----------------+---------------------------------+------------+--------------------+-------------------+-------------------+-----------+------------+--------------------+--------------------------+--------------------+------------------+-------------+---------------------+------------+------------+--------------+-------------------+---------------------+---------------------------------+-----------------+------------------------+-------------+\n",
      "|    5092469481| GZH7067|                NY|       PAS|07/10/2016|             7|             SUBN|       TOYOT|             V|           0|           0|           0|                      0|              null|                 0|              0|          0|          null|        null|         0143A|               null|              BX|                             null|        null|ALLERTON AVE (W/B) @|         BARNES AVE|                  0|       1111|           D|                   T|                      null|                null|              null|           GY|                 null|        2001|        null|             0|               null| FAILURE TO STOP A...|                             null|             null|                    null|        PAS-7|\n",
      "|    5092451658| GZH7067|                NY|       PAS|07/08/2016|             7|             SUBN|       TOYOT|             V|           0|           0|           0|                      0|              null|                 0|              0|          0|          null|        null|         0400P|               null|              BX|                             null|        null|ALLERTON AVE (W/B) @|         BARNES AVE|                  0|       1111|           D|                   T|                      null|                null|              null|           GY|                 null|        2001|        null|             0|               null| FAILURE TO STOP A...|                             null|             null|                    null|        PAS-7|\n",
      "|    4006265037| FZX9232|                NY|       PAS|08/23/2016|             5|             SUBN|        FORD|             V|           0|           0|           0|                      0|              null|                 0|              0|          0|          null|        null|         0233P|               null|              BX|                             null|        null|SB WEBSTER AVE @ E 1|            94TH ST|                  0|       1111|           C|                   T|                      null|                null|              null|           BK|                 null|        2004|        null|             0|               null|   BUS LANE VIOLATION|                             null|             null|                    null|        PAS-5|\n",
      "|    8478629828| 66623ME|                NY|       COM|06/14/2017|            47|             REFG|       MITSU|             T|       10610|       34330|       34350|               20180630|                14|                14|             14|     359594|          T102|           J|         1120A|               null|              NY|                                O|         330|             7th Ave|               null|                  0|        408|          l2|                null|                         Y|               0700A|             0700P|           WH|                 null|        2007|        null|             0|                 04| 47-Double PKG-Mid...|                             null|             null|                    null|       COM-47|\n",
      "|    7868300310| 37033JV|                NY|       COM|11/21/2016|            69|             DELV|       INTER|             T|       10510|       34310|       34330|               20170228|                13|                13|             13|     364832|          T102|           M|         0555P|               null|              NY|                                F|         799|             6th Ave|               null|                  0|        408|          h1|                null|                         Y|               0700A|             0700P|        WHITE|                 null|        2007|        null|             0|               31 6| 69-Failure to Dis...|                             null|             null|                    null|       COM-69|\n",
      "|    5096917368| FZD8593|                NY|       PAS|06/13/2017|             7|             SUBN|       ME/BE|             V|           0|           0|           0|                      0|              null|                 0|              0|          0|          null|        null|         0852P|               null|              QN|                             null|        null| NORTHERN BLVD (E/B)|    @ MARATHON PKWY|                  0|       1111|           D|                   T|                      null|                null|              null|           WH|                 null|        2012|        null|             0|               null| FAILURE TO STOP A...|                             null|             null|                    null|        PAS-7|\n",
      "|    1413609545|  X20DCM|                NJ|       PAS|08/03/2016|            40|              SDN|       TOYOT|             P|       54070|       39430|       54930|                      0|                71|                71|             71|     960290|          0071|        0000|         0215A|               null|               K|                                F|         439|            KINGSTON|               null|                  0|        408|          C3|                null|                   BBBBBBB|                 ALL|               ALL|        WHITE|                    0|           0|           -|             1|               null|                 null|                             null|             null|                    null|       PAS-40|\n",
      "|    4628525523|  326SF9|                MA|       PAS|12/21/2016|            36|               UT|         BMW|             V|           0|           0|           0|                      0|              null|                 0|              0|          0|          null|        null|         0758A|               null|              BX|                             null|        null|EB E GUN HILL RD @ B|          ARNES AVE|                  0|       1180|           B|                   T|                      null|                null|              null|         null|                 null|        2001|        null|             0|               null| PHTO SCHOOL ZN SP...|                             null|             null|                    null|       PAS-36|\n",
      "|    4627113330| HCA5464|                NY|       OMS|11/21/2016|            36|             SUBN|       DODGE|             V|           0|           0|           0|                      0|              null|                 0|              0|          0|          null|        null|         1005A|               null|              QN|                             null|        null|NB BAISLEY BLVD @ 15|             5TH ST|                  0|       1180|           B|                   T|                      null|                null|              null|           BK|                 null|        2016|        null|             0|               null| PHTO SCHOOL ZN SP...|                             null|             null|                    null|       OMS-36|\n",
      "|    4006478550| VAD7274|                VA|       PAS|10/05/2016|             5|               4D|         BMW|             V|           0|           0|           0|                      0|              null|                 0|              0|          0|          null|        null|         0845A|               null|              BX|                             null|        null|SB WEBSTER AVE @ E 2|            04TH ST|                  0|       1111|           C|                   T|                      null|                null|              null|          BLK|                 null|        2008|        null|             0|               null|   BUS LANE VIOLATION|                             null|             null|                    null|        PAS-5|\n",
      "|    1407740258| 2513JMG|                NY|       COM|01/11/2017|            78|             DELV|       FRUEH|             P|           0|       40404|       40404|               20161130|               106|               106|            106|     960979|          0106|        0000|         0015A|               null|               Q|                             null|         126|          ST 115 AVE|               null|                  0|        408|          E2|                null|                   BBBBBBB|                 ALL|               ALL|        WHITE|                    0|        2015|           -|             0|               null|                 null|                             null|             null|                    null|       COM-78|\n",
      "|    8009901763| 13657MD|                NY|       COM|09/27/2016|            19|             DELV|       KENWO|             T|       10510|       34870|       34890|               20170331|                18|                18|             18|     357355|          T400|           A|         0707A|               null|              NY|                                O|        1365|             6th Ave|               null|                  0|        408|          c3|                null|                   YYYYYYY|                null|              null|           RD|                 null|        2013|        null|             0|               01 9| 19-No Stand (bus ...|                             null|             null|                    null|       COM-19|\n",
      "|    4625926610|N102911C|                NY|       OMT|10/27/2016|            36|              VAN|        FORD|             V|           0|           0|           0|                      0|              null|                 0|              0|          0|          null|        null|         1022A|               null|              QN|                             null|        null|EB HORACE HARDING EX|PRESSWAY @ PECK AVE|                  0|       1180|           B|                   T|                      null|                null|              null|           WH|                 null|        2008|        null|             0|               null| PHTO SCHOOL ZN SP...|                             null|             null|                    null|       OMT-36|\n",
      "|    1416492320| FGR5997|                NY|       PAS|09/30/2016|            21|              SDN|       NISSA|             P|       53620|       74250|       74260|               20170303|                44|                44|             44|     905733|          0044|        0000|         1150A|               null|              BX|                                F|        1224|          NELSON AVE|               null|                  0|        408|          F1|                null|                   BYBBYBB|               1130A|             0100P|          TAN|                    0|           0|           -|             0|               null|                 null|                             null|             null|                    null|       PAS-21|\n",
      "|    1413656420|T672371C|                NY|       PAS|02/04/2017|            40|             TAXI|       TOYOT|             P|       59630|       73470|       82230|               20170531|                73|                73|             73|     960758|          0073|        0000|         0525A|               null|               K|                                F|         279|         MCDOUGAL ST|               null|                  0|        408|          F1|                null|                   BBBBBBB|                 ALL|               ALL|          BLK|                    0|        2015|           -|             0|               null|                 null|                             null|             null|                    null|       PAS-40|\n",
      "|    7959486440| GYF2052|                NY|       PAS|07/07/2016|            71|             4DSD|       VOLKS|             T|       70407|       17390|       48890|               20170527|               120|               120|            120|     356557|          T303|           E|         0645P|               null|               R|                                F|         143|     N St Austins Pl|               null|                  0|        408|          j6|                null|                      null|                null|              null|           GY|                 null|        2012|        null|             0|               C-PM| 71-Insp. Sticker ...|                             null|             null|                    null|       PAS-71|\n",
      "|    5093620865| AD80228|                AZ|       PAS|09/24/2016|             7|               TK|        FORD|             V|           0|           0|           0|                      0|              null|                 0|              0|          0|          null|        null|         1122A|               null|              QN|                             null|        null|SO CONDUIT AVE (E/B)|          @ 89TH ST|                  0|       1111|           D|                   T|                      null|                null|              null|         null|                 null|        2009|        null|             0|               null| FAILURE TO STOP A...|                             null|             null|                    null|        PAS-7|\n",
      "|    8480309064| 51771JW|                NY|       COM|01/26/2017|            64|              VAN|       INTER|             T|       17850|       10210|       10110|               88888888|                17|                17|             17|     363557|          T102|           L|         0256P|               null|              NY|                                F|         204|           E 43rd St|               null|                  0|        408|          C8|                null|                   YYYYYYY|                null|              null|        BROWN|                 null|        2007|        null|             0|                 06| 64-No STD Ex Con/...|                             null|             null|                    null|       COM-64|\n",
      "|    1416638830|  GLP367|                NY|       PAS|04/30/2017|            20|             SUBN|       DODGE|             P|       17650|       10110|       10010|               20180304|                17|                17|             17|     940179|          0017|        0000|         1232A|               null|              NY|                                O|         330|             E 33 ST|               null|                  0|        408|          E2|                null|                   YYYYYYY|               1200A|             1159P|          BLK|                    0|        2009|           -|             0|               null|                 null|                             null|             null|                    null|       PAS-20|\n",
      "|    4630524241|  HJBP29|                FL|       PAS|02/03/2017|            36|               4D|         BMW|             V|           0|           0|           0|                      0|              null|                 0|              0|          0|          null|        null|         1034A|               null|              BK|                             null|        null|WB LINDEN BLVD @ SCH|           ENCK AVE|                  0|       1180|           B|                   T|                      null|                null|              null|          SIL|                 null|        2009|        null|             0|               null| PHTO SCHOOL ZN SP...|                             null|             null|                    null|       PAS-36|\n",
      "+--------------+--------+------------------+----------+----------+--------------+-----------------+------------+--------------+------------+------------+------------+-----------------------+------------------+------------------+---------------+-----------+--------------+------------+--------------+-------------------+----------------+---------------------------------+------------+--------------------+-------------------+-------------------+-----------+------------+--------------------+--------------------------+--------------------+------------------+-------------+---------------------+------------+------------+--------------+-------------------+---------------------+---------------------------------+-----------------+------------------------+-------------+\n",
      "only showing top 20 rows\n",
      "\n"
     ]
    }
   ],
   "source": [
    "from pyspark.sql import functions as sf\n",
    " \n",
    "df2=df.withColumn('joined_column', sf.concat(sf.col('Plate Type'),sf.lit('-'),sf.col('Violation Code')))\n",
    "df2.show()"
   ]
  },
  {
   "attachments": {},
   "cell_type": "markdown",
   "metadata": {},
   "source": [
    "df3=df.select(concat_ws('_', df.Registration State, df.Plate ID)\n",
    "              .alias(\"PlateID_Info_WithState\"))\n",
    "df3.show(truncate=False)"
   ]
  },
  {
   "attachments": {},
   "cell_type": "markdown",
   "metadata": {},
   "source": [
    "from pyspark.sql.functions import lower, col\n",
    "df_states.select(\"*\", lower(col('state_name'))).show()"
   ]
  },
  {
   "cell_type": "code",
   "execution_count": 27,
   "metadata": {},
   "outputs": [],
   "source": [
    "from pyspark.sql.functions import lower,col"
   ]
  },
  {
   "cell_type": "code",
   "execution_count": 28,
   "metadata": {},
   "outputs": [],
   "source": [
    "from pyspark.sql.functions import upper,col"
   ]
  },
  {
   "cell_type": "code",
   "execution_count": 29,
   "metadata": {},
   "outputs": [
    {
     "name": "stdout",
     "output_type": "stream",
     "text": [
      "+-------------------+\n",
      "|upper(Vehicle_Make)|\n",
      "+-------------------+\n",
      "|              TOYOT|\n",
      "|              TOYOT|\n",
      "|               FORD|\n",
      "|              MITSU|\n",
      "|              INTER|\n",
      "|              ME/BE|\n",
      "|              TOYOT|\n",
      "|                BMW|\n",
      "|              DODGE|\n",
      "|                BMW|\n",
      "|              FRUEH|\n",
      "|              KENWO|\n",
      "|               FORD|\n",
      "|              NISSA|\n",
      "|              TOYOT|\n",
      "|              VOLKS|\n",
      "|               FORD|\n",
      "|              INTER|\n",
      "|              DODGE|\n",
      "|                BMW|\n",
      "+-------------------+\n",
      "only showing top 20 rows\n",
      "\n"
     ]
    }
   ],
   "source": [
    "df3.select(upper(col('Vehicle_Make'))).show()"
   ]
  },
  {
   "attachments": {},
   "cell_type": "markdown",
   "metadata": {},
   "source": [
    "\n",
    "### Remove all the space of the column in pyspark\n",
    "from pyspark.sql.functions import regexp_replace, col\n",
    " \n",
    "df_states = df_states.withColumn('states_Name', regexp_replace(col(\"state_name\"), \" \", \"\"))\n",
    "df_statwithes.show(truncate =False)"
   ]
  },
  {
   "cell_type": "code",
   "execution_count": 30,
   "metadata": {},
   "outputs": [],
   "source": [
    "from pyspark.sql.functions import regexp_replace, col"
   ]
  },
  {
   "cell_type": "code",
   "execution_count": 31,
   "metadata": {},
   "outputs": [],
   "source": [
    "df_new= df3.withColumn('Vehicle_Make',regexp_replace(col('Vehicle_Make'),\"    \", \"     \"))"
   ]
  },
  {
   "attachments": {},
   "cell_type": "markdown",
   "metadata": {},
   "source": []
  },
  {
   "cell_type": "code",
   "execution_count": 32,
   "metadata": {},
   "outputs": [
    {
     "name": "stdout",
     "output_type": "stream",
     "text": [
      "+--------------+--------+------------------+----------+----------+--------------+-----------------+------------+--------------+------------+------------+------------+-----------------------+------------------+------------------+---------------+-----------+--------------+------------+--------------+-------------------+----------------+---------------------------------+------------+--------------------+-------------------+-------------------+-----------+------------+--------------------+--------------------------+--------------------+------------------+-------------+---------------------+------------+------------+--------------+-------------------+---------------------+---------------------------------+-----------------+------------------------+\n",
      "|Summons_Number|Plate_ID|Registration_State|Plate_Type|Issue_Date|Violation_Code|Vehicle_Body_Type|Vehicle_Make|Issuing_Agency|Street Code1|Street Code2|Street Code3|Vehicle Expiration Date|Violation Location|Violation Precinct|Issuer Precinct|Issuer Code|Issuer Command|Issuer Squad|Violation Time|Time First Observed|Violation County|Violation In Front Of Or Opposite|House Number|         Street_Name|Intersecting Street|Date First Observed|Law Section|Sub Division|Violation Legal Code|Days Parking In Effect    |From Hours In Effect|To Hours In Effect|Vehicle Color|Unregistered Vehicle?|Vehicle Year|Meter Number|Feet From Curb|Violation Post Code|Violation Description|No Standing or Stopping Violation|Hydrant Violation|Double Parking Violation|\n",
      "+--------------+--------+------------------+----------+----------+--------------+-----------------+------------+--------------+------------+------------+------------+-----------------------+------------------+------------------+---------------+-----------+--------------+------------+--------------+-------------------+----------------+---------------------------------+------------+--------------------+-------------------+-------------------+-----------+------------+--------------------+--------------------------+--------------------+------------------+-------------+---------------------+------------+------------+--------------+-------------------+---------------------+---------------------------------+-----------------+------------------------+\n",
      "|    5092469481| GZH7067|                NY|       PAS|07/10/2016|             7|             SUBN|       TOYOT|             V|           0|           0|           0|                      0|              null|                 0|              0|          0|          null|        null|         0143A|               null|              BX|                             null|        null|ALLERTON AVE (W/B) @|         BARNES AVE|                  0|       1111|           D|                   T|                      null|                null|              null|           GY|                 null|        2001|        null|             0|               null| FAILURE TO STOP A...|                             null|             null|                    null|\n",
      "|    5092451658| GZH7067|                NY|       PAS|07/08/2016|             7|             SUBN|       TOYOT|             V|           0|           0|           0|                      0|              null|                 0|              0|          0|          null|        null|         0400P|               null|              BX|                             null|        null|ALLERTON AVE (W/B) @|         BARNES AVE|                  0|       1111|           D|                   T|                      null|                null|              null|           GY|                 null|        2001|        null|             0|               null| FAILURE TO STOP A...|                             null|             null|                    null|\n",
      "|    4006265037| FZX9232|                NY|       PAS|08/23/2016|             5|             SUBN|        FORD|             V|           0|           0|           0|                      0|              null|                 0|              0|          0|          null|        null|         0233P|               null|              BX|                             null|        null|SB WEBSTER AVE @ E 1|            94TH ST|                  0|       1111|           C|                   T|                      null|                null|              null|           BK|                 null|        2004|        null|             0|               null|   BUS LANE VIOLATION|                             null|             null|                    null|\n",
      "|    8478629828| 66623ME|                NY|       COM|06/14/2017|            47|             REFG|       MITSU|             T|       10610|       34330|       34350|               20180630|                14|                14|             14|     359594|          T102|           J|         1120A|               null|              NY|                                O|         330|             7th Ave|               null|                  0|        408|          l2|                null|                         Y|               0700A|             0700P|           WH|                 null|        2007|        null|             0|                 04| 47-Double PKG-Mid...|                             null|             null|                    null|\n",
      "|    7868300310| 37033JV|                NY|       COM|11/21/2016|            69|             DELV|       INTER|             T|       10510|       34310|       34330|               20170228|                13|                13|             13|     364832|          T102|           M|         0555P|               null|              NY|                                F|         799|             6th Ave|               null|                  0|        408|          h1|                null|                         Y|               0700A|             0700P|        WHITE|                 null|        2007|        null|             0|               31 6| 69-Failure to Dis...|                             null|             null|                    null|\n",
      "|    5096917368| FZD8593|                NY|       PAS|06/13/2017|             7|             SUBN|       ME/BE|             V|           0|           0|           0|                      0|              null|                 0|              0|          0|          null|        null|         0852P|               null|              QN|                             null|        null| NORTHERN BLVD (E/B)|    @ MARATHON PKWY|                  0|       1111|           D|                   T|                      null|                null|              null|           WH|                 null|        2012|        null|             0|               null| FAILURE TO STOP A...|                             null|             null|                    null|\n",
      "|    1413609545|  X20DCM|                NJ|       PAS|08/03/2016|            40|              SDN|       TOYOT|             P|       54070|       39430|       54930|                      0|                71|                71|             71|     960290|          0071|        0000|         0215A|               null|               K|                                F|         439|            KINGSTON|               null|                  0|        408|          C3|                null|                   BBBBBBB|                 ALL|               ALL|        WHITE|                    0|           0|           -|             1|               null|                 null|                             null|             null|                    null|\n",
      "|    4628525523|  326SF9|                MA|       PAS|12/21/2016|            36|               UT|         BMW|             V|           0|           0|           0|                      0|              null|                 0|              0|          0|          null|        null|         0758A|               null|              BX|                             null|        null|EB E GUN HILL RD @ B|          ARNES AVE|                  0|       1180|           B|                   T|                      null|                null|              null|         null|                 null|        2001|        null|             0|               null| PHTO SCHOOL ZN SP...|                             null|             null|                    null|\n",
      "|    4627113330| HCA5464|                NY|       OMS|11/21/2016|            36|             SUBN|       DODGE|             V|           0|           0|           0|                      0|              null|                 0|              0|          0|          null|        null|         1005A|               null|              QN|                             null|        null|NB BAISLEY BLVD @ 15|             5TH ST|                  0|       1180|           B|                   T|                      null|                null|              null|           BK|                 null|        2016|        null|             0|               null| PHTO SCHOOL ZN SP...|                             null|             null|                    null|\n",
      "|    4006478550| VAD7274|                VA|       PAS|10/05/2016|             5|               4D|         BMW|             V|           0|           0|           0|                      0|              null|                 0|              0|          0|          null|        null|         0845A|               null|              BX|                             null|        null|SB WEBSTER AVE @ E 2|            04TH ST|                  0|       1111|           C|                   T|                      null|                null|              null|          BLK|                 null|        2008|        null|             0|               null|   BUS LANE VIOLATION|                             null|             null|                    null|\n",
      "|    1407740258| 2513JMG|                NY|       COM|01/11/2017|            78|             DELV|       FRUEH|             P|           0|       40404|       40404|               20161130|               106|               106|            106|     960979|          0106|        0000|         0015A|               null|               Q|                             null|         126|          ST 115 AVE|               null|                  0|        408|          E2|                null|                   BBBBBBB|                 ALL|               ALL|        WHITE|                    0|        2015|           -|             0|               null|                 null|                             null|             null|                    null|\n",
      "|    8009901763| 13657MD|                NY|       COM|09/27/2016|            19|             DELV|       KENWO|             T|       10510|       34870|       34890|               20170331|                18|                18|             18|     357355|          T400|           A|         0707A|               null|              NY|                                O|        1365|             6th Ave|               null|                  0|        408|          c3|                null|                   YYYYYYY|                null|              null|           RD|                 null|        2013|        null|             0|               01 9| 19-No Stand (bus ...|                             null|             null|                    null|\n",
      "|    4625926610|N102911C|                NY|       OMT|10/27/2016|            36|              VAN|        FORD|             V|           0|           0|           0|                      0|              null|                 0|              0|          0|          null|        null|         1022A|               null|              QN|                             null|        null|EB HORACE HARDING EX|PRESSWAY @ PECK AVE|                  0|       1180|           B|                   T|                      null|                null|              null|           WH|                 null|        2008|        null|             0|               null| PHTO SCHOOL ZN SP...|                             null|             null|                    null|\n",
      "|    1416492320| FGR5997|                NY|       PAS|09/30/2016|            21|              SDN|       NISSA|             P|       53620|       74250|       74260|               20170303|                44|                44|             44|     905733|          0044|        0000|         1150A|               null|              BX|                                F|        1224|          NELSON AVE|               null|                  0|        408|          F1|                null|                   BYBBYBB|               1130A|             0100P|          TAN|                    0|           0|           -|             0|               null|                 null|                             null|             null|                    null|\n",
      "|    1413656420|T672371C|                NY|       PAS|02/04/2017|            40|             TAXI|       TOYOT|             P|       59630|       73470|       82230|               20170531|                73|                73|             73|     960758|          0073|        0000|         0525A|               null|               K|                                F|         279|         MCDOUGAL ST|               null|                  0|        408|          F1|                null|                   BBBBBBB|                 ALL|               ALL|          BLK|                    0|        2015|           -|             0|               null|                 null|                             null|             null|                    null|\n",
      "|    7959486440| GYF2052|                NY|       PAS|07/07/2016|            71|             4DSD|       VOLKS|             T|       70407|       17390|       48890|               20170527|               120|               120|            120|     356557|          T303|           E|         0645P|               null|               R|                                F|         143|     N St Austins Pl|               null|                  0|        408|          j6|                null|                      null|                null|              null|           GY|                 null|        2012|        null|             0|               C-PM| 71-Insp. Sticker ...|                             null|             null|                    null|\n",
      "|    5093620865| AD80228|                AZ|       PAS|09/24/2016|             7|               TK|        FORD|             V|           0|           0|           0|                      0|              null|                 0|              0|          0|          null|        null|         1122A|               null|              QN|                             null|        null|SO CONDUIT AVE (E/B)|          @ 89TH ST|                  0|       1111|           D|                   T|                      null|                null|              null|         null|                 null|        2009|        null|             0|               null| FAILURE TO STOP A...|                             null|             null|                    null|\n",
      "|    8480309064| 51771JW|                NY|       COM|01/26/2017|            64|              VAN|       INTER|             T|       17850|       10210|       10110|               88888888|                17|                17|             17|     363557|          T102|           L|         0256P|               null|              NY|                                F|         204|           E 43rd St|               null|                  0|        408|          C8|                null|                   YYYYYYY|                null|              null|        BROWN|                 null|        2007|        null|             0|                 06| 64-No STD Ex Con/...|                             null|             null|                    null|\n",
      "|    1416638830|  GLP367|                NY|       PAS|04/30/2017|            20|             SUBN|       DODGE|             P|       17650|       10110|       10010|               20180304|                17|                17|             17|     940179|          0017|        0000|         1232A|               null|              NY|                                O|         330|             E 33 ST|               null|                  0|        408|          E2|                null|                   YYYYYYY|               1200A|             1159P|          BLK|                    0|        2009|           -|             0|               null|                 null|                             null|             null|                    null|\n",
      "|    4630524241|  HJBP29|                FL|       PAS|02/03/2017|            36|               4D|         BMW|             V|           0|           0|           0|                      0|              null|                 0|              0|          0|          null|        null|         1034A|               null|              BK|                             null|        null|WB LINDEN BLVD @ SCH|           ENCK AVE|                  0|       1180|           B|                   T|                      null|                null|              null|          SIL|                 null|        2009|        null|             0|               null| PHTO SCHOOL ZN SP...|                             null|             null|                    null|\n",
      "+--------------+--------+------------------+----------+----------+--------------+-----------------+------------+--------------+------------+------------+------------+-----------------------+------------------+------------------+---------------+-----------+--------------+------------+--------------+-------------------+----------------+---------------------------------+------------+--------------------+-------------------+-------------------+-----------+------------+--------------------+--------------------------+--------------------+------------------+-------------+---------------------+------------+------------+--------------+-------------------+---------------------+---------------------------------+-----------------+------------------------+\n",
      "only showing top 20 rows\n",
      "\n"
     ]
    }
   ],
   "source": [
    "df_new.show()"
   ]
  },
  {
   "attachments": {},
   "cell_type": "markdown",
   "metadata": {},
   "source": [
    "df = df_states.withColumn(\"last_n_char\", df_states.state_name.substr(-2,2))\n",
    "df.show()"
   ]
  },
  {
   "attachments": {},
   "cell_type": "markdown",
   "metadata": {},
   "source": [
    "df5.withColumn(“new_column”, when((col(“code”) == “a”) | (col(“code”) == “d”), “A”)\n",
    ".when((col(“code”) == “b”) & (col(“amt”) == “4”), “B”)\n",
    ".otherwise(“A1”)).show()"
   ]
  },
  {
   "cell_type": "code",
   "execution_count": 33,
   "metadata": {},
   "outputs": [
    {
     "name": "stdout",
     "output_type": "stream",
     "text": [
      "+--------------+--------+------------------+----------+----------+--------------+-----------------+------------+--------------+------------+------------+------------+-----------------------+------------------+------------------+---------------+-----------+--------------+------------+--------------+-------------------+----------------+---------------------------------+------------+--------------------+-------------------+-------------------+-----------+------------+--------------------+--------------------------+--------------------+------------------+-------------+---------------------+------------+------------+--------------+-------------------+---------------------+---------------------------------+-----------------+------------------------+\n",
      "|Summons_Number|Plate_ID|Registration_State|Plate_Type|Issue_Date|Violation_Code|Vehicle_Body_Type|Vehicle_Make|Issuing_Agency|Street Code1|Street Code2|Street Code3|Vehicle Expiration Date|Violation Location|Violation Precinct|Issuer Precinct|Issuer Code|Issuer Command|Issuer Squad|Violation Time|Time First Observed|Violation County|Violation In Front Of Or Opposite|House Number|         Street_Name|Intersecting Street|Date First Observed|Law Section|Sub Division|Violation Legal Code|Days Parking In Effect    |From Hours In Effect|To Hours In Effect|Vehicle Color|Unregistered Vehicle?|Vehicle Year|Meter Number|Feet From Curb|Violation Post Code|Violation Description|No Standing or Stopping Violation|Hydrant Violation|Double Parking Violation|\n",
      "+--------------+--------+------------------+----------+----------+--------------+-----------------+------------+--------------+------------+------------+------------+-----------------------+------------------+------------------+---------------+-----------+--------------+------------+--------------+-------------------+----------------+---------------------------------+------------+--------------------+-------------------+-------------------+-----------+------------+--------------------+--------------------------+--------------------+------------------+-------------+---------------------+------------+------------+--------------+-------------------+---------------------+---------------------------------+-----------------+------------------------+\n",
      "|    5092469481| GZH7067|                NY|       PAS|07/10/2016|             7|             SUBN|       TOYOT|             V|           0|           0|           0|                      0|              null|                 0|              0|          0|          null|        null|         0143A|               null|              BX|                             null|        null|ALLERTON AVE (W/B) @|         BARNES AVE|                  0|       1111|           D|                   T|                      null|                null|              null|           GY|                 null|        2001|        null|             0|               null| FAILURE TO STOP A...|                             null|             null|                    null|\n",
      "|    5092451658| GZH7067|                NY|       PAS|07/08/2016|             7|             SUBN|       TOYOT|             V|           0|           0|           0|                      0|              null|                 0|              0|          0|          null|        null|         0400P|               null|              BX|                             null|        null|ALLERTON AVE (W/B) @|         BARNES AVE|                  0|       1111|           D|                   T|                      null|                null|              null|           GY|                 null|        2001|        null|             0|               null| FAILURE TO STOP A...|                             null|             null|                    null|\n",
      "|    4006265037| FZX9232|                NY|       PAS|08/23/2016|             5|             SUBN|        FORD|             V|           0|           0|           0|                      0|              null|                 0|              0|          0|          null|        null|         0233P|               null|              BX|                             null|        null|SB WEBSTER AVE @ E 1|            94TH ST|                  0|       1111|           C|                   T|                      null|                null|              null|           BK|                 null|        2004|        null|             0|               null|   BUS LANE VIOLATION|                             null|             null|                    null|\n",
      "|    8478629828| 66623ME|                NY|       COM|06/14/2017|            47|             REFG|       MITSU|             T|       10610|       34330|       34350|               20180630|                14|                14|             14|     359594|          T102|           J|         1120A|               null|              NY|                                O|         330|             7th Ave|               null|                  0|        408|          l2|                null|                         Y|               0700A|             0700P|           WH|                 null|        2007|        null|             0|                 04| 47-Double PKG-Mid...|                             null|             null|                    null|\n",
      "|    7868300310| 37033JV|                NY|       COM|11/21/2016|            69|             DELV|       INTER|             T|       10510|       34310|       34330|               20170228|                13|                13|             13|     364832|          T102|           M|         0555P|               null|              NY|                                F|         799|             6th Ave|               null|                  0|        408|          h1|                null|                         Y|               0700A|             0700P|        WHITE|                 null|        2007|        null|             0|               31 6| 69-Failure to Dis...|                             null|             null|                    null|\n",
      "|    5096917368| FZD8593|                NY|       PAS|06/13/2017|             7|             SUBN|       ME/BE|             V|           0|           0|           0|                      0|              null|                 0|              0|          0|          null|        null|         0852P|               null|              QN|                             null|        null| NORTHERN BLVD (E/B)|    @ MARATHON PKWY|                  0|       1111|           D|                   T|                      null|                null|              null|           WH|                 null|        2012|        null|             0|               null| FAILURE TO STOP A...|                             null|             null|                    null|\n",
      "|    1413609545|  X20DCM|                NJ|       PAS|08/03/2016|            40|              SDN|       TOYOT|             P|       54070|       39430|       54930|                      0|                71|                71|             71|     960290|          0071|        0000|         0215A|               null|               K|                                F|         439|            KINGSTON|               null|                  0|        408|          C3|                null|                   BBBBBBB|                 ALL|               ALL|        WHITE|                    0|           0|           -|             1|               null|                 null|                             null|             null|                    null|\n",
      "|    4628525523|  326SF9|                MA|       PAS|12/21/2016|            36|               UT|         BMW|             V|           0|           0|           0|                      0|              null|                 0|              0|          0|          null|        null|         0758A|               null|              BX|                             null|        null|EB E GUN HILL RD @ B|          ARNES AVE|                  0|       1180|           B|                   T|                      null|                null|              null|         null|                 null|        2001|        null|             0|               null| PHTO SCHOOL ZN SP...|                             null|             null|                    null|\n",
      "|    4627113330| HCA5464|                NY|       OMS|11/21/2016|            36|             SUBN|       DODGE|             V|           0|           0|           0|                      0|              null|                 0|              0|          0|          null|        null|         1005A|               null|              QN|                             null|        null|NB BAISLEY BLVD @ 15|             5TH ST|                  0|       1180|           B|                   T|                      null|                null|              null|           BK|                 null|        2016|        null|             0|               null| PHTO SCHOOL ZN SP...|                             null|             null|                    null|\n",
      "|    4006478550| VAD7274|                VA|       PAS|10/05/2016|             5|               4D|         BMW|             V|           0|           0|           0|                      0|              null|                 0|              0|          0|          null|        null|         0845A|               null|              BX|                             null|        null|SB WEBSTER AVE @ E 2|            04TH ST|                  0|       1111|           C|                   T|                      null|                null|              null|          BLK|                 null|        2008|        null|             0|               null|   BUS LANE VIOLATION|                             null|             null|                    null|\n",
      "|    1407740258| 2513JMG|                NY|       COM|01/11/2017|            78|             DELV|       FRUEH|             P|           0|       40404|       40404|               20161130|               106|               106|            106|     960979|          0106|        0000|         0015A|               null|               Q|                             null|         126|          ST 115 AVE|               null|                  0|        408|          E2|                null|                   BBBBBBB|                 ALL|               ALL|        WHITE|                    0|        2015|           -|             0|               null|                 null|                             null|             null|                    null|\n",
      "|    8009901763| 13657MD|                NY|       COM|09/27/2016|            19|             DELV|       KENWO|             T|       10510|       34870|       34890|               20170331|                18|                18|             18|     357355|          T400|           A|         0707A|               null|              NY|                                O|        1365|             6th Ave|               null|                  0|        408|          c3|                null|                   YYYYYYY|                null|              null|           RD|                 null|        2013|        null|             0|               01 9| 19-No Stand (bus ...|                             null|             null|                    null|\n",
      "|    4625926610|N102911C|                NY|       OMT|10/27/2016|            36|              VAN|        FORD|             V|           0|           0|           0|                      0|              null|                 0|              0|          0|          null|        null|         1022A|               null|              QN|                             null|        null|EB HORACE HARDING EX|PRESSWAY @ PECK AVE|                  0|       1180|           B|                   T|                      null|                null|              null|           WH|                 null|        2008|        null|             0|               null| PHTO SCHOOL ZN SP...|                             null|             null|                    null|\n",
      "|    1416492320| FGR5997|                NY|       PAS|09/30/2016|            21|              SDN|       NISSA|             P|       53620|       74250|       74260|               20170303|                44|                44|             44|     905733|          0044|        0000|         1150A|               null|              BX|                                F|        1224|          NELSON AVE|               null|                  0|        408|          F1|                null|                   BYBBYBB|               1130A|             0100P|          TAN|                    0|           0|           -|             0|               null|                 null|                             null|             null|                    null|\n",
      "|    1413656420|T672371C|                NY|       PAS|02/04/2017|            40|             TAXI|       TOYOT|             P|       59630|       73470|       82230|               20170531|                73|                73|             73|     960758|          0073|        0000|         0525A|               null|               K|                                F|         279|         MCDOUGAL ST|               null|                  0|        408|          F1|                null|                   BBBBBBB|                 ALL|               ALL|          BLK|                    0|        2015|           -|             0|               null|                 null|                             null|             null|                    null|\n",
      "|    7959486440| GYF2052|                NY|       PAS|07/07/2016|            71|             4DSD|       VOLKS|             T|       70407|       17390|       48890|               20170527|               120|               120|            120|     356557|          T303|           E|         0645P|               null|               R|                                F|         143|     N St Austins Pl|               null|                  0|        408|          j6|                null|                      null|                null|              null|           GY|                 null|        2012|        null|             0|               C-PM| 71-Insp. Sticker ...|                             null|             null|                    null|\n",
      "|    5093620865| AD80228|                AZ|       PAS|09/24/2016|             7|               TK|        FORD|             V|           0|           0|           0|                      0|              null|                 0|              0|          0|          null|        null|         1122A|               null|              QN|                             null|        null|SO CONDUIT AVE (E/B)|          @ 89TH ST|                  0|       1111|           D|                   T|                      null|                null|              null|         null|                 null|        2009|        null|             0|               null| FAILURE TO STOP A...|                             null|             null|                    null|\n",
      "|    8480309064| 51771JW|                NY|       COM|01/26/2017|            64|              VAN|       INTER|             T|       17850|       10210|       10110|               88888888|                17|                17|             17|     363557|          T102|           L|         0256P|               null|              NY|                                F|         204|           E 43rd St|               null|                  0|        408|          C8|                null|                   YYYYYYY|                null|              null|        BROWN|                 null|        2007|        null|             0|                 06| 64-No STD Ex Con/...|                             null|             null|                    null|\n",
      "|    1416638830|  GLP367|                NY|       PAS|04/30/2017|            20|             SUBN|       DODGE|             P|       17650|       10110|       10010|               20180304|                17|                17|             17|     940179|          0017|        0000|         1232A|               null|              NY|                                O|         330|             E 33 ST|               null|                  0|        408|          E2|                null|                   YYYYYYY|               1200A|             1159P|          BLK|                    0|        2009|           -|             0|               null|                 null|                             null|             null|                    null|\n",
      "|    4630524241|  HJBP29|                FL|       PAS|02/03/2017|            36|               4D|         BMW|             V|           0|           0|           0|                      0|              null|                 0|              0|          0|          null|        null|         1034A|               null|              BK|                             null|        null|WB LINDEN BLVD @ SCH|           ENCK AVE|                  0|       1180|           B|                   T|                      null|                null|              null|          SIL|                 null|        2009|        null|             0|               null| PHTO SCHOOL ZN SP...|                             null|             null|                    null|\n",
      "+--------------+--------+------------------+----------+----------+--------------+-----------------+------------+--------------+------------+------------+------------+-----------------------+------------------+------------------+---------------+-----------+--------------+------------+--------------+-------------------+----------------+---------------------------------+------------+--------------------+-------------------+-------------------+-----------+------------+--------------------+--------------------------+--------------------+------------------+-------------+---------------------+------------+------------+--------------+-------------------+---------------------+---------------------------------+-----------------+------------------------+\n",
      "only showing top 20 rows\n",
      "\n"
     ]
    }
   ],
   "source": [
    "df3.show()"
   ]
  },
  {
   "cell_type": "code",
   "execution_count": 34,
   "metadata": {},
   "outputs": [
    {
     "name": "stdout",
     "output_type": "stream",
     "text": [
      "+--------------+\n",
      "|Summons_Number|\n",
      "+--------------+\n",
      "|    1256452658|\n",
      "|    1314439959|\n",
      "|    1355405397|\n",
      "|    1359648859|\n",
      "|    1369876373|\n",
      "|    1375025030|\n",
      "|    1380890690|\n",
      "|    1386061669|\n",
      "|    1388758283|\n",
      "|    1388760137|\n",
      "|    1388767922|\n",
      "|    1398936364|\n",
      "|    1399210579|\n",
      "|    1399252150|\n",
      "|    1400887215|\n",
      "|    1400901870|\n",
      "|    1401158560|\n",
      "|    1401330083|\n",
      "|    1402453589|\n",
      "|    1402594720|\n",
      "+--------------+\n",
      "only showing top 20 rows\n",
      "\n"
     ]
    }
   ],
   "source": [
    "df3.select(\"Summons_Number\").distinct().show()"
   ]
  },
  {
   "attachments": {},
   "cell_type": "markdown",
   "metadata": {},
   "source": [
    "### Drop Duplicate of the column\n",
    "from pyspark.sql import Row\n",
    "df_basket.dropDuplicates((['Price'])).select(\"Price\").show()\n"
   ]
  },
  {
   "cell_type": "code",
   "execution_count": 35,
   "metadata": {},
   "outputs": [],
   "source": [
    "from pyspark.sql import Row"
   ]
  },
  {
   "cell_type": "code",
   "execution_count": 36,
   "metadata": {},
   "outputs": [
    {
     "name": "stdout",
     "output_type": "stream",
     "text": [
      "+--------------+\n",
      "|Summons_Number|\n",
      "+--------------+\n",
      "|    1256452658|\n",
      "|    1314439959|\n",
      "|    1355405397|\n",
      "|    1359648859|\n",
      "|    1369876373|\n",
      "|    1375025030|\n",
      "|    1380890690|\n",
      "|    1386061669|\n",
      "|    1388758283|\n",
      "|    1388760137|\n",
      "|    1388767922|\n",
      "|    1398936364|\n",
      "|    1399210579|\n",
      "|    1399252150|\n",
      "|    1400887215|\n",
      "|    1400901870|\n",
      "|    1401158560|\n",
      "|    1401330083|\n",
      "|    1402453589|\n",
      "|    1402594720|\n",
      "+--------------+\n",
      "only showing top 20 rows\n",
      "\n"
     ]
    }
   ],
   "source": [
    "df3.dropDuplicates((['Summons_Number'])).select(\"Summons_Number\").show()\n"
   ]
  },
  {
   "attachments": {},
   "cell_type": "markdown",
   "metadata": {},
   "source": [
    "### Get count of both null and missing values in pyspark\n",
    " \n",
    "from pyspark.sql.functions import isnan, when, count, col\n",
    "df_orders.select([count(when(isnan(c) | col(c).isNull(), c)).alias(c) for c in df_orders.columns]).show()\n"
   ]
  },
  {
   "cell_type": "code",
   "execution_count": 37,
   "metadata": {},
   "outputs": [],
   "source": [
    "from pyspark.sql.functions import isnan, when,count,col"
   ]
  },
  {
   "cell_type": "code",
   "execution_count": 38,
   "metadata": {},
   "outputs": [
    {
     "name": "stdout",
     "output_type": "stream",
     "text": [
      "+------------------+------------------+------------------+------------------+------------------+------------------+------------------+------------------+------------------+------------------+------------------+------------------+------------------+------------------+------------------+------------------+------------------+------------------+------------------+------------------+------------------+------------------+------------------+------------------+------------------+------------------+------------------+------------------+------------------+------------------+------------------+------------------+------------------+------------------+------------------+------------------+------------------+------------------+------------------+------------------+------------------+------------------+------------------+\n",
      "|Registration_State|Registration_State|Registration_State|Registration_State|Registration_State|Registration_State|Registration_State|Registration_State|Registration_State|Registration_State|Registration_State|Registration_State|Registration_State|Registration_State|Registration_State|Registration_State|Registration_State|Registration_State|Registration_State|Registration_State|Registration_State|Registration_State|Registration_State|Registration_State|Registration_State|Registration_State|Registration_State|Registration_State|Registration_State|Registration_State|Registration_State|Registration_State|Registration_State|Registration_State|Registration_State|Registration_State|Registration_State|Registration_State|Registration_State|Registration_State|Registration_State|Registration_State|Registration_State|\n",
      "+------------------+------------------+------------------+------------------+------------------+------------------+------------------+------------------+------------------+------------------+------------------+------------------+------------------+------------------+------------------+------------------+------------------+------------------+------------------+------------------+------------------+------------------+------------------+------------------+------------------+------------------+------------------+------------------+------------------+------------------+------------------+------------------+------------------+------------------+------------------+------------------+------------------+------------------+------------------+------------------+------------------+------------------+------------------+\n",
      "|                 0|                 0|                 0|                 0|                 0|                 0|                 0|                 0|                 0|                 0|                 0|                 0|                 0|                 0|                 0|                 0|                 0|                 0|                 0|                 0|                 0|                 0|                 0|                 0|                 0|                 0|                 0|                 0|                 0|                 0|                 0|                 0|                 0|                 0|                 0|                 0|                 0|                 0|                 0|                 0|                 0|                 0|                 0|\n",
      "+------------------+------------------+------------------+------------------+------------------+------------------+------------------+------------------+------------------+------------------+------------------+------------------+------------------+------------------+------------------+------------------+------------------+------------------+------------------+------------------+------------------+------------------+------------------+------------------+------------------+------------------+------------------+------------------+------------------+------------------+------------------+------------------+------------------+------------------+------------------+------------------+------------------+------------------+------------------+------------------+------------------+------------------+------------------+\n",
      "\n"
     ]
    }
   ],
   "source": [
    "df3.select([count(when(isnan('Registration_State') | col('Registration_State').isNull(), Registration_State)).alias('Registration_State') for Registration_State in df3.columns]).show()"
   ]
  },
  {
   "cell_type": "code",
   "execution_count": 39,
   "metadata": {},
   "outputs": [
    {
     "name": "stdout",
     "output_type": "stream",
     "text": [
      "+-----------------------------------------------------------+\n",
      "|count(CASE WHEN (Registration_State IS NULL) THEN true END)|\n",
      "+-----------------------------------------------------------+\n",
      "|                                                          0|\n",
      "+-----------------------------------------------------------+\n",
      "\n"
     ]
    }
   ],
   "source": [
    "from pyspark.sql.functions import isnan, when, count, col\n",
    "df3.select([count(when(col('Registration_State').isNull(),True))]).show()\n"
   ]
  },
  {
   "cell_type": "code",
   "execution_count": 40,
   "metadata": {},
   "outputs": [
    {
     "name": "stdout",
     "output_type": "stream",
     "text": [
      "+--------------+--------+------------------+----------+----------+--------------+-----------------+------------+--------------+------------+------------+------------+-----------------------+------------------+------------------+---------------+-----------+--------------+------------+--------------+-------------------+----------------+---------------------------------+------------+--------------------+--------------------+-------------------+-----------+------------+--------------------+--------------------------+--------------------+------------------+-------------+---------------------+------------+------------+--------------+-------------------+---------------------+---------------------------------+-----------------+------------------------+\n",
      "|Summons_Number|Plate_ID|Registration_State|Plate_Type|Issue_Date|Violation_Code|Vehicle_Body_Type|Vehicle_Make|Issuing_Agency|Street Code1|Street Code2|Street Code3|Vehicle Expiration Date|Violation Location|Violation Precinct|Issuer Precinct|Issuer Code|Issuer Command|Issuer Squad|Violation Time|Time First Observed|Violation County|Violation In Front Of Or Opposite|House Number|         Street_Name| Intersecting Street|Date First Observed|Law Section|Sub Division|Violation Legal Code|Days Parking In Effect    |From Hours In Effect|To Hours In Effect|Vehicle Color|Unregistered Vehicle?|Vehicle Year|Meter Number|Feet From Curb|Violation Post Code|Violation Description|No Standing or Stopping Violation|Hydrant Violation|Double Parking Violation|\n",
      "+--------------+--------+------------------+----------+----------+--------------+-----------------+------------+--------------+------------+------------+------------+-----------------------+------------------+------------------+---------------+-----------+--------------+------------+--------------+-------------------+----------------+---------------------------------+------------+--------------------+--------------------+-------------------+-----------+------------+--------------------+--------------------------+--------------------+------------------+-------------+---------------------+------------+------------+--------------+-------------------+---------------------+---------------------------------+-----------------+------------------------+\n",
      "|    1420029915| 53468JZ|                99|       COM|04/27/2017|            21|              VAN|       CHEVR|             S|       10690|       14690|       14840|               20170531|               108|               108|              0|     598546|          QW02|        0000|         1255A|               null|               Q|                                F|       69-19|               49 AV|                null|                  0|        408|          D1|                null|                   YBBYBBB|               1208A|             0300A|        WHITE|                    0|        2006|           -|             0|               null|                 null|                             null|             null|                    null|\n",
      "|    8277548497|  ZMH932|                AB|       PAS|07/03/2016|            40|             2DSD|        AUDI|             T|       58930|       75130|       50830|               20160088|                73|                73|             73|     354093|          T301|           O|         0846A|               null|               K|                                F|         341|           Marion St|                null|                  0|        408|          e2|                null|                   YYYYYYY|                null|              null|        OTHER|                 null|           0|        null|             2|               C 31|      40-Fire Hydrant|                             null|             null|                    null|\n",
      "|    8129113442|  648UEK|                AK|       PAS|01/17/2017|            21|             SUBN|       NISSA|             T|       68320|       74990|       75030|               20170888|                50|                50|             50|     359331|          T201|           S|         0939A|               null|              BX|                                F|        3222|         Tibbett Ave|                null|                  0|        408|          d1|                null|                         Y|               0930A|             1100A|         GREY|                 null|           0|        null|             0|                  C| 21-No Parking (st...|                             null|             null|                    null|\n",
      "|    8561601334| 39BZD03|                AL|       PAS|05/18/2017|            21|             SUBN|        JEEP|             T|       14390|       20190|       20390|               20170088|               112|               112|            112|     331074|          T402|           Z|         0937A|               null|               Q|                                F|      108-17|             68th Rd|                null|                  0|        408|          d1|                null|                         Y|               0930A|             1100A|        WHITE|                 null|           0|        null|             0|                 01| 21-No Parking (st...|                             null|             null|                    null|\n",
      "|    8322033199| BHM8168|                AR|       PAS|02/14/2017|            21|             4DSD|       HONDA|             T|       28080|       10620|       15620|               20170088|                47|                47|             47|     363044|          T201|           B|         1016A|               null|              BX|                                F|         834|          E 215th St|                null|                  0|        408|          d1|                null|                         Y|               0930A|             1100A|        SILVE|                 null|           0|        null|             0|                 18| 21-No Parking (st...|                             null|             null|                    null|\n",
      "|    8292564895| AE96051|                AZ|       PAS|09/09/2016|            78|             DELV|         GMC|             T|        6280|        8880|        8930|               20160088|                66|                66|             66|     353177|          T802|           B|         1038P|               null|               K|                                F|        4620|            12th Ave|                null|                  0|        408|          k6|                null|                   YYYYYYY|               0900P|             0500A|        WHITE|                 null|           0|        null|             0|               I 31| 78-Nighttime PKG ...|                             null|             null|                    null|\n",
      "|    8504021518|  DSO25J|                BC|       PAS|05/09/2017|            31|             4DSD|       TOYOT|             T|           0|           0|           0|               20170088|                 1|                 1|              1|     363467|          T105|           J|         0326P|               null|              NY|                                F|          33|        Whitehall St|                null|                  0|        408|          l3|                null|                     YYYYY|               0700A|             0700P|         BLUE|                 null|           0|        null|             0|                001| 31-No Stand (Com....|                             null|             null|                    null|\n",
      "|    8153531270| 5X86359|                CA|       PAS|08/04/2016|            80|              VAN|       CHEVR|             T|       93230|       40030|       25330|               20160088|                83|                83|             83|     355301|          T301|           C|         0912A|               null|               K|                                F|        1004|      Willoughby Ave|                null|                  0|        408|          n8|                null|                      null|                null|              null|        WHITE|                 null|           0|        null|             0|               11 3| 80-Missing Equipm...|                             null|             null|                    null|\n",
      "|    7499549460|  779UFQ|                CO|       PAS|11/07/2016|            21|             4DSD|         KIA|             T|       10390|        9140|       62590|               20170788|               108|               108|            108|     361328|          T401|           B|         1148A|               null|               Q|                                F|       39-34|             46th St|                null|                  0|        408|          d1|                null|                         Y|               1130A|             0100P|         BLUE|                 null|           0|        null|             0|               36-A| 21-No Parking (st...|                             null|             null|                    null|\n",
      "|    8521501067|  2AVAF1|                CT|       PAS|02/15/2017|            40|             2DSD|       SCION|             T|       18790|           0|           0|               88880088|                23|                23|             23|     363966|          T103|           Q|         1226P|               null|              NY|                                I|           N|           E 90th St|   42ft W/of 2nd Ave|                  0|        408|          e2|                null|                   YYYYYYY|                null|              null|        OTHER|                 null|           0|        null|             6|                 07|      40-Fire Hydrant|                             null|             null|                    null|\n",
      "|    7014687402| AEG8825|                DC|       PAS|12/04/2016|            46|             4DSD|        FORD|             T|       36410|       24690|       10610|               20160088|                32|                32|             32|     355229|          T103|           G|         1038A|               null|              NY|                                O|         101|          W 132nd St|                null|                  0|        408|          f1|                null|                      null|                null|              null|          RED|                 null|           0|        null|             0|               01 7| 46A-Double Parkin...|                             null|             null|                    null|\n",
      "|    8299530027|PC195018|                DE|       PAS|11/18/2016|            46|             SUBN|       INFIN|             T|       59430|       88530|       14730|               20160788|                63|                63|             63|     357695|          T302|           N|         1249P|               null|               K|                                F|        2402|        McDonald Ave|                null|                  0|        408|          f1|                null|                      null|                null|              null|        WHITE|                 null|           0|        null|             0|                CC1| 46A-Double Parkin...|                             null|             null|                    null|\n",
      "|    7047084113| 0098QXD|                DP|       PAS|02/21/2017|            21|             4DSD|       NISSA|             T|       64290|        7240|        7540|               88880088|               114|               114|            114|     355558|          T401|           M|         0747A|               null|               Q|                                F|       25-19|         Steinway St|                null|                  0|        408|          d1|                null|                         Y|               0730A|             0800A|        WHITE|                 null|           0|        null|             0|                  V| 21-No Parking (st...|                             null|             null|                    null|\n",
      "|    4630524241|  HJBP29|                FL|       PAS|02/03/2017|            36|               4D|         BMW|             V|           0|           0|           0|                      0|              null|                 0|              0|          0|          null|        null|         1034A|               null|              BK|                             null|        null|WB LINDEN BLVD @ SCH|            ENCK AVE|                  0|       1180|           B|                   T|                      null|                null|              null|          SIL|                 null|        2009|        null|             0|               null| PHTO SCHOOL ZN SP...|                             null|             null|                    null|\n",
      "|    8363524773|  BDLX13|                FO|       PAS|12/15/2016|            24|             null|        null|             T|        9540|       40404|       40404|               20170388|               110|               110|            110|     364873|          T401|           P|         1040A|               null|               Q|                                F|        null|            41st Ave|                null|                  0|        408|          d5|                null|                   YYYYYYY|                null|              null|         null|                 null|           0|        null|             0|               17 4| 24-No Parking (ex...|                             null|             null|                    null|\n",
      "|    8038588939| PYN8294|                GA|       PAS|09/07/2016|            40|             4DSD|       NISSA|             T|       30155|           0|           0|               20170188|                 7|                 7|              7|     355710|          T101|           M|         0723A|               null|              NY|                                I|           S|Samuel Dickstein Plz|25ft E/of E Broadway|                  0|        408|          e2|                null|                   YYYYYYY|                null|              null|         GREY|                 null|           0|        null|             5|               E 10|      40-Fire Hydrant|                             null|             null|                    null|\n",
      "|    1413404972| 5500089|                GV|       PAS|10/25/2016|            19|              VAN|         GMC|             P|       15350|       27880|       27050|                      0|                 1|                 1|            406|     911170|          0406|        0000|         1000A|               null|              NY|                                O|         110|           CHURCH ST|                null|                  0|        408|          C3|                null|                   BBBBBBB|                 ALL|               ALL|           WH|                    0|           0|           -|             0|               null|                 null|                             null|             null|                    null|\n",
      "|    8088567828| 3212443|                HI|       PAS|10/22/2016|            31|             SUBN|         BMW|             T|       26790|       21690|       13810|               20170288|                 5|                 5|              5|     362193|          Manh|           F|         0548P|               null|              NY|                                F|         156|             Mott St|                null|                  0|        408|          l3|                null|                         Y|               0700A|             0600P|        SILVE|                 null|           0|        null|             0|               50 1| 31-No Stand (Com....|                             null|             null|                    null|\n",
      "|    8536453308|  103YJI|                IA|       PAS|03/24/2017|            21|             4DSD|       NISSA|             T|       41730|       37430|       73110|               88880088|                63|                63|             63|     358241|          T802|           A|         0045A|               null|               K|                                O|        5913|          Foster Ave|                null|                  0|        408|          d1|                null|                      Y  Y|               1200A|             0300A|        OTHER|                 null|           0|        null|             0|                  A| 21-No Parking (st...|                             null|             null|                    null|\n",
      "|    1419330263| 2339339|                ID|       PAS|01/20/2017|            19|             SUBN|       CHEVR|             P|       25130|       35530|       69130|                      0|                70|                70|             70|     951197|          0070|        0000|         0035A|               null|               K|                                F|        1600|           CATON AVE|                null|                  0|        408|          F1|                null|                   BBBBBBB|                 ALL|               ALL|        YELLO|                    0|           0|           -|             0|               null|                 null|                             null|             null|                    null|\n",
      "+--------------+--------+------------------+----------+----------+--------------+-----------------+------------+--------------+------------+------------+------------+-----------------------+------------------+------------------+---------------+-----------+--------------+------------+--------------+-------------------+----------------+---------------------------------+------------+--------------------+--------------------+-------------------+-----------+------------+--------------------+--------------------------+--------------------+------------------+-------------+---------------------+------------+------------+--------------+-------------------+---------------------+---------------------------------+-----------------+------------------------+\n",
      "only showing top 20 rows\n",
      "\n"
     ]
    }
   ],
   "source": [
    "df3.dropDuplicates((['Registration_State'])).show()"
   ]
  },
  {
   "cell_type": "code",
   "execution_count": 51,
   "metadata": {},
   "outputs": [
    {
     "name": "stdout",
     "output_type": "stream",
     "text": [
      "+--------------+--------+------------------+----------+----------+--------------+-----------------+------------+--------------+------------+------------+------------+-----------------------+------------------+------------------+---------------+-----------+--------------+------------+--------------+-------------------+----------------+---------------------------------+------------+--------------------+-------------------+-------------------+-----------+------------+--------------------+--------------------------+--------------------+------------------+-------------+---------------------+------------+------------+--------------+-------------------+---------------------+---------------------------------+-----------------+------------------------+\n",
      "|Summons_Number|Plate_ID|Registration_State|Plate_Type|Issue_Date|Violation_Code|Vehicle_Body_Type|Vehicle_Make|Issuing_Agency|Street Code1|Street Code2|Street Code3|Vehicle_Expiration_Date|Violation Location|Violation Precinct|Issuer Precinct|Issuer Code|Issuer Command|Issuer Squad|Violation Time|Time First Observed|Violation County|Violation In Front Of Or Opposite|House Number|         Street_Name|Intersecting Street|Date First Observed|Law Section|Sub Division|Violation Legal Code|Days Parking In Effect    |From Hours In Effect|To Hours In Effect|Vehicle Color|Unregistered Vehicle?|Vehicle Year|Meter Number|Feet From Curb|Violation Post Code|Violation Description|No Standing or Stopping Violation|Hydrant Violation|Double Parking Violation|\n",
      "+--------------+--------+------------------+----------+----------+--------------+-----------------+------------+--------------+------------+------------+------------+-----------------------+------------------+------------------+---------------+-----------+--------------+------------+--------------+-------------------+----------------+---------------------------------+------------+--------------------+-------------------+-------------------+-----------+------------+--------------------+--------------------------+--------------------+------------------+-------------+---------------------+------------+------------+--------------+-------------------+---------------------+---------------------------------+-----------------+------------------------+\n",
      "|    5092469481| GZH7067|                NY|       PAS|07/10/2016|             7|             SUBN|       TOYOT|             V|           0|           0|           0|                      0|              null|                 0|              0|          0|          None|        None|         0143A|               None|              BX|                             None|        None|ALLERTON AVE (W/B) @|         BARNES AVE|                  0|       1111|           D|                   T|                      None|                None|              None|           GY|                 null|        2001|        None|             0|               None| FAILURE TO STOP A...|                             None|             None|                    None|\n",
      "|    5092451658| GZH7067|                NY|       PAS|07/08/2016|             7|             SUBN|       TOYOT|             V|           0|           0|           0|                      0|              null|                 0|              0|          0|          None|        None|         0400P|               None|              BX|                             None|        None|ALLERTON AVE (W/B) @|         BARNES AVE|                  0|       1111|           D|                   T|                      None|                None|              None|           GY|                 null|        2001|        None|             0|               None| FAILURE TO STOP A...|                             None|             None|                    None|\n",
      "|    4006265037| FZX9232|                NY|       PAS|08/23/2016|             5|             SUBN|        FORD|             V|           0|           0|           0|                      0|              null|                 0|              0|          0|          None|        None|         0233P|               None|              BX|                             None|        None|SB WEBSTER AVE @ E 1|            94TH ST|                  0|       1111|           C|                   T|                      None|                None|              None|           BK|                 null|        2004|        None|             0|               None|   BUS LANE VIOLATION|                             None|             None|                    None|\n",
      "|    8478629828| 66623ME|                NY|       COM|06/14/2017|            47|             REFG|       MITSU|             T|       10610|       34330|       34350|               20180630|                14|                14|             14|     359594|          T102|           J|         1120A|               None|              NY|                                O|         330|             7th Ave|               None|                  0|        408|          l2|                None|                         Y|               0700A|             0700P|           WH|                 null|        2007|        None|             0|                 04| 47-Double PKG-Mid...|                             None|             None|                    None|\n",
      "|    7868300310| 37033JV|                NY|       COM|11/21/2016|            69|             DELV|       INTER|             T|       10510|       34310|       34330|               20170228|                13|                13|             13|     364832|          T102|           M|         0555P|               None|              NY|                                F|         799|             6th Ave|               None|                  0|        408|          h1|                None|                         Y|               0700A|             0700P|        WHITE|                 null|        2007|        None|             0|               31 6| 69-Failure to Dis...|                             None|             None|                    None|\n",
      "|    5096917368| FZD8593|                NY|       PAS|06/13/2017|             7|             SUBN|       ME/BE|             V|           0|           0|           0|                      0|              null|                 0|              0|          0|          None|        None|         0852P|               None|              QN|                             None|        None| NORTHERN BLVD (E/B)|    @ MARATHON PKWY|                  0|       1111|           D|                   T|                      None|                None|              None|           WH|                 null|        2012|        None|             0|               None| FAILURE TO STOP A...|                             None|             None|                    None|\n",
      "|    1413609545|  X20DCM|                NJ|       PAS|08/03/2016|            40|              SDN|       TOYOT|             P|       54070|       39430|       54930|                      0|                71|                71|             71|     960290|          0071|        0000|         0215A|               None|               K|                                F|         439|            KINGSTON|               None|                  0|        408|          C3|                None|                   BBBBBBB|                 ALL|               ALL|        WHITE|                    0|           0|           -|             1|               None|                 None|                             None|             None|                    None|\n",
      "|    4628525523|  326SF9|                MA|       PAS|12/21/2016|            36|               UT|         BMW|             V|           0|           0|           0|                      0|              null|                 0|              0|          0|          None|        None|         0758A|               None|              BX|                             None|        None|EB E GUN HILL RD @ B|          ARNES AVE|                  0|       1180|           B|                   T|                      None|                None|              None|         None|                 null|        2001|        None|             0|               None| PHTO SCHOOL ZN SP...|                             None|             None|                    None|\n",
      "|    4627113330| HCA5464|                NY|       OMS|11/21/2016|            36|             SUBN|       DODGE|             V|           0|           0|           0|                      0|              null|                 0|              0|          0|          None|        None|         1005A|               None|              QN|                             None|        None|NB BAISLEY BLVD @ 15|             5TH ST|                  0|       1180|           B|                   T|                      None|                None|              None|           BK|                 null|        2016|        None|             0|               None| PHTO SCHOOL ZN SP...|                             None|             None|                    None|\n",
      "|    4006478550| VAD7274|                VA|       PAS|10/05/2016|             5|               4D|         BMW|             V|           0|           0|           0|                      0|              null|                 0|              0|          0|          None|        None|         0845A|               None|              BX|                             None|        None|SB WEBSTER AVE @ E 2|            04TH ST|                  0|       1111|           C|                   T|                      None|                None|              None|          BLK|                 null|        2008|        None|             0|               None|   BUS LANE VIOLATION|                             None|             None|                    None|\n",
      "|    1407740258| 2513JMG|                NY|       COM|01/11/2017|            78|             DELV|       FRUEH|             P|           0|       40404|       40404|               20161130|               106|               106|            106|     960979|          0106|        0000|         0015A|               None|               Q|                             None|         126|          ST 115 AVE|               None|                  0|        408|          E2|                None|                   BBBBBBB|                 ALL|               ALL|        WHITE|                    0|        2015|           -|             0|               None|                 None|                             None|             None|                    None|\n",
      "|    8009901763| 13657MD|                NY|       COM|09/27/2016|            19|             DELV|       KENWO|             T|       10510|       34870|       34890|               20170331|                18|                18|             18|     357355|          T400|           A|         0707A|               None|              NY|                                O|        1365|             6th Ave|               None|                  0|        408|          c3|                None|                   YYYYYYY|                None|              None|           RD|                 null|        2013|        None|             0|               01 9| 19-No Stand (bus ...|                             None|             None|                    None|\n",
      "|    4625926610|N102911C|                NY|       OMT|10/27/2016|            36|              VAN|        FORD|             V|           0|           0|           0|                      0|              null|                 0|              0|          0|          None|        None|         1022A|               None|              QN|                             None|        None|EB HORACE HARDING EX|PRESSWAY @ PECK AVE|                  0|       1180|           B|                   T|                      None|                None|              None|           WH|                 null|        2008|        None|             0|               None| PHTO SCHOOL ZN SP...|                             None|             None|                    None|\n",
      "|    1416492320| FGR5997|                NY|       PAS|09/30/2016|            21|              SDN|       NISSA|             P|       53620|       74250|       74260|               20170303|                44|                44|             44|     905733|          0044|        0000|         1150A|               None|              BX|                                F|        1224|          NELSON AVE|               None|                  0|        408|          F1|                None|                   BYBBYBB|               1130A|             0100P|          TAN|                    0|           0|           -|             0|               None|                 None|                             None|             None|                    None|\n",
      "|    1413656420|T672371C|                NY|       PAS|02/04/2017|            40|             TAXI|       TOYOT|             P|       59630|       73470|       82230|               20170531|                73|                73|             73|     960758|          0073|        0000|         0525A|               None|               K|                                F|         279|         MCDOUGAL ST|               None|                  0|        408|          F1|                None|                   BBBBBBB|                 ALL|               ALL|          BLK|                    0|        2015|           -|             0|               None|                 None|                             None|             None|                    None|\n",
      "|    7959486440| GYF2052|                NY|       PAS|07/07/2016|            71|             4DSD|       VOLKS|             T|       70407|       17390|       48890|               20170527|               120|               120|            120|     356557|          T303|           E|         0645P|               None|               R|                                F|         143|     N St Austins Pl|               None|                  0|        408|          j6|                None|                      None|                None|              None|           GY|                 null|        2012|        None|             0|               C-PM| 71-Insp. Sticker ...|                             None|             None|                    None|\n",
      "|    5093620865| AD80228|                AZ|       PAS|09/24/2016|             7|               TK|        FORD|             V|           0|           0|           0|                      0|              null|                 0|              0|          0|          None|        None|         1122A|               None|              QN|                             None|        None|SO CONDUIT AVE (E/B)|          @ 89TH ST|                  0|       1111|           D|                   T|                      None|                None|              None|         None|                 null|        2009|        None|             0|               None| FAILURE TO STOP A...|                             None|             None|                    None|\n",
      "|    8480309064| 51771JW|                NY|       COM|01/26/2017|            64|              VAN|       INTER|             T|       17850|       10210|       10110|               88888888|                17|                17|             17|     363557|          T102|           L|         0256P|               None|              NY|                                F|         204|           E 43rd St|               None|                  0|        408|          C8|                None|                   YYYYYYY|                None|              None|        BROWN|                 null|        2007|        None|             0|                 06| 64-No STD Ex Con/...|                             None|             None|                    None|\n",
      "|    1416638830|  GLP367|                NY|       PAS|04/30/2017|            20|             SUBN|       DODGE|             P|       17650|       10110|       10010|               20180304|                17|                17|             17|     940179|          0017|        0000|         1232A|               None|              NY|                                O|         330|             E 33 ST|               None|                  0|        408|          E2|                None|                   YYYYYYY|               1200A|             1159P|          BLK|                    0|        2009|           -|             0|               None|                 None|                             None|             None|                    None|\n",
      "|    4630524241|  HJBP29|                FL|       PAS|02/03/2017|            36|               4D|         BMW|             V|           0|           0|           0|                      0|              null|                 0|              0|          0|          None|        None|         1034A|               None|              BK|                             None|        None|WB LINDEN BLVD @ SCH|           ENCK AVE|                  0|       1180|           B|                   T|                      None|                None|              None|          SIL|                 null|        2009|        None|             0|               None| PHTO SCHOOL ZN SP...|                             None|             None|                    None|\n",
      "+--------------+--------+------------------+----------+----------+--------------+-----------------+------------+--------------+------------+------------+------------+-----------------------+------------------+------------------+---------------+-----------+--------------+------------+--------------+-------------------+----------------+---------------------------------+------------+--------------------+-------------------+-------------------+-----------+------------+--------------------+--------------------------+--------------------+------------------+-------------+---------------------+------------+------------+--------------+-------------------+---------------------+---------------------------------+-----------------+------------------------+\n",
      "only showing top 20 rows\n",
      "\n"
     ]
    }
   ],
   "source": [
    "df3.na.fill(\"None\").show()"
   ]
  },
  {
   "attachments": {},
   "cell_type": "markdown",
   "metadata": {},
   "source": [
    "from pyspark.sql.functions import concat_ws,col\n",
    "df3=df.select(concat_ws('_',df.firstname,df.middlename,df.lastname)\n",
    "              .alias(\"FullName\"),\"dob\",\"gender\",\"salary\")\n",
    "df3.show(truncate=False)"
   ]
  },
  {
   "cell_type": "code",
   "execution_count": 43,
   "metadata": {},
   "outputs": [],
   "source": [
    "from pyspark.sql.functions import concat_ws,col"
   ]
  },
  {
   "cell_type": "code",
   "execution_count": 44,
   "metadata": {},
   "outputs": [],
   "source": [
    "from pyspark.sql.functions import collect_list"
   ]
  },
  {
   "cell_type": "code",
   "execution_count": 56,
   "metadata": {},
   "outputs": [],
   "source": [
    "from pyspark.sql.functions import to_date"
   ]
  },
  {
   "cell_type": "code",
   "execution_count": 58,
   "metadata": {},
   "outputs": [],
   "source": [
    "\n",
    "df3 = df3.withColumn(\"date\", to_date(df3.Vehicle_Expiration_Date, \"dd-MM-yyyy\"))"
   ]
  },
  {
   "cell_type": "code",
   "execution_count": 59,
   "metadata": {},
   "outputs": [
    {
     "name": "stdout",
     "output_type": "stream",
     "text": [
      "+--------------+--------+------------------+----------+----------+--------------+-----------------+------------+--------------+------------+------------+------------+-----------------------+------------------+------------------+---------------+-----------+--------------+------------+--------------+-------------------+----------------+---------------------------------+------------+--------------------+-------------------+-------------------+-----------+------------+--------------------+--------------------------+--------------------+------------------+-------------+---------------------+------------+------------+--------------+-------------------+---------------------+---------------------------------+-----------------+------------------------+----+\n",
      "|Summons_Number|Plate_ID|Registration_State|Plate_Type|Issue_Date|Violation_Code|Vehicle_Body_Type|Vehicle_Make|Issuing_Agency|Street Code1|Street Code2|Street Code3|Vehicle_Expiration_Date|Violation Location|Violation Precinct|Issuer Precinct|Issuer Code|Issuer Command|Issuer Squad|Violation Time|Time First Observed|Violation County|Violation In Front Of Or Opposite|House Number|         Street_Name|Intersecting Street|Date First Observed|Law Section|Sub Division|Violation Legal Code|Days Parking In Effect    |From Hours In Effect|To Hours In Effect|Vehicle Color|Unregistered Vehicle?|Vehicle Year|Meter Number|Feet From Curb|Violation Post Code|Violation Description|No Standing or Stopping Violation|Hydrant Violation|Double Parking Violation|date|\n",
      "+--------------+--------+------------------+----------+----------+--------------+-----------------+------------+--------------+------------+------------+------------+-----------------------+------------------+------------------+---------------+-----------+--------------+------------+--------------+-------------------+----------------+---------------------------------+------------+--------------------+-------------------+-------------------+-----------+------------+--------------------+--------------------------+--------------------+------------------+-------------+---------------------+------------+------------+--------------+-------------------+---------------------+---------------------------------+-----------------+------------------------+----+\n",
      "|    5092469481| GZH7067|                NY|       PAS|07/10/2016|             7|             SUBN|       TOYOT|             V|           0|           0|           0|                      0|              null|                 0|              0|          0|          null|        null|         0143A|               null|              BX|                             null|        null|ALLERTON AVE (W/B) @|         BARNES AVE|                  0|       1111|           D|                   T|                      null|                null|              null|           GY|                 null|        2001|        null|             0|               null| FAILURE TO STOP A...|                             null|             null|                    null|null|\n",
      "|    5092451658| GZH7067|                NY|       PAS|07/08/2016|             7|             SUBN|       TOYOT|             V|           0|           0|           0|                      0|              null|                 0|              0|          0|          null|        null|         0400P|               null|              BX|                             null|        null|ALLERTON AVE (W/B) @|         BARNES AVE|                  0|       1111|           D|                   T|                      null|                null|              null|           GY|                 null|        2001|        null|             0|               null| FAILURE TO STOP A...|                             null|             null|                    null|null|\n",
      "|    4006265037| FZX9232|                NY|       PAS|08/23/2016|             5|             SUBN|        FORD|             V|           0|           0|           0|                      0|              null|                 0|              0|          0|          null|        null|         0233P|               null|              BX|                             null|        null|SB WEBSTER AVE @ E 1|            94TH ST|                  0|       1111|           C|                   T|                      null|                null|              null|           BK|                 null|        2004|        null|             0|               null|   BUS LANE VIOLATION|                             null|             null|                    null|null|\n",
      "|    8478629828| 66623ME|                NY|       COM|06/14/2017|            47|             REFG|       MITSU|             T|       10610|       34330|       34350|               20180630|                14|                14|             14|     359594|          T102|           J|         1120A|               null|              NY|                                O|         330|             7th Ave|               null|                  0|        408|          l2|                null|                         Y|               0700A|             0700P|           WH|                 null|        2007|        null|             0|                 04| 47-Double PKG-Mid...|                             null|             null|                    null|null|\n",
      "|    7868300310| 37033JV|                NY|       COM|11/21/2016|            69|             DELV|       INTER|             T|       10510|       34310|       34330|               20170228|                13|                13|             13|     364832|          T102|           M|         0555P|               null|              NY|                                F|         799|             6th Ave|               null|                  0|        408|          h1|                null|                         Y|               0700A|             0700P|        WHITE|                 null|        2007|        null|             0|               31 6| 69-Failure to Dis...|                             null|             null|                    null|null|\n",
      "|    5096917368| FZD8593|                NY|       PAS|06/13/2017|             7|             SUBN|       ME/BE|             V|           0|           0|           0|                      0|              null|                 0|              0|          0|          null|        null|         0852P|               null|              QN|                             null|        null| NORTHERN BLVD (E/B)|    @ MARATHON PKWY|                  0|       1111|           D|                   T|                      null|                null|              null|           WH|                 null|        2012|        null|             0|               null| FAILURE TO STOP A...|                             null|             null|                    null|null|\n",
      "|    1413609545|  X20DCM|                NJ|       PAS|08/03/2016|            40|              SDN|       TOYOT|             P|       54070|       39430|       54930|                      0|                71|                71|             71|     960290|          0071|        0000|         0215A|               null|               K|                                F|         439|            KINGSTON|               null|                  0|        408|          C3|                null|                   BBBBBBB|                 ALL|               ALL|        WHITE|                    0|           0|           -|             1|               null|                 null|                             null|             null|                    null|null|\n",
      "|    4628525523|  326SF9|                MA|       PAS|12/21/2016|            36|               UT|         BMW|             V|           0|           0|           0|                      0|              null|                 0|              0|          0|          null|        null|         0758A|               null|              BX|                             null|        null|EB E GUN HILL RD @ B|          ARNES AVE|                  0|       1180|           B|                   T|                      null|                null|              null|         null|                 null|        2001|        null|             0|               null| PHTO SCHOOL ZN SP...|                             null|             null|                    null|null|\n",
      "|    4627113330| HCA5464|                NY|       OMS|11/21/2016|            36|             SUBN|       DODGE|             V|           0|           0|           0|                      0|              null|                 0|              0|          0|          null|        null|         1005A|               null|              QN|                             null|        null|NB BAISLEY BLVD @ 15|             5TH ST|                  0|       1180|           B|                   T|                      null|                null|              null|           BK|                 null|        2016|        null|             0|               null| PHTO SCHOOL ZN SP...|                             null|             null|                    null|null|\n",
      "|    4006478550| VAD7274|                VA|       PAS|10/05/2016|             5|               4D|         BMW|             V|           0|           0|           0|                      0|              null|                 0|              0|          0|          null|        null|         0845A|               null|              BX|                             null|        null|SB WEBSTER AVE @ E 2|            04TH ST|                  0|       1111|           C|                   T|                      null|                null|              null|          BLK|                 null|        2008|        null|             0|               null|   BUS LANE VIOLATION|                             null|             null|                    null|null|\n",
      "|    1407740258| 2513JMG|                NY|       COM|01/11/2017|            78|             DELV|       FRUEH|             P|           0|       40404|       40404|               20161130|               106|               106|            106|     960979|          0106|        0000|         0015A|               null|               Q|                             null|         126|          ST 115 AVE|               null|                  0|        408|          E2|                null|                   BBBBBBB|                 ALL|               ALL|        WHITE|                    0|        2015|           -|             0|               null|                 null|                             null|             null|                    null|null|\n",
      "|    8009901763| 13657MD|                NY|       COM|09/27/2016|            19|             DELV|       KENWO|             T|       10510|       34870|       34890|               20170331|                18|                18|             18|     357355|          T400|           A|         0707A|               null|              NY|                                O|        1365|             6th Ave|               null|                  0|        408|          c3|                null|                   YYYYYYY|                null|              null|           RD|                 null|        2013|        null|             0|               01 9| 19-No Stand (bus ...|                             null|             null|                    null|null|\n",
      "|    4625926610|N102911C|                NY|       OMT|10/27/2016|            36|              VAN|        FORD|             V|           0|           0|           0|                      0|              null|                 0|              0|          0|          null|        null|         1022A|               null|              QN|                             null|        null|EB HORACE HARDING EX|PRESSWAY @ PECK AVE|                  0|       1180|           B|                   T|                      null|                null|              null|           WH|                 null|        2008|        null|             0|               null| PHTO SCHOOL ZN SP...|                             null|             null|                    null|null|\n",
      "|    1416492320| FGR5997|                NY|       PAS|09/30/2016|            21|              SDN|       NISSA|             P|       53620|       74250|       74260|               20170303|                44|                44|             44|     905733|          0044|        0000|         1150A|               null|              BX|                                F|        1224|          NELSON AVE|               null|                  0|        408|          F1|                null|                   BYBBYBB|               1130A|             0100P|          TAN|                    0|           0|           -|             0|               null|                 null|                             null|             null|                    null|null|\n",
      "|    1413656420|T672371C|                NY|       PAS|02/04/2017|            40|             TAXI|       TOYOT|             P|       59630|       73470|       82230|               20170531|                73|                73|             73|     960758|          0073|        0000|         0525A|               null|               K|                                F|         279|         MCDOUGAL ST|               null|                  0|        408|          F1|                null|                   BBBBBBB|                 ALL|               ALL|          BLK|                    0|        2015|           -|             0|               null|                 null|                             null|             null|                    null|null|\n",
      "|    7959486440| GYF2052|                NY|       PAS|07/07/2016|            71|             4DSD|       VOLKS|             T|       70407|       17390|       48890|               20170527|               120|               120|            120|     356557|          T303|           E|         0645P|               null|               R|                                F|         143|     N St Austins Pl|               null|                  0|        408|          j6|                null|                      null|                null|              null|           GY|                 null|        2012|        null|             0|               C-PM| 71-Insp. Sticker ...|                             null|             null|                    null|null|\n",
      "|    5093620865| AD80228|                AZ|       PAS|09/24/2016|             7|               TK|        FORD|             V|           0|           0|           0|                      0|              null|                 0|              0|          0|          null|        null|         1122A|               null|              QN|                             null|        null|SO CONDUIT AVE (E/B)|          @ 89TH ST|                  0|       1111|           D|                   T|                      null|                null|              null|         null|                 null|        2009|        null|             0|               null| FAILURE TO STOP A...|                             null|             null|                    null|null|\n",
      "|    8480309064| 51771JW|                NY|       COM|01/26/2017|            64|              VAN|       INTER|             T|       17850|       10210|       10110|               88888888|                17|                17|             17|     363557|          T102|           L|         0256P|               null|              NY|                                F|         204|           E 43rd St|               null|                  0|        408|          C8|                null|                   YYYYYYY|                null|              null|        BROWN|                 null|        2007|        null|             0|                 06| 64-No STD Ex Con/...|                             null|             null|                    null|null|\n",
      "|    1416638830|  GLP367|                NY|       PAS|04/30/2017|            20|             SUBN|       DODGE|             P|       17650|       10110|       10010|               20180304|                17|                17|             17|     940179|          0017|        0000|         1232A|               null|              NY|                                O|         330|             E 33 ST|               null|                  0|        408|          E2|                null|                   YYYYYYY|               1200A|             1159P|          BLK|                    0|        2009|           -|             0|               null|                 null|                             null|             null|                    null|null|\n",
      "|    4630524241|  HJBP29|                FL|       PAS|02/03/2017|            36|               4D|         BMW|             V|           0|           0|           0|                      0|              null|                 0|              0|          0|          null|        null|         1034A|               null|              BK|                             null|        null|WB LINDEN BLVD @ SCH|           ENCK AVE|                  0|       1180|           B|                   T|                      null|                null|              null|          SIL|                 null|        2009|        null|             0|               null| PHTO SCHOOL ZN SP...|                             null|             null|                    null|null|\n",
      "+--------------+--------+------------------+----------+----------+--------------+-----------------+------------+--------------+------------+------------+------------+-----------------------+------------------+------------------+---------------+-----------+--------------+------------+--------------+-------------------+----------------+---------------------------------+------------+--------------------+-------------------+-------------------+-----------+------------+--------------------+--------------------------+--------------------+------------------+-------------+---------------------+------------+------------+--------------+-------------------+---------------------+---------------------------------+-----------------+------------------------+----+\n",
      "only showing top 20 rows\n",
      "\n"
     ]
    }
   ],
   "source": [
    "df3.show()"
   ]
  },
  {
   "attachments": {},
   "cell_type": "markdown",
   "metadata": {},
   "source": [
    "from pyspark.sql.functions import date_format\n",
    "\n",
    "df = spark.createDataFrame([('2018-07-12',)], ['dt'])\n",
    "df.select(date_format('dt', 'ddMMyy').alias('date')).collect()"
   ]
  },
  {
   "cell_type": "code",
   "execution_count": 62,
   "metadata": {},
   "outputs": [],
   "source": [
    "from pyspark.sql.functions import date_format"
   ]
  },
  {
   "cell_type": "code",
   "execution_count": 63,
   "metadata": {},
   "outputs": [
    {
     "name": "stdout",
     "output_type": "stream",
     "text": [
      "root\n",
      " |-- Summons_Number: long (nullable = true)\n",
      " |-- Plate_ID: string (nullable = true)\n",
      " |-- Registration_State: string (nullable = true)\n",
      " |-- Plate_Type: string (nullable = true)\n",
      " |-- Issue_Date: string (nullable = true)\n",
      " |-- Violation_Code: integer (nullable = true)\n",
      " |-- Vehicle_Body_Type: string (nullable = true)\n",
      " |-- Vehicle_Make: string (nullable = true)\n",
      " |-- Issuing_Agency: string (nullable = true)\n",
      " |-- Street Code1: integer (nullable = true)\n",
      " |-- Street Code2: integer (nullable = true)\n",
      " |-- Street Code3: integer (nullable = true)\n",
      " |-- Vehicle_Expiration_Date: integer (nullable = true)\n",
      " |-- Violation Location: integer (nullable = true)\n",
      " |-- Violation Precinct: integer (nullable = true)\n",
      " |-- Issuer Precinct: integer (nullable = true)\n",
      " |-- Issuer Code: integer (nullable = true)\n",
      " |-- Issuer Command: string (nullable = true)\n",
      " |-- Issuer Squad: string (nullable = true)\n",
      " |-- Violation Time: string (nullable = true)\n",
      " |-- Time First Observed: string (nullable = true)\n",
      " |-- Violation County: string (nullable = true)\n",
      " |-- Violation In Front Of Or Opposite: string (nullable = true)\n",
      " |-- House Number: string (nullable = true)\n",
      " |-- Street_Name: string (nullable = true)\n",
      " |-- Intersecting Street: string (nullable = true)\n",
      " |-- Date First Observed: integer (nullable = true)\n",
      " |-- Law Section: integer (nullable = true)\n",
      " |-- Sub Division: string (nullable = true)\n",
      " |-- Violation Legal Code: string (nullable = true)\n",
      " |-- Days Parking In Effect    : string (nullable = true)\n",
      " |-- From Hours In Effect: string (nullable = true)\n",
      " |-- To Hours In Effect: string (nullable = true)\n",
      " |-- Vehicle Color: string (nullable = true)\n",
      " |-- Unregistered Vehicle?: integer (nullable = true)\n",
      " |-- Vehicle Year: integer (nullable = true)\n",
      " |-- Meter Number: string (nullable = true)\n",
      " |-- Feet From Curb: integer (nullable = true)\n",
      " |-- Violation Post Code: string (nullable = true)\n",
      " |-- Violation Description: string (nullable = true)\n",
      " |-- No Standing or Stopping Violation: string (nullable = true)\n",
      " |-- Hydrant Violation: string (nullable = true)\n",
      " |-- Double Parking Violation: string (nullable = true)\n",
      " |-- date: date (nullable = true)\n",
      "\n"
     ]
    }
   ],
   "source": [
    "df3.printSchema()"
   ]
  },
  {
   "cell_type": "code",
   "execution_count": 68,
   "metadata": {},
   "outputs": [
    {
     "name": "stdout",
     "output_type": "stream",
     "text": [
      "+--------------+--------+------------------+----------+----------+--------------+-----------------+------------+--------------+------------+------------+------------+-----------------------+------------------+------------------+---------------+-----------+--------------+------------+--------------+-------------------+----------------+---------------------------------+------------+--------------------+-------------------+-------------------+-----------+------------+--------------------+--------------------------+--------------------+------------------+-------------+---------------------+------------+------------+--------------+-------------------+---------------------+---------------------------------+-----------------+------------------------+----+\n",
      "|Summons_Number|Plate_ID|Registration_State|Plate_Type|Issue_Date|Violation_Code|Vehicle_Body_Type|Vehicle_Make|Issuing_Agency|Street Code1|Street Code2|Street Code3|Vehicle_Expiration_Date|Violation Location|Violation Precinct|Issuer Precinct|Issuer Code|Issuer Command|Issuer Squad|Violation Time|Time First Observed|Violation County|Violation In Front Of Or Opposite|House Number|         Street_Name|Intersecting Street|Date First Observed|Law Section|Sub Division|Violation Legal Code|Days Parking In Effect    |From Hours In Effect|To Hours In Effect|Vehicle Color|Unregistered Vehicle?|Vehicle Year|Meter Number|Feet From Curb|Violation Post Code|Violation Description|No Standing or Stopping Violation|Hydrant Violation|Double Parking Violation|date|\n",
      "+--------------+--------+------------------+----------+----------+--------------+-----------------+------------+--------------+------------+------------+------------+-----------------------+------------------+------------------+---------------+-----------+--------------+------------+--------------+-------------------+----------------+---------------------------------+------------+--------------------+-------------------+-------------------+-----------+------------+--------------------+--------------------------+--------------------+------------------+-------------+---------------------+------------+------------+--------------+-------------------+---------------------+---------------------------------+-----------------+------------------------+----+\n",
      "|    5092469481| GZH7067|                NY|       PAS|07/10/2016|             7|             SUBN|       TOYOT|             V|           0|           0|           0|                   null|              null|                 0|              0|          0|          null|        null|         0143A|               null|              BX|                             null|        null|ALLERTON AVE (W/B) @|         BARNES AVE|                  0|       1111|           D|                   T|                      null|                null|              null|           GY|                 null|        2001|        null|             0|               null| FAILURE TO STOP A...|                             null|             null|                    null|null|\n",
      "|    5092451658| GZH7067|                NY|       PAS|07/08/2016|             7|             SUBN|       TOYOT|             V|           0|           0|           0|                   null|              null|                 0|              0|          0|          null|        null|         0400P|               null|              BX|                             null|        null|ALLERTON AVE (W/B) @|         BARNES AVE|                  0|       1111|           D|                   T|                      null|                null|              null|           GY|                 null|        2001|        null|             0|               null| FAILURE TO STOP A...|                             null|             null|                    null|null|\n",
      "|    4006265037| FZX9232|                NY|       PAS|08/23/2016|             5|             SUBN|        FORD|             V|           0|           0|           0|                   null|              null|                 0|              0|          0|          null|        null|         0233P|               null|              BX|                             null|        null|SB WEBSTER AVE @ E 1|            94TH ST|                  0|       1111|           C|                   T|                      null|                null|              null|           BK|                 null|        2004|        null|             0|               null|   BUS LANE VIOLATION|                             null|             null|                    null|null|\n",
      "|    8478629828| 66623ME|                NY|       COM|06/14/2017|            47|             REFG|       MITSU|             T|       10610|       34330|       34350|             2018-06-30|                14|                14|             14|     359594|          T102|           J|         1120A|               null|              NY|                                O|         330|             7th Ave|               null|                  0|        408|          l2|                null|                         Y|               0700A|             0700P|           WH|                 null|        2007|        null|             0|                 04| 47-Double PKG-Mid...|                             null|             null|                    null|null|\n",
      "|    7868300310| 37033JV|                NY|       COM|11/21/2016|            69|             DELV|       INTER|             T|       10510|       34310|       34330|             2017-02-28|                13|                13|             13|     364832|          T102|           M|         0555P|               null|              NY|                                F|         799|             6th Ave|               null|                  0|        408|          h1|                null|                         Y|               0700A|             0700P|        WHITE|                 null|        2007|        null|             0|               31 6| 69-Failure to Dis...|                             null|             null|                    null|null|\n",
      "|    5096917368| FZD8593|                NY|       PAS|06/13/2017|             7|             SUBN|       ME/BE|             V|           0|           0|           0|                   null|              null|                 0|              0|          0|          null|        null|         0852P|               null|              QN|                             null|        null| NORTHERN BLVD (E/B)|    @ MARATHON PKWY|                  0|       1111|           D|                   T|                      null|                null|              null|           WH|                 null|        2012|        null|             0|               null| FAILURE TO STOP A...|                             null|             null|                    null|null|\n",
      "|    1413609545|  X20DCM|                NJ|       PAS|08/03/2016|            40|              SDN|       TOYOT|             P|       54070|       39430|       54930|                   null|                71|                71|             71|     960290|          0071|        0000|         0215A|               null|               K|                                F|         439|            KINGSTON|               null|                  0|        408|          C3|                null|                   BBBBBBB|                 ALL|               ALL|        WHITE|                    0|           0|           -|             1|               null|                 null|                             null|             null|                    null|null|\n",
      "|    4628525523|  326SF9|                MA|       PAS|12/21/2016|            36|               UT|         BMW|             V|           0|           0|           0|                   null|              null|                 0|              0|          0|          null|        null|         0758A|               null|              BX|                             null|        null|EB E GUN HILL RD @ B|          ARNES AVE|                  0|       1180|           B|                   T|                      null|                null|              null|         null|                 null|        2001|        null|             0|               null| PHTO SCHOOL ZN SP...|                             null|             null|                    null|null|\n",
      "|    4627113330| HCA5464|                NY|       OMS|11/21/2016|            36|             SUBN|       DODGE|             V|           0|           0|           0|                   null|              null|                 0|              0|          0|          null|        null|         1005A|               null|              QN|                             null|        null|NB BAISLEY BLVD @ 15|             5TH ST|                  0|       1180|           B|                   T|                      null|                null|              null|           BK|                 null|        2016|        null|             0|               null| PHTO SCHOOL ZN SP...|                             null|             null|                    null|null|\n",
      "|    4006478550| VAD7274|                VA|       PAS|10/05/2016|             5|               4D|         BMW|             V|           0|           0|           0|                   null|              null|                 0|              0|          0|          null|        null|         0845A|               null|              BX|                             null|        null|SB WEBSTER AVE @ E 2|            04TH ST|                  0|       1111|           C|                   T|                      null|                null|              null|          BLK|                 null|        2008|        null|             0|               null|   BUS LANE VIOLATION|                             null|             null|                    null|null|\n",
      "|    1407740258| 2513JMG|                NY|       COM|01/11/2017|            78|             DELV|       FRUEH|             P|           0|       40404|       40404|             2016-11-30|               106|               106|            106|     960979|          0106|        0000|         0015A|               null|               Q|                             null|         126|          ST 115 AVE|               null|                  0|        408|          E2|                null|                   BBBBBBB|                 ALL|               ALL|        WHITE|                    0|        2015|           -|             0|               null|                 null|                             null|             null|                    null|null|\n",
      "|    8009901763| 13657MD|                NY|       COM|09/27/2016|            19|             DELV|       KENWO|             T|       10510|       34870|       34890|             2017-03-31|                18|                18|             18|     357355|          T400|           A|         0707A|               null|              NY|                                O|        1365|             6th Ave|               null|                  0|        408|          c3|                null|                   YYYYYYY|                null|              null|           RD|                 null|        2013|        null|             0|               01 9| 19-No Stand (bus ...|                             null|             null|                    null|null|\n",
      "|    4625926610|N102911C|                NY|       OMT|10/27/2016|            36|              VAN|        FORD|             V|           0|           0|           0|                   null|              null|                 0|              0|          0|          null|        null|         1022A|               null|              QN|                             null|        null|EB HORACE HARDING EX|PRESSWAY @ PECK AVE|                  0|       1180|           B|                   T|                      null|                null|              null|           WH|                 null|        2008|        null|             0|               null| PHTO SCHOOL ZN SP...|                             null|             null|                    null|null|\n",
      "|    1416492320| FGR5997|                NY|       PAS|09/30/2016|            21|              SDN|       NISSA|             P|       53620|       74250|       74260|             2017-03-03|                44|                44|             44|     905733|          0044|        0000|         1150A|               null|              BX|                                F|        1224|          NELSON AVE|               null|                  0|        408|          F1|                null|                   BYBBYBB|               1130A|             0100P|          TAN|                    0|           0|           -|             0|               null|                 null|                             null|             null|                    null|null|\n",
      "|    1413656420|T672371C|                NY|       PAS|02/04/2017|            40|             TAXI|       TOYOT|             P|       59630|       73470|       82230|             2017-05-31|                73|                73|             73|     960758|          0073|        0000|         0525A|               null|               K|                                F|         279|         MCDOUGAL ST|               null|                  0|        408|          F1|                null|                   BBBBBBB|                 ALL|               ALL|          BLK|                    0|        2015|           -|             0|               null|                 null|                             null|             null|                    null|null|\n",
      "|    7959486440| GYF2052|                NY|       PAS|07/07/2016|            71|             4DSD|       VOLKS|             T|       70407|       17390|       48890|             2017-05-27|               120|               120|            120|     356557|          T303|           E|         0645P|               null|               R|                                F|         143|     N St Austins Pl|               null|                  0|        408|          j6|                null|                      null|                null|              null|           GY|                 null|        2012|        null|             0|               C-PM| 71-Insp. Sticker ...|                             null|             null|                    null|null|\n",
      "|    5093620865| AD80228|                AZ|       PAS|09/24/2016|             7|               TK|        FORD|             V|           0|           0|           0|                   null|              null|                 0|              0|          0|          null|        null|         1122A|               null|              QN|                             null|        null|SO CONDUIT AVE (E/B)|          @ 89TH ST|                  0|       1111|           D|                   T|                      null|                null|              null|         null|                 null|        2009|        null|             0|               null| FAILURE TO STOP A...|                             null|             null|                    null|null|\n",
      "|    8480309064| 51771JW|                NY|       COM|01/26/2017|            64|              VAN|       INTER|             T|       17850|       10210|       10110|                   null|                17|                17|             17|     363557|          T102|           L|         0256P|               null|              NY|                                F|         204|           E 43rd St|               null|                  0|        408|          C8|                null|                   YYYYYYY|                null|              null|        BROWN|                 null|        2007|        null|             0|                 06| 64-No STD Ex Con/...|                             null|             null|                    null|null|\n",
      "|    1416638830|  GLP367|                NY|       PAS|04/30/2017|            20|             SUBN|       DODGE|             P|       17650|       10110|       10010|             2018-03-04|                17|                17|             17|     940179|          0017|        0000|         1232A|               null|              NY|                                O|         330|             E 33 ST|               null|                  0|        408|          E2|                null|                   YYYYYYY|               1200A|             1159P|          BLK|                    0|        2009|           -|             0|               null|                 null|                             null|             null|                    null|null|\n",
      "|    4630524241|  HJBP29|                FL|       PAS|02/03/2017|            36|               4D|         BMW|             V|           0|           0|           0|                   null|              null|                 0|              0|          0|          null|        null|         1034A|               null|              BK|                             null|        null|WB LINDEN BLVD @ SCH|           ENCK AVE|                  0|       1180|           B|                   T|                      null|                null|              null|          SIL|                 null|        2009|        null|             0|               null| PHTO SCHOOL ZN SP...|                             null|             null|                    null|null|\n",
      "+--------------+--------+------------------+----------+----------+--------------+-----------------+------------+--------------+------------+------------+------------+-----------------------+------------------+------------------+---------------+-----------+--------------+------------+--------------+-------------------+----------------+---------------------------------+------------+--------------------+-------------------+-------------------+-----------+------------+--------------------+--------------------------+--------------------+------------------+-------------+---------------------+------------+------------+--------------+-------------------+---------------------+---------------------------------+-----------------+------------------------+----+\n",
      "only showing top 20 rows\n",
      "\n"
     ]
    }
   ],
   "source": [
    "from pyspark.sql import functions as F\n",
    "\n",
    "df3.withColumn(\"Vehicle_Expiration_Date\", F.to_date(F.col(\"Vehicle_Expiration_Date\").cast(\"String\"), \\\n",
    "    'yyyyMMdd')).show()"
   ]
  },
  {
   "cell_type": "code",
   "execution_count": 66,
   "metadata": {},
   "outputs": [
    {
     "name": "stdout",
     "output_type": "stream",
     "text": [
      "root\n",
      " |-- Summons_Number: long (nullable = true)\n",
      " |-- Plate_ID: string (nullable = true)\n",
      " |-- Registration_State: string (nullable = true)\n",
      " |-- Plate_Type: string (nullable = true)\n",
      " |-- Issue_Date: string (nullable = true)\n",
      " |-- Violation_Code: integer (nullable = true)\n",
      " |-- Vehicle_Body_Type: string (nullable = true)\n",
      " |-- Vehicle_Make: string (nullable = true)\n",
      " |-- Issuing_Agency: string (nullable = true)\n",
      " |-- Street Code1: integer (nullable = true)\n",
      " |-- Street Code2: integer (nullable = true)\n",
      " |-- Street Code3: integer (nullable = true)\n",
      " |-- Vehicle_Expiration_Date: integer (nullable = true)\n",
      " |-- Violation Location: integer (nullable = true)\n",
      " |-- Violation Precinct: integer (nullable = true)\n",
      " |-- Issuer Precinct: integer (nullable = true)\n",
      " |-- Issuer Code: integer (nullable = true)\n",
      " |-- Issuer Command: string (nullable = true)\n",
      " |-- Issuer Squad: string (nullable = true)\n",
      " |-- Violation Time: string (nullable = true)\n",
      " |-- Time First Observed: string (nullable = true)\n",
      " |-- Violation County: string (nullable = true)\n",
      " |-- Violation In Front Of Or Opposite: string (nullable = true)\n",
      " |-- House Number: string (nullable = true)\n",
      " |-- Street_Name: string (nullable = true)\n",
      " |-- Intersecting Street: string (nullable = true)\n",
      " |-- Date First Observed: integer (nullable = true)\n",
      " |-- Law Section: integer (nullable = true)\n",
      " |-- Sub Division: string (nullable = true)\n",
      " |-- Violation Legal Code: string (nullable = true)\n",
      " |-- Days Parking In Effect    : string (nullable = true)\n",
      " |-- From Hours In Effect: string (nullable = true)\n",
      " |-- To Hours In Effect: string (nullable = true)\n",
      " |-- Vehicle Color: string (nullable = true)\n",
      " |-- Unregistered Vehicle?: integer (nullable = true)\n",
      " |-- Vehicle Year: integer (nullable = true)\n",
      " |-- Meter Number: string (nullable = true)\n",
      " |-- Feet From Curb: integer (nullable = true)\n",
      " |-- Violation Post Code: string (nullable = true)\n",
      " |-- Violation Description: string (nullable = true)\n",
      " |-- No Standing or Stopping Violation: string (nullable = true)\n",
      " |-- Hydrant Violation: string (nullable = true)\n",
      " |-- Double Parking Violation: string (nullable = true)\n",
      " |-- date: date (nullable = true)\n",
      "\n"
     ]
    }
   ],
   "source": [
    "df3.printSchema()"
   ]
  },
  {
   "cell_type": "code",
   "execution_count": null,
   "metadata": {},
   "outputs": [],
   "source": []
  },
  {
   "cell_type": "code",
   "execution_count": null,
   "metadata": {},
   "outputs": [],
   "source": []
  }
 ],
 "metadata": {
  "kernelspec": {
   "display_name": "Python 3",
   "language": "python",
   "name": "python3"
  },
  "language_info": {
   "codemirror_mode": {
    "name": "ipython",
    "version": 3
   },
   "file_extension": ".py",
   "mimetype": "text/x-python",
   "name": "python",
   "nbconvert_exporter": "python",
   "pygments_lexer": "ipython3",
   "version": "3.11.0"
  },
  "orig_nbformat": 4
 },
 "nbformat": 4,
 "nbformat_minor": 2
}
