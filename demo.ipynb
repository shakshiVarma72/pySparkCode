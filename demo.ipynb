{
 "cells": [
  {
   "cell_type": "code",
   "execution_count": null,
   "metadata": {},
   "outputs": [],
   "source": [
    "! pip install pyspark"
   ]
  },
  {
   "cell_type": "code",
   "execution_count": 1,
   "metadata": {},
   "outputs": [],
   "source": [
    "import pyspark "
   ]
  },
  {
   "cell_type": "code",
   "execution_count": 2,
   "metadata": {},
   "outputs": [],
   "source": [
    "import pandas as pd"
   ]
  },
  {
   "cell_type": "code",
   "execution_count": 3,
   "metadata": {},
   "outputs": [],
   "source": [
    "from pyspark.sql import SparkSession"
   ]
  },
  {
   "cell_type": "code",
   "execution_count": 4,
   "metadata": {},
   "outputs": [],
   "source": [
    "spark= SparkSession.builder.appName(\"dataframe\").getOrCreate()"
   ]
  },
  {
   "cell_type": "code",
   "execution_count": 5,
   "metadata": {},
   "outputs": [
    {
     "data": {
      "text/html": [
       "\n",
       "            <div>\n",
       "                <p><b>SparkSession - in-memory</b></p>\n",
       "                \n",
       "        <div>\n",
       "            <p><b>SparkContext</b></p>\n",
       "\n",
       "            <p><a href=\"http://11315-Shakshi.teamcomputers.com:4041\">Spark UI</a></p>\n",
       "\n",
       "            <dl>\n",
       "              <dt>Version</dt>\n",
       "                <dd><code>v3.3.1</code></dd>\n",
       "              <dt>Master</dt>\n",
       "                <dd><code>local[*]</code></dd>\n",
       "              <dt>AppName</dt>\n",
       "                <dd><code>dataframe</code></dd>\n",
       "            </dl>\n",
       "        </div>\n",
       "        \n",
       "            </div>\n",
       "        "
      ],
      "text/plain": [
       "<pyspark.sql.session.SparkSession at 0x24099e7add0>"
      ]
     },
     "execution_count": 5,
     "metadata": {},
     "output_type": "execute_result"
    }
   ],
   "source": [
    "spark"
   ]
  },
  {
   "cell_type": "code",
   "execution_count": 14,
   "metadata": {},
   "outputs": [],
   "source": [
    "df_pyspark=spark.read.csv(r\"C:\\Users\\11315\\Downloads\\W.csv\",inferSchema=True)"
   ]
  },
  {
   "cell_type": "code",
   "execution_count": 15,
   "metadata": {},
   "outputs": [
    {
     "data": {
      "text/plain": [
       "DataFrame[_c0: int, _c1: string, _c2: string, _c3: string, _c4: string, _c5: string, _c6: string, _c7: string, _c8: string, _c9: string, _c10: string, _c11: string, _c12: string, _c13: string, _c14: string, _c15: string, _c16: string, _c17: string, _c18: string]"
      ]
     },
     "execution_count": 15,
     "metadata": {},
     "output_type": "execute_result"
    }
   ],
   "source": [
    "df_pyspark"
   ]
  },
  {
   "cell_type": "code",
   "execution_count": 21,
   "metadata": {},
   "outputs": [],
   "source": [
    "df_pyspark= spark.read.option('header','True').csv(r\"C:\\Users\\11315\\Downloads\\W.csv\")"
   ]
  },
  {
   "cell_type": "code",
   "execution_count": 22,
   "metadata": {},
   "outputs": [
    {
     "name": "stdout",
     "output_type": "stream",
     "text": [
      "+---+------+----+-----+------------+--------+--------------------+-------+----------+---+-----+--------+----------------+--------+--------+------+--------+--------+--------+\n",
      "|_c0| Month|Year|Plant|    Material|SD Price|Material Description|Segment|  Customer|Ver|Model|Cust Grp|       Attribute|    User|    Time|Bf Qty|    Date|    Desc|Prashant|\n",
      "+---+------+----+-----+------------+--------+--------------------+-------+----------+---+-----+--------+----------------+--------+--------+------+--------+--------+--------+\n",
      "|  0|AUGUST|2022| HPR1|TT765037X040|   87227|WFR-419(B) DFE 16...|    FET| SURINPTMP|  1|  FET|     OEM|TML body Builder|VE12758F|10:47:12|     0|11-10-22|MN-1 Qty|      60|\n",
      "|  1|AUGUST|2022| HPR1|TT765037X040|   87227|WFR-419(B) DFE 16...|    FET| SURINPTMP|  1|  FET|     OEM|TML body Builder|VE12758F|10:47:12|     0|11-10-22|MN-2 Qty|      11|\n",
      "|  2|AUGUST|2022| HPR1|TT765037X040|   87227|WFR-419(B) DFE 16...|    FET| SURINPTMP|  1|  FET|     OEM|TML body Builder|VE12758F|10:47:12|     0|11-10-22|MN-3 Qty|      40|\n",
      "|  3|AUGUST|2022| HPR1|TT765037X040|   87227|WFR-419(B) DFE 16...|    FET| SURINPTMP|  1|  FET|     OEM|TML body Builder|VE12758F|10:47:12|     0|11-10-22|MN-4 Qty|      20|\n",
      "|  4|AUGUST|2022| HPR1|TT765037X040|   87227|WFR-419(B) DFE 16...|    FET| SURINPTMP|  1|  FET|     OEM|TML body Builder|VE12758F|10:47:12|     0|11-10-22|MN-5 Qty|      10|\n",
      "|  5|AUGUST|2022| HPR1|TT765037X040|   87227|WFR-419(B) DFE 16...|    FET| SURINPTMP|  1|  FET|     OEM|TML body Builder|VE12758F|10:47:12|     0|11-10-22|MN-6 Qty|      20|\n",
      "|  6|AUGUST|2022| HPR1|TT765037X040|   87227|WFR-419(B) DFE 16...|    FET| SURINPTMP|  1|  FET|     OEM|TML body Builder|VE12758F|10:47:12|     0|11-10-22|Mn-1 Val| 5233620|\n",
      "|  7|AUGUST|2022| HPR1|TT765037X040|   87227|WFR-419(B) DFE 16...|    FET| SURINPTMP|  1|  FET|     OEM|TML body Builder|VE12758F|10:47:12|     0|11-10-22|Mn-2 Val|  959497|\n",
      "|  8|AUGUST|2022| HPR1|TT765037X040|   87227|WFR-419(B) DFE 16...|    FET| SURINPTMP|  1|  FET|     OEM|TML body Builder|VE12758F|10:47:12|     0|11-10-22|Mn-3 Val| 3489080|\n",
      "|  9|AUGUST|2022| HPR1|TT765037X040|   87227|WFR-419(B) DFE 16...|    FET| SURINPTMP|  1|  FET|     OEM|TML body Builder|VE12758F|10:47:12|     0|11-10-22|Mn-4 Val| 1744540|\n",
      "| 10|AUGUST|2022| HPR1|TT765037X040|   87227|WFR-419(B) DFE 16...|    FET| SURINPTMP|  1|  FET|     OEM|TML body Builder|VE12758F|10:47:12|     0|11-10-22|Mn-5 Val|  872270|\n",
      "| 11|AUGUST|2022| HPR1|TT765037X040|   87227|WFR-419(B) DFE 16...|    FET| SURINPTMP|  1|  FET|     OEM|TML body Builder|VE12758F|10:47:12|     0|11-10-22|Mn-6 Val| 1744540|\n",
      "| 12|AUGUST|2022| HPR1|TT765037X040|   87227|WFR-419(B) DFE 16...|    FET| SURINPTMP|  1|  FET|     OEM|TML body Builder|VE12758F|10:47:12|     0|11-10-22|WWWK Qty|     120|\n",
      "| 13|AUGUST|2022| HPR1|TT765037X040|   87227|WFR-419(B) DFE 16...|    FET| SURINPTMP|  1|  FET|     OEM|TML body Builder|VE12758F|10:47:12|     0|11-10-22|WWWK Val|10467240|\n",
      "| 14|AUGUST|2022| HPR1|TT866028X050|   58242|WFR-468 (B) DFE 1...|    FET|CADIAUTOLK|  1|  FET|     OEM|TML body Builder|VE12758F|10:47:12|     0|11-10-22|MN-1 Qty|      40|\n",
      "| 15|AUGUST|2022| HPR1|TT866028X050|   58242|WFR-468 (B) DFE 1...|    FET|CADIAUTOLK|  1|  FET|     OEM|TML body Builder|VE12758F|10:47:12|     0|11-10-22|MN-2 Qty|      20|\n",
      "| 16|AUGUST|2022| HPR1|TT866028X050|   58242|WFR-468 (B) DFE 1...|    FET|CADIAUTOLK|  1|  FET|     OEM|TML body Builder|VE12758F|10:47:12|     0|11-10-22|MN-3 Qty|      30|\n",
      "| 17|AUGUST|2022| HPR1|TT866028X050|   58242|WFR-468 (B) DFE 1...|    FET|CADIAUTOLK|  1|  FET|     OEM|TML body Builder|VE12758F|10:47:12|     0|11-10-22|MN-4 Qty|      70|\n",
      "| 18|AUGUST|2022| HPR1|TT866028X050|   58242|WFR-468 (B) DFE 1...|    FET|CADIAUTOLK|  1|  FET|     OEM|TML body Builder|VE12758F|10:47:12|     0|11-10-22|MN-5 Qty|      10|\n",
      "| 19|AUGUST|2022| HPR1|TT866028X050|   58242|WFR-468 (B) DFE 1...|    FET|CADIAUTOLK|  1|  FET|     OEM|TML body Builder|VE12758F|10:47:12|     0|11-10-22|MN-6 Qty|      90|\n",
      "+---+------+----+-----+------------+--------+--------------------+-------+----------+---+-----+--------+----------------+--------+--------+------+--------+--------+--------+\n",
      "only showing top 20 rows\n",
      "\n"
     ]
    }
   ],
   "source": [
    "df_pyspark.show()"
   ]
  },
  {
   "cell_type": "code",
   "execution_count": 24,
   "metadata": {},
   "outputs": [],
   "source": [
    "from pyspark.sql.functions import col"
   ]
  },
  {
   "cell_type": "code",
   "execution_count": 25,
   "metadata": {},
   "outputs": [],
   "source": [
    "from pyspark.sql.functions import when"
   ]
  },
  {
   "cell_type": "code",
   "execution_count": 26,
   "metadata": {},
   "outputs": [
    {
     "name": "stdout",
     "output_type": "stream",
     "text": [
      "+---+------+----+-----+------------+--------+--------------------+-------+----------+---+-----+--------+----------------+--------+--------+------+--------+--------+--------+--------+\n",
      "|_c0| Month|Year|Plant|    Material|SD Price|Material Description|Segment|  Customer|Ver|Model|Cust Grp|       Attribute|    User|    Time|Bf Qty|    Date|    Desc|Prashant|New_Desc|\n",
      "+---+------+----+-----+------------+--------+--------------------+-------+----------+---+-----+--------+----------------+--------+--------+------+--------+--------+--------+--------+\n",
      "|  0|AUGUST|2022| HPR1|TT765037X040|   87227|WFR-419(B) DFE 16...|    FET| SURINPTMP|  1|  FET|     OEM|TML body Builder|VE12758F|10:47:12|     0|11-10-22|MN-1 Qty|      60|MN-1 Qty|\n",
      "|  1|AUGUST|2022| HPR1|TT765037X040|   87227|WFR-419(B) DFE 16...|    FET| SURINPTMP|  1|  FET|     OEM|TML body Builder|VE12758F|10:47:12|     0|11-10-22|MN-2 Qty|      11|MN-2 Qty|\n",
      "|  2|AUGUST|2022| HPR1|TT765037X040|   87227|WFR-419(B) DFE 16...|    FET| SURINPTMP|  1|  FET|     OEM|TML body Builder|VE12758F|10:47:12|     0|11-10-22|MN-3 Qty|      40|MN-3 Qty|\n",
      "|  3|AUGUST|2022| HPR1|TT765037X040|   87227|WFR-419(B) DFE 16...|    FET| SURINPTMP|  1|  FET|     OEM|TML body Builder|VE12758F|10:47:12|     0|11-10-22|MN-4 Qty|      20|MN-4 Qty|\n",
      "|  4|AUGUST|2022| HPR1|TT765037X040|   87227|WFR-419(B) DFE 16...|    FET| SURINPTMP|  1|  FET|     OEM|TML body Builder|VE12758F|10:47:12|     0|11-10-22|MN-5 Qty|      10|MN-5 Qty|\n",
      "|  5|AUGUST|2022| HPR1|TT765037X040|   87227|WFR-419(B) DFE 16...|    FET| SURINPTMP|  1|  FET|     OEM|TML body Builder|VE12758F|10:47:12|     0|11-10-22|MN-6 Qty|      20|MN-6 Qty|\n",
      "|  6|AUGUST|2022| HPR1|TT765037X040|   87227|WFR-419(B) DFE 16...|    FET| SURINPTMP|  1|  FET|     OEM|TML body Builder|VE12758F|10:47:12|     0|11-10-22|Mn-1 Val| 5233620|Mn-1 Val|\n",
      "|  7|AUGUST|2022| HPR1|TT765037X040|   87227|WFR-419(B) DFE 16...|    FET| SURINPTMP|  1|  FET|     OEM|TML body Builder|VE12758F|10:47:12|     0|11-10-22|Mn-2 Val|  959497|Mn-2 Val|\n",
      "|  8|AUGUST|2022| HPR1|TT765037X040|   87227|WFR-419(B) DFE 16...|    FET| SURINPTMP|  1|  FET|     OEM|TML body Builder|VE12758F|10:47:12|     0|11-10-22|Mn-3 Val| 3489080|Mn-3 Val|\n",
      "|  9|AUGUST|2022| HPR1|TT765037X040|   87227|WFR-419(B) DFE 16...|    FET| SURINPTMP|  1|  FET|     OEM|TML body Builder|VE12758F|10:47:12|     0|11-10-22|Mn-4 Val| 1744540|Mn-4 Val|\n",
      "| 10|AUGUST|2022| HPR1|TT765037X040|   87227|WFR-419(B) DFE 16...|    FET| SURINPTMP|  1|  FET|     OEM|TML body Builder|VE12758F|10:47:12|     0|11-10-22|Mn-5 Val|  872270|Mn-5 Val|\n",
      "| 11|AUGUST|2022| HPR1|TT765037X040|   87227|WFR-419(B) DFE 16...|    FET| SURINPTMP|  1|  FET|     OEM|TML body Builder|VE12758F|10:47:12|     0|11-10-22|Mn-6 Val| 1744540|Mn-6 Val|\n",
      "| 12|AUGUST|2022| HPR1|TT765037X040|   87227|WFR-419(B) DFE 16...|    FET| SURINPTMP|  1|  FET|     OEM|TML body Builder|VE12758F|10:47:12|     0|11-10-22|WWWK Qty|     120|WWWK Qty|\n",
      "| 13|AUGUST|2022| HPR1|TT765037X040|   87227|WFR-419(B) DFE 16...|    FET| SURINPTMP|  1|  FET|     OEM|TML body Builder|VE12758F|10:47:12|     0|11-10-22|WWWK Val|10467240|WWWK Val|\n",
      "| 14|AUGUST|2022| HPR1|TT866028X050|   58242|WFR-468 (B) DFE 1...|    FET|CADIAUTOLK|  1|  FET|     OEM|TML body Builder|VE12758F|10:47:12|     0|11-10-22|MN-1 Qty|      40|MN-1 Qty|\n",
      "| 15|AUGUST|2022| HPR1|TT866028X050|   58242|WFR-468 (B) DFE 1...|    FET|CADIAUTOLK|  1|  FET|     OEM|TML body Builder|VE12758F|10:47:12|     0|11-10-22|MN-2 Qty|      20|MN-2 Qty|\n",
      "| 16|AUGUST|2022| HPR1|TT866028X050|   58242|WFR-468 (B) DFE 1...|    FET|CADIAUTOLK|  1|  FET|     OEM|TML body Builder|VE12758F|10:47:12|     0|11-10-22|MN-3 Qty|      30|MN-3 Qty|\n",
      "| 17|AUGUST|2022| HPR1|TT866028X050|   58242|WFR-468 (B) DFE 1...|    FET|CADIAUTOLK|  1|  FET|     OEM|TML body Builder|VE12758F|10:47:12|     0|11-10-22|MN-4 Qty|      70|MN-4 Qty|\n",
      "| 18|AUGUST|2022| HPR1|TT866028X050|   58242|WFR-468 (B) DFE 1...|    FET|CADIAUTOLK|  1|  FET|     OEM|TML body Builder|VE12758F|10:47:12|     0|11-10-22|MN-5 Qty|      10|MN-5 Qty|\n",
      "| 19|AUGUST|2022| HPR1|TT866028X050|   58242|WFR-468 (B) DFE 1...|    FET|CADIAUTOLK|  1|  FET|     OEM|TML body Builder|VE12758F|10:47:12|     0|11-10-22|MN-6 Qty|      90|MN-6 Qty|\n",
      "+---+------+----+-----+------------+--------+--------------------+-------+----------+---+-----+--------+----------------+--------+--------+------+--------+--------+--------+--------+\n",
      "only showing top 20 rows\n",
      "\n"
     ]
    }
   ],
   "source": [
    "df_pyspark.withColumn(\"New_Desc\",df_pyspark[\"Desc\"]).show()"
   ]
  },
  {
   "cell_type": "code",
   "execution_count": 28,
   "metadata": {},
   "outputs": [],
   "source": [
    "df_pyspark = df_pyspark.withColumn(\"New Desc\", when(df_pyspark[\"Desc\"].isNull(), 0).otherwise(df_pyspark[\"Desc\"]))"
   ]
  },
  {
   "cell_type": "code",
   "execution_count": 51,
   "metadata": {},
   "outputs": [],
   "source": [
    "df_pyspark= df_pyspark.withColumn(\"New Desc\", when(df_pyspark.Desc== \"MN-1 Qty\",\"Null\")\n",
    "                                 .when(df_pyspark.Desc== \"MN-2 Qty\",\"Null\")\n",
    "                                 .when(df_pyspark.Desc == \"MN-3 Qty\",\"Null\")\n",
    "                                 .when(df_pyspark.Desc == \"MN-4 Qty\",\"Null\")  \n",
    "                                 .when(df_pyspark.Desc == \"MN-5 Qty\",\"Null\")\n",
    "                                 .when(df_pyspark.Desc == \"MN-6 Qty\",\"Null\")\n",
    "                                 \n",
    "                                 .otherwise(df_pyspark.Desc))"
   ]
  },
  {
   "cell_type": "code",
   "execution_count": 52,
   "metadata": {},
   "outputs": [
    {
     "name": "stdout",
     "output_type": "stream",
     "text": [
      "+---+------+----+-----+------------+--------+--------------------+-------+----------+---+-----+--------+----------------+--------+--------+------+--------+--------+--------+--------+--------+\n",
      "|_c0| Month|Year|Plant|    Material|SD Price|Material Description|Segment|  Customer|Ver|Model|Cust Grp|       Attribute|    User|    Time|Bf Qty|    Date|    Desc|Prashant|New Desc|Old Desc|\n",
      "+---+------+----+-----+------------+--------+--------------------+-------+----------+---+-----+--------+----------------+--------+--------+------+--------+--------+--------+--------+--------+\n",
      "|  0|AUGUST|2022| HPR1|TT765037X040|   87227|WFR-419(B) DFE 16...|    FET| SURINPTMP|  1|  FET|     OEM|TML body Builder|VE12758F|10:47:12|     0|11-10-22|MN-1 Qty|      60|    Null|MN-1 Qty|\n",
      "|  1|AUGUST|2022| HPR1|TT765037X040|   87227|WFR-419(B) DFE 16...|    FET| SURINPTMP|  1|  FET|     OEM|TML body Builder|VE12758F|10:47:12|     0|11-10-22|MN-2 Qty|      11|    Null|MN-2 Qty|\n",
      "|  2|AUGUST|2022| HPR1|TT765037X040|   87227|WFR-419(B) DFE 16...|    FET| SURINPTMP|  1|  FET|     OEM|TML body Builder|VE12758F|10:47:12|     0|11-10-22|MN-3 Qty|      40|    Null|MN-3 Qty|\n",
      "|  3|AUGUST|2022| HPR1|TT765037X040|   87227|WFR-419(B) DFE 16...|    FET| SURINPTMP|  1|  FET|     OEM|TML body Builder|VE12758F|10:47:12|     0|11-10-22|MN-4 Qty|      20|    Null|MN-4 Qty|\n",
      "|  4|AUGUST|2022| HPR1|TT765037X040|   87227|WFR-419(B) DFE 16...|    FET| SURINPTMP|  1|  FET|     OEM|TML body Builder|VE12758F|10:47:12|     0|11-10-22|MN-5 Qty|      10|    Null|       0|\n",
      "|  5|AUGUST|2022| HPR1|TT765037X040|   87227|WFR-419(B) DFE 16...|    FET| SURINPTMP|  1|  FET|     OEM|TML body Builder|VE12758F|10:47:12|     0|11-10-22|MN-6 Qty|      20|    Null|MN-6 Qty|\n",
      "|  6|AUGUST|2022| HPR1|TT765037X040|   87227|WFR-419(B) DFE 16...|    FET| SURINPTMP|  1|  FET|     OEM|TML body Builder|VE12758F|10:47:12|     0|11-10-22|Mn-1 Val| 5233620|Mn-1 Val|       0|\n",
      "|  7|AUGUST|2022| HPR1|TT765037X040|   87227|WFR-419(B) DFE 16...|    FET| SURINPTMP|  1|  FET|     OEM|TML body Builder|VE12758F|10:47:12|     0|11-10-22|Mn-2 Val|  959497|Mn-2 Val|       0|\n",
      "|  8|AUGUST|2022| HPR1|TT765037X040|   87227|WFR-419(B) DFE 16...|    FET| SURINPTMP|  1|  FET|     OEM|TML body Builder|VE12758F|10:47:12|     0|11-10-22|Mn-3 Val| 3489080|Mn-3 Val|       0|\n",
      "|  9|AUGUST|2022| HPR1|TT765037X040|   87227|WFR-419(B) DFE 16...|    FET| SURINPTMP|  1|  FET|     OEM|TML body Builder|VE12758F|10:47:12|     0|11-10-22|Mn-4 Val| 1744540|Mn-4 Val|       0|\n",
      "| 10|AUGUST|2022| HPR1|TT765037X040|   87227|WFR-419(B) DFE 16...|    FET| SURINPTMP|  1|  FET|     OEM|TML body Builder|VE12758F|10:47:12|     0|11-10-22|Mn-5 Val|  872270|Mn-5 Val|       0|\n",
      "| 11|AUGUST|2022| HPR1|TT765037X040|   87227|WFR-419(B) DFE 16...|    FET| SURINPTMP|  1|  FET|     OEM|TML body Builder|VE12758F|10:47:12|     0|11-10-22|Mn-6 Val| 1744540|Mn-6 Val|       0|\n",
      "| 12|AUGUST|2022| HPR1|TT765037X040|   87227|WFR-419(B) DFE 16...|    FET| SURINPTMP|  1|  FET|     OEM|TML body Builder|VE12758F|10:47:12|     0|11-10-22|WWWK Qty|     120|WWWK Qty|       0|\n",
      "| 13|AUGUST|2022| HPR1|TT765037X040|   87227|WFR-419(B) DFE 16...|    FET| SURINPTMP|  1|  FET|     OEM|TML body Builder|VE12758F|10:47:12|     0|11-10-22|WWWK Val|10467240|WWWK Val|       0|\n",
      "| 14|AUGUST|2022| HPR1|TT866028X050|   58242|WFR-468 (B) DFE 1...|    FET|CADIAUTOLK|  1|  FET|     OEM|TML body Builder|VE12758F|10:47:12|     0|11-10-22|MN-1 Qty|      40|    Null|MN-1 Qty|\n",
      "| 15|AUGUST|2022| HPR1|TT866028X050|   58242|WFR-468 (B) DFE 1...|    FET|CADIAUTOLK|  1|  FET|     OEM|TML body Builder|VE12758F|10:47:12|     0|11-10-22|MN-2 Qty|      20|    Null|MN-2 Qty|\n",
      "| 16|AUGUST|2022| HPR1|TT866028X050|   58242|WFR-468 (B) DFE 1...|    FET|CADIAUTOLK|  1|  FET|     OEM|TML body Builder|VE12758F|10:47:12|     0|11-10-22|MN-3 Qty|      30|    Null|MN-3 Qty|\n",
      "| 17|AUGUST|2022| HPR1|TT866028X050|   58242|WFR-468 (B) DFE 1...|    FET|CADIAUTOLK|  1|  FET|     OEM|TML body Builder|VE12758F|10:47:12|     0|11-10-22|MN-4 Qty|      70|    Null|MN-4 Qty|\n",
      "| 18|AUGUST|2022| HPR1|TT866028X050|   58242|WFR-468 (B) DFE 1...|    FET|CADIAUTOLK|  1|  FET|     OEM|TML body Builder|VE12758F|10:47:12|     0|11-10-22|MN-5 Qty|      10|    Null|       0|\n",
      "| 19|AUGUST|2022| HPR1|TT866028X050|   58242|WFR-468 (B) DFE 1...|    FET|CADIAUTOLK|  1|  FET|     OEM|TML body Builder|VE12758F|10:47:12|     0|11-10-22|MN-6 Qty|      90|    Null|MN-6 Qty|\n",
      "+---+------+----+-----+------------+--------+--------------------+-------+----------+---+-----+--------+----------------+--------+--------+------+--------+--------+--------+--------+--------+\n",
      "only showing top 20 rows\n",
      "\n"
     ]
    }
   ],
   "source": [
    "df_pyspark.show()"
   ]
  },
  {
   "attachments": {},
   "cell_type": "markdown",
   "metadata": {},
   "source": []
  },
  {
   "cell_type": "code",
   "execution_count": 55,
   "metadata": {},
   "outputs": [],
   "source": [
    "df_pyspark= df_pyspark.withColumn('Old Desc',when(((col('Desc')=='MN-1 Qty')|(col('Desc')=='MN-2 Qty')|(col('Desc')=='MN-3 Qty')|(col('Desc')=='MN-4 Qty')|(col('Desc')=='MN-5 QTY')|(col('Desc')=='MN-6 Qty')),col('Desc')).otherwise(lit(0)))\n"
   ]
  },
  {
   "cell_type": "code",
   "execution_count": 49,
   "metadata": {},
   "outputs": [
    {
     "name": "stdout",
     "output_type": "stream",
     "text": [
      "+---+------+----+-----+------------+--------+--------------------+-------+----------+---+-----+--------+----------------+--------+--------+------+--------+--------+--------+--------+--------+\n",
      "|_c0| Month|Year|Plant|    Material|SD Price|Material Description|Segment|  Customer|Ver|Model|Cust Grp|       Attribute|    User|    Time|Bf Qty|    Date|    Desc|Prashant|New Desc|Old Desc|\n",
      "+---+------+----+-----+------------+--------+--------------------+-------+----------+---+-----+--------+----------------+--------+--------+------+--------+--------+--------+--------+--------+\n",
      "|  0|AUGUST|2022| HPR1|TT765037X040|   87227|WFR-419(B) DFE 16...|    FET| SURINPTMP|  1|  FET|     OEM|TML body Builder|VE12758F|10:47:12|     0|11-10-22|MN-1 Qty|      60|    Null|MN-1 Qty|\n",
      "|  1|AUGUST|2022| HPR1|TT765037X040|   87227|WFR-419(B) DFE 16...|    FET| SURINPTMP|  1|  FET|     OEM|TML body Builder|VE12758F|10:47:12|     0|11-10-22|MN-2 Qty|      11|    Null|MN-2 Qty|\n",
      "|  2|AUGUST|2022| HPR1|TT765037X040|   87227|WFR-419(B) DFE 16...|    FET| SURINPTMP|  1|  FET|     OEM|TML body Builder|VE12758F|10:47:12|     0|11-10-22|MN-3 Qty|      40|MN-3 Qty|MN-3 Qty|\n",
      "|  3|AUGUST|2022| HPR1|TT765037X040|   87227|WFR-419(B) DFE 16...|    FET| SURINPTMP|  1|  FET|     OEM|TML body Builder|VE12758F|10:47:12|     0|11-10-22|MN-4 Qty|      20|MN-4 Qty|MN-4 Qty|\n",
      "|  4|AUGUST|2022| HPR1|TT765037X040|   87227|WFR-419(B) DFE 16...|    FET| SURINPTMP|  1|  FET|     OEM|TML body Builder|VE12758F|10:47:12|     0|11-10-22|MN-5 Qty|      10|MN-5 Qty|       0|\n",
      "|  5|AUGUST|2022| HPR1|TT765037X040|   87227|WFR-419(B) DFE 16...|    FET| SURINPTMP|  1|  FET|     OEM|TML body Builder|VE12758F|10:47:12|     0|11-10-22|MN-6 Qty|      20|MN-6 Qty|MN-6 Qty|\n",
      "|  6|AUGUST|2022| HPR1|TT765037X040|   87227|WFR-419(B) DFE 16...|    FET| SURINPTMP|  1|  FET|     OEM|TML body Builder|VE12758F|10:47:12|     0|11-10-22|Mn-1 Val| 5233620|Mn-1 Val|       0|\n",
      "|  7|AUGUST|2022| HPR1|TT765037X040|   87227|WFR-419(B) DFE 16...|    FET| SURINPTMP|  1|  FET|     OEM|TML body Builder|VE12758F|10:47:12|     0|11-10-22|Mn-2 Val|  959497|Mn-2 Val|       0|\n",
      "|  8|AUGUST|2022| HPR1|TT765037X040|   87227|WFR-419(B) DFE 16...|    FET| SURINPTMP|  1|  FET|     OEM|TML body Builder|VE12758F|10:47:12|     0|11-10-22|Mn-3 Val| 3489080|Mn-3 Val|       0|\n",
      "|  9|AUGUST|2022| HPR1|TT765037X040|   87227|WFR-419(B) DFE 16...|    FET| SURINPTMP|  1|  FET|     OEM|TML body Builder|VE12758F|10:47:12|     0|11-10-22|Mn-4 Val| 1744540|Mn-4 Val|       0|\n",
      "| 10|AUGUST|2022| HPR1|TT765037X040|   87227|WFR-419(B) DFE 16...|    FET| SURINPTMP|  1|  FET|     OEM|TML body Builder|VE12758F|10:47:12|     0|11-10-22|Mn-5 Val|  872270|Mn-5 Val|       0|\n",
      "| 11|AUGUST|2022| HPR1|TT765037X040|   87227|WFR-419(B) DFE 16...|    FET| SURINPTMP|  1|  FET|     OEM|TML body Builder|VE12758F|10:47:12|     0|11-10-22|Mn-6 Val| 1744540|Mn-6 Val|       0|\n",
      "| 12|AUGUST|2022| HPR1|TT765037X040|   87227|WFR-419(B) DFE 16...|    FET| SURINPTMP|  1|  FET|     OEM|TML body Builder|VE12758F|10:47:12|     0|11-10-22|WWWK Qty|     120|WWWK Qty|       0|\n",
      "| 13|AUGUST|2022| HPR1|TT765037X040|   87227|WFR-419(B) DFE 16...|    FET| SURINPTMP|  1|  FET|     OEM|TML body Builder|VE12758F|10:47:12|     0|11-10-22|WWWK Val|10467240|WWWK Val|       0|\n",
      "| 14|AUGUST|2022| HPR1|TT866028X050|   58242|WFR-468 (B) DFE 1...|    FET|CADIAUTOLK|  1|  FET|     OEM|TML body Builder|VE12758F|10:47:12|     0|11-10-22|MN-1 Qty|      40|    Null|MN-1 Qty|\n",
      "| 15|AUGUST|2022| HPR1|TT866028X050|   58242|WFR-468 (B) DFE 1...|    FET|CADIAUTOLK|  1|  FET|     OEM|TML body Builder|VE12758F|10:47:12|     0|11-10-22|MN-2 Qty|      20|    Null|MN-2 Qty|\n",
      "| 16|AUGUST|2022| HPR1|TT866028X050|   58242|WFR-468 (B) DFE 1...|    FET|CADIAUTOLK|  1|  FET|     OEM|TML body Builder|VE12758F|10:47:12|     0|11-10-22|MN-3 Qty|      30|MN-3 Qty|MN-3 Qty|\n",
      "| 17|AUGUST|2022| HPR1|TT866028X050|   58242|WFR-468 (B) DFE 1...|    FET|CADIAUTOLK|  1|  FET|     OEM|TML body Builder|VE12758F|10:47:12|     0|11-10-22|MN-4 Qty|      70|MN-4 Qty|MN-4 Qty|\n",
      "| 18|AUGUST|2022| HPR1|TT866028X050|   58242|WFR-468 (B) DFE 1...|    FET|CADIAUTOLK|  1|  FET|     OEM|TML body Builder|VE12758F|10:47:12|     0|11-10-22|MN-5 Qty|      10|MN-5 Qty|       0|\n",
      "| 19|AUGUST|2022| HPR1|TT866028X050|   58242|WFR-468 (B) DFE 1...|    FET|CADIAUTOLK|  1|  FET|     OEM|TML body Builder|VE12758F|10:47:12|     0|11-10-22|MN-6 Qty|      90|MN-6 Qty|MN-6 Qty|\n",
      "+---+------+----+-----+------------+--------+--------------------+-------+----------+---+-----+--------+----------------+--------+--------+------+--------+--------+--------+--------+--------+\n",
      "only showing top 20 rows\n",
      "\n"
     ]
    }
   ],
   "source": [
    "df_pyspark.show()"
   ]
  },
  {
   "cell_type": "code",
   "execution_count": null,
   "metadata": {},
   "outputs": [],
   "source": [
    "df.na.fill(value=0,subset=[\"population\"]).show()"
   ]
  }
 ],
 "metadata": {
  "kernelspec": {
   "display_name": "Python 3",
   "language": "python",
   "name": "python3"
  },
  "language_info": {
   "codemirror_mode": {
    "name": "ipython",
    "version": 3
   },
   "file_extension": ".py",
   "mimetype": "text/x-python",
   "name": "python",
   "nbconvert_exporter": "python",
   "pygments_lexer": "ipython3",
   "version": "3.11.0"
  },
  "orig_nbformat": 4
 },
 "nbformat": 4,
 "nbformat_minor": 2
}
