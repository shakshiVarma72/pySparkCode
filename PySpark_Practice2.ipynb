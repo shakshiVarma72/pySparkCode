{
 "cells": [
  {
   "cell_type": "code",
   "execution_count": 1,
   "id": "ca60505c",
   "metadata": {},
   "outputs": [],
   "source": [
    "#!pip install pyspark"
   ]
  },
  {
   "cell_type": "code",
   "execution_count": 2,
   "id": "eed1e30c",
   "metadata": {},
   "outputs": [],
   "source": [
    "import pyspark"
   ]
  },
  {
   "cell_type": "code",
   "execution_count": 3,
   "id": "bd2dc2d0",
   "metadata": {},
   "outputs": [],
   "source": [
    "import pandas as pd"
   ]
  },
  {
   "cell_type": "code",
   "execution_count": 4,
   "id": "31d51c55",
   "metadata": {},
   "outputs": [
    {
     "data": {
      "text/html": [
       "<div>\n",
       "<style scoped>\n",
       "    .dataframe tbody tr th:only-of-type {\n",
       "        vertical-align: middle;\n",
       "    }\n",
       "\n",
       "    .dataframe tbody tr th {\n",
       "        vertical-align: top;\n",
       "    }\n",
       "\n",
       "    .dataframe thead th {\n",
       "        text-align: right;\n",
       "    }\n",
       "</style>\n",
       "<table border=\"1\" class=\"dataframe\">\n",
       "  <thead>\n",
       "    <tr style=\"text-align: right;\">\n",
       "      <th></th>\n",
       "      <th>emp_id</th>\n",
       "      <th>SalesItem</th>\n",
       "      <th>Country</th>\n",
       "      <th>Quantity</th>\n",
       "    </tr>\n",
       "  </thead>\n",
       "  <tbody>\n",
       "    <tr>\n",
       "      <th>0</th>\n",
       "      <td>1</td>\n",
       "      <td>Laptop</td>\n",
       "      <td>India</td>\n",
       "      <td>100.0</td>\n",
       "    </tr>\n",
       "    <tr>\n",
       "      <th>1</th>\n",
       "      <td>2</td>\n",
       "      <td>Mobile</td>\n",
       "      <td>India</td>\n",
       "      <td>30.0</td>\n",
       "    </tr>\n",
       "    <tr>\n",
       "      <th>2</th>\n",
       "      <td>3</td>\n",
       "      <td>Earphones</td>\n",
       "      <td>India</td>\n",
       "      <td>50.0</td>\n",
       "    </tr>\n",
       "    <tr>\n",
       "      <th>3</th>\n",
       "      <td>4</td>\n",
       "      <td>Desktops</td>\n",
       "      <td>India</td>\n",
       "      <td>110.0</td>\n",
       "    </tr>\n",
       "    <tr>\n",
       "      <th>4</th>\n",
       "      <td>5</td>\n",
       "      <td>Keyboards</td>\n",
       "      <td>India</td>\n",
       "      <td>20.0</td>\n",
       "    </tr>\n",
       "    <tr>\n",
       "      <th>5</th>\n",
       "      <td>6</td>\n",
       "      <td>Pendrive</td>\n",
       "      <td>London</td>\n",
       "      <td>NaN</td>\n",
       "    </tr>\n",
       "    <tr>\n",
       "      <th>6</th>\n",
       "      <td>7</td>\n",
       "      <td>Mouse</td>\n",
       "      <td>UK</td>\n",
       "      <td>NaN</td>\n",
       "    </tr>\n",
       "    <tr>\n",
       "      <th>7</th>\n",
       "      <td>8</td>\n",
       "      <td>Airpods</td>\n",
       "      <td>USA</td>\n",
       "      <td>18.0</td>\n",
       "    </tr>\n",
       "  </tbody>\n",
       "</table>\n",
       "</div>"
      ],
      "text/plain": [
       "   emp_id  SalesItem Country   Quantity \n",
       "0       1     Laptop    India      100.0\n",
       "1       2    Mobile     India       30.0\n",
       "2       3  Earphones    India       50.0\n",
       "3       4   Desktops    India      110.0\n",
       "4       5  Keyboards    India       20.0\n",
       "5       6  Pendrive    London        NaN\n",
       "6       7      Mouse       UK        NaN\n",
       "7       8    Airpods      USA       18.0"
      ]
     },
     "execution_count": 4,
     "metadata": {},
     "output_type": "execute_result"
    }
   ],
   "source": [
    "pd.read_csv(r\"C:\\Users\\11315\\Documents\\DataPrac.csv\")"
   ]
  },
  {
   "cell_type": "code",
   "execution_count": 5,
   "id": "c3e2c441",
   "metadata": {},
   "outputs": [],
   "source": [
    "from pyspark.sql import SparkSession"
   ]
  },
  {
   "cell_type": "code",
   "execution_count": 6,
   "id": "5fd0b970",
   "metadata": {},
   "outputs": [],
   "source": [
    "spark=SparkSession.builder.appName('Dataframe').getOrCreate()"
   ]
  },
  {
   "cell_type": "code",
   "execution_count": 7,
   "id": "639fbd14",
   "metadata": {},
   "outputs": [
    {
     "data": {
      "text/html": [
       "\n",
       "            <div>\n",
       "                <p><b>SparkSession - in-memory</b></p>\n",
       "                \n",
       "        <div>\n",
       "            <p><b>SparkContext</b></p>\n",
       "\n",
       "            <p><a href=\"http://11315-Shakshi.teamcomputers.com:4040\">Spark UI</a></p>\n",
       "\n",
       "            <dl>\n",
       "              <dt>Version</dt>\n",
       "                <dd><code>v3.3.1</code></dd>\n",
       "              <dt>Master</dt>\n",
       "                <dd><code>local[*]</code></dd>\n",
       "              <dt>AppName</dt>\n",
       "                <dd><code>Dataframe</code></dd>\n",
       "            </dl>\n",
       "        </div>\n",
       "        \n",
       "            </div>\n",
       "        "
      ],
      "text/plain": [
       "<pyspark.sql.session.SparkSession at 0x18abc4eda90>"
      ]
     },
     "execution_count": 7,
     "metadata": {},
     "output_type": "execute_result"
    }
   ],
   "source": [
    "spark"
   ]
  },
  {
   "cell_type": "code",
   "execution_count": 8,
   "id": "673fd65d",
   "metadata": {},
   "outputs": [],
   "source": [
    "df_pyspark=spark.read.csv(r\"C:\\Users\\11315\\Documents\\DataPrac.csv\")"
   ]
  },
  {
   "cell_type": "code",
   "execution_count": 9,
   "id": "fc73fcab",
   "metadata": {},
   "outputs": [
    {
     "data": {
      "text/plain": [
       "DataFrame[_c0: string, _c1: string, _c2: string, _c3: string]"
      ]
     },
     "execution_count": 9,
     "metadata": {},
     "output_type": "execute_result"
    }
   ],
   "source": [
    "df_pyspark"
   ]
  },
  {
   "cell_type": "code",
   "execution_count": 10,
   "id": "05b9bfa9",
   "metadata": {},
   "outputs": [
    {
     "name": "stdout",
     "output_type": "stream",
     "text": [
      "+------+---------+--------+---------+\n",
      "|   _c0|      _c1|     _c2|      _c3|\n",
      "+------+---------+--------+---------+\n",
      "|emp_id|SalesItem|Country |Quantity |\n",
      "|     1|   Laptop|   India|      100|\n",
      "|     2|  Mobile |   India|       30|\n",
      "|     3|Earphones|   India|       50|\n",
      "|     4| Desktops|   India|      110|\n",
      "|     5|Keyboards|   India|       20|\n",
      "|     6|Pendrive |  London|     null|\n",
      "|     7|    Mouse|      UK|     null|\n",
      "|     8|  Airpods|     USA|       18|\n",
      "+------+---------+--------+---------+\n",
      "\n"
     ]
    }
   ],
   "source": [
    "df_pyspark.show()"
   ]
  },
  {
   "cell_type": "code",
   "execution_count": 11,
   "id": "7cdeb947",
   "metadata": {},
   "outputs": [],
   "source": [
    "df_pyspark=spark.read.option('header','true').csv(r\"C:\\Users\\11315\\Documents\\DataPrac.csv\",inferSchema=True)"
   ]
  },
  {
   "cell_type": "code",
   "execution_count": 12,
   "id": "139dd1ba",
   "metadata": {},
   "outputs": [
    {
     "data": {
      "text/plain": [
       "DataFrame[emp_id: int, SalesItem: string, Country : string, Quantity : int]"
      ]
     },
     "execution_count": 12,
     "metadata": {},
     "output_type": "execute_result"
    }
   ],
   "source": [
    "df_pyspark"
   ]
  },
  {
   "cell_type": "code",
   "execution_count": 13,
   "id": "30d26db0",
   "metadata": {},
   "outputs": [
    {
     "name": "stdout",
     "output_type": "stream",
     "text": [
      "+------+---------+--------+---------+\n",
      "|emp_id|SalesItem|Country |Quantity |\n",
      "+------+---------+--------+---------+\n",
      "|     1|   Laptop|   India|      100|\n",
      "|     2|  Mobile |   India|       30|\n",
      "|     3|Earphones|   India|       50|\n",
      "|     4| Desktops|   India|      110|\n",
      "|     5|Keyboards|   India|       20|\n",
      "|     6|Pendrive |  London|     null|\n",
      "|     7|    Mouse|      UK|     null|\n",
      "|     8|  Airpods|     USA|       18|\n",
      "+------+---------+--------+---------+\n",
      "\n"
     ]
    }
   ],
   "source": [
    "df_pyspark.show()"
   ]
  },
  {
   "cell_type": "markdown",
   "id": "bbd8b289",
   "metadata": {},
   "source": [
    "# type shows the type of dataframe "
   ]
  },
  {
   "cell_type": "code",
   "execution_count": 14,
   "id": "ce6bee9f",
   "metadata": {},
   "outputs": [
    {
     "data": {
      "text/plain": [
       "pyspark.sql.dataframe.DataFrame"
      ]
     },
     "execution_count": 14,
     "metadata": {},
     "output_type": "execute_result"
    }
   ],
   "source": [
    "type(df_pyspark)"
   ]
  },
  {
   "cell_type": "markdown",
   "id": "3ee4a82a",
   "metadata": {},
   "source": []
  },
  {
   "cell_type": "code",
   "execution_count": 15,
   "id": "c4dbb0d3",
   "metadata": {},
   "outputs": [
    {
     "data": {
      "text/plain": [
       "[Row(emp_id=1, SalesItem='Laptop', Country ='India', Quantity =100),\n",
       " Row(emp_id=2, SalesItem='Mobile ', Country ='India', Quantity =30)]"
      ]
     },
     "execution_count": 15,
     "metadata": {},
     "output_type": "execute_result"
    }
   ],
   "source": [
    "df_pyspark.head(2)"
   ]
  },
  {
   "cell_type": "raw",
   "id": "58bbdc37",
   "metadata": {},
   "source": [
    "#printSchema  tells about information of column and datatype"
   ]
  },
  {
   "cell_type": "code",
   "execution_count": 16,
   "id": "44cd9c53",
   "metadata": {},
   "outputs": [
    {
     "name": "stdout",
     "output_type": "stream",
     "text": [
      "root\n",
      " |-- emp_id: integer (nullable = true)\n",
      " |-- SalesItem: string (nullable = true)\n",
      " |-- Country : string (nullable = true)\n",
      " |-- Quantity : integer (nullable = true)\n",
      "\n"
     ]
    }
   ],
   "source": [
    "df_pyspark.printSchema()"
   ]
  },
  {
   "cell_type": "markdown",
   "id": "6d2c1573",
   "metadata": {},
   "source": []
  },
  {
   "cell_type": "code",
   "execution_count": 17,
   "id": "defd7194",
   "metadata": {},
   "outputs": [
    {
     "data": {
      "text/plain": [
       "['emp_id', 'SalesItem', 'Country ', 'Quantity ']"
      ]
     },
     "execution_count": 17,
     "metadata": {},
     "output_type": "execute_result"
    }
   ],
   "source": [
    "df_pyspark.columns"
   ]
  },
  {
   "attachments": {},
   "cell_type": "markdown",
   "id": "631d6510",
   "metadata": {},
   "source": [
    "Shows informatipon of particular column"
   ]
  },
  {
   "cell_type": "code",
   "execution_count": 18,
   "id": "69513582",
   "metadata": {},
   "outputs": [
    {
     "name": "stdout",
     "output_type": "stream",
     "text": [
      "+---------+\n",
      "|SalesItem|\n",
      "+---------+\n",
      "|   Laptop|\n",
      "|  Mobile |\n",
      "|Earphones|\n",
      "| Desktops|\n",
      "|Keyboards|\n",
      "|Pendrive |\n",
      "|    Mouse|\n",
      "|  Airpods|\n",
      "+---------+\n",
      "\n"
     ]
    }
   ],
   "source": [
    "df_pyspark.select('SalesItem').show()"
   ]
  },
  {
   "cell_type": "code",
   "execution_count": 19,
   "id": "afbd958e",
   "metadata": {},
   "outputs": [
    {
     "data": {
      "text/plain": [
       "[('emp_id', 'int'),\n",
       " ('SalesItem', 'string'),\n",
       " ('Country ', 'string'),\n",
       " ('Quantity ', 'int')]"
      ]
     },
     "execution_count": 19,
     "metadata": {},
     "output_type": "execute_result"
    }
   ],
   "source": [
    "df_pyspark.dtypes"
   ]
  },
  {
   "cell_type": "code",
   "execution_count": 20,
   "id": "5229f1de",
   "metadata": {},
   "outputs": [
    {
     "name": "stdout",
     "output_type": "stream",
     "text": [
      "+-------+-----------------+---------+--------+------------------+\n",
      "|summary|           emp_id|SalesItem|Country |         Quantity |\n",
      "+-------+-----------------+---------+--------+------------------+\n",
      "|  count|                8|        8|       8|                 6|\n",
      "|   mean|              4.5|     null|    null|54.666666666666664|\n",
      "| stddev|2.449489742783178|     null|    null|  40.7267315981367|\n",
      "|    min|                1|  Airpods|   India|                18|\n",
      "|    max|                8|Pendrive |     USA|               110|\n",
      "+-------+-----------------+---------+--------+------------------+\n",
      "\n"
     ]
    }
   ],
   "source": [
    "df_pyspark.describe().show()"
   ]
  },
  {
   "cell_type": "markdown",
   "id": "5138bb96",
   "metadata": {},
   "source": [
    "Adding Column in Dataframe"
   ]
  },
  {
   "attachments": {},
   "cell_type": "markdown",
   "id": "138ce13e",
   "metadata": {},
   "source": [
    "PySpark SQL functions lit() and typedLit() are used to add a new column to DataFrame by assigning a literal or constant value. Both these functions return Column type as return type."
   ]
  },
  {
   "cell_type": "code",
   "execution_count": 21,
   "id": "004af060",
   "metadata": {},
   "outputs": [],
   "source": [
    "from pyspark.sql.functions import lit\n"
   ]
  },
  {
   "cell_type": "code",
   "execution_count": 22,
   "id": "47ec7458",
   "metadata": {},
   "outputs": [
    {
     "name": "stdout",
     "output_type": "stream",
     "text": [
      "+------+---------+--------+---------+------+\n",
      "|emp_id|SalesItem|Country |Quantity | Price|\n",
      "+------+---------+--------+---------+------+\n",
      "|     1|   Laptop|   India|      100|100000|\n",
      "|     2|  Mobile |   India|       30|100000|\n",
      "|     3|Earphones|   India|       50|100000|\n",
      "|     4| Desktops|   India|      110|100000|\n",
      "|     5|Keyboards|   India|       20|100000|\n",
      "|     6|Pendrive |  London|     null|100000|\n",
      "|     7|    Mouse|      UK|     null|100000|\n",
      "|     8|  Airpods|     USA|       18|100000|\n",
      "+------+---------+--------+---------+------+\n",
      "\n"
     ]
    }
   ],
   "source": [
    "df_pyspark.withColumn('Price',lit(100000)).show()"
   ]
  },
  {
   "cell_type": "code",
   "execution_count": 23,
   "id": "51083433",
   "metadata": {},
   "outputs": [
    {
     "name": "stdout",
     "output_type": "stream",
     "text": [
      "+------+---------+--------+---------+\n",
      "|emp_id|SalesItem|Country |Quantity |\n",
      "+------+---------+--------+---------+\n",
      "|     1|   Laptop|   India|      100|\n",
      "|     2|  Mobile |   India|       30|\n",
      "|     3|Earphones|   India|       50|\n",
      "|     4| Desktops|   India|      110|\n",
      "|     5|Keyboards|   India|       20|\n",
      "|     6|Pendrive |  London|     null|\n",
      "|     7|    Mouse|      UK|     null|\n",
      "|     8|  Airpods|     USA|       18|\n",
      "+------+---------+--------+---------+\n",
      "\n"
     ]
    }
   ],
   "source": [
    "df_pyspark.show()"
   ]
  },
  {
   "cell_type": "code",
   "execution_count": 24,
   "id": "bb291bf5",
   "metadata": {},
   "outputs": [
    {
     "data": {
      "text/plain": [
       "DataFrame[emp_id: int, SalesItem: string, Country : string, Quantity : int]"
      ]
     },
     "execution_count": 24,
     "metadata": {},
     "output_type": "execute_result"
    }
   ],
   "source": [
    "df_pyspark.drop('price')"
   ]
  },
  {
   "cell_type": "code",
   "execution_count": 25,
   "id": "bd0cce70",
   "metadata": {},
   "outputs": [
    {
     "name": "stdout",
     "output_type": "stream",
     "text": [
      "+------+---------+--------+---------+\n",
      "|emp_id|SalesItem|Country |Quantity |\n",
      "+------+---------+--------+---------+\n",
      "|     1|   Laptop|   India|      100|\n",
      "|     2|  Mobile |   India|       30|\n",
      "|     3|Earphones|   India|       50|\n",
      "|     4| Desktops|   India|      110|\n",
      "|     5|Keyboards|   India|       20|\n",
      "|     6|Pendrive |  London|     null|\n",
      "|     7|    Mouse|      UK|     null|\n",
      "|     8|  Airpods|     USA|       18|\n",
      "+------+---------+--------+---------+\n",
      "\n"
     ]
    }
   ],
   "source": [
    "df_pyspark.show()"
   ]
  },
  {
   "cell_type": "code",
   "execution_count": 26,
   "id": "b1d4ba77",
   "metadata": {},
   "outputs": [
    {
     "data": {
      "text/plain": [
       "DataFrame[emp_id: int, SalesItem: string, Country : string, Quantity : int]"
      ]
     },
     "execution_count": 26,
     "metadata": {},
     "output_type": "execute_result"
    }
   ],
   "source": [
    "# Renamed the Column\n",
    "df_pyspark.withColumnRenamed('Quantity', 'ProductQuantity')"
   ]
  },
  {
   "cell_type": "code",
   "execution_count": 27,
   "id": "c77dbb7c",
   "metadata": {},
   "outputs": [
    {
     "name": "stdout",
     "output_type": "stream",
     "text": [
      "+------+---------+--------+---------+\n",
      "|emp_id|SalesItem|Country |Quantity |\n",
      "+------+---------+--------+---------+\n",
      "|     1|   Laptop|   India|      100|\n",
      "|     2|  Mobile |   India|       30|\n",
      "|     3|Earphones|   India|       50|\n",
      "|     4| Desktops|   India|      110|\n",
      "|     5|Keyboards|   India|       20|\n",
      "+------+---------+--------+---------+\n",
      "only showing top 5 rows\n",
      "\n"
     ]
    }
   ],
   "source": [
    "df_pyspark.show(5)"
   ]
  },
  {
   "attachments": {},
   "cell_type": "markdown",
   "id": "5e64a318",
   "metadata": {},
   "source": [
    "# Handling Missing Values "
   ]
  },
  {
   "cell_type": "code",
   "execution_count": 28,
   "id": "7cc86c5c",
   "metadata": {},
   "outputs": [],
   "source": [
    "df_pyspark=spark.read.csv(r\"C:\\Users\\11315\\Documents\\DataPracNew.csv\",inferSchema=True)"
   ]
  },
  {
   "cell_type": "code",
   "execution_count": 29,
   "id": "1046888e",
   "metadata": {},
   "outputs": [
    {
     "data": {
      "text/plain": [
       "DataFrame[_c0: string, _c1: string, _c2: string, _c3: string]"
      ]
     },
     "execution_count": 29,
     "metadata": {},
     "output_type": "execute_result"
    }
   ],
   "source": [
    "df_pyspark"
   ]
  },
  {
   "cell_type": "code",
   "execution_count": 30,
   "id": "6503603e",
   "metadata": {},
   "outputs": [
    {
     "name": "stdout",
     "output_type": "stream",
     "text": [
      "+------+---------+--------+---------+\n",
      "|   _c0|      _c1|     _c2|      _c3|\n",
      "+------+---------+--------+---------+\n",
      "|emp_id|SalesItem|Country |Quantity |\n",
      "|     1|   Laptop|   India|      100|\n",
      "|     2|  Mobile |   India|       30|\n",
      "|     3|Earphones|   India|       50|\n",
      "|     4| Desktops|   India|      110|\n",
      "|     5|Keyboards|   India|       20|\n",
      "|     6|Pendrive |  London|     null|\n",
      "|     7|    Mouse|      UK|     null|\n",
      "|     8|  Airpods|     USA|       18|\n",
      "+------+---------+--------+---------+\n",
      "\n"
     ]
    }
   ],
   "source": [
    "df_pyspark.show()"
   ]
  },
  {
   "cell_type": "code",
   "execution_count": 31,
   "id": "9f65f116",
   "metadata": {},
   "outputs": [],
   "source": [
    "df_pyspark=spark.read.option('header',True).csv(r\"C:\\Users\\11315\\Documents\\DataPrac.csv\",inferSchema=True)"
   ]
  },
  {
   "cell_type": "code",
   "execution_count": 32,
   "id": "b09613c4",
   "metadata": {},
   "outputs": [
    {
     "data": {
      "text/plain": [
       "DataFrame[emp_id: int, SalesItem: string, Country : string, Quantity : int]"
      ]
     },
     "execution_count": 32,
     "metadata": {},
     "output_type": "execute_result"
    }
   ],
   "source": [
    "df_pyspark"
   ]
  },
  {
   "cell_type": "code",
   "execution_count": 33,
   "id": "1657f445",
   "metadata": {},
   "outputs": [
    {
     "name": "stdout",
     "output_type": "stream",
     "text": [
      "+------+---------+--------+---------+\n",
      "|emp_id|SalesItem|Country |Quantity |\n",
      "+------+---------+--------+---------+\n",
      "|     1|   Laptop|   India|      100|\n",
      "|     2|  Mobile |   India|       30|\n",
      "|     3|Earphones|   India|       50|\n",
      "|     4| Desktops|   India|      110|\n",
      "|     5|Keyboards|   India|       20|\n",
      "|     6|Pendrive |  London|     null|\n",
      "|     7|    Mouse|      UK|     null|\n",
      "|     8|  Airpods|     USA|       18|\n",
      "+------+---------+--------+---------+\n",
      "\n"
     ]
    }
   ],
   "source": [
    "df_pyspark.show()"
   ]
  },
  {
   "cell_type": "code",
   "execution_count": null,
   "id": "075e0ef4",
   "metadata": {},
   "outputs": [],
   "source": []
  }
 ],
 "metadata": {
  "kernelspec": {
   "display_name": "Python 3 (ipykernel)",
   "language": "python",
   "name": "python3"
  },
  "language_info": {
   "codemirror_mode": {
    "name": "ipython",
    "version": 3
   },
   "file_extension": ".py",
   "mimetype": "text/x-python",
   "name": "python",
   "nbconvert_exporter": "python",
   "pygments_lexer": "ipython3",
   "version": "3.11.0"
  }
 },
 "nbformat": 4,
 "nbformat_minor": 5
}
