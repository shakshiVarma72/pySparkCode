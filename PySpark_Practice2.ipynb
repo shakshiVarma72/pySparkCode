{
 "cells": [
  {
   "cell_type": "code",
   "execution_count": 36,
   "id": "ca60505c",
   "metadata": {},
   "outputs": [
    {
     "name": "stdout",
     "output_type": "stream",
     "text": [
      "Requirement already satisfied: pyspark in c:\\python3.11\\lib\\site-packages (3.3.1)\n",
      "Requirement already satisfied: py4j==0.10.9.5 in c:\\python3.11\\lib\\site-packages (from pyspark) (0.10.9.5)\n"
     ]
    },
    {
     "name": "stderr",
     "output_type": "stream",
     "text": [
      "\n",
      "[notice] A new release of pip available: 22.3.1 -> 23.0.1\n",
      "[notice] To update, run: python.exe -m pip install --upgrade pip\n"
     ]
    }
   ],
   "source": [
    "! pip install pyspark"
   ]
  },
  {
   "cell_type": "code",
   "execution_count": 37,
   "id": "eed1e30c",
   "metadata": {},
   "outputs": [],
   "source": [
    "import pyspark"
   ]
  },
  {
   "cell_type": "code",
   "execution_count": 38,
   "id": "bd2dc2d0",
   "metadata": {},
   "outputs": [],
   "source": [
    "import pandas as pd"
   ]
  },
  {
   "cell_type": "code",
   "execution_count": 39,
   "id": "31d51c55",
   "metadata": {},
   "outputs": [
    {
     "data": {
      "text/html": [
       "<div>\n",
       "<style scoped>\n",
       "    .dataframe tbody tr th:only-of-type {\n",
       "        vertical-align: middle;\n",
       "    }\n",
       "\n",
       "    .dataframe tbody tr th {\n",
       "        vertical-align: top;\n",
       "    }\n",
       "\n",
       "    .dataframe thead th {\n",
       "        text-align: right;\n",
       "    }\n",
       "</style>\n",
       "<table border=\"1\" class=\"dataframe\">\n",
       "  <thead>\n",
       "    <tr style=\"text-align: right;\">\n",
       "      <th></th>\n",
       "      <th>emp_id</th>\n",
       "      <th>SalesItem</th>\n",
       "      <th>Country</th>\n",
       "      <th>Quantity</th>\n",
       "    </tr>\n",
       "  </thead>\n",
       "  <tbody>\n",
       "    <tr>\n",
       "      <th>0</th>\n",
       "      <td>1</td>\n",
       "      <td>Laptop</td>\n",
       "      <td>India</td>\n",
       "      <td>100.0</td>\n",
       "    </tr>\n",
       "    <tr>\n",
       "      <th>1</th>\n",
       "      <td>2</td>\n",
       "      <td>Mobile</td>\n",
       "      <td>India</td>\n",
       "      <td>30.0</td>\n",
       "    </tr>\n",
       "    <tr>\n",
       "      <th>2</th>\n",
       "      <td>3</td>\n",
       "      <td>Earphones</td>\n",
       "      <td>India</td>\n",
       "      <td>50.0</td>\n",
       "    </tr>\n",
       "    <tr>\n",
       "      <th>3</th>\n",
       "      <td>4</td>\n",
       "      <td>Desktops</td>\n",
       "      <td>India</td>\n",
       "      <td>110.0</td>\n",
       "    </tr>\n",
       "    <tr>\n",
       "      <th>4</th>\n",
       "      <td>5</td>\n",
       "      <td>Keyboards</td>\n",
       "      <td>India</td>\n",
       "      <td>20.0</td>\n",
       "    </tr>\n",
       "    <tr>\n",
       "      <th>5</th>\n",
       "      <td>6</td>\n",
       "      <td>Pendrive</td>\n",
       "      <td>London</td>\n",
       "      <td>NaN</td>\n",
       "    </tr>\n",
       "    <tr>\n",
       "      <th>6</th>\n",
       "      <td>7</td>\n",
       "      <td>Mouse</td>\n",
       "      <td>UK</td>\n",
       "      <td>NaN</td>\n",
       "    </tr>\n",
       "    <tr>\n",
       "      <th>7</th>\n",
       "      <td>8</td>\n",
       "      <td>Airpods</td>\n",
       "      <td>USA</td>\n",
       "      <td>18.0</td>\n",
       "    </tr>\n",
       "  </tbody>\n",
       "</table>\n",
       "</div>"
      ],
      "text/plain": [
       "   emp_id  SalesItem Country   Quantity \n",
       "0       1     Laptop    India      100.0\n",
       "1       2    Mobile     India       30.0\n",
       "2       3  Earphones    India       50.0\n",
       "3       4   Desktops    India      110.0\n",
       "4       5  Keyboards    India       20.0\n",
       "5       6  Pendrive    London        NaN\n",
       "6       7      Mouse       UK        NaN\n",
       "7       8    Airpods      USA       18.0"
      ]
     },
     "execution_count": 39,
     "metadata": {},
     "output_type": "execute_result"
    }
   ],
   "source": [
    "pd.read_csv(r\"C:\\Users\\11315\\Documents\\DataPrac.csv\")"
   ]
  },
  {
   "cell_type": "code",
   "execution_count": 40,
   "id": "c3e2c441",
   "metadata": {},
   "outputs": [],
   "source": [
    "from pyspark.sql import SparkSession"
   ]
  },
  {
   "cell_type": "code",
   "execution_count": 41,
   "id": "5fd0b970",
   "metadata": {},
   "outputs": [],
   "source": [
    "spark=SparkSession.builder.appName('Dataframe').getOrCreate()"
   ]
  },
  {
   "cell_type": "code",
   "execution_count": 42,
   "id": "639fbd14",
   "metadata": {},
   "outputs": [
    {
     "data": {
      "text/html": [
       "\n",
       "            <div>\n",
       "                <p><b>SparkSession - in-memory</b></p>\n",
       "                \n",
       "        <div>\n",
       "            <p><b>SparkContext</b></p>\n",
       "\n",
       "            <p><a href=\"http://11315-Shakshi.teamcomputers.com:4040\">Spark UI</a></p>\n",
       "\n",
       "            <dl>\n",
       "              <dt>Version</dt>\n",
       "                <dd><code>v3.3.1</code></dd>\n",
       "              <dt>Master</dt>\n",
       "                <dd><code>local[*]</code></dd>\n",
       "              <dt>AppName</dt>\n",
       "                <dd><code>Dataframe</code></dd>\n",
       "            </dl>\n",
       "        </div>\n",
       "        \n",
       "            </div>\n",
       "        "
      ],
      "text/plain": [
       "<pyspark.sql.session.SparkSession at 0x284d84957d0>"
      ]
     },
     "execution_count": 42,
     "metadata": {},
     "output_type": "execute_result"
    }
   ],
   "source": [
    "spark"
   ]
  },
  {
   "cell_type": "code",
   "execution_count": 43,
   "id": "673fd65d",
   "metadata": {},
   "outputs": [],
   "source": [
    "df_pyspark=spark.read.csv(r\"C:\\Users\\11315\\Documents\\DataPrac.csv\")"
   ]
  },
  {
   "cell_type": "code",
   "execution_count": 44,
   "id": "fc73fcab",
   "metadata": {},
   "outputs": [
    {
     "data": {
      "text/plain": [
       "DataFrame[_c0: string, _c1: string, _c2: string, _c3: string]"
      ]
     },
     "execution_count": 44,
     "metadata": {},
     "output_type": "execute_result"
    }
   ],
   "source": [
    "df_pyspark"
   ]
  },
  {
   "cell_type": "code",
   "execution_count": 45,
   "id": "05b9bfa9",
   "metadata": {},
   "outputs": [
    {
     "name": "stdout",
     "output_type": "stream",
     "text": [
      "+------+---------+--------+---------+\n",
      "|   _c0|      _c1|     _c2|      _c3|\n",
      "+------+---------+--------+---------+\n",
      "|emp_id|SalesItem|Country |Quantity |\n",
      "|     1|   Laptop|   India|      100|\n",
      "|     2|  Mobile |   India|       30|\n",
      "|     3|Earphones|   India|       50|\n",
      "|     4| Desktops|   India|      110|\n",
      "|     5|Keyboards|   India|       20|\n",
      "|     6|Pendrive |  London|     null|\n",
      "|     7|    Mouse|      UK|     null|\n",
      "|     8|  Airpods|     USA|       18|\n",
      "+------+---------+--------+---------+\n",
      "\n"
     ]
    }
   ],
   "source": [
    "df_pyspark.show()"
   ]
  },
  {
   "cell_type": "code",
   "execution_count": 46,
   "id": "7cdeb947",
   "metadata": {},
   "outputs": [],
   "source": [
    "df_pyspark=spark.read.option('header','true').csv(r\"C:\\Users\\11315\\Documents\\DataPrac.csv\",inferSchema=True)"
   ]
  },
  {
   "cell_type": "code",
   "execution_count": 47,
   "id": "139dd1ba",
   "metadata": {},
   "outputs": [
    {
     "data": {
      "text/plain": [
       "DataFrame[emp_id: int, SalesItem: string, Country : string, Quantity : int]"
      ]
     },
     "execution_count": 47,
     "metadata": {},
     "output_type": "execute_result"
    }
   ],
   "source": [
    "df_pyspark"
   ]
  },
  {
   "cell_type": "code",
   "execution_count": 48,
   "id": "30d26db0",
   "metadata": {},
   "outputs": [
    {
     "name": "stdout",
     "output_type": "stream",
     "text": [
      "+------+---------+--------+---------+\n",
      "|emp_id|SalesItem|Country |Quantity |\n",
      "+------+---------+--------+---------+\n",
      "|     1|   Laptop|   India|      100|\n",
      "|     2|  Mobile |   India|       30|\n",
      "|     3|Earphones|   India|       50|\n",
      "|     4| Desktops|   India|      110|\n",
      "|     5|Keyboards|   India|       20|\n",
      "|     6|Pendrive |  London|     null|\n",
      "|     7|    Mouse|      UK|     null|\n",
      "|     8|  Airpods|     USA|       18|\n",
      "+------+---------+--------+---------+\n",
      "\n"
     ]
    }
   ],
   "source": [
    "df_pyspark.show()"
   ]
  },
  {
   "cell_type": "markdown",
   "id": "bbd8b289",
   "metadata": {},
   "source": [
    "# type shows the type of dataframe "
   ]
  },
  {
   "cell_type": "code",
   "execution_count": 49,
   "id": "ce6bee9f",
   "metadata": {},
   "outputs": [
    {
     "data": {
      "text/plain": [
       "pyspark.sql.dataframe.DataFrame"
      ]
     },
     "execution_count": 49,
     "metadata": {},
     "output_type": "execute_result"
    }
   ],
   "source": [
    "type(df_pyspark)"
   ]
  },
  {
   "cell_type": "markdown",
   "id": "3ee4a82a",
   "metadata": {},
   "source": []
  },
  {
   "cell_type": "code",
   "execution_count": 50,
   "id": "c4dbb0d3",
   "metadata": {},
   "outputs": [
    {
     "data": {
      "text/plain": [
       "[Row(emp_id=1, SalesItem='Laptop', Country ='India', Quantity =100),\n",
       " Row(emp_id=2, SalesItem='Mobile ', Country ='India', Quantity =30)]"
      ]
     },
     "execution_count": 50,
     "metadata": {},
     "output_type": "execute_result"
    }
   ],
   "source": [
    "df_pyspark.head(2)"
   ]
  },
  {
   "cell_type": "raw",
   "id": "58bbdc37",
   "metadata": {},
   "source": [
    "#printSchema  tells about information of column and datatype"
   ]
  },
  {
   "cell_type": "code",
   "execution_count": 51,
   "id": "44cd9c53",
   "metadata": {},
   "outputs": [
    {
     "name": "stdout",
     "output_type": "stream",
     "text": [
      "root\n",
      " |-- emp_id: integer (nullable = true)\n",
      " |-- SalesItem: string (nullable = true)\n",
      " |-- Country : string (nullable = true)\n",
      " |-- Quantity : integer (nullable = true)\n",
      "\n"
     ]
    }
   ],
   "source": [
    "df_pyspark.printSchema()"
   ]
  },
  {
   "cell_type": "markdown",
   "id": "6d2c1573",
   "metadata": {},
   "source": []
  },
  {
   "cell_type": "code",
   "execution_count": 52,
   "id": "defd7194",
   "metadata": {},
   "outputs": [
    {
     "data": {
      "text/plain": [
       "['emp_id', 'SalesItem', 'Country ', 'Quantity ']"
      ]
     },
     "execution_count": 52,
     "metadata": {},
     "output_type": "execute_result"
    }
   ],
   "source": [
    "df_pyspark.columns"
   ]
  },
  {
   "attachments": {},
   "cell_type": "markdown",
   "id": "631d6510",
   "metadata": {},
   "source": [
    "Shows informatipon of particular column"
   ]
  },
  {
   "cell_type": "code",
   "execution_count": 53,
   "id": "69513582",
   "metadata": {},
   "outputs": [
    {
     "name": "stdout",
     "output_type": "stream",
     "text": [
      "+---------+\n",
      "|SalesItem|\n",
      "+---------+\n",
      "|   Laptop|\n",
      "|  Mobile |\n",
      "|Earphones|\n",
      "| Desktops|\n",
      "|Keyboards|\n",
      "|Pendrive |\n",
      "|    Mouse|\n",
      "|  Airpods|\n",
      "+---------+\n",
      "\n"
     ]
    }
   ],
   "source": [
    "df_pyspark.select('SalesItem').show()"
   ]
  },
  {
   "cell_type": "code",
   "execution_count": 54,
   "id": "afbd958e",
   "metadata": {},
   "outputs": [
    {
     "data": {
      "text/plain": [
       "[('emp_id', 'int'),\n",
       " ('SalesItem', 'string'),\n",
       " ('Country ', 'string'),\n",
       " ('Quantity ', 'int')]"
      ]
     },
     "execution_count": 54,
     "metadata": {},
     "output_type": "execute_result"
    }
   ],
   "source": [
    "df_pyspark.dtypes"
   ]
  },
  {
   "cell_type": "code",
   "execution_count": 55,
   "id": "5229f1de",
   "metadata": {},
   "outputs": [
    {
     "name": "stdout",
     "output_type": "stream",
     "text": [
      "+-------+-----------------+---------+--------+------------------+\n",
      "|summary|           emp_id|SalesItem|Country |         Quantity |\n",
      "+-------+-----------------+---------+--------+------------------+\n",
      "|  count|                8|        8|       8|                 6|\n",
      "|   mean|              4.5|     null|    null|54.666666666666664|\n",
      "| stddev|2.449489742783178|     null|    null|  40.7267315981367|\n",
      "|    min|                1|  Airpods|   India|                18|\n",
      "|    max|                8|Pendrive |     USA|               110|\n",
      "+-------+-----------------+---------+--------+------------------+\n",
      "\n"
     ]
    }
   ],
   "source": [
    "df_pyspark.describe().show()"
   ]
  },
  {
   "cell_type": "markdown",
   "id": "5138bb96",
   "metadata": {},
   "source": [
    "Adding Column in Dataframe"
   ]
  },
  {
   "attachments": {},
   "cell_type": "markdown",
   "id": "138ce13e",
   "metadata": {},
   "source": [
    "PySpark SQL functions lit() and typedLit() are used to add a new column to DataFrame by assigning a literal or constant value. Both these functions return Column type as return type."
   ]
  },
  {
   "cell_type": "code",
   "execution_count": 56,
   "id": "de4fe5fc",
   "metadata": {},
   "outputs": [
    {
     "name": "stdout",
     "output_type": "stream",
     "text": [
      "+------+---------+--------+---------+----+\n",
      "|emp_id|SalesItem|Country |Quantity |Demo|\n",
      "+------+---------+--------+---------+----+\n",
      "|     1|   Laptop|   India|      100| 100|\n",
      "|     2|  Mobile |   India|       30|  30|\n",
      "|     3|Earphones|   India|       50|  50|\n",
      "|     4| Desktops|   India|      110| 110|\n",
      "|     5|Keyboards|   India|       20|  20|\n",
      "|     6|Pendrive |  London|     null|null|\n",
      "|     7|    Mouse|      UK|     null|null|\n",
      "|     8|  Airpods|     USA|       18|  18|\n",
      "+------+---------+--------+---------+----+\n",
      "\n"
     ]
    }
   ],
   "source": [
    "df_pyspark= df_pyspark.withColumn('Demo',df_pyspark['Quantity ']).show()"
   ]
  },
  {
   "cell_type": "code",
   "execution_count": null,
   "id": "004af060",
   "metadata": {},
   "outputs": [],
   "source": [
    "\n"
   ]
  },
  {
   "cell_type": "markdown",
   "id": "b1d4ba77",
   "metadata": {},
   "source": [
    "# Renamed the Column\n",
    "df_pyspark= df_pyspark.withColumnRenamed('Quantity ', 'ProductQuantity')"
   ]
  },
  {
   "cell_type": "markdown",
   "id": "c77dbb7c",
   "metadata": {},
   "source": [
    "df_pyspark.show(5)"
   ]
  },
  {
   "attachments": {},
   "cell_type": "markdown",
   "id": "5e64a318",
   "metadata": {},
   "source": [
    "# Handling Missing Values "
   ]
  },
  {
   "cell_type": "code",
   "execution_count": 59,
   "id": "7cc86c5c",
   "metadata": {},
   "outputs": [],
   "source": [
    "df_pyspark=spark.read.csv(r\"C:\\Users\\11315\\Documents\\DataPracNew.csv\",inferSchema=True)"
   ]
  },
  {
   "cell_type": "code",
   "execution_count": 60,
   "id": "1046888e",
   "metadata": {},
   "outputs": [
    {
     "data": {
      "text/plain": [
       "DataFrame[_c0: string, _c1: string, _c2: string, _c3: string]"
      ]
     },
     "execution_count": 60,
     "metadata": {},
     "output_type": "execute_result"
    }
   ],
   "source": [
    "df_pyspark"
   ]
  },
  {
   "cell_type": "code",
   "execution_count": 62,
   "id": "6c27a2dc",
   "metadata": {},
   "outputs": [],
   "source": [
    "df_pyspark=spark.read.option('header','true').csv(r\"C:\\Users\\11315\\Documents\\DataPracNew.csv\",inferSchema=True)"
   ]
  },
  {
   "cell_type": "code",
   "execution_count": 63,
   "id": "6503603e",
   "metadata": {},
   "outputs": [
    {
     "name": "stdout",
     "output_type": "stream",
     "text": [
      "+------+---------+--------+---------+\n",
      "|emp_id|SalesItem|Country |Quantity |\n",
      "+------+---------+--------+---------+\n",
      "|     1|   Laptop|   India|      100|\n",
      "|     2|  Mobile |   India|       30|\n",
      "|     3|Earphones|   India|       50|\n",
      "|     4| Desktops|   India|      110|\n",
      "|     5|Keyboards|   India|       20|\n",
      "|     6|Pendrive |  London|     null|\n",
      "|     7|    Mouse|      UK|     null|\n",
      "|     8|  Airpods|     USA|       18|\n",
      "|     9|Earphones|   India|       50|\n",
      "|    10| Desktops|   India|      110|\n",
      "|    11|Keyboards|   India|       20|\n",
      "+------+---------+--------+---------+\n",
      "\n"
     ]
    }
   ],
   "source": [
    "df_pyspark.show()"
   ]
  },
  {
   "cell_type": "code",
   "execution_count": 64,
   "id": "9f65f116",
   "metadata": {},
   "outputs": [],
   "source": [
    "df_pyspark=spark.read.option('header',True).csv(r\"C:\\Users\\11315\\Documents\\DataPracNew.csv\",inferSchema=True)"
   ]
  },
  {
   "cell_type": "code",
   "execution_count": 65,
   "id": "b09613c4",
   "metadata": {},
   "outputs": [
    {
     "data": {
      "text/plain": [
       "DataFrame[emp_id: int, SalesItem: string, Country : string, Quantity : int]"
      ]
     },
     "execution_count": 65,
     "metadata": {},
     "output_type": "execute_result"
    }
   ],
   "source": [
    "df_pyspark"
   ]
  },
  {
   "cell_type": "code",
   "execution_count": 66,
   "id": "1657f445",
   "metadata": {},
   "outputs": [
    {
     "name": "stdout",
     "output_type": "stream",
     "text": [
      "+------+---------+--------+---------+\n",
      "|emp_id|SalesItem|Country |Quantity |\n",
      "+------+---------+--------+---------+\n",
      "|     1|   Laptop|   India|      100|\n",
      "|     2|  Mobile |   India|       30|\n",
      "|     3|Earphones|   India|       50|\n",
      "|     4| Desktops|   India|      110|\n",
      "|     5|Keyboards|   India|       20|\n",
      "|     6|Pendrive |  London|     null|\n",
      "|     7|    Mouse|      UK|     null|\n",
      "|     8|  Airpods|     USA|       18|\n",
      "|     9|Earphones|   India|       50|\n",
      "|    10| Desktops|   India|      110|\n",
      "|    11|Keyboards|   India|       20|\n",
      "+------+---------+--------+---------+\n",
      "\n"
     ]
    }
   ],
   "source": [
    "df_pyspark.show()"
   ]
  },
  {
   "cell_type": "code",
   "execution_count": 67,
   "id": "075e0ef4",
   "metadata": {},
   "outputs": [
    {
     "name": "stdout",
     "output_type": "stream",
     "text": [
      "+------+---------+--------+---------+\n",
      "|emp_id|SalesItem|Country |Quantity |\n",
      "+------+---------+--------+---------+\n",
      "|     1|   Laptop|   India|      100|\n",
      "|     2|  Mobile |   India|       30|\n",
      "|     3|Earphones|   India|       50|\n",
      "|     4| Desktops|   India|      110|\n",
      "|     5|Keyboards|   India|       20|\n",
      "|     6|Pendrive |  London|     null|\n",
      "|     7|    Mouse|      UK|     null|\n",
      "|     8|  Airpods|     USA|       18|\n",
      "|     9|Earphones|   India|       50|\n",
      "|    10| Desktops|   India|      110|\n",
      "|    11|Keyboards|   India|       20|\n",
      "+------+---------+--------+---------+\n",
      "\n"
     ]
    }
   ],
   "source": [
    "# Threshold \n",
    "# thresh=2 --if there are atleast two Non-Null values present in the Row, then the threshold function will not remove any Null values from a row.\n",
    "df_pyspark.na.drop(how='any',thresh=2).show()"
   ]
  },
  {
   "cell_type": "code",
   "execution_count": null,
   "id": "f87ba312",
   "metadata": {},
   "outputs": [],
   "source": [
    "#Subset\n"
   ]
  },
  {
   "cell_type": "code",
   "execution_count": null,
   "id": "b2dd951e",
   "metadata": {},
   "outputs": [],
   "source": [
    "from pyspark.ml.feature import Imputer"
   ]
  },
  {
   "cell_type": "markdown",
   "id": "f6b3fe57",
   "metadata": {
    "tags": [
     "parameters"
    ]
   },
   "source": [
    "Imputer=Imputer\n",
    "inputcols=Imputer(\n",
    "inputcols=['emp_id','SalesItem','Country','Quantity'],\n",
    "outputcols=[\"{}_imputed\".format(c) for c in ['emp_id','SalesItem','Country','Quantity']]\n",
    ").setStrategy(\"mean\")"
   ]
  },
  {
   "cell_type": "code",
   "execution_count": 69,
   "id": "6d6f9cf1",
   "metadata": {},
   "outputs": [],
   "source": [
    "from pyspark.sql.functions import col\n",
    "from pyspark.sql.functions import when"
   ]
  },
  {
   "cell_type": "code",
   "execution_count": 70,
   "id": "1c3bb006",
   "metadata": {},
   "outputs": [
    {
     "name": "stdout",
     "output_type": "stream",
     "text": [
      "+------+---------+--------+---------+\n",
      "|emp_id|SalesItem|Country |Quantity |\n",
      "+------+---------+--------+---------+\n",
      "|     1|   Laptop|   India|      100|\n",
      "|     2|  Mobile |   India|       30|\n",
      "|     3|Earphones|   India|       50|\n",
      "|     4| Desktops|   India|      110|\n",
      "|     5|Keyboards|   India|       20|\n",
      "|     6|Pendrive |  London|     null|\n",
      "|     7|    Mouse|      UK|     null|\n",
      "|     8|  Airpods|     USA|       18|\n",
      "|     9|Earphones|   India|       50|\n",
      "|    10| Desktops|   India|      110|\n",
      "|    11|Keyboards|   India|       20|\n",
      "+------+---------+--------+---------+\n",
      "\n"
     ]
    }
   ],
   "source": [
    "df_pyspark.show()"
   ]
  },
  {
   "attachments": {},
   "cell_type": "markdown",
   "id": "fcddcccd",
   "metadata": {},
   "source": [
    "we can use subset=['coumn Name'] for removing null values from individual column. or we can use when condition."
   ]
  },
  {
   "cell_type": "code",
   "execution_count": 71,
   "id": "aa71856e",
   "metadata": {},
   "outputs": [
    {
     "name": "stdout",
     "output_type": "stream",
     "text": [
      "+------+---------+--------+---------+\n",
      "|emp_id|SalesItem|Country |Quantity |\n",
      "+------+---------+--------+---------+\n",
      "|     1|   Laptop|   India|      100|\n",
      "|     2|  Mobile |   India|       30|\n",
      "|     3|Earphones|   India|       50|\n",
      "|     4| Desktops|   India|      110|\n",
      "|     5|Keyboards|   India|       20|\n",
      "|     6|Pendrive |  London|        0|\n",
      "|     7|    Mouse|      UK|        0|\n",
      "|     8|  Airpods|     USA|       18|\n",
      "|     9|Earphones|   India|       50|\n",
      "|    10| Desktops|   India|      110|\n",
      "|    11|Keyboards|   India|       20|\n",
      "+------+---------+--------+---------+\n",
      "\n"
     ]
    }
   ],
   "source": [
    "df_pyspark.na.fill(value=0).show()\n",
    "\n",
    "df_pyspark = df_pyspark.withColumn(\"Quantity \", when(df_pyspark[\"Quantity \"].isNull(), 0).otherwise(df_pyspark[\"Quantity \"]))"
   ]
  },
  {
   "attachments": {},
   "cell_type": "markdown",
   "id": "1663b7d3",
   "metadata": {},
   "source": [
    "#filter Condition on a particular column "
   ]
  },
  {
   "cell_type": "code",
   "execution_count": 72,
   "id": "1c676b9b",
   "metadata": {},
   "outputs": [
    {
     "name": "stdout",
     "output_type": "stream",
     "text": [
      "+------+---------+--------+---------+\n",
      "|emp_id|SalesItem|Country |Quantity |\n",
      "+------+---------+--------+---------+\n",
      "|     5|Keyboards|   India|       20|\n",
      "|    11|Keyboards|   India|       20|\n",
      "+------+---------+--------+---------+\n",
      "\n"
     ]
    }
   ],
   "source": [
    "df_pyspark.filter(col(\"Quantity \")==\"20\").show()\n"
   ]
  },
  {
   "cell_type": "code",
   "execution_count": 73,
   "id": "26d28853",
   "metadata": {},
   "outputs": [
    {
     "name": "stdout",
     "output_type": "stream",
     "text": [
      "+---------+-----------+--------------+\n",
      "|Quantity |sum(emp_id)|sum(Quantity )|\n",
      "+---------+-----------+--------------+\n",
      "|       20|         16|            40|\n",
      "|      100|          1|           100|\n",
      "|       50|         12|           100|\n",
      "|      110|         14|           220|\n",
      "|       30|          2|            30|\n",
      "|        0|         13|             0|\n",
      "|       18|          8|            18|\n",
      "+---------+-----------+--------------+\n",
      "\n"
     ]
    }
   ],
   "source": [
    "df_pyspark.groupBy(col(\"Quantity \")).sum().show()"
   ]
  },
  {
   "cell_type": "code",
   "execution_count": 74,
   "id": "ef6f2db7",
   "metadata": {},
   "outputs": [
    {
     "name": "stdout",
     "output_type": "stream",
     "text": [
      "+---------+-----+\n",
      "|SalesItem|count|\n",
      "+---------+-----+\n",
      "|Pendrive |    1|\n",
      "|Earphones|    2|\n",
      "|Keyboards|    2|\n",
      "|   Laptop|    1|\n",
      "|    Mouse|    1|\n",
      "|  Airpods|    1|\n",
      "|  Mobile |    1|\n",
      "| Desktops|    2|\n",
      "+---------+-----+\n",
      "\n"
     ]
    }
   ],
   "source": [
    "\n",
    "df_pyspark.groupBy(\"SalesItem\").count().show()"
   ]
  },
  {
   "cell_type": "code",
   "execution_count": 75,
   "id": "81e9c8c5",
   "metadata": {},
   "outputs": [
    {
     "name": "stdout",
     "output_type": "stream",
     "text": [
      "+---------+-----------+--------------+\n",
      "|SalesItem|max(emp_id)|max(Quantity )|\n",
      "+---------+-----------+--------------+\n",
      "|Pendrive |          6|             0|\n",
      "|Earphones|          9|            50|\n",
      "|Keyboards|         11|            20|\n",
      "|   Laptop|          1|           100|\n",
      "|    Mouse|          7|             0|\n",
      "|  Airpods|          8|            18|\n",
      "|  Mobile |          2|            30|\n",
      "| Desktops|         10|           110|\n",
      "+---------+-----------+--------------+\n",
      "\n"
     ]
    }
   ],
   "source": [
    "df_pyspark.groupBy(\"SalesItem\").max().show()"
   ]
  },
  {
   "cell_type": "code",
   "execution_count": 76,
   "id": "c4be1707",
   "metadata": {},
   "outputs": [
    {
     "name": "stdout",
     "output_type": "stream",
     "text": [
      "+------+---------+--------+---------+\n",
      "|emp_id|SalesItem|Country |Quantity |\n",
      "+------+---------+--------+---------+\n",
      "|     6|Pendrive |  London|        0|\n",
      "|     7|    Mouse|      UK|        0|\n",
      "|     8|  Airpods|     USA|       18|\n",
      "+------+---------+--------+---------+\n",
      "\n"
     ]
    }
   ],
   "source": [
    "df_pyspark.filter(col(\"Quantity \" )<20).show()"
   ]
  },
  {
   "attachments": {},
   "cell_type": "markdown",
   "id": "0d0c46d3",
   "metadata": {},
   "source": [
    "Examples of the pyspark ML "
   ]
  },
  {
   "cell_type": "code",
   "execution_count": 78,
   "id": "974e9abb",
   "metadata": {},
   "outputs": [],
   "source": [
    "from pyspark.sql import SparkSession\n",
    "spark= SparkSession.builder.appName(\"ML\").getOrCreate()"
   ]
  },
  {
   "cell_type": "code",
   "execution_count": 79,
   "id": "7c3b3306",
   "metadata": {},
   "outputs": [],
   "source": [
    "training= spark.read.csv(r\"C:\\Users\\11315\\Documents\\DataPracNew.csv\",inferSchema=True)"
   ]
  },
  {
   "cell_type": "code",
   "execution_count": 87,
   "id": "1e9c665c",
   "metadata": {},
   "outputs": [],
   "source": [
    "training=spark.read.option('header','true').csv(r\"C:\\Users\\11315\\Documents\\DataPracNew.csv\",inferSchema=True)"
   ]
  },
  {
   "cell_type": "code",
   "execution_count": 88,
   "id": "22989e4a",
   "metadata": {},
   "outputs": [
    {
     "name": "stdout",
     "output_type": "stream",
     "text": [
      "+------+---------+--------+---------+\n",
      "|emp_id|SalesItem|Country |Quantity |\n",
      "+------+---------+--------+---------+\n",
      "|     1|   Laptop|   India|      100|\n",
      "|     2|  Mobile |   India|       30|\n",
      "|     3|Earphones|   India|       50|\n",
      "|     4| Desktops|   India|      110|\n",
      "|     5|Keyboards|   India|       20|\n",
      "|     6|Pendrive |  London|     null|\n",
      "|     7|    Mouse|      UK|     null|\n",
      "|     8|  Airpods|     USA|       18|\n",
      "|     9|Earphones|   India|       50|\n",
      "|    10| Desktops|   India|      110|\n",
      "|    11|Keyboards|   India|       20|\n",
      "+------+---------+--------+---------+\n",
      "\n"
     ]
    }
   ],
   "source": [
    "training.show()"
   ]
  },
  {
   "cell_type": "code",
   "execution_count": 89,
   "id": "8dc8ac04",
   "metadata": {},
   "outputs": [
    {
     "data": {
      "text/plain": [
       "[('emp_id', 'int'),\n",
       " ('SalesItem', 'string'),\n",
       " ('Country ', 'string'),\n",
       " ('Quantity ', 'int')]"
      ]
     },
     "execution_count": 89,
     "metadata": {},
     "output_type": "execute_result"
    }
   ],
   "source": [
    "training.dtypes"
   ]
  },
  {
   "cell_type": "code",
   "execution_count": 98,
   "id": "8350a869",
   "metadata": {},
   "outputs": [],
   "source": [
    "from pyspark.ml.feature import VectorAssembler\n",
    "featureAssembler = VectorAssembler(inputCols=('emp_id','Quantity '),outputCol=('Independent Column'))"
   ]
  },
  {
   "cell_type": "code",
   "execution_count": 99,
   "id": "a11e01e6",
   "metadata": {},
   "outputs": [],
   "source": [
    "output = featureAssembler.transform(training)"
   ]
  },
  {
   "cell_type": "code",
   "execution_count": 102,
   "id": "14f2aa2d",
   "metadata": {},
   "outputs": [
    {
     "data": {
      "text/plain": [
       "DataFrame[emp_id: int, SalesItem: string, Country : string, Quantity : int, Independent Column: vector]"
      ]
     },
     "execution_count": 102,
     "metadata": {},
     "output_type": "execute_result"
    }
   ],
   "source": [
    "output"
   ]
  },
  {
   "cell_type": "code",
   "execution_count": 105,
   "id": "ed0554da",
   "metadata": {},
   "outputs": [
    {
     "name": "stdout",
     "output_type": "stream",
     "text": [
      "root\n",
      " |-- emp_id: integer (nullable = true)\n",
      " |-- SalesItem: string (nullable = true)\n",
      " |-- Country : string (nullable = true)\n",
      " |-- Quantity : integer (nullable = true)\n",
      " |-- Independent Column: vector (nullable = true)\n",
      "\n"
     ]
    }
   ],
   "source": [
    "output.printSchema()"
   ]
  },
  {
   "cell_type": "code",
   "execution_count": 108,
   "id": "e0a181c5",
   "metadata": {},
   "outputs": [
    {
     "ename": "Py4JJavaError",
     "evalue": "An error occurred while calling o321.showString.\n: org.apache.spark.SparkException: Job aborted due to stage failure: Task 0 in stage 59.0 failed 1 times, most recent failure: Lost task 0.0 in stage 59.0 (TID 53) (11315-Shakshi.teamcomputers.com executor driver): org.apache.spark.SparkException: Failed to execute user defined function (VectorAssembler$$Lambda$3782/0x0000000101367840: (struct<emp_id_double_VectorAssembler_0c8ae61c67d9:double,Quantity _double_VectorAssembler_0c8ae61c67d9:double>) => struct<type:tinyint,size:int,indices:array<int>,values:array<double>>)\r\n\tat org.apache.spark.sql.errors.QueryExecutionErrors$.failedExecuteUserDefinedFunctionError(QueryExecutionErrors.scala:190)\r\n\tat org.apache.spark.sql.errors.QueryExecutionErrors.failedExecuteUserDefinedFunctionError(QueryExecutionErrors.scala)\r\n\tat org.apache.spark.sql.catalyst.expressions.GeneratedClass$GeneratedIteratorForCodegenStage1.processNext(Unknown Source)\r\n\tat org.apache.spark.sql.execution.BufferedRowIterator.hasNext(BufferedRowIterator.java:43)\r\n\tat org.apache.spark.sql.execution.WholeStageCodegenExec$$anon$1.hasNext(WholeStageCodegenExec.scala:760)\r\n\tat org.apache.spark.sql.execution.SparkPlan.$anonfun$getByteArrayRdd$1(SparkPlan.scala:364)\r\n\tat org.apache.spark.rdd.RDD.$anonfun$mapPartitionsInternal$2(RDD.scala:890)\r\n\tat org.apache.spark.rdd.RDD.$anonfun$mapPartitionsInternal$2$adapted(RDD.scala:890)\r\n\tat org.apache.spark.rdd.MapPartitionsRDD.compute(MapPartitionsRDD.scala:52)\r\n\tat org.apache.spark.rdd.RDD.computeOrReadCheckpoint(RDD.scala:365)\r\n\tat org.apache.spark.rdd.RDD.iterator(RDD.scala:329)\r\n\tat org.apache.spark.scheduler.ResultTask.runTask(ResultTask.scala:90)\r\n\tat org.apache.spark.scheduler.Task.run(Task.scala:136)\r\n\tat org.apache.spark.executor.Executor$TaskRunner.$anonfun$run$3(Executor.scala:548)\r\n\tat org.apache.spark.util.Utils$.tryWithSafeFinally(Utils.scala:1504)\r\n\tat org.apache.spark.executor.Executor$TaskRunner.run(Executor.scala:551)\r\n\tat java.base/java.util.concurrent.ThreadPoolExecutor.runWorker(ThreadPoolExecutor.java:1128)\r\n\tat java.base/java.util.concurrent.ThreadPoolExecutor$Worker.run(ThreadPoolExecutor.java:628)\r\n\tat java.base/java.lang.Thread.run(Thread.java:829)\r\nCaused by: org.apache.spark.SparkException: Encountered null while assembling a row with handleInvalid = \"error\". Consider\nremoving nulls from dataset or using handleInvalid = \"keep\" or \"skip\".\r\n\tat org.apache.spark.ml.feature.VectorAssembler$.$anonfun$assemble$1(VectorAssembler.scala:291)\r\n\tat org.apache.spark.ml.feature.VectorAssembler$.$anonfun$assemble$1$adapted(VectorAssembler.scala:260)\r\n\tat scala.collection.IndexedSeqOptimized.foreach(IndexedSeqOptimized.scala:36)\r\n\tat scala.collection.IndexedSeqOptimized.foreach$(IndexedSeqOptimized.scala:33)\r\n\tat scala.collection.mutable.WrappedArray.foreach(WrappedArray.scala:38)\r\n\tat org.apache.spark.ml.feature.VectorAssembler$.assemble(VectorAssembler.scala:260)\r\n\tat org.apache.spark.ml.feature.VectorAssembler.$anonfun$transform$6(VectorAssembler.scala:143)\r\n\t... 17 more\r\n\nDriver stacktrace:\r\n\tat org.apache.spark.scheduler.DAGScheduler.failJobAndIndependentStages(DAGScheduler.scala:2672)\r\n\tat org.apache.spark.scheduler.DAGScheduler.$anonfun$abortStage$2(DAGScheduler.scala:2608)\r\n\tat org.apache.spark.scheduler.DAGScheduler.$anonfun$abortStage$2$adapted(DAGScheduler.scala:2607)\r\n\tat scala.collection.mutable.ResizableArray.foreach(ResizableArray.scala:62)\r\n\tat scala.collection.mutable.ResizableArray.foreach$(ResizableArray.scala:55)\r\n\tat scala.collection.mutable.ArrayBuffer.foreach(ArrayBuffer.scala:49)\r\n\tat org.apache.spark.scheduler.DAGScheduler.abortStage(DAGScheduler.scala:2607)\r\n\tat org.apache.spark.scheduler.DAGScheduler.$anonfun$handleTaskSetFailed$1(DAGScheduler.scala:1182)\r\n\tat org.apache.spark.scheduler.DAGScheduler.$anonfun$handleTaskSetFailed$1$adapted(DAGScheduler.scala:1182)\r\n\tat scala.Option.foreach(Option.scala:407)\r\n\tat org.apache.spark.scheduler.DAGScheduler.handleTaskSetFailed(DAGScheduler.scala:1182)\r\n\tat org.apache.spark.scheduler.DAGSchedulerEventProcessLoop.doOnReceive(DAGScheduler.scala:2860)\r\n\tat org.apache.spark.scheduler.DAGSchedulerEventProcessLoop.onReceive(DAGScheduler.scala:2802)\r\n\tat org.apache.spark.scheduler.DAGSchedulerEventProcessLoop.onReceive(DAGScheduler.scala:2791)\r\n\tat org.apache.spark.util.EventLoop$$anon$1.run(EventLoop.scala:49)\r\n\tat org.apache.spark.scheduler.DAGScheduler.runJob(DAGScheduler.scala:952)\r\n\tat org.apache.spark.SparkContext.runJob(SparkContext.scala:2228)\r\n\tat org.apache.spark.SparkContext.runJob(SparkContext.scala:2249)\r\n\tat org.apache.spark.SparkContext.runJob(SparkContext.scala:2268)\r\n\tat org.apache.spark.sql.execution.SparkPlan.executeTake(SparkPlan.scala:506)\r\n\tat org.apache.spark.sql.execution.SparkPlan.executeTake(SparkPlan.scala:459)\r\n\tat org.apache.spark.sql.execution.CollectLimitExec.executeCollect(limit.scala:48)\r\n\tat org.apache.spark.sql.Dataset.collectFromPlan(Dataset.scala:3868)\r\n\tat org.apache.spark.sql.Dataset.$anonfun$head$1(Dataset.scala:2863)\r\n\tat org.apache.spark.sql.Dataset.$anonfun$withAction$2(Dataset.scala:3858)\r\n\tat org.apache.spark.sql.execution.QueryExecution$.withInternalError(QueryExecution.scala:510)\r\n\tat org.apache.spark.sql.Dataset.$anonfun$withAction$1(Dataset.scala:3856)\r\n\tat org.apache.spark.sql.execution.SQLExecution$.$anonfun$withNewExecutionId$6(SQLExecution.scala:109)\r\n\tat org.apache.spark.sql.execution.SQLExecution$.withSQLConfPropagated(SQLExecution.scala:169)\r\n\tat org.apache.spark.sql.execution.SQLExecution$.$anonfun$withNewExecutionId$1(SQLExecution.scala:95)\r\n\tat org.apache.spark.sql.SparkSession.withActive(SparkSession.scala:779)\r\n\tat org.apache.spark.sql.execution.SQLExecution$.withNewExecutionId(SQLExecution.scala:64)\r\n\tat org.apache.spark.sql.Dataset.withAction(Dataset.scala:3856)\r\n\tat org.apache.spark.sql.Dataset.head(Dataset.scala:2863)\r\n\tat org.apache.spark.sql.Dataset.take(Dataset.scala:3084)\r\n\tat org.apache.spark.sql.Dataset.getRows(Dataset.scala:288)\r\n\tat org.apache.spark.sql.Dataset.showString(Dataset.scala:327)\r\n\tat jdk.internal.reflect.GeneratedMethodAccessor54.invoke(Unknown Source)\r\n\tat java.base/jdk.internal.reflect.DelegatingMethodAccessorImpl.invoke(DelegatingMethodAccessorImpl.java:43)\r\n\tat java.base/java.lang.reflect.Method.invoke(Method.java:566)\r\n\tat py4j.reflection.MethodInvoker.invoke(MethodInvoker.java:244)\r\n\tat py4j.reflection.ReflectionEngine.invoke(ReflectionEngine.java:357)\r\n\tat py4j.Gateway.invoke(Gateway.java:282)\r\n\tat py4j.commands.AbstractCommand.invokeMethod(AbstractCommand.java:132)\r\n\tat py4j.commands.CallCommand.execute(CallCommand.java:79)\r\n\tat py4j.ClientServerConnection.waitForCommands(ClientServerConnection.java:182)\r\n\tat py4j.ClientServerConnection.run(ClientServerConnection.java:106)\r\n\tat java.base/java.lang.Thread.run(Thread.java:829)\r\nCaused by: org.apache.spark.SparkException: Failed to execute user defined function (VectorAssembler$$Lambda$3782/0x0000000101367840: (struct<emp_id_double_VectorAssembler_0c8ae61c67d9:double,Quantity _double_VectorAssembler_0c8ae61c67d9:double>) => struct<type:tinyint,size:int,indices:array<int>,values:array<double>>)\r\n\tat org.apache.spark.sql.errors.QueryExecutionErrors$.failedExecuteUserDefinedFunctionError(QueryExecutionErrors.scala:190)\r\n\tat org.apache.spark.sql.errors.QueryExecutionErrors.failedExecuteUserDefinedFunctionError(QueryExecutionErrors.scala)\r\n\tat org.apache.spark.sql.catalyst.expressions.GeneratedClass$GeneratedIteratorForCodegenStage1.processNext(Unknown Source)\r\n\tat org.apache.spark.sql.execution.BufferedRowIterator.hasNext(BufferedRowIterator.java:43)\r\n\tat org.apache.spark.sql.execution.WholeStageCodegenExec$$anon$1.hasNext(WholeStageCodegenExec.scala:760)\r\n\tat org.apache.spark.sql.execution.SparkPlan.$anonfun$getByteArrayRdd$1(SparkPlan.scala:364)\r\n\tat org.apache.spark.rdd.RDD.$anonfun$mapPartitionsInternal$2(RDD.scala:890)\r\n\tat org.apache.spark.rdd.RDD.$anonfun$mapPartitionsInternal$2$adapted(RDD.scala:890)\r\n\tat org.apache.spark.rdd.MapPartitionsRDD.compute(MapPartitionsRDD.scala:52)\r\n\tat org.apache.spark.rdd.RDD.computeOrReadCheckpoint(RDD.scala:365)\r\n\tat org.apache.spark.rdd.RDD.iterator(RDD.scala:329)\r\n\tat org.apache.spark.scheduler.ResultTask.runTask(ResultTask.scala:90)\r\n\tat org.apache.spark.scheduler.Task.run(Task.scala:136)\r\n\tat org.apache.spark.executor.Executor$TaskRunner.$anonfun$run$3(Executor.scala:548)\r\n\tat org.apache.spark.util.Utils$.tryWithSafeFinally(Utils.scala:1504)\r\n\tat org.apache.spark.executor.Executor$TaskRunner.run(Executor.scala:551)\r\n\tat java.base/java.util.concurrent.ThreadPoolExecutor.runWorker(ThreadPoolExecutor.java:1128)\r\n\tat java.base/java.util.concurrent.ThreadPoolExecutor$Worker.run(ThreadPoolExecutor.java:628)\r\n\t... 1 more\r\nCaused by: org.apache.spark.SparkException: Encountered null while assembling a row with handleInvalid = \"error\". Consider\nremoving nulls from dataset or using handleInvalid = \"keep\" or \"skip\".\r\n\tat org.apache.spark.ml.feature.VectorAssembler$.$anonfun$assemble$1(VectorAssembler.scala:291)\r\n\tat org.apache.spark.ml.feature.VectorAssembler$.$anonfun$assemble$1$adapted(VectorAssembler.scala:260)\r\n\tat scala.collection.IndexedSeqOptimized.foreach(IndexedSeqOptimized.scala:36)\r\n\tat scala.collection.IndexedSeqOptimized.foreach$(IndexedSeqOptimized.scala:33)\r\n\tat scala.collection.mutable.WrappedArray.foreach(WrappedArray.scala:38)\r\n\tat org.apache.spark.ml.feature.VectorAssembler$.assemble(VectorAssembler.scala:260)\r\n\tat org.apache.spark.ml.feature.VectorAssembler.$anonfun$transform$6(VectorAssembler.scala:143)\r\n\t... 17 more\r\n",
     "output_type": "error",
     "traceback": [
      "\u001b[1;31m---------------------------------------------------------------------------\u001b[0m",
      "\u001b[1;31mPy4JJavaError\u001b[0m                             Traceback (most recent call last)",
      "\u001b[1;32mshakshiVarma72\\pySparkCode\\PySpark_Practice2.ipynb Cell 64\u001b[0m in \u001b[0;36m1\n\u001b[1;32m----> <a href='vscode-notebook-cell://github/shakshiVarma72/pySparkCode/PySpark_Practice2.ipynb#Y136sdnNjb2RlLXZmcw%3D%3D?line=0'>1</a>\u001b[0m output\u001b[39m.\u001b[39;49mshow()\n",
      "File \u001b[1;32mc:\\python3.11\\Lib\\site-packages\\pyspark\\sql\\dataframe.py:606\u001b[0m, in \u001b[0;36mDataFrame.show\u001b[1;34m(self, n, truncate, vertical)\u001b[0m\n\u001b[0;32m    603\u001b[0m     \u001b[39mraise\u001b[39;00m \u001b[39mTypeError\u001b[39;00m(\u001b[39m\"\u001b[39m\u001b[39mParameter \u001b[39m\u001b[39m'\u001b[39m\u001b[39mvertical\u001b[39m\u001b[39m'\u001b[39m\u001b[39m must be a bool\u001b[39m\u001b[39m\"\u001b[39m)\n\u001b[0;32m    605\u001b[0m \u001b[39mif\u001b[39;00m \u001b[39misinstance\u001b[39m(truncate, \u001b[39mbool\u001b[39m) \u001b[39mand\u001b[39;00m truncate:\n\u001b[1;32m--> 606\u001b[0m     \u001b[39mprint\u001b[39m(\u001b[39mself\u001b[39;49m\u001b[39m.\u001b[39;49m_jdf\u001b[39m.\u001b[39;49mshowString(n, \u001b[39m20\u001b[39;49m, vertical))\n\u001b[0;32m    607\u001b[0m \u001b[39melse\u001b[39;00m:\n\u001b[0;32m    608\u001b[0m     \u001b[39mtry\u001b[39;00m:\n",
      "File \u001b[1;32mc:\\python3.11\\Lib\\site-packages\\py4j\\java_gateway.py:1321\u001b[0m, in \u001b[0;36mJavaMember.__call__\u001b[1;34m(self, *args)\u001b[0m\n\u001b[0;32m   1315\u001b[0m command \u001b[39m=\u001b[39m proto\u001b[39m.\u001b[39mCALL_COMMAND_NAME \u001b[39m+\u001b[39m\\\n\u001b[0;32m   1316\u001b[0m     \u001b[39mself\u001b[39m\u001b[39m.\u001b[39mcommand_header \u001b[39m+\u001b[39m\\\n\u001b[0;32m   1317\u001b[0m     args_command \u001b[39m+\u001b[39m\\\n\u001b[0;32m   1318\u001b[0m     proto\u001b[39m.\u001b[39mEND_COMMAND_PART\n\u001b[0;32m   1320\u001b[0m answer \u001b[39m=\u001b[39m \u001b[39mself\u001b[39m\u001b[39m.\u001b[39mgateway_client\u001b[39m.\u001b[39msend_command(command)\n\u001b[1;32m-> 1321\u001b[0m return_value \u001b[39m=\u001b[39m get_return_value(\n\u001b[0;32m   1322\u001b[0m     answer, \u001b[39mself\u001b[39;49m\u001b[39m.\u001b[39;49mgateway_client, \u001b[39mself\u001b[39;49m\u001b[39m.\u001b[39;49mtarget_id, \u001b[39mself\u001b[39;49m\u001b[39m.\u001b[39;49mname)\n\u001b[0;32m   1324\u001b[0m \u001b[39mfor\u001b[39;00m temp_arg \u001b[39min\u001b[39;00m temp_args:\n\u001b[0;32m   1325\u001b[0m     temp_arg\u001b[39m.\u001b[39m_detach()\n",
      "File \u001b[1;32mc:\\python3.11\\Lib\\site-packages\\pyspark\\sql\\utils.py:190\u001b[0m, in \u001b[0;36mcapture_sql_exception.<locals>.deco\u001b[1;34m(*a, **kw)\u001b[0m\n\u001b[0;32m    188\u001b[0m \u001b[39mdef\u001b[39;00m \u001b[39mdeco\u001b[39m(\u001b[39m*\u001b[39ma: Any, \u001b[39m*\u001b[39m\u001b[39m*\u001b[39mkw: Any) \u001b[39m-\u001b[39m\u001b[39m>\u001b[39m Any:\n\u001b[0;32m    189\u001b[0m     \u001b[39mtry\u001b[39;00m:\n\u001b[1;32m--> 190\u001b[0m         \u001b[39mreturn\u001b[39;00m f(\u001b[39m*\u001b[39;49ma, \u001b[39m*\u001b[39;49m\u001b[39m*\u001b[39;49mkw)\n\u001b[0;32m    191\u001b[0m     \u001b[39mexcept\u001b[39;00m Py4JJavaError \u001b[39mas\u001b[39;00m e:\n\u001b[0;32m    192\u001b[0m         converted \u001b[39m=\u001b[39m convert_exception(e\u001b[39m.\u001b[39mjava_exception)\n",
      "File \u001b[1;32mc:\\python3.11\\Lib\\site-packages\\py4j\\protocol.py:326\u001b[0m, in \u001b[0;36mget_return_value\u001b[1;34m(answer, gateway_client, target_id, name)\u001b[0m\n\u001b[0;32m    324\u001b[0m value \u001b[39m=\u001b[39m OUTPUT_CONVERTER[\u001b[39mtype\u001b[39m](answer[\u001b[39m2\u001b[39m:], gateway_client)\n\u001b[0;32m    325\u001b[0m \u001b[39mif\u001b[39;00m answer[\u001b[39m1\u001b[39m] \u001b[39m==\u001b[39m REFERENCE_TYPE:\n\u001b[1;32m--> 326\u001b[0m     \u001b[39mraise\u001b[39;00m Py4JJavaError(\n\u001b[0;32m    327\u001b[0m         \u001b[39m\"\u001b[39m\u001b[39mAn error occurred while calling \u001b[39m\u001b[39m{0}\u001b[39;00m\u001b[39m{1}\u001b[39;00m\u001b[39m{2}\u001b[39;00m\u001b[39m.\u001b[39m\u001b[39m\\n\u001b[39;00m\u001b[39m\"\u001b[39m\u001b[39m.\u001b[39m\n\u001b[0;32m    328\u001b[0m         \u001b[39mformat\u001b[39m(target_id, \u001b[39m\"\u001b[39m\u001b[39m.\u001b[39m\u001b[39m\"\u001b[39m, name), value)\n\u001b[0;32m    329\u001b[0m \u001b[39melse\u001b[39;00m:\n\u001b[0;32m    330\u001b[0m     \u001b[39mraise\u001b[39;00m Py4JError(\n\u001b[0;32m    331\u001b[0m         \u001b[39m\"\u001b[39m\u001b[39mAn error occurred while calling \u001b[39m\u001b[39m{0}\u001b[39;00m\u001b[39m{1}\u001b[39;00m\u001b[39m{2}\u001b[39;00m\u001b[39m. Trace:\u001b[39m\u001b[39m\\n\u001b[39;00m\u001b[39m{3}\u001b[39;00m\u001b[39m\\n\u001b[39;00m\u001b[39m\"\u001b[39m\u001b[39m.\u001b[39m\n\u001b[0;32m    332\u001b[0m         \u001b[39mformat\u001b[39m(target_id, \u001b[39m\"\u001b[39m\u001b[39m.\u001b[39m\u001b[39m\"\u001b[39m, name, value))\n",
      "\u001b[1;31mPy4JJavaError\u001b[0m: An error occurred while calling o321.showString.\n: org.apache.spark.SparkException: Job aborted due to stage failure: Task 0 in stage 59.0 failed 1 times, most recent failure: Lost task 0.0 in stage 59.0 (TID 53) (11315-Shakshi.teamcomputers.com executor driver): org.apache.spark.SparkException: Failed to execute user defined function (VectorAssembler$$Lambda$3782/0x0000000101367840: (struct<emp_id_double_VectorAssembler_0c8ae61c67d9:double,Quantity _double_VectorAssembler_0c8ae61c67d9:double>) => struct<type:tinyint,size:int,indices:array<int>,values:array<double>>)\r\n\tat org.apache.spark.sql.errors.QueryExecutionErrors$.failedExecuteUserDefinedFunctionError(QueryExecutionErrors.scala:190)\r\n\tat org.apache.spark.sql.errors.QueryExecutionErrors.failedExecuteUserDefinedFunctionError(QueryExecutionErrors.scala)\r\n\tat org.apache.spark.sql.catalyst.expressions.GeneratedClass$GeneratedIteratorForCodegenStage1.processNext(Unknown Source)\r\n\tat org.apache.spark.sql.execution.BufferedRowIterator.hasNext(BufferedRowIterator.java:43)\r\n\tat org.apache.spark.sql.execution.WholeStageCodegenExec$$anon$1.hasNext(WholeStageCodegenExec.scala:760)\r\n\tat org.apache.spark.sql.execution.SparkPlan.$anonfun$getByteArrayRdd$1(SparkPlan.scala:364)\r\n\tat org.apache.spark.rdd.RDD.$anonfun$mapPartitionsInternal$2(RDD.scala:890)\r\n\tat org.apache.spark.rdd.RDD.$anonfun$mapPartitionsInternal$2$adapted(RDD.scala:890)\r\n\tat org.apache.spark.rdd.MapPartitionsRDD.compute(MapPartitionsRDD.scala:52)\r\n\tat org.apache.spark.rdd.RDD.computeOrReadCheckpoint(RDD.scala:365)\r\n\tat org.apache.spark.rdd.RDD.iterator(RDD.scala:329)\r\n\tat org.apache.spark.scheduler.ResultTask.runTask(ResultTask.scala:90)\r\n\tat org.apache.spark.scheduler.Task.run(Task.scala:136)\r\n\tat org.apache.spark.executor.Executor$TaskRunner.$anonfun$run$3(Executor.scala:548)\r\n\tat org.apache.spark.util.Utils$.tryWithSafeFinally(Utils.scala:1504)\r\n\tat org.apache.spark.executor.Executor$TaskRunner.run(Executor.scala:551)\r\n\tat java.base/java.util.concurrent.ThreadPoolExecutor.runWorker(ThreadPoolExecutor.java:1128)\r\n\tat java.base/java.util.concurrent.ThreadPoolExecutor$Worker.run(ThreadPoolExecutor.java:628)\r\n\tat java.base/java.lang.Thread.run(Thread.java:829)\r\nCaused by: org.apache.spark.SparkException: Encountered null while assembling a row with handleInvalid = \"error\". Consider\nremoving nulls from dataset or using handleInvalid = \"keep\" or \"skip\".\r\n\tat org.apache.spark.ml.feature.VectorAssembler$.$anonfun$assemble$1(VectorAssembler.scala:291)\r\n\tat org.apache.spark.ml.feature.VectorAssembler$.$anonfun$assemble$1$adapted(VectorAssembler.scala:260)\r\n\tat scala.collection.IndexedSeqOptimized.foreach(IndexedSeqOptimized.scala:36)\r\n\tat scala.collection.IndexedSeqOptimized.foreach$(IndexedSeqOptimized.scala:33)\r\n\tat scala.collection.mutable.WrappedArray.foreach(WrappedArray.scala:38)\r\n\tat org.apache.spark.ml.feature.VectorAssembler$.assemble(VectorAssembler.scala:260)\r\n\tat org.apache.spark.ml.feature.VectorAssembler.$anonfun$transform$6(VectorAssembler.scala:143)\r\n\t... 17 more\r\n\nDriver stacktrace:\r\n\tat org.apache.spark.scheduler.DAGScheduler.failJobAndIndependentStages(DAGScheduler.scala:2672)\r\n\tat org.apache.spark.scheduler.DAGScheduler.$anonfun$abortStage$2(DAGScheduler.scala:2608)\r\n\tat org.apache.spark.scheduler.DAGScheduler.$anonfun$abortStage$2$adapted(DAGScheduler.scala:2607)\r\n\tat scala.collection.mutable.ResizableArray.foreach(ResizableArray.scala:62)\r\n\tat scala.collection.mutable.ResizableArray.foreach$(ResizableArray.scala:55)\r\n\tat scala.collection.mutable.ArrayBuffer.foreach(ArrayBuffer.scala:49)\r\n\tat org.apache.spark.scheduler.DAGScheduler.abortStage(DAGScheduler.scala:2607)\r\n\tat org.apache.spark.scheduler.DAGScheduler.$anonfun$handleTaskSetFailed$1(DAGScheduler.scala:1182)\r\n\tat org.apache.spark.scheduler.DAGScheduler.$anonfun$handleTaskSetFailed$1$adapted(DAGScheduler.scala:1182)\r\n\tat scala.Option.foreach(Option.scala:407)\r\n\tat org.apache.spark.scheduler.DAGScheduler.handleTaskSetFailed(DAGScheduler.scala:1182)\r\n\tat org.apache.spark.scheduler.DAGSchedulerEventProcessLoop.doOnReceive(DAGScheduler.scala:2860)\r\n\tat org.apache.spark.scheduler.DAGSchedulerEventProcessLoop.onReceive(DAGScheduler.scala:2802)\r\n\tat org.apache.spark.scheduler.DAGSchedulerEventProcessLoop.onReceive(DAGScheduler.scala:2791)\r\n\tat org.apache.spark.util.EventLoop$$anon$1.run(EventLoop.scala:49)\r\n\tat org.apache.spark.scheduler.DAGScheduler.runJob(DAGScheduler.scala:952)\r\n\tat org.apache.spark.SparkContext.runJob(SparkContext.scala:2228)\r\n\tat org.apache.spark.SparkContext.runJob(SparkContext.scala:2249)\r\n\tat org.apache.spark.SparkContext.runJob(SparkContext.scala:2268)\r\n\tat org.apache.spark.sql.execution.SparkPlan.executeTake(SparkPlan.scala:506)\r\n\tat org.apache.spark.sql.execution.SparkPlan.executeTake(SparkPlan.scala:459)\r\n\tat org.apache.spark.sql.execution.CollectLimitExec.executeCollect(limit.scala:48)\r\n\tat org.apache.spark.sql.Dataset.collectFromPlan(Dataset.scala:3868)\r\n\tat org.apache.spark.sql.Dataset.$anonfun$head$1(Dataset.scala:2863)\r\n\tat org.apache.spark.sql.Dataset.$anonfun$withAction$2(Dataset.scala:3858)\r\n\tat org.apache.spark.sql.execution.QueryExecution$.withInternalError(QueryExecution.scala:510)\r\n\tat org.apache.spark.sql.Dataset.$anonfun$withAction$1(Dataset.scala:3856)\r\n\tat org.apache.spark.sql.execution.SQLExecution$.$anonfun$withNewExecutionId$6(SQLExecution.scala:109)\r\n\tat org.apache.spark.sql.execution.SQLExecution$.withSQLConfPropagated(SQLExecution.scala:169)\r\n\tat org.apache.spark.sql.execution.SQLExecution$.$anonfun$withNewExecutionId$1(SQLExecution.scala:95)\r\n\tat org.apache.spark.sql.SparkSession.withActive(SparkSession.scala:779)\r\n\tat org.apache.spark.sql.execution.SQLExecution$.withNewExecutionId(SQLExecution.scala:64)\r\n\tat org.apache.spark.sql.Dataset.withAction(Dataset.scala:3856)\r\n\tat org.apache.spark.sql.Dataset.head(Dataset.scala:2863)\r\n\tat org.apache.spark.sql.Dataset.take(Dataset.scala:3084)\r\n\tat org.apache.spark.sql.Dataset.getRows(Dataset.scala:288)\r\n\tat org.apache.spark.sql.Dataset.showString(Dataset.scala:327)\r\n\tat jdk.internal.reflect.GeneratedMethodAccessor54.invoke(Unknown Source)\r\n\tat java.base/jdk.internal.reflect.DelegatingMethodAccessorImpl.invoke(DelegatingMethodAccessorImpl.java:43)\r\n\tat java.base/java.lang.reflect.Method.invoke(Method.java:566)\r\n\tat py4j.reflection.MethodInvoker.invoke(MethodInvoker.java:244)\r\n\tat py4j.reflection.ReflectionEngine.invoke(ReflectionEngine.java:357)\r\n\tat py4j.Gateway.invoke(Gateway.java:282)\r\n\tat py4j.commands.AbstractCommand.invokeMethod(AbstractCommand.java:132)\r\n\tat py4j.commands.CallCommand.execute(CallCommand.java:79)\r\n\tat py4j.ClientServerConnection.waitForCommands(ClientServerConnection.java:182)\r\n\tat py4j.ClientServerConnection.run(ClientServerConnection.java:106)\r\n\tat java.base/java.lang.Thread.run(Thread.java:829)\r\nCaused by: org.apache.spark.SparkException: Failed to execute user defined function (VectorAssembler$$Lambda$3782/0x0000000101367840: (struct<emp_id_double_VectorAssembler_0c8ae61c67d9:double,Quantity _double_VectorAssembler_0c8ae61c67d9:double>) => struct<type:tinyint,size:int,indices:array<int>,values:array<double>>)\r\n\tat org.apache.spark.sql.errors.QueryExecutionErrors$.failedExecuteUserDefinedFunctionError(QueryExecutionErrors.scala:190)\r\n\tat org.apache.spark.sql.errors.QueryExecutionErrors.failedExecuteUserDefinedFunctionError(QueryExecutionErrors.scala)\r\n\tat org.apache.spark.sql.catalyst.expressions.GeneratedClass$GeneratedIteratorForCodegenStage1.processNext(Unknown Source)\r\n\tat org.apache.spark.sql.execution.BufferedRowIterator.hasNext(BufferedRowIterator.java:43)\r\n\tat org.apache.spark.sql.execution.WholeStageCodegenExec$$anon$1.hasNext(WholeStageCodegenExec.scala:760)\r\n\tat org.apache.spark.sql.execution.SparkPlan.$anonfun$getByteArrayRdd$1(SparkPlan.scala:364)\r\n\tat org.apache.spark.rdd.RDD.$anonfun$mapPartitionsInternal$2(RDD.scala:890)\r\n\tat org.apache.spark.rdd.RDD.$anonfun$mapPartitionsInternal$2$adapted(RDD.scala:890)\r\n\tat org.apache.spark.rdd.MapPartitionsRDD.compute(MapPartitionsRDD.scala:52)\r\n\tat org.apache.spark.rdd.RDD.computeOrReadCheckpoint(RDD.scala:365)\r\n\tat org.apache.spark.rdd.RDD.iterator(RDD.scala:329)\r\n\tat org.apache.spark.scheduler.ResultTask.runTask(ResultTask.scala:90)\r\n\tat org.apache.spark.scheduler.Task.run(Task.scala:136)\r\n\tat org.apache.spark.executor.Executor$TaskRunner.$anonfun$run$3(Executor.scala:548)\r\n\tat org.apache.spark.util.Utils$.tryWithSafeFinally(Utils.scala:1504)\r\n\tat org.apache.spark.executor.Executor$TaskRunner.run(Executor.scala:551)\r\n\tat java.base/java.util.concurrent.ThreadPoolExecutor.runWorker(ThreadPoolExecutor.java:1128)\r\n\tat java.base/java.util.concurrent.ThreadPoolExecutor$Worker.run(ThreadPoolExecutor.java:628)\r\n\t... 1 more\r\nCaused by: org.apache.spark.SparkException: Encountered null while assembling a row with handleInvalid = \"error\". Consider\nremoving nulls from dataset or using handleInvalid = \"keep\" or \"skip\".\r\n\tat org.apache.spark.ml.feature.VectorAssembler$.$anonfun$assemble$1(VectorAssembler.scala:291)\r\n\tat org.apache.spark.ml.feature.VectorAssembler$.$anonfun$assemble$1$adapted(VectorAssembler.scala:260)\r\n\tat scala.collection.IndexedSeqOptimized.foreach(IndexedSeqOptimized.scala:36)\r\n\tat scala.collection.IndexedSeqOptimized.foreach$(IndexedSeqOptimized.scala:33)\r\n\tat scala.collection.mutable.WrappedArray.foreach(WrappedArray.scala:38)\r\n\tat org.apache.spark.ml.feature.VectorAssembler$.assemble(VectorAssembler.scala:260)\r\n\tat org.apache.spark.ml.feature.VectorAssembler.$anonfun$transform$6(VectorAssembler.scala:143)\r\n\t... 17 more\r\n"
     ]
    }
   ],
   "source": [
    "output.show()"
   ]
  },
  {
   "cell_type": "code",
   "execution_count": null,
   "id": "2f3c0c30",
   "metadata": {},
   "outputs": [],
   "source": []
  }
 ],
 "metadata": {
  "kernelspec": {
   "display_name": "Python 3 (ipykernel)",
   "language": "python",
   "name": "python3"
  },
  "language_info": {
   "codemirror_mode": {
    "name": "ipython",
    "version": 3
   },
   "file_extension": ".py",
   "mimetype": "text/x-python",
   "name": "python",
   "nbconvert_exporter": "python",
   "pygments_lexer": "ipython3",
   "version": "3.11.0"
  }
 },
 "nbformat": 4,
 "nbformat_minor": 5
}
