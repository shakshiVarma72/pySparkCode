{
 "cells": [
  {
   "cell_type": "code",
   "execution_count": 1,
   "id": "ca60505c",
   "metadata": {},
   "outputs": [
    {
     "name": "stdout",
     "output_type": "stream",
     "text": [
      "Requirement already satisfied: pyspark in c:\\python3.11\\lib\\site-packages (3.3.1)\n",
      "Requirement already satisfied: py4j==0.10.9.5 in c:\\python3.11\\lib\\site-packages (from pyspark) (0.10.9.5)\n"
     ]
    },
    {
     "name": "stderr",
     "output_type": "stream",
     "text": [
      "\n",
      "[notice] A new release of pip available: 22.3.1 -> 23.0.1\n",
      "[notice] To update, run: python.exe -m pip install --upgrade pip\n"
     ]
    }
   ],
   "source": [
    "! pip install pyspark"
   ]
  },
  {
   "cell_type": "code",
   "execution_count": 2,
   "id": "eed1e30c",
   "metadata": {},
   "outputs": [],
   "source": [
    "import pyspark"
   ]
  },
  {
   "cell_type": "code",
   "execution_count": 3,
   "id": "bd2dc2d0",
   "metadata": {},
   "outputs": [],
   "source": [
    "import pandas as pd"
   ]
  },
  {
   "cell_type": "code",
   "execution_count": 4,
   "id": "31d51c55",
   "metadata": {},
   "outputs": [
    {
     "data": {
      "text/html": [
       "<div>\n",
       "<style scoped>\n",
       "    .dataframe tbody tr th:only-of-type {\n",
       "        vertical-align: middle;\n",
       "    }\n",
       "\n",
       "    .dataframe tbody tr th {\n",
       "        vertical-align: top;\n",
       "    }\n",
       "\n",
       "    .dataframe thead th {\n",
       "        text-align: right;\n",
       "    }\n",
       "</style>\n",
       "<table border=\"1\" class=\"dataframe\">\n",
       "  <thead>\n",
       "    <tr style=\"text-align: right;\">\n",
       "      <th></th>\n",
       "      <th>emp_id</th>\n",
       "      <th>SalesItem</th>\n",
       "      <th>Country</th>\n",
       "      <th>Quantity</th>\n",
       "    </tr>\n",
       "  </thead>\n",
       "  <tbody>\n",
       "    <tr>\n",
       "      <th>0</th>\n",
       "      <td>1</td>\n",
       "      <td>Laptop</td>\n",
       "      <td>India</td>\n",
       "      <td>100.0</td>\n",
       "    </tr>\n",
       "    <tr>\n",
       "      <th>1</th>\n",
       "      <td>2</td>\n",
       "      <td>Mobile</td>\n",
       "      <td>India</td>\n",
       "      <td>30.0</td>\n",
       "    </tr>\n",
       "    <tr>\n",
       "      <th>2</th>\n",
       "      <td>3</td>\n",
       "      <td>Earphones</td>\n",
       "      <td>India</td>\n",
       "      <td>50.0</td>\n",
       "    </tr>\n",
       "    <tr>\n",
       "      <th>3</th>\n",
       "      <td>4</td>\n",
       "      <td>Desktops</td>\n",
       "      <td>India</td>\n",
       "      <td>110.0</td>\n",
       "    </tr>\n",
       "    <tr>\n",
       "      <th>4</th>\n",
       "      <td>5</td>\n",
       "      <td>Keyboards</td>\n",
       "      <td>India</td>\n",
       "      <td>20.0</td>\n",
       "    </tr>\n",
       "    <tr>\n",
       "      <th>5</th>\n",
       "      <td>6</td>\n",
       "      <td>Pendrive</td>\n",
       "      <td>London</td>\n",
       "      <td>NaN</td>\n",
       "    </tr>\n",
       "    <tr>\n",
       "      <th>6</th>\n",
       "      <td>7</td>\n",
       "      <td>Mouse</td>\n",
       "      <td>UK</td>\n",
       "      <td>NaN</td>\n",
       "    </tr>\n",
       "    <tr>\n",
       "      <th>7</th>\n",
       "      <td>8</td>\n",
       "      <td>Airpods</td>\n",
       "      <td>USA</td>\n",
       "      <td>18.0</td>\n",
       "    </tr>\n",
       "  </tbody>\n",
       "</table>\n",
       "</div>"
      ],
      "text/plain": [
       "   emp_id  SalesItem Country   Quantity \n",
       "0       1     Laptop    India      100.0\n",
       "1       2    Mobile     India       30.0\n",
       "2       3  Earphones    India       50.0\n",
       "3       4   Desktops    India      110.0\n",
       "4       5  Keyboards    India       20.0\n",
       "5       6  Pendrive    London        NaN\n",
       "6       7      Mouse       UK        NaN\n",
       "7       8    Airpods      USA       18.0"
      ]
     },
     "execution_count": 4,
     "metadata": {},
     "output_type": "execute_result"
    }
   ],
   "source": [
    "pd.read_csv(r\"C:\\Users\\11315\\Documents\\DataPrac.csv\")"
   ]
  },
  {
   "cell_type": "code",
   "execution_count": 5,
   "id": "c3e2c441",
   "metadata": {},
   "outputs": [],
   "source": [
    "from pyspark.sql import SparkSession"
   ]
  },
  {
   "cell_type": "code",
   "execution_count": 6,
   "id": "5fd0b970",
   "metadata": {},
   "outputs": [],
   "source": [
    "spark=SparkSession.builder.appName('Dataframe').getOrCreate()"
   ]
  },
  {
   "cell_type": "code",
   "execution_count": 7,
   "id": "639fbd14",
   "metadata": {},
   "outputs": [
    {
     "data": {
      "text/html": [
       "\n",
       "            <div>\n",
       "                <p><b>SparkSession - in-memory</b></p>\n",
       "                \n",
       "        <div>\n",
       "            <p><b>SparkContext</b></p>\n",
       "\n",
       "            <p><a href=\"http://11315-Shakshi.teamcomputers.com:4040\">Spark UI</a></p>\n",
       "\n",
       "            <dl>\n",
       "              <dt>Version</dt>\n",
       "                <dd><code>v3.3.1</code></dd>\n",
       "              <dt>Master</dt>\n",
       "                <dd><code>local[*]</code></dd>\n",
       "              <dt>AppName</dt>\n",
       "                <dd><code>Dataframe</code></dd>\n",
       "            </dl>\n",
       "        </div>\n",
       "        \n",
       "            </div>\n",
       "        "
      ],
      "text/plain": [
       "<pyspark.sql.session.SparkSession at 0x1f44aad9bd0>"
      ]
     },
     "execution_count": 7,
     "metadata": {},
     "output_type": "execute_result"
    }
   ],
   "source": [
    "spark"
   ]
  },
  {
   "cell_type": "code",
   "execution_count": 8,
   "id": "673fd65d",
   "metadata": {},
   "outputs": [],
   "source": [
    "df_pyspark=spark.read.csv(r\"C:\\Users\\11315\\Documents\\DataPrac.csv\")"
   ]
  },
  {
   "cell_type": "code",
   "execution_count": 9,
   "id": "fc73fcab",
   "metadata": {},
   "outputs": [
    {
     "data": {
      "text/plain": [
       "DataFrame[_c0: string, _c1: string, _c2: string, _c3: string]"
      ]
     },
     "execution_count": 9,
     "metadata": {},
     "output_type": "execute_result"
    }
   ],
   "source": [
    "df_pyspark"
   ]
  },
  {
   "cell_type": "code",
   "execution_count": 10,
   "id": "05b9bfa9",
   "metadata": {},
   "outputs": [
    {
     "name": "stdout",
     "output_type": "stream",
     "text": [
      "+------+---------+--------+---------+\n",
      "|   _c0|      _c1|     _c2|      _c3|\n",
      "+------+---------+--------+---------+\n",
      "|emp_id|SalesItem|Country |Quantity |\n",
      "|     1|   Laptop|   India|      100|\n",
      "|     2|  Mobile |   India|       30|\n",
      "|     3|Earphones|   India|       50|\n",
      "|     4| Desktops|   India|      110|\n",
      "|     5|Keyboards|   India|       20|\n",
      "|     6|Pendrive |  London|     null|\n",
      "|     7|    Mouse|      UK|     null|\n",
      "|     8|  Airpods|     USA|       18|\n",
      "+------+---------+--------+---------+\n",
      "\n"
     ]
    }
   ],
   "source": [
    "df_pyspark.show()"
   ]
  },
  {
   "cell_type": "code",
   "execution_count": 11,
   "id": "7cdeb947",
   "metadata": {},
   "outputs": [],
   "source": [
    "df_pyspark=spark.read.option('header','true').csv(r\"C:\\Users\\11315\\Documents\\DataPrac.csv\",inferSchema=True)"
   ]
  },
  {
   "cell_type": "code",
   "execution_count": 12,
   "id": "139dd1ba",
   "metadata": {},
   "outputs": [
    {
     "data": {
      "text/plain": [
       "DataFrame[emp_id: int, SalesItem: string, Country : string, Quantity : int]"
      ]
     },
     "execution_count": 12,
     "metadata": {},
     "output_type": "execute_result"
    }
   ],
   "source": [
    "df_pyspark"
   ]
  },
  {
   "cell_type": "code",
   "execution_count": 13,
   "id": "30d26db0",
   "metadata": {},
   "outputs": [
    {
     "name": "stdout",
     "output_type": "stream",
     "text": [
      "+------+---------+--------+---------+\n",
      "|emp_id|SalesItem|Country |Quantity |\n",
      "+------+---------+--------+---------+\n",
      "|     1|   Laptop|   India|      100|\n",
      "|     2|  Mobile |   India|       30|\n",
      "|     3|Earphones|   India|       50|\n",
      "|     4| Desktops|   India|      110|\n",
      "|     5|Keyboards|   India|       20|\n",
      "|     6|Pendrive |  London|     null|\n",
      "|     7|    Mouse|      UK|     null|\n",
      "|     8|  Airpods|     USA|       18|\n",
      "+------+---------+--------+---------+\n",
      "\n"
     ]
    }
   ],
   "source": [
    "df_pyspark.show()"
   ]
  },
  {
   "cell_type": "markdown",
   "id": "bbd8b289",
   "metadata": {},
   "source": [
    "# type shows the type of dataframe "
   ]
  },
  {
   "cell_type": "code",
   "execution_count": 14,
   "id": "ce6bee9f",
   "metadata": {},
   "outputs": [
    {
     "data": {
      "text/plain": [
       "pyspark.sql.dataframe.DataFrame"
      ]
     },
     "execution_count": 14,
     "metadata": {},
     "output_type": "execute_result"
    }
   ],
   "source": [
    "type(df_pyspark)"
   ]
  },
  {
   "cell_type": "markdown",
   "id": "3ee4a82a",
   "metadata": {},
   "source": []
  },
  {
   "cell_type": "code",
   "execution_count": 15,
   "id": "c4dbb0d3",
   "metadata": {},
   "outputs": [
    {
     "data": {
      "text/plain": [
       "[Row(emp_id=1, SalesItem='Laptop', Country ='India', Quantity =100),\n",
       " Row(emp_id=2, SalesItem='Mobile ', Country ='India', Quantity =30)]"
      ]
     },
     "execution_count": 15,
     "metadata": {},
     "output_type": "execute_result"
    }
   ],
   "source": [
    "df_pyspark.head(2)"
   ]
  },
  {
   "cell_type": "raw",
   "id": "58bbdc37",
   "metadata": {},
   "source": [
    "#printSchema  tells about information of column and datatype"
   ]
  },
  {
   "cell_type": "code",
   "execution_count": 16,
   "id": "44cd9c53",
   "metadata": {},
   "outputs": [
    {
     "name": "stdout",
     "output_type": "stream",
     "text": [
      "root\n",
      " |-- emp_id: integer (nullable = true)\n",
      " |-- SalesItem: string (nullable = true)\n",
      " |-- Country : string (nullable = true)\n",
      " |-- Quantity : integer (nullable = true)\n",
      "\n"
     ]
    }
   ],
   "source": [
    "df_pyspark.printSchema()"
   ]
  },
  {
   "cell_type": "markdown",
   "id": "6d2c1573",
   "metadata": {},
   "source": []
  },
  {
   "cell_type": "code",
   "execution_count": 17,
   "id": "defd7194",
   "metadata": {},
   "outputs": [
    {
     "data": {
      "text/plain": [
       "['emp_id', 'SalesItem', 'Country ', 'Quantity ']"
      ]
     },
     "execution_count": 17,
     "metadata": {},
     "output_type": "execute_result"
    }
   ],
   "source": [
    "df_pyspark.columns"
   ]
  },
  {
   "attachments": {},
   "cell_type": "markdown",
   "id": "631d6510",
   "metadata": {},
   "source": [
    "Shows informatipon of particular column"
   ]
  },
  {
   "cell_type": "code",
   "execution_count": 18,
   "id": "69513582",
   "metadata": {},
   "outputs": [
    {
     "name": "stdout",
     "output_type": "stream",
     "text": [
      "+---------+\n",
      "|SalesItem|\n",
      "+---------+\n",
      "|   Laptop|\n",
      "|  Mobile |\n",
      "|Earphones|\n",
      "| Desktops|\n",
      "|Keyboards|\n",
      "|Pendrive |\n",
      "|    Mouse|\n",
      "|  Airpods|\n",
      "+---------+\n",
      "\n"
     ]
    }
   ],
   "source": [
    "df_pyspark.select('SalesItem').show()"
   ]
  },
  {
   "cell_type": "code",
   "execution_count": 19,
   "id": "afbd958e",
   "metadata": {},
   "outputs": [
    {
     "data": {
      "text/plain": [
       "[('emp_id', 'int'),\n",
       " ('SalesItem', 'string'),\n",
       " ('Country ', 'string'),\n",
       " ('Quantity ', 'int')]"
      ]
     },
     "execution_count": 19,
     "metadata": {},
     "output_type": "execute_result"
    }
   ],
   "source": [
    "df_pyspark.dtypes"
   ]
  },
  {
   "cell_type": "code",
   "execution_count": 20,
   "id": "5229f1de",
   "metadata": {},
   "outputs": [
    {
     "name": "stdout",
     "output_type": "stream",
     "text": [
      "+-------+-----------------+---------+--------+------------------+\n",
      "|summary|           emp_id|SalesItem|Country |         Quantity |\n",
      "+-------+-----------------+---------+--------+------------------+\n",
      "|  count|                8|        8|       8|                 6|\n",
      "|   mean|              4.5|     null|    null|54.666666666666664|\n",
      "| stddev|2.449489742783178|     null|    null|  40.7267315981367|\n",
      "|    min|                1|  Airpods|   India|                18|\n",
      "|    max|                8|Pendrive |     USA|               110|\n",
      "+-------+-----------------+---------+--------+------------------+\n",
      "\n"
     ]
    }
   ],
   "source": [
    "df_pyspark.describe().show()"
   ]
  },
  {
   "cell_type": "markdown",
   "id": "5138bb96",
   "metadata": {},
   "source": [
    "Adding Column in Dataframe"
   ]
  },
  {
   "attachments": {},
   "cell_type": "markdown",
   "id": "138ce13e",
   "metadata": {},
   "source": [
    "PySpark SQL functions lit() and typedLit() are used to add a new column to DataFrame by assigning a literal or constant value. Both these functions return Column type as return type."
   ]
  },
  {
   "cell_type": "code",
   "execution_count": 21,
   "id": "de4fe5fc",
   "metadata": {},
   "outputs": [
    {
     "name": "stdout",
     "output_type": "stream",
     "text": [
      "+------+---------+--------+---------+----+\n",
      "|emp_id|SalesItem|Country |Quantity |Demo|\n",
      "+------+---------+--------+---------+----+\n",
      "|     1|   Laptop|   India|      100| 100|\n",
      "|     2|  Mobile |   India|       30|  30|\n",
      "|     3|Earphones|   India|       50|  50|\n",
      "|     4| Desktops|   India|      110| 110|\n",
      "|     5|Keyboards|   India|       20|  20|\n",
      "|     6|Pendrive |  London|     null|null|\n",
      "|     7|    Mouse|      UK|     null|null|\n",
      "|     8|  Airpods|     USA|       18|  18|\n",
      "+------+---------+--------+---------+----+\n",
      "\n"
     ]
    }
   ],
   "source": [
    "df_pyspark= df_pyspark.withColumn('Demo',df_pyspark['Quantity ']).show()"
   ]
  },
  {
   "cell_type": "code",
   "execution_count": 22,
   "id": "004af060",
   "metadata": {},
   "outputs": [],
   "source": [
    "from pyspark.sql.functions import lit\n"
   ]
  },
  {
   "cell_type": "code",
   "execution_count": 23,
   "id": "47ec7458",
   "metadata": {},
   "outputs": [
    {
     "ename": "AttributeError",
     "evalue": "'NoneType' object has no attribute 'withColumn'",
     "output_type": "error",
     "traceback": [
      "\u001b[1;31m---------------------------------------------------------------------------\u001b[0m",
      "\u001b[1;31mAttributeError\u001b[0m                            Traceback (most recent call last)",
      "\u001b[1;32mshakshiVarma72\\pySparkCode\\PySpark_Practice2.ipynb Cell 30\u001b[0m in \u001b[0;36m1\n\u001b[1;32m----> <a href='vscode-notebook-cell://github/shakshiVarma72/pySparkCode/PySpark_Practice2.ipynb#X40sdnNjb2RlLXZmcw%3D%3D?line=0'>1</a>\u001b[0m df_pyspark\u001b[39m.\u001b[39;49mwithColumn(\u001b[39m'\u001b[39m\u001b[39mPrice\u001b[39m\u001b[39m'\u001b[39m,lit(\u001b[39m100000\u001b[39m))\u001b[39m.\u001b[39mshow()\n",
      "\u001b[1;31mAttributeError\u001b[0m: 'NoneType' object has no attribute 'withColumn'"
     ]
    }
   ],
   "source": [
    "df_pyspark.withColumn('Price',lit(100000)).show()"
   ]
  },
  {
   "cell_type": "code",
   "execution_count": null,
   "id": "51083433",
   "metadata": {},
   "outputs": [
    {
     "ename": "AttributeError",
     "evalue": "'NoneType' object has no attribute 'show'",
     "output_type": "error",
     "traceback": [
      "\u001b[1;31m---------------------------------------------------------------------------\u001b[0m",
      "\u001b[1;31mAttributeError\u001b[0m                            Traceback (most recent call last)",
      "\u001b[1;32mshakshiVarma72\\pySparkCode\\PySpark_Practice2.ipynb Cell 31\u001b[0m in \u001b[0;36m1\n\u001b[1;32m----> <a href='vscode-notebook-cell://github/shakshiVarma72/pySparkCode/PySpark_Practice2.ipynb#X41sdnNjb2RlLXZmcw%3D%3D?line=0'>1</a>\u001b[0m df_pyspark\u001b[39m.\u001b[39;49mshow()\n",
      "\u001b[1;31mAttributeError\u001b[0m: 'NoneType' object has no attribute 'show'"
     ]
    }
   ],
   "source": [
    "df_pyspark.show()"
   ]
  },
  {
   "cell_type": "code",
   "execution_count": null,
   "id": "bb291bf5",
   "metadata": {},
   "outputs": [
    {
     "data": {
      "text/plain": [
       "DataFrame[emp_id: int, SalesItem: string, Country : string, Quantity : int]"
      ]
     },
     "execution_count": 24,
     "metadata": {},
     "output_type": "execute_result"
    }
   ],
   "source": [
    "df_pyspark.drop('price')"
   ]
  },
  {
   "cell_type": "code",
   "execution_count": null,
   "id": "bd0cce70",
   "metadata": {},
   "outputs": [
    {
     "name": "stdout",
     "output_type": "stream",
     "text": [
      "+------+---------+--------+---------+\n",
      "|emp_id|SalesItem|Country |Quantity |\n",
      "+------+---------+--------+---------+\n",
      "|     1|   Laptop|   India|      100|\n",
      "|     2|  Mobile |   India|       30|\n",
      "|     3|Earphones|   India|       50|\n",
      "|     4| Desktops|   India|      110|\n",
      "|     5|Keyboards|   India|       20|\n",
      "|     6|Pendrive |  London|     null|\n",
      "|     7|    Mouse|      UK|     null|\n",
      "|     8|  Airpods|     USA|       18|\n",
      "+------+---------+--------+---------+\n",
      "\n"
     ]
    }
   ],
   "source": [
    "df_pyspark.show()"
   ]
  },
  {
   "cell_type": "code",
   "execution_count": null,
   "id": "b1d4ba77",
   "metadata": {},
   "outputs": [
    {
     "data": {
      "text/plain": [
       "DataFrame[emp_id: int, SalesItem: string, Country : string, ProductQuantity: int]"
      ]
     },
     "execution_count": 26,
     "metadata": {},
     "output_type": "execute_result"
    }
   ],
   "source": [
    "# Renamed the Column\n",
    "df_pyspark.withColumnRenamed('Quantity ', 'ProductQuantity')"
   ]
  },
  {
   "cell_type": "code",
   "execution_count": null,
   "id": "c77dbb7c",
   "metadata": {},
   "outputs": [
    {
     "name": "stdout",
     "output_type": "stream",
     "text": [
      "+------+---------+--------+---------+\n",
      "|emp_id|SalesItem|Country |Quantity |\n",
      "+------+---------+--------+---------+\n",
      "|     1|   Laptop|   India|      100|\n",
      "|     2|  Mobile |   India|       30|\n",
      "|     3|Earphones|   India|       50|\n",
      "|     4| Desktops|   India|      110|\n",
      "|     5|Keyboards|   India|       20|\n",
      "+------+---------+--------+---------+\n",
      "only showing top 5 rows\n",
      "\n"
     ]
    }
   ],
   "source": [
    "df_pyspark.show(5)"
   ]
  },
  {
   "attachments": {},
   "cell_type": "markdown",
   "id": "5e64a318",
   "metadata": {},
   "source": [
    "# Handling Missing Values "
   ]
  },
  {
   "cell_type": "code",
   "execution_count": null,
   "id": "7cc86c5c",
   "metadata": {},
   "outputs": [],
   "source": [
    "df_pyspark=spark.read.csv(r\"C:\\Users\\11315\\Documents\\DataPracNew.csv\",inferSchema=True)"
   ]
  },
  {
   "cell_type": "code",
   "execution_count": null,
   "id": "1046888e",
   "metadata": {},
   "outputs": [
    {
     "data": {
      "text/plain": [
       "DataFrame[_c0: string, _c1: string, _c2: string, _c3: string]"
      ]
     },
     "execution_count": 43,
     "metadata": {},
     "output_type": "execute_result"
    }
   ],
   "source": [
    "df_pyspark"
   ]
  },
  {
   "cell_type": "code",
   "execution_count": null,
   "id": "6503603e",
   "metadata": {},
   "outputs": [
    {
     "name": "stdout",
     "output_type": "stream",
     "text": [
      "+------+---------+--------+---------+\n",
      "|   _c0|      _c1|     _c2|      _c3|\n",
      "+------+---------+--------+---------+\n",
      "|emp_id|SalesItem|Country |Quantity |\n",
      "|     1|   Laptop|   India|      100|\n",
      "|     2|  Mobile |   India|       30|\n",
      "|     3|Earphones|   India|       50|\n",
      "|     4| Desktops|   India|      110|\n",
      "|     5|Keyboards|   India|       20|\n",
      "|     6|Pendrive |  London|     null|\n",
      "|     7|    Mouse|      UK|     null|\n",
      "|     8|  Airpods|     USA|       18|\n",
      "|     9|Earphones|   India|       50|\n",
      "|    10| Desktops|   India|      110|\n",
      "|    11|Keyboards|   India|       20|\n",
      "+------+---------+--------+---------+\n",
      "\n"
     ]
    }
   ],
   "source": [
    "df_pyspark.show()"
   ]
  },
  {
   "cell_type": "code",
   "execution_count": null,
   "id": "9f65f116",
   "metadata": {},
   "outputs": [],
   "source": [
    "df_pyspark=spark.read.option('header',True).csv(r\"C:\\Users\\11315\\Documents\\DataPracNew.csv\",inferSchema=True)"
   ]
  },
  {
   "cell_type": "code",
   "execution_count": null,
   "id": "b09613c4",
   "metadata": {},
   "outputs": [
    {
     "data": {
      "text/plain": [
       "DataFrame[emp_id: int, SalesItem: string, Country : string, Quantity : int]"
      ]
     },
     "execution_count": 49,
     "metadata": {},
     "output_type": "execute_result"
    }
   ],
   "source": [
    "df_pyspark"
   ]
  },
  {
   "cell_type": "code",
   "execution_count": null,
   "id": "1657f445",
   "metadata": {},
   "outputs": [
    {
     "name": "stdout",
     "output_type": "stream",
     "text": [
      "+------+---------+--------+---------+\n",
      "|emp_id|SalesItem|Country |Quantity |\n",
      "+------+---------+--------+---------+\n",
      "|     1|   Laptop|   India|      100|\n",
      "|     2|  Mobile |   India|       30|\n",
      "|     3|Earphones|   India|       50|\n",
      "|     4| Desktops|   India|      110|\n",
      "|     5|Keyboards|   India|       20|\n",
      "|     6|Pendrive |  London|     null|\n",
      "|     7|    Mouse|      UK|     null|\n",
      "|     8|  Airpods|     USA|       18|\n",
      "|     9|Earphones|   India|       50|\n",
      "|    10| Desktops|   India|      110|\n",
      "|    11|Keyboards|   India|       20|\n",
      "+------+---------+--------+---------+\n",
      "\n"
     ]
    }
   ],
   "source": [
    "df_pyspark.show()"
   ]
  },
  {
   "cell_type": "code",
   "execution_count": null,
   "id": "075e0ef4",
   "metadata": {},
   "outputs": [
    {
     "name": "stdout",
     "output_type": "stream",
     "text": [
      "+------+---------+--------+---------+\n",
      "|emp_id|SalesItem|Country |Quantity |\n",
      "+------+---------+--------+---------+\n",
      "|     1|   Laptop|   India|      100|\n",
      "|     2|  Mobile |   India|       30|\n",
      "|     3|Earphones|   India|       50|\n",
      "|     4| Desktops|   India|      110|\n",
      "|     5|Keyboards|   India|       20|\n",
      "|     6|Pendrive |  London|     null|\n",
      "|     7|    Mouse|      UK|     null|\n",
      "|     8|  Airpods|     USA|       18|\n",
      "|     9|Earphones|   India|       50|\n",
      "|    10| Desktops|   India|      110|\n",
      "|    11|Keyboards|   India|       20|\n",
      "+------+---------+--------+---------+\n",
      "\n"
     ]
    }
   ],
   "source": [
    "# Threshold \n",
    "# thresh=2 --if there are atleast two Non-Null values present in the Row, then the threshold function will not remove any Null values from a row.\n",
    "df_pyspark.na.drop(how='any',thresh=2).show()"
   ]
  },
  {
   "cell_type": "code",
   "execution_count": null,
   "id": "f87ba312",
   "metadata": {},
   "outputs": [],
   "source": [
    "#Subset\n"
   ]
  },
  {
   "cell_type": "code",
   "execution_count": null,
   "id": "b2dd951e",
   "metadata": {},
   "outputs": [],
   "source": [
    "from pyspark.ml.feature import Imputer"
   ]
  },
  {
   "cell_type": "markdown",
   "id": "f6b3fe57",
   "metadata": {
    "tags": [
     "parameters"
    ]
   },
   "source": [
    "Imputer=Imputer\n",
    "inputcols=Imputer(\n",
    "inputcols=['emp_id','SalesItem','Country','Quantity'],\n",
    "outputcols=[\"{}_imputed\".format(c) for c in ['emp_id','SalesItem','Country','Quantity']]\n",
    ").setStrategy(\"mean\")"
   ]
  },
  {
   "cell_type": "code",
   "execution_count": null,
   "id": "6d6f9cf1",
   "metadata": {},
   "outputs": [],
   "source": [
    "from pyspark.sql.functions import col\n",
    "from pyspark.sql.functions import when"
   ]
  },
  {
   "cell_type": "code",
   "execution_count": null,
   "id": "1c3bb006",
   "metadata": {},
   "outputs": [
    {
     "name": "stdout",
     "output_type": "stream",
     "text": [
      "+------+---------+--------+---------+\n",
      "|emp_id|SalesItem|Country |Quantity |\n",
      "+------+---------+--------+---------+\n",
      "|     1|   Laptop|   India|      100|\n",
      "|     2|  Mobile |   India|       30|\n",
      "|     3|Earphones|   India|       50|\n",
      "|     4| Desktops|   India|      110|\n",
      "|     5|Keyboards|   India|       20|\n",
      "|     6|Pendrive |  London|     null|\n",
      "|     7|    Mouse|      UK|     null|\n",
      "|     8|  Airpods|     USA|       18|\n",
      "|     9|Earphones|   India|       50|\n",
      "|    10| Desktops|   India|      110|\n",
      "|    11|Keyboards|   India|       20|\n",
      "+------+---------+--------+---------+\n",
      "\n"
     ]
    }
   ],
   "source": [
    "df_pyspark.show()"
   ]
  },
  {
   "attachments": {},
   "cell_type": "markdown",
   "id": "fcddcccd",
   "metadata": {},
   "source": [
    "we can use sunset=['coumn Name'] for removing null values from individual column. or we can use when condition."
   ]
  },
  {
   "cell_type": "code",
   "execution_count": null,
   "id": "aa71856e",
   "metadata": {},
   "outputs": [
    {
     "name": "stdout",
     "output_type": "stream",
     "text": [
      "+------+---------+--------+---------+\n",
      "|emp_id|SalesItem|Country |Quantity |\n",
      "+------+---------+--------+---------+\n",
      "|     1|   Laptop|   India|      100|\n",
      "|     2|  Mobile |   India|       30|\n",
      "|     3|Earphones|   India|       50|\n",
      "|     4| Desktops|   India|      110|\n",
      "|     5|Keyboards|   India|       20|\n",
      "|     6|Pendrive |  London|        0|\n",
      "|     7|    Mouse|      UK|        0|\n",
      "|     8|  Airpods|     USA|       18|\n",
      "|     9|Earphones|   India|       50|\n",
      "|    10| Desktops|   India|      110|\n",
      "|    11|Keyboards|   India|       20|\n",
      "+------+---------+--------+---------+\n",
      "\n"
     ]
    }
   ],
   "source": [
    "df_pyspark.na.fill(value=0).show()\n",
    "\n",
    "df_pyspark = df_pyspark.withColumn(\"Quantity \", when(df_pyspark[\"Quantity \"].isNull(), 0).otherwise(df_pyspark[\"Quantity \"]))"
   ]
  },
  {
   "attachments": {},
   "cell_type": "markdown",
   "id": "1663b7d3",
   "metadata": {},
   "source": [
    "#filter Condition on a particular column "
   ]
  },
  {
   "cell_type": "code",
   "execution_count": null,
   "id": "1c676b9b",
   "metadata": {},
   "outputs": [
    {
     "name": "stdout",
     "output_type": "stream",
     "text": [
      "+------+---------+--------+---------+\n",
      "|emp_id|SalesItem|Country |Quantity |\n",
      "+------+---------+--------+---------+\n",
      "|     5|Keyboards|   India|       20|\n",
      "|    11|Keyboards|   India|       20|\n",
      "+------+---------+--------+---------+\n",
      "\n"
     ]
    }
   ],
   "source": [
    "df_pyspark.filter(col(\"Quantity \")==\"20\").show()\n"
   ]
  },
  {
   "cell_type": "code",
   "execution_count": null,
   "id": "26d28853",
   "metadata": {},
   "outputs": [
    {
     "name": "stdout",
     "output_type": "stream",
     "text": [
      "+---------+-----------+--------------+\n",
      "|Quantity |sum(emp_id)|sum(Quantity )|\n",
      "+---------+-----------+--------------+\n",
      "|       20|         16|            40|\n",
      "|      100|          1|           100|\n",
      "|       50|         12|           100|\n",
      "|      110|         14|           220|\n",
      "|       30|          2|            30|\n",
      "|        0|         13|             0|\n",
      "|       18|          8|            18|\n",
      "+---------+-----------+--------------+\n",
      "\n"
     ]
    }
   ],
   "source": [
    "df_pyspark.groupBy(col(\"Quantity \")).sum().show()"
   ]
  },
  {
   "cell_type": "code",
   "execution_count": null,
   "id": "ef6f2db7",
   "metadata": {},
   "outputs": [
    {
     "name": "stdout",
     "output_type": "stream",
     "text": [
      "+---------+-----+\n",
      "|SalesItem|count|\n",
      "+---------+-----+\n",
      "|Pendrive |    1|\n",
      "|Earphones|    2|\n",
      "|Keyboards|    2|\n",
      "|   Laptop|    1|\n",
      "|    Mouse|    1|\n",
      "|  Airpods|    1|\n",
      "|  Mobile |    1|\n",
      "| Desktops|    2|\n",
      "+---------+-----+\n",
      "\n"
     ]
    }
   ],
   "source": [
    "\n",
    "df_pyspark.groupBy(\"SalesItem\").count().show()"
   ]
  },
  {
   "cell_type": "code",
   "execution_count": null,
   "id": "81e9c8c5",
   "metadata": {},
   "outputs": [
    {
     "name": "stdout",
     "output_type": "stream",
     "text": [
      "+---------+-----------+--------------+\n",
      "|SalesItem|max(emp_id)|max(Quantity )|\n",
      "+---------+-----------+--------------+\n",
      "|Pendrive |          6|             0|\n",
      "|Earphones|          9|            50|\n",
      "|Keyboards|         11|            20|\n",
      "|   Laptop|          1|           100|\n",
      "|    Mouse|          7|             0|\n",
      "|  Airpods|          8|            18|\n",
      "|  Mobile |          2|            30|\n",
      "| Desktops|         10|           110|\n",
      "+---------+-----------+--------------+\n",
      "\n"
     ]
    }
   ],
   "source": [
    "df_pyspark.groupBy(\"SalesItem\").max().show()"
   ]
  },
  {
   "cell_type": "code",
   "execution_count": null,
   "id": "c4be1707",
   "metadata": {},
   "outputs": [
    {
     "name": "stdout",
     "output_type": "stream",
     "text": [
      "+------+---------+--------+---------+\n",
      "|emp_id|SalesItem|Country |Quantity |\n",
      "+------+---------+--------+---------+\n",
      "|     6|Pendrive |  London|        0|\n",
      "|     7|    Mouse|      UK|        0|\n",
      "|     8|  Airpods|     USA|       18|\n",
      "+------+---------+--------+---------+\n",
      "\n"
     ]
    }
   ],
   "source": [
    "df_pyspark.filter(col(\"Quantity \" )<20).show()"
   ]
  },
  {
   "cell_type": "code",
   "execution_count": null,
   "id": "0d0c46d3",
   "metadata": {},
   "outputs": [],
   "source": []
  },
  {
   "cell_type": "code",
   "execution_count": null,
   "id": "974e9abb",
   "metadata": {},
   "outputs": [],
   "source": []
  },
  {
   "cell_type": "code",
   "execution_count": null,
   "id": "7c3b3306",
   "metadata": {},
   "outputs": [],
   "source": []
  },
  {
   "cell_type": "code",
   "execution_count": null,
   "id": "1e9c665c",
   "metadata": {},
   "outputs": [],
   "source": []
  }
 ],
 "metadata": {
  "kernelspec": {
   "display_name": "Python 3 (ipykernel)",
   "language": "python",
   "name": "python3"
  },
  "language_info": {
   "codemirror_mode": {
    "name": "ipython",
    "version": 3
   },
   "file_extension": ".py",
   "mimetype": "text/x-python",
   "name": "python",
   "nbconvert_exporter": "python",
   "pygments_lexer": "ipython3",
   "version": "3.11.0"
  }
 },
 "nbformat": 4,
 "nbformat_minor": 5
}
