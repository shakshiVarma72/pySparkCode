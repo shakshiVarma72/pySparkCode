{
 "cells": [
  {
   "cell_type": "code",
   "execution_count": 1,
   "metadata": {},
   "outputs": [
    {
     "name": "stdout",
     "output_type": "stream",
     "text": [
      "Requirement already satisfied: Pyspark in c:\\python3.11\\lib\\site-packages (3.3.1)\n",
      "Requirement already satisfied: py4j==0.10.9.5 in c:\\python3.11\\lib\\site-packages (from Pyspark) (0.10.9.5)\n"
     ]
    },
    {
     "name": "stderr",
     "output_type": "stream",
     "text": [
      "\n",
      "[notice] A new release of pip available: 22.3.1 -> 23.1.2\n",
      "[notice] To update, run: python.exe -m pip install --upgrade pip\n"
     ]
    }
   ],
   "source": [
    "! pip install Pyspark"
   ]
  },
  {
   "cell_type": "code",
   "execution_count": 2,
   "metadata": {},
   "outputs": [],
   "source": [
    "import pyspark"
   ]
  },
  {
   "cell_type": "code",
   "execution_count": 3,
   "metadata": {},
   "outputs": [],
   "source": [
    "from pyspark.sql import SparkSession"
   ]
  },
  {
   "cell_type": "code",
   "execution_count": 4,
   "metadata": {},
   "outputs": [],
   "source": [
    "Spark= SparkSession.builder.appName('Dataframe').getOrCreate()"
   ]
  },
  {
   "cell_type": "code",
   "execution_count": 5,
   "metadata": {},
   "outputs": [
    {
     "data": {
      "text/html": [
       "\n",
       "            <div>\n",
       "                <p><b>SparkSession - in-memory</b></p>\n",
       "                \n",
       "        <div>\n",
       "            <p><b>SparkContext</b></p>\n",
       "\n",
       "            <p><a href=\"http://11315-Shakshi.teamcomputers.com:4040\">Spark UI</a></p>\n",
       "\n",
       "            <dl>\n",
       "              <dt>Version</dt>\n",
       "                <dd><code>v3.3.1</code></dd>\n",
       "              <dt>Master</dt>\n",
       "                <dd><code>local[*]</code></dd>\n",
       "              <dt>AppName</dt>\n",
       "                <dd><code>Dataframe</code></dd>\n",
       "            </dl>\n",
       "        </div>\n",
       "        \n",
       "            </div>\n",
       "        "
      ],
      "text/plain": [
       "<pyspark.sql.session.SparkSession at 0x148628fffd0>"
      ]
     },
     "execution_count": 5,
     "metadata": {},
     "output_type": "execute_result"
    }
   ],
   "source": []
  },
  {
   "cell_type": "code",
   "execution_count": 6,
   "metadata": {},
   "outputs": [],
   "source": [
    "OrderTB= Spark.read.csv(r\"C:\\Users\\11315\\Downloads\\Order.csv\")"
   ]
  },
  {
   "cell_type": "code",
   "execution_count": 7,
   "metadata": {},
   "outputs": [
    {
     "name": "stdout",
     "output_type": "stream",
     "text": [
      "+--------+-----------+----------+\n",
      "|     _c0|        _c1|       _c2|\n",
      "+--------+-----------+----------+\n",
      "|Order_ID|Customer_ID|Order_Date|\n",
      "|    1001|          2|  02-04-23|\n",
      "|    1002|          7|  07-04-23|\n",
      "|    1003|         21|  30-04-23|\n",
      "|    1004|         30|  11-04-23|\n",
      "+--------+-----------+----------+\n",
      "\n"
     ]
    }
   ],
   "source": [
    "OrderTB.show()"
   ]
  },
  {
   "cell_type": "code",
   "execution_count": 8,
   "metadata": {},
   "outputs": [],
   "source": [
    "OrderTB=Spark.read.option('header','True').csv(r\"C:\\Users\\11315\\Downloads\\Order.csv\", inferSchema=\"True\")"
   ]
  },
  {
   "cell_type": "code",
   "execution_count": 9,
   "metadata": {},
   "outputs": [
    {
     "name": "stdout",
     "output_type": "stream",
     "text": [
      "+--------+-----------+----------+\n",
      "|Order_ID|Customer_ID|Order_Date|\n",
      "+--------+-----------+----------+\n",
      "|    1001|          2|  02-04-23|\n",
      "|    1002|          7|  07-04-23|\n",
      "|    1003|         21|  30-04-23|\n",
      "|    1004|         30|  11-04-23|\n",
      "+--------+-----------+----------+\n",
      "\n"
     ]
    }
   ],
   "source": [
    "OrderTB.show()"
   ]
  },
  {
   "cell_type": "code",
   "execution_count": 10,
   "metadata": {},
   "outputs": [],
   "source": [
    "CustTB=Spark.read.option('header','True').csv(r\"C:\\Users\\11315\\Downloads\\Customer.csv\",inferSchema=\"True\")"
   ]
  },
  {
   "cell_type": "code",
   "execution_count": 11,
   "metadata": {},
   "outputs": [
    {
     "name": "stdout",
     "output_type": "stream",
     "text": [
      "+-----------+-------------+------------+-------+\n",
      "|Customer_ID|Customer_Name|Contact_Name|Country|\n",
      "+-----------+-------------+------------+-------+\n",
      "|         10|       Amayra|       Misal|  India|\n",
      "|          9|     Yachika |        Yash|Germany|\n",
      "|          5|     Supriya |      Preeti|    USA|\n",
      "|          2|       Sakshi|         Anu|  India|\n",
      "+-----------+-------------+------------+-------+\n",
      "\n"
     ]
    }
   ],
   "source": [
    "CustTB.show()"
   ]
  },
  {
   "attachments": {},
   "cell_type": "markdown",
   "metadata": {},
   "source": []
  },
  {
   "cell_type": "code",
   "execution_count": 12,
   "metadata": {},
   "outputs": [
    {
     "name": "stdout",
     "output_type": "stream",
     "text": [
      "+--------+-----------+----------+-----------+-------------+------------+-------+\n",
      "|Order_ID|Customer_ID|Order_Date|Customer_ID|Customer_Name|Contact_Name|Country|\n",
      "+--------+-----------+----------+-----------+-------------+------------+-------+\n",
      "|    1001|          2|  02-04-23|          2|       Sakshi|         Anu|  India|\n",
      "+--------+-----------+----------+-----------+-------------+------------+-------+\n",
      "\n"
     ]
    }
   ],
   "source": [
    "OrderTB.join(CustTB,OrderTB.Customer_ID==CustTB.Customer_ID,\"inner\").show()"
   ]
  },
  {
   "cell_type": "code",
   "execution_count": 13,
   "metadata": {},
   "outputs": [
    {
     "name": "stdout",
     "output_type": "stream",
     "text": [
      "+--------+-----------+----------+-----------+-------------+------------+-------+\n",
      "|Order_ID|Customer_ID|Order_Date|Customer_ID|Customer_Name|Contact_Name|Country|\n",
      "+--------+-----------+----------+-----------+-------------+------------+-------+\n",
      "|    1001|          2|  02-04-23|          2|       Sakshi|         Anu|  India|\n",
      "|    1002|          7|  07-04-23|       null|         null|        null|   null|\n",
      "|    1003|         21|  30-04-23|       null|         null|        null|   null|\n",
      "|    1004|         30|  11-04-23|       null|         null|        null|   null|\n",
      "+--------+-----------+----------+-----------+-------------+------------+-------+\n",
      "\n"
     ]
    }
   ],
   "source": [
    "OrderTB.join(CustTB,OrderTB.Customer_ID==CustTB.Customer_ID,\"left\").show()\n"
   ]
  },
  {
   "cell_type": "code",
   "execution_count": 14,
   "metadata": {},
   "outputs": [
    {
     "name": "stdout",
     "output_type": "stream",
     "text": [
      "+--------+-----------+----------+-----------+-------------+------------+-------+\n",
      "|Order_ID|Customer_ID|Order_Date|Customer_ID|Customer_Name|Contact_Name|Country|\n",
      "+--------+-----------+----------+-----------+-------------+------------+-------+\n",
      "|    null|       null|      null|         10|       Amayra|       Misal|  India|\n",
      "|    null|       null|      null|          9|     Yachika |        Yash|Germany|\n",
      "|    null|       null|      null|          5|     Supriya |      Preeti|    USA|\n",
      "|    1001|          2|  02-04-23|          2|       Sakshi|         Anu|  India|\n",
      "+--------+-----------+----------+-----------+-------------+------------+-------+\n",
      "\n"
     ]
    }
   ],
   "source": [
    "OrderTB.join(CustTB,OrderTB.Customer_ID==CustTB.Customer_ID,\"right\").show()\n"
   ]
  },
  {
   "cell_type": "code",
   "execution_count": 15,
   "metadata": {},
   "outputs": [],
   "source": [
    "\n",
    "OrderTB2=Spark.read.option('header','True').csv(r\"C:\\Users\\11315\\Downloads\\Order22.csv\",inferSchema=\"True\")\n"
   ]
  },
  {
   "cell_type": "code",
   "execution_count": 16,
   "metadata": {},
   "outputs": [
    {
     "name": "stdout",
     "output_type": "stream",
     "text": [
      "+--------+-----------+----------+-------------+\n",
      "|Order_ID|Customer_ID|Order_Date|Category_Name|\n",
      "+--------+-----------+----------+-------------+\n",
      "|    1005|         21|  06-04-23|         Mens|\n",
      "|    1006|         37|  09-04-23|        Women|\n",
      "|    1007|         41|  20-04-23|         Kids|\n",
      "|    1008|         30|  15-04-23|  Accessories|\n",
      "+--------+-----------+----------+-------------+\n",
      "\n"
     ]
    }
   ],
   "source": [
    "OrderTB2.show()"
   ]
  },
  {
   "cell_type": "code",
   "execution_count": 18,
   "metadata": {},
   "outputs": [
    {
     "ename": "AnalysisException",
     "evalue": "Union can only be performed on tables with the same number of columns, but the first table has 4 columns and the second table has 3 columns;\n'Union false, false\n:- Relation [Order_ID#294,Customer_ID#295,Order_Date#296,Category_Name#297] csv\n+- Relation [Order_ID#57,Customer_ID#58,Order_Date#59] csv\n",
     "output_type": "error",
     "traceback": [
      "\u001b[1;31m---------------------------------------------------------------------------\u001b[0m",
      "\u001b[1;31mAnalysisException\u001b[0m                         Traceback (most recent call last)",
      "\u001b[1;32mshakshiVarma72\\pySparkCode\\JoinPyspark.ipynb Cell 18\u001b[0m in \u001b[0;36m1\n\u001b[1;32m----> <a href='vscode-notebook-cell://github/shakshiVarma72/pySparkCode/JoinPyspark.ipynb#X23sdnNjb2RlLXZmcw%3D%3D?line=0'>1</a>\u001b[0m UnionDF\u001b[39m=\u001b[39m OrderTB2\u001b[39m.\u001b[39;49munion(OrderTB)\n",
      "File \u001b[1;32mc:\\python3.11\\Lib\\site-packages\\pyspark\\sql\\dataframe.py:2257\u001b[0m, in \u001b[0;36mDataFrame.union\u001b[1;34m(self, other)\u001b[0m\n\u001b[0;32m   2247\u001b[0m \u001b[39m@since\u001b[39m(\u001b[39m2.0\u001b[39m)\n\u001b[0;32m   2248\u001b[0m \u001b[39mdef\u001b[39;00m \u001b[39munion\u001b[39m(\u001b[39mself\u001b[39m, other: \u001b[39m\"\u001b[39m\u001b[39mDataFrame\u001b[39m\u001b[39m\"\u001b[39m) \u001b[39m-\u001b[39m\u001b[39m>\u001b[39m \u001b[39m\"\u001b[39m\u001b[39mDataFrame\u001b[39m\u001b[39m\"\u001b[39m:\n\u001b[0;32m   2249\u001b[0m     \u001b[39m\"\"\"Return a new :class:`DataFrame` containing union of rows in this and another\u001b[39;00m\n\u001b[0;32m   2250\u001b[0m \u001b[39m    :class:`DataFrame`.\u001b[39;00m\n\u001b[0;32m   2251\u001b[0m \n\u001b[1;32m   (...)\u001b[0m\n\u001b[0;32m   2255\u001b[0m \u001b[39m    Also as standard in SQL, this function resolves columns by position (not by name).\u001b[39;00m\n\u001b[0;32m   2256\u001b[0m \u001b[39m    \"\"\"\u001b[39;00m\n\u001b[1;32m-> 2257\u001b[0m     \u001b[39mreturn\u001b[39;00m DataFrame(\u001b[39mself\u001b[39;49m\u001b[39m.\u001b[39;49m_jdf\u001b[39m.\u001b[39;49munion(other\u001b[39m.\u001b[39;49m_jdf), \u001b[39mself\u001b[39m\u001b[39m.\u001b[39msparkSession)\n",
      "File \u001b[1;32mc:\\python3.11\\Lib\\site-packages\\py4j\\java_gateway.py:1321\u001b[0m, in \u001b[0;36mJavaMember.__call__\u001b[1;34m(self, *args)\u001b[0m\n\u001b[0;32m   1315\u001b[0m command \u001b[39m=\u001b[39m proto\u001b[39m.\u001b[39mCALL_COMMAND_NAME \u001b[39m+\u001b[39m\\\n\u001b[0;32m   1316\u001b[0m     \u001b[39mself\u001b[39m\u001b[39m.\u001b[39mcommand_header \u001b[39m+\u001b[39m\\\n\u001b[0;32m   1317\u001b[0m     args_command \u001b[39m+\u001b[39m\\\n\u001b[0;32m   1318\u001b[0m     proto\u001b[39m.\u001b[39mEND_COMMAND_PART\n\u001b[0;32m   1320\u001b[0m answer \u001b[39m=\u001b[39m \u001b[39mself\u001b[39m\u001b[39m.\u001b[39mgateway_client\u001b[39m.\u001b[39msend_command(command)\n\u001b[1;32m-> 1321\u001b[0m return_value \u001b[39m=\u001b[39m get_return_value(\n\u001b[0;32m   1322\u001b[0m     answer, \u001b[39mself\u001b[39;49m\u001b[39m.\u001b[39;49mgateway_client, \u001b[39mself\u001b[39;49m\u001b[39m.\u001b[39;49mtarget_id, \u001b[39mself\u001b[39;49m\u001b[39m.\u001b[39;49mname)\n\u001b[0;32m   1324\u001b[0m \u001b[39mfor\u001b[39;00m temp_arg \u001b[39min\u001b[39;00m temp_args:\n\u001b[0;32m   1325\u001b[0m     temp_arg\u001b[39m.\u001b[39m_detach()\n",
      "File \u001b[1;32mc:\\python3.11\\Lib\\site-packages\\pyspark\\sql\\utils.py:196\u001b[0m, in \u001b[0;36mcapture_sql_exception.<locals>.deco\u001b[1;34m(*a, **kw)\u001b[0m\n\u001b[0;32m    192\u001b[0m converted \u001b[39m=\u001b[39m convert_exception(e\u001b[39m.\u001b[39mjava_exception)\n\u001b[0;32m    193\u001b[0m \u001b[39mif\u001b[39;00m \u001b[39mnot\u001b[39;00m \u001b[39misinstance\u001b[39m(converted, UnknownException):\n\u001b[0;32m    194\u001b[0m     \u001b[39m# Hide where the exception came from that shows a non-Pythonic\u001b[39;00m\n\u001b[0;32m    195\u001b[0m     \u001b[39m# JVM exception message.\u001b[39;00m\n\u001b[1;32m--> 196\u001b[0m     \u001b[39mraise\u001b[39;00m converted \u001b[39mfrom\u001b[39;00m \u001b[39mNone\u001b[39m\n\u001b[0;32m    197\u001b[0m \u001b[39melse\u001b[39;00m:\n\u001b[0;32m    198\u001b[0m     \u001b[39mraise\u001b[39;00m\n",
      "\u001b[1;31mAnalysisException\u001b[0m: Union can only be performed on tables with the same number of columns, but the first table has 4 columns and the second table has 3 columns;\n'Union false, false\n:- Relation [Order_ID#294,Customer_ID#295,Order_Date#296,Category_Name#297] csv\n+- Relation [Order_ID#57,Customer_ID#58,Order_Date#59] csv\n"
     ]
    }
   ],
   "source": [
    "UnionDF= OrderTB2.union(OrderTB)"
   ]
  },
  {
   "cell_type": "code",
   "execution_count": null,
   "metadata": {},
   "outputs": [
    {
     "name": "stdout",
     "output_type": "stream",
     "text": [
      "+--------+-----------+----------+-------------+\n",
      "|Order_ID|Customer_ID|Order_Date|Category_Name|\n",
      "+--------+-----------+----------+-------------+\n",
      "|    1005|         21|  06-04-23|         Mens|\n",
      "|    1006|         37|  09-04-23|        Women|\n",
      "|    1007|         41|  20-04-23|         Kids|\n",
      "|    1008|         30|  15-04-23|  Accessories|\n",
      "|    1005|         21|  06-04-23|         Mens|\n",
      "|    1006|         37|  09-04-23|        Women|\n",
      "|    1007|         41|  20-04-23|         Kids|\n",
      "|    1008|         30|  15-04-23|  Accessories|\n",
      "+--------+-----------+----------+-------------+\n",
      "\n"
     ]
    }
   ],
   "source": [
    "UnionDF.show()"
   ]
  },
  {
   "cell_type": "code",
   "execution_count": null,
   "metadata": {},
   "outputs": [],
   "source": [
    "disDF = OrderTB2.union(OrderTB).distinct()"
   ]
  },
  {
   "cell_type": "code",
   "execution_count": null,
   "metadata": {},
   "outputs": [
    {
     "name": "stdout",
     "output_type": "stream",
     "text": [
      "+--------+-----------+----------+-------------+\n",
      "|Order_ID|Customer_ID|Order_Date|Category_Name|\n",
      "+--------+-----------+----------+-------------+\n",
      "|    1006|         37|  09-04-23|        Women|\n",
      "|    1008|         30|  15-04-23|  Accessories|\n",
      "|    1007|         41|  20-04-23|         Kids|\n",
      "|    1005|         21|  06-04-23|         Mens|\n",
      "+--------+-----------+----------+-------------+\n",
      "\n"
     ]
    }
   ],
   "source": [
    "disDF.show()"
   ]
  },
  {
   "cell_type": "code",
   "execution_count": 19,
   "metadata": {},
   "outputs": [],
   "source": [
    "from pyspark.sql import SparkSession"
   ]
  },
  {
   "cell_type": "code",
   "execution_count": 23,
   "metadata": {},
   "outputs": [],
   "source": [
    "df_Pyspark= Spark.read.csv(r\"C:\\Users\\11315\\Downloads\\Customer.csv\")"
   ]
  },
  {
   "cell_type": "code",
   "execution_count": null,
   "metadata": {},
   "outputs": [],
   "source": []
  }
 ],
 "metadata": {
  "kernelspec": {
   "display_name": "Python 3",
   "language": "python",
   "name": "python3"
  },
  "language_info": {
   "codemirror_mode": {
    "name": "ipython",
    "version": 3
   },
   "file_extension": ".py",
   "mimetype": "text/x-python",
   "name": "python",
   "nbconvert_exporter": "python",
   "pygments_lexer": "ipython3",
   "version": "3.11.0"
  },
  "orig_nbformat": 4
 },
 "nbformat": 4,
 "nbformat_minor": 2
}
