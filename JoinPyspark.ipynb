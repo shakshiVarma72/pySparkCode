{
 "cells": [
  {
   "cell_type": "code",
   "execution_count": 2,
   "metadata": {},
   "outputs": [
    {
     "name": "stdout",
     "output_type": "stream",
     "text": [
      "Requirement already satisfied: Pyspark in c:\\python3.11\\lib\\site-packages (3.3.1)\n",
      "Requirement already satisfied: py4j==0.10.9.5 in c:\\python3.11\\lib\\site-packages (from Pyspark) (0.10.9.5)\n"
     ]
    },
    {
     "name": "stderr",
     "output_type": "stream",
     "text": [
      "\n",
      "[notice] A new release of pip available: 22.3.1 -> 23.1\n",
      "[notice] To update, run: python.exe -m pip install --upgrade pip\n"
     ]
    }
   ],
   "source": [
    "! pip install Pyspark"
   ]
  },
  {
   "cell_type": "code",
   "execution_count": 3,
   "metadata": {},
   "outputs": [],
   "source": [
    "import pyspark"
   ]
  },
  {
   "cell_type": "code",
   "execution_count": 4,
   "metadata": {},
   "outputs": [],
   "source": [
    "from pyspark.sql import SparkSession"
   ]
  },
  {
   "cell_type": "code",
   "execution_count": 5,
   "metadata": {},
   "outputs": [],
   "source": [
    "Spark= SparkSession.builder.appName('Dataframe').getOrCreate()"
   ]
  },
  {
   "cell_type": "code",
   "execution_count": 7,
   "metadata": {},
   "outputs": [
    {
     "data": {
      "text/html": [
       "\n",
       "            <div>\n",
       "                <p><b>SparkSession - in-memory</b></p>\n",
       "                \n",
       "        <div>\n",
       "            <p><b>SparkContext</b></p>\n",
       "\n",
       "            <p><a href=\"http://11315-Shakshi.teamcomputers.com:4040\">Spark UI</a></p>\n",
       "\n",
       "            <dl>\n",
       "              <dt>Version</dt>\n",
       "                <dd><code>v3.3.1</code></dd>\n",
       "              <dt>Master</dt>\n",
       "                <dd><code>local[*]</code></dd>\n",
       "              <dt>AppName</dt>\n",
       "                <dd><code>Dataframe</code></dd>\n",
       "            </dl>\n",
       "        </div>\n",
       "        \n",
       "            </div>\n",
       "        "
      ],
      "text/plain": [
       "<pyspark.sql.session.SparkSession at 0x1e3e7161e50>"
      ]
     },
     "execution_count": 7,
     "metadata": {},
     "output_type": "execute_result"
    }
   ],
   "source": [
    "Spark"
   ]
  },
  {
   "cell_type": "code",
   "execution_count": 8,
   "metadata": {},
   "outputs": [],
   "source": [
    "OrderTB= Spark.read.csv(r\"C:\\Users\\11315\\Downloads\\Order.csv\")"
   ]
  },
  {
   "cell_type": "code",
   "execution_count": 9,
   "metadata": {},
   "outputs": [
    {
     "name": "stdout",
     "output_type": "stream",
     "text": [
      "+--------+-----------+----------+\n",
      "|     _c0|        _c1|       _c2|\n",
      "+--------+-----------+----------+\n",
      "|Order_ID|Customer_ID|Order_Date|\n",
      "|    1001|          2|  02-04-23|\n",
      "|    1002|          7|  07-04-23|\n",
      "|    1003|         21|  30-04-23|\n",
      "|    1004|         30|  11-04-23|\n",
      "+--------+-----------+----------+\n",
      "\n"
     ]
    }
   ],
   "source": [
    "OrderTB.show()"
   ]
  },
  {
   "cell_type": "code",
   "execution_count": 15,
   "metadata": {},
   "outputs": [],
   "source": [
    "OrderTB=Spark.read.option('header','True').csv(r\"C:\\Users\\11315\\Downloads\\Order.csv\", inferSchema=\"True\")"
   ]
  },
  {
   "cell_type": "code",
   "execution_count": 16,
   "metadata": {},
   "outputs": [
    {
     "name": "stdout",
     "output_type": "stream",
     "text": [
      "+--------+-----------+----------+\n",
      "|Order_ID|Customer_ID|Order_Date|\n",
      "+--------+-----------+----------+\n",
      "|    1001|          2|  02-04-23|\n",
      "|    1002|          7|  07-04-23|\n",
      "|    1003|         21|  30-04-23|\n",
      "|    1004|         30|  11-04-23|\n",
      "+--------+-----------+----------+\n",
      "\n"
     ]
    }
   ],
   "source": [
    "OrderTB.show()"
   ]
  },
  {
   "cell_type": "code",
   "execution_count": 17,
   "metadata": {},
   "outputs": [],
   "source": [
    "CustTB=Spark.read.option('header','True').csv(r\"C:\\Users\\11315\\Downloads\\Customer.csv\",inferSchema=\"True\")"
   ]
  },
  {
   "cell_type": "code",
   "execution_count": 18,
   "metadata": {},
   "outputs": [
    {
     "name": "stdout",
     "output_type": "stream",
     "text": [
      "+-----------+-------------+------------+-------+\n",
      "|Customer_ID|Customer_Name|Contact_Name|Country|\n",
      "+-----------+-------------+------------+-------+\n",
      "|         10|       Amayra|       Misal|  India|\n",
      "|          9|     Yachika |        Yash|Germany|\n",
      "|          5|     Supriya |      Preeti|    USA|\n",
      "|          2|       Sakshi|         Anu|  India|\n",
      "+-----------+-------------+------------+-------+\n",
      "\n"
     ]
    }
   ],
   "source": [
    "CustTB.show()"
   ]
  },
  {
   "attachments": {},
   "cell_type": "markdown",
   "metadata": {},
   "source": []
  },
  {
   "cell_type": "code",
   "execution_count": 20,
   "metadata": {},
   "outputs": [
    {
     "name": "stdout",
     "output_type": "stream",
     "text": [
      "+--------+-----------+----------+-----------+-------------+------------+-------+\n",
      "|Order_ID|Customer_ID|Order_Date|Customer_ID|Customer_Name|Contact_Name|Country|\n",
      "+--------+-----------+----------+-----------+-------------+------------+-------+\n",
      "|    1001|          2|  02-04-23|          2|       Sakshi|         Anu|  India|\n",
      "+--------+-----------+----------+-----------+-------------+------------+-------+\n",
      "\n"
     ]
    }
   ],
   "source": [
    "OrderTB.join(CustTB,OrderTB.Customer_ID==CustTB.Customer_ID,\"inner\").show()"
   ]
  },
  {
   "cell_type": "code",
   "execution_count": 21,
   "metadata": {},
   "outputs": [
    {
     "name": "stdout",
     "output_type": "stream",
     "text": [
      "+--------+-----------+----------+-----------+-------------+------------+-------+\n",
      "|Order_ID|Customer_ID|Order_Date|Customer_ID|Customer_Name|Contact_Name|Country|\n",
      "+--------+-----------+----------+-----------+-------------+------------+-------+\n",
      "|    1001|          2|  02-04-23|          2|       Sakshi|         Anu|  India|\n",
      "|    1002|          7|  07-04-23|       null|         null|        null|   null|\n",
      "|    1003|         21|  30-04-23|       null|         null|        null|   null|\n",
      "|    1004|         30|  11-04-23|       null|         null|        null|   null|\n",
      "+--------+-----------+----------+-----------+-------------+------------+-------+\n",
      "\n"
     ]
    }
   ],
   "source": [
    "OrderTB.join(CustTB,OrderTB.Customer_ID==CustTB.Customer_ID,\"left\").show()\n"
   ]
  },
  {
   "cell_type": "code",
   "execution_count": 24,
   "metadata": {},
   "outputs": [
    {
     "name": "stdout",
     "output_type": "stream",
     "text": [
      "+--------+-----------+----------+-----------+-------------+------------+-------+\n",
      "|Order_ID|Customer_ID|Order_Date|Customer_ID|Customer_Name|Contact_Name|Country|\n",
      "+--------+-----------+----------+-----------+-------------+------------+-------+\n",
      "|    null|       null|      null|         10|       Amayra|       Misal|  India|\n",
      "|    null|       null|      null|          9|     Yachika |        Yash|Germany|\n",
      "|    null|       null|      null|          5|     Supriya |      Preeti|    USA|\n",
      "|    1001|          2|  02-04-23|          2|       Sakshi|         Anu|  India|\n",
      "+--------+-----------+----------+-----------+-------------+------------+-------+\n",
      "\n"
     ]
    }
   ],
   "source": [
    "OrderTB.join(CustTB,OrderTB.Customer_ID==CustTB.Customer_ID,\"right\").show()\n"
   ]
  },
  {
   "cell_type": "code",
   "execution_count": 36,
   "metadata": {},
   "outputs": [],
   "source": [
    "\n",
    "OrderTB2=Spark.read.option('header','True').csv(r\"C:\\Users\\11315\\Downloads\\Order22.csv\",inferSchema=\"True\")\n"
   ]
  },
  {
   "cell_type": "code",
   "execution_count": 37,
   "metadata": {},
   "outputs": [
    {
     "name": "stdout",
     "output_type": "stream",
     "text": [
      "+--------+-----------+----------+-------------+\n",
      "|Order_ID|Customer_ID|Order_Date|Category_Name|\n",
      "+--------+-----------+----------+-------------+\n",
      "|    1005|         21|  06-04-23|         Mens|\n",
      "|    1006|         37|  09-04-23|        Women|\n",
      "|    1007|         41|  20-04-23|         Kids|\n",
      "|    1008|         30|  15-04-23|  Accessories|\n",
      "+--------+-----------+----------+-------------+\n",
      "\n"
     ]
    }
   ],
   "source": [
    "OrderTB2.show()"
   ]
  },
  {
   "cell_type": "code",
   "execution_count": 40,
   "metadata": {},
   "outputs": [],
   "source": [
    "UnionDF= OrderTB2.union(OrderTB)"
   ]
  },
  {
   "cell_type": "code",
   "execution_count": 41,
   "metadata": {},
   "outputs": [
    {
     "name": "stdout",
     "output_type": "stream",
     "text": [
      "+--------+-----------+----------+-------------+\n",
      "|Order_ID|Customer_ID|Order_Date|Category_Name|\n",
      "+--------+-----------+----------+-------------+\n",
      "|    1005|         21|  06-04-23|         Mens|\n",
      "|    1006|         37|  09-04-23|        Women|\n",
      "|    1007|         41|  20-04-23|         Kids|\n",
      "|    1008|         30|  15-04-23|  Accessories|\n",
      "|    1005|         21|  06-04-23|         Mens|\n",
      "|    1006|         37|  09-04-23|        Women|\n",
      "|    1007|         41|  20-04-23|         Kids|\n",
      "|    1008|         30|  15-04-23|  Accessories|\n",
      "+--------+-----------+----------+-------------+\n",
      "\n"
     ]
    }
   ],
   "source": [
    "UnionDF.show()"
   ]
  },
  {
   "cell_type": "code",
   "execution_count": 42,
   "metadata": {},
   "outputs": [],
   "source": [
    "disDF = OrderTB2.union(OrderTB).distinct()"
   ]
  },
  {
   "cell_type": "code",
   "execution_count": 43,
   "metadata": {},
   "outputs": [
    {
     "name": "stdout",
     "output_type": "stream",
     "text": [
      "+--------+-----------+----------+-------------+\n",
      "|Order_ID|Customer_ID|Order_Date|Category_Name|\n",
      "+--------+-----------+----------+-------------+\n",
      "|    1006|         37|  09-04-23|        Women|\n",
      "|    1008|         30|  15-04-23|  Accessories|\n",
      "|    1007|         41|  20-04-23|         Kids|\n",
      "|    1005|         21|  06-04-23|         Mens|\n",
      "+--------+-----------+----------+-------------+\n",
      "\n"
     ]
    }
   ],
   "source": [
    "disDF.show()"
   ]
  },
  {
   "cell_type": "code",
   "execution_count": null,
   "metadata": {},
   "outputs": [],
   "source": []
  }
 ],
 "metadata": {
  "kernelspec": {
   "display_name": "Python 3",
   "language": "python",
   "name": "python3"
  },
  "language_info": {
   "codemirror_mode": {
    "name": "ipython",
    "version": 3
   },
   "file_extension": ".py",
   "mimetype": "text/x-python",
   "name": "python",
   "nbconvert_exporter": "python",
   "pygments_lexer": "ipython3",
   "version": "3.11.0"
  },
  "orig_nbformat": 4
 },
 "nbformat": 4,
 "nbformat_minor": 2
}
